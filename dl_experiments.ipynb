{
 "cells": [
  {
   "cell_type": "markdown",
   "source": [
    "В данном ноутбуке приведены эксперименты по обучению модели **EfficientNet B0** с использованием различных *функций потерь*, *планировщиков шага* и настройкой их *параметров*. Также проводится работа с данными, такая как применение *аугментаций*, *oversampling* и т.д."
   ],
   "metadata": {
    "collapsed": false
   },
   "id": "b9390ea204670a52"
  },
  {
   "cell_type": "code",
   "outputs": [],
   "source": [],
   "metadata": {
    "collapsed": false
   },
   "id": "2b88726885009746"
  },
  {
   "cell_type": "code",
   "execution_count": 1,
   "id": "e7f3cbb8-9bca-4461-acc0-9aae51740d40",
   "metadata": {},
   "outputs": [],
   "source": [
    "# !pip install wandb"
   ]
  },
  {
   "cell_type": "code",
   "execution_count": 2,
   "id": "ed66be72-3898-45bf-9553-a0cf21d29ee2",
   "metadata": {},
   "outputs": [],
   "source": [
    "import copy\n",
    "import os\n",
    "import time\n",
    "\n",
    "import matplotlib.pyplot as plt\n",
    "import numpy as np\n",
    "import pandas as pd\n",
    "import torch\n",
    "import torch.nn as nn\n",
    "import torch.nn.functional as F\n",
    "import torchvision.models as models\n",
    "import torch.optim as optim\n",
    "import wandb\n",
    "from collections import Counter\n",
    "from PIL import Image\n",
    "from sklearn.metrics import classification_report, roc_auc_score, auc, precision_recall_curve\n",
    "from torch.optim import lr_scheduler\n",
    "from torch.utils.data import DataLoader, Dataset, WeightedRandomSampler\n",
    "from torchvision import transforms"
   ]
  },
  {
   "cell_type": "code",
   "execution_count": 3,
   "id": "3178667b-9410-474a-b9f1-6e25b11b8002",
   "metadata": {},
   "outputs": [],
   "source": [
    "CL = 'class'\n",
    "PARAMS = 'PARAMS'\n",
    "CUR_PARAMS = 'current params'\n",
    "\n",
    "TRAIN = 'train'\n",
    "VAL = 'val'\n",
    "TEST = 'test'\n",
    "\n",
    "CRITERION = 'criterion'\n",
    "OPTIMIZER = 'optimizer'\n",
    "SCHEDULER = 'scheduler'\n",
    "\n",
    "TRANSFORMATIONS = 'transformations'"
   ]
  },
  {
   "cell_type": "code",
   "execution_count": 4,
   "id": "38095144-6f7b-4747-ad9a-144a923e5d69",
   "metadata": {},
   "outputs": [],
   "source": [
    "SEPARATOR = '-' * 10"
   ]
  },
  {
   "cell_type": "code",
   "execution_count": 5,
   "id": "c8750878-1393-4a30-9e3e-ba46815c7397",
   "metadata": {},
   "outputs": [],
   "source": [
    "DATA_PATH = './'\n",
    "\n",
    "IMAGE_DIRS = {\n",
    "    TRAIN: 'ISIC2018_Task3_Training_Input/',\n",
    "    VAL: 'ISIC2018_Task3_Validation_Input/',\n",
    "    TEST: 'ISIC2018_Task3_Test_Input/'\n",
    "}\n",
    "\n",
    "GROND_TRUTH_PATHS = {\n",
    "    TRAIN: 'ISIC2018_Task3_Training_GroundTruth/ISIC2018_Task3_Training_GroundTruth.csv',\n",
    "    VAL: 'ISIC2018_Task3_Validation_GroundTruth/ISIC2018_Task3_Validation_GroundTruth.csv',\n",
    "    TEST: 'ISIC2018_Task3_Test_GroundTruth/ISIC2018_Task3_Test_GroundTruth.csv'\n",
    "}"
   ]
  },
  {
   "cell_type": "code",
   "execution_count": 6,
   "id": "fa1f771f-e38f-4b40-b593-5efdcd749720",
   "metadata": {},
   "outputs": [],
   "source": [
    "RANDOM_SEED = 42"
   ]
  },
  {
   "cell_type": "code",
   "execution_count": 7,
   "id": "07b8a12f-9715-49b4-9d12-a8e31ddd41ec",
   "metadata": {},
   "outputs": [],
   "source": [
    "IMAGE_MIN_SIZE = 450  # Изображения имеют размер 450 x 600\n",
    "INPUT_SIZE = 224\n",
    "\n",
    "NORMALIZATION_MEAN = [0.485, 0.456, 0.406]\n",
    "NORMALIZATION_STD = [0.229, 0.224, 0.225]\n",
    "\n",
    "CLASS_COUNTS = [1113, 6705, 514, 327, 1099, 115, 142]\n",
    "CLASS_NAMES = ['MEL', 'NV', 'BCC', 'AKIEC', 'BKL', 'DF', 'VASC']\n",
    "NUM_CLASSES = len(CLASS_NAMES)\n",
    "\n",
    "NUM_EPOCHS = 20  # Для экспериментов\n",
    "BATCH_SIZE = 32\n",
    "\n",
    "LR = 1e-3\n",
    "\n",
    "NUM_WORKERS = 2"
   ]
  },
  {
   "cell_type": "code",
   "execution_count": 8,
   "id": "b74681f9-51b2-497b-a530-13dda1de4683",
   "metadata": {},
   "outputs": [],
   "source": [
    "WANDB_PROJECT_NAME = 'mediscan-efficient-net-b0'\n",
    "WANDB_BASE_CONFIG = {\n",
    "    'architecture': 'CNN-EfficientNet-B0',\n",
    "    'dataset': 'ISIC2018-Task-3',\n",
    "    'epochs': NUM_EPOCHS,\n",
    "    'batch-size': BATCH_SIZE\n",
    "}"
   ]
  },
  {
   "cell_type": "markdown",
   "id": "41a0304f-2ac8-44c4-8252-7af811023339",
   "metadata": {},
   "source": [
    "---"
   ]
  },
  {
   "cell_type": "code",
   "execution_count": 9,
   "id": "84586060-126d-4975-9ef3-a14ef267a609",
   "metadata": {},
   "outputs": [],
   "source": [
    "class ISICDataset(Dataset):\n",
    "    def __init__(self, root_dir, csv_file, transform=None):\n",
    "        self.root_dir = root_dir  # Путь к папке с изображениями\n",
    "        self.annotations = pd.read_csv(csv_file)  # Считываем csv файл, содержащий имена изображений и их метки\n",
    "        self.transform = transform  # Преобразования, которые будут применены к изображениям\n",
    "\n",
    "    def __len__(self):\n",
    "        return len(self.annotations)  # Возвращаем количество изображений в датасете, согласно csv файлу с метками\n",
    "\n",
    "    def __getitem__(self, idx):\n",
    "        # Получаем полный путь к изображению: корневая папка + имя изображения + расширение\n",
    "        img_path = os.path.join(self.root_dir, self.annotations.iloc[idx, 0] + '.jpg')\n",
    "\n",
    "        # Открываем изображение и приводим его к RGB формату\n",
    "        image = Image.open(img_path).convert('RGB')\n",
    "\n",
    "        # Получаем метки для изображения и преобразуем их в numpy массив\n",
    "        label_one_hot = self.annotations.iloc[idx, 1:].values\n",
    "\n",
    "        # One-hot-encoded --> индекс класса\n",
    "        label = np.argmax(label_one_hot)\n",
    "\n",
    "        # Заключаем индекс класса в тензор\n",
    "        label_tensor = torch.tensor(label)\n",
    "\n",
    "        if self.transform:\n",
    "            # Применяем преобразования к изображению\n",
    "            image = self.transform(image)\n",
    "\n",
    "        return image, label_tensor"
   ]
  },
  {
   "cell_type": "markdown",
   "id": "7675d727-8f03-4c23-b108-5421472b32f8",
   "metadata": {},
   "source": [
    "---"
   ]
  },
  {
   "cell_type": "code",
   "execution_count": 62,
   "id": "d1f87601-b558-4c4f-a914-1acb8d6175d7",
   "metadata": {},
   "outputs": [],
   "source": [
    "# Подготовка данных\n",
    "def load_data(transforms_train, transforms_eval, sampler=None):\n",
    "    transform = {\n",
    "        TRAIN: transforms.Compose(transforms_train),\n",
    "        VAL: transforms.Compose(transforms_eval),\n",
    "        TEST: transforms.Compose(transforms_eval)\n",
    "    }\n",
    "    \n",
    "    image_datasets = {x: ISICDataset(root_dir=os.path.join(DATA_PATH, IMAGE_DIRS[x]),\n",
    "                                     csv_file=os.path.join(DATA_PATH,GROND_TRUTH_PATHS[x]),\n",
    "                                     transform=transform[x]) \n",
    "                      for x in [TRAIN, VAL, TEST]}\n",
    "    \n",
    "    dataloaders = {x: DataLoader(image_datasets[x], batch_size=BATCH_SIZE, shuffle=False, num_workers=NUM_WORKERS) for x in [VAL, TEST]}\n",
    "    if sampler:\n",
    "        dataloaders[TRAIN] = DataLoader(image_datasets[TRAIN], batch_size=BATCH_SIZE, sampler=sampler, num_workers=NUM_WORKERS)\n",
    "    else:\n",
    "        dataloaders[TRAIN] = DataLoader(image_datasets[TRAIN], batch_size=BATCH_SIZE, shuffle=True, num_workers=NUM_WORKERS)\n",
    "    \n",
    "    return image_datasets, dataloaders"
   ]
  },
  {
   "cell_type": "code",
   "execution_count": 11,
   "id": "f5141596-5a0e-43fb-84ed-86b824ba3ee9",
   "metadata": {},
   "outputs": [],
   "source": [
    "def train_model(model, dataloaders, criterion, optimizer, scheduler, num_epochs, labels_encoded=False):\n",
    "    since = time.time()\n",
    "\n",
    "    best_model_wts = copy.deepcopy(model.state_dict())\n",
    "    best_acc = 0.0\n",
    "\n",
    "    for epoch in range(num_epochs):\n",
    "        print(f'Epoch: {epoch + 1}/{num_epochs}')\n",
    "\n",
    "        for phase in [TRAIN, VAL]:\n",
    "            if phase == TRAIN:\n",
    "                model.train()  # Переводим модель в режим обучения\n",
    "            else:\n",
    "                model.eval()  # Переводим модель в режим оценки\n",
    "\n",
    "            print(f'Phase: {phase}')\n",
    "\n",
    "            epoch_loss = 0.0  # Счетчик лоссов по всем объектам за эпоху\n",
    "            epoch_corrects = 0  # Счетчик верных предсказаний за эпоху\n",
    "\n",
    "            dataloader = dataloaders[phase]\n",
    "            num_iterations = len(dataloader)\n",
    "\n",
    "            # Итерация над данными\n",
    "            for i, (inputs, labels) in enumerate(dataloader):\n",
    "                # Хак с возвратом каретки для Google Colab\n",
    "                print(f'\\rIteration: {i + 1}/{num_iterations}', end='')\n",
    "\n",
    "                inputs = inputs.to(device)\n",
    "                labels = labels.to(device)\n",
    "\n",
    "                optimizer.zero_grad()  # Обнуляем градиенты\n",
    "\n",
    "                # Вычисляем градиенты только если режим - TRAIN\n",
    "                with torch.set_grad_enabled(phase == TRAIN):\n",
    "                    outputs = model(inputs)\n",
    "                    loss = criterion(outputs, labels)\n",
    "\n",
    "                    if phase == TRAIN:\n",
    "                        loss.backward()\n",
    "                        optimizer.step()\n",
    "\n",
    "                # Средний лосс по батчу\n",
    "                batch_mean_loss = loss.item()\n",
    "\n",
    "                # Кол-во объектов в текущем батче\n",
    "                batch_size = inputs.size(0)\n",
    "\n",
    "                # Суммарный лосс по всем объектам в батче\n",
    "                batch_loss = batch_mean_loss * batch_size\n",
    "\n",
    "                # Аккумулируем суммарные лоссы по батчам по мере продвижения по эпохе\n",
    "                epoch_loss += batch_loss  # Эпоха завершится - здесь будет сумма лоссов по всем объектам всех батчей\n",
    "\n",
    "                # Индексы максимальных значений - предсказания модели по объектам батча\n",
    "                preds = torch.argmax(outputs, dim=1)\n",
    "                \n",
    "                if labels_encoded:\n",
    "                    # Если метки закодированы в формате one-hot-encoded, получаем индексы классов. Это пригодится в эксперименте с BCEWithLogitsLoss\n",
    "                    labels = torch.argmax(labels, dim=1)\n",
    "\n",
    "                # Подсчитываем кол-во правильных предсказаний по текущему батчу\n",
    "                batch_corrects = torch.sum(preds == labels)\n",
    "\n",
    "                # Увеличиваем счетчик верных предсказаний за эпоху\n",
    "                epoch_corrects += batch_corrects\n",
    "\n",
    "                # Делим кол-во верных предсказаний на общее кол-во предсказаний в батче (сколько в батче объектов - столько и\n",
    "                # было всего предсказаний) - получаем точность по текущему батчу.\n",
    "                batch_acc = batch_corrects / batch_size\n",
    "\n",
    "                if phase == TRAIN: # В режиме трейна логируем средний лосс и точность по текущему батчу в W&B\n",
    "                    # Если последний батч в эпохе, то пока не коммитим (закоммитим вместе с логами по валидации)\n",
    "                    commit = False if i == num_iterations - 1 else True\n",
    "                    wandb.log({f'{phase}_batch_loss': batch_mean_loss, f'{phase}_batch_acc': batch_acc}, commit=commit)\n",
    "\n",
    "            print('\\rIterations completed')\n",
    "\n",
    "            if phase == TRAIN:\n",
    "                scheduler.step(batch_mean_loss) if isinstance(scheduler, torch.optim.lr_scheduler.ReduceLROnPlateau) else scheduler.step()\n",
    "\n",
    "            # Сколько объектов в датасете, столько и было всего сделано предсказаний за эпоху\n",
    "            dataset_size = DATASET_SIZES[phase]\n",
    "\n",
    "            # Делим сумму лоссов за эпоху по всем объектам датасета на кол-во объектов в датасете\n",
    "            epoch_loss = epoch_loss / dataset_size  # Получаем средний лосс за эпоху\n",
    "\n",
    "            # Делим кол-во верных предсказаний на общее кол-во сделанных предсказаний за эпоху - получаем точность\n",
    "            epoch_acc = epoch_corrects.double() / dataset_size\n",
    "\n",
    "            print(f'{phase} Loss: {epoch_loss:.4f} Acc: {epoch_acc:.4f}', end='\\n\\n')\n",
    "\n",
    "            if phase == VAL:\n",
    "                # Логируем лосс и точность по валидации, а также незакоммиченные логи по последнему батчу трейна\n",
    "                wandb.log({f'{phase}_loss': epoch_loss, f'{phase}_acc': epoch_acc})\n",
    "\n",
    "                if epoch_acc > best_acc:\n",
    "                    best_acc = epoch_acc\n",
    "                    best_model_wts = copy.deepcopy(model.state_dict())\n",
    "\n",
    "        print(SEPARATOR, end='\\n\\n')\n",
    "\n",
    "    time_elapsed = time.time() - since\n",
    "    print(f'Training complete in {time_elapsed // 60:.0f}m {time_elapsed % 60:.0f}s')\n",
    "    print(f'Best val Acc: {best_acc:.4f}')\n",
    "\n",
    "    model.load_state_dict(best_model_wts)\n",
    "    \n",
    "    return model, best_acc"
   ]
  },
  {
   "cell_type": "code",
   "execution_count": 12,
   "id": "3504d54f-2ac9-45fb-8e4c-e8d0c44d154f",
   "metadata": {},
   "outputs": [],
   "source": [
    "def evaluate_model(model, dataloader):\n",
    "    model.eval()\n",
    "    total_corrects = 0\n",
    "\n",
    "    all_labels = []\n",
    "    all_preds = []\n",
    "    all_probs = []\n",
    "\n",
    "    for inputs, labels in dataloader:\n",
    "        inputs = inputs.to(device)\n",
    "        labels = labels.to(device)\n",
    "\n",
    "        with torch.no_grad():\n",
    "            outputs = model(inputs)\n",
    "            preds = torch.argmax(outputs, dim=1)\n",
    "            probs = torch.nn.functional.softmax(outputs, dim=1)\n",
    "            \n",
    "        all_labels.extend(labels.cpu().numpy())\n",
    "        all_preds.extend(preds.cpu().numpy())\n",
    "        all_probs.extend(probs.cpu().numpy())\n",
    "\n",
    "        total_corrects += torch.sum(preds == labels)\n",
    "\n",
    "    accuracy = total_corrects.double() / DATASET_SIZES[TEST]\n",
    "    print(f'Accuracy: {accuracy * 100:.2f}%')\n",
    "\n",
    "    # Считаем precision, recall, f1-score\n",
    "    report = classification_report(all_labels, all_preds, target_names=CLASS_NAMES)\n",
    "    print(report)\n",
    "\n",
    "    # Считаем ROC-AUC\n",
    "    roc_auc = roc_auc_score(all_labels, all_probs, multi_class='ovr')\n",
    "    print(f'ROC-AUC: {roc_auc:.4f}')\n",
    "    \n",
    "    # Считаем PR-AUC\n",
    "    pr_auc_scores = []\n",
    "    for class_ind in range(NUM_CLASSES):\n",
    "        \n",
    "        # Бинарные метки по текущему классу\n",
    "        class_labels_binary = [1 if label == class_ind else 0 for label in all_labels]\n",
    "        \n",
    "        # Вероятности для текущего класса\n",
    "        class_probs = [prob[class_ind] for prob in all_probs]\n",
    "        \n",
    "        precision, recall, _ = precision_recall_curve(class_labels_binary, class_probs)\n",
    "        pr_auc_score = auc(recall, precision)\n",
    "        pr_auc_scores.append(pr_auc_score)\n",
    "    \n",
    "    mean_pr_auc = np.mean(pr_auc_scores)\n",
    "    print(f'PR-AUC: {mean_pr_auc:.4f}')"
   ]
  },
  {
   "cell_type": "code",
   "execution_count": 13,
   "id": "be155e16-5592-440a-bd81-d99d2113303d",
   "metadata": {},
   "outputs": [],
   "source": [
    "# Фиксируем сид\n",
    "def set_random_seeds():\n",
    "    np.random.seed(RANDOM_SEED)\n",
    "\n",
    "    torch.manual_seed(RANDOM_SEED)\n",
    "\n",
    "    if torch.cuda.is_available():\n",
    "        torch.cuda.manual_seed_all(RANDOM_SEED)"
   ]
  },
  {
   "cell_type": "code",
   "execution_count": 14,
   "id": "60ede256-b548-43a5-a68b-1e4feaf235ad",
   "metadata": {},
   "outputs": [],
   "source": [
    "def init_wandb(config):\n",
    "    config = {**WANDB_BASE_CONFIG, **config}\n",
    "    wandb.init(project=WANDB_PROJECT_NAME, config=config)"
   ]
  },
  {
   "cell_type": "code",
   "execution_count": 15,
   "id": "2e147498-8779-443a-8301-31e16e7283a0",
   "metadata": {},
   "outputs": [],
   "source": [
    "def extract_params(config, component):\n",
    "    component_data = config[component]\n",
    "    params = {key: value for key, value in component_data.items()if key != 'class'}\n",
    "    return params"
   ]
  },
  {
   "cell_type": "code",
   "execution_count": 16,
   "id": "5fe4c449-7aea-4494-beb0-146a6ab1ffce",
   "metadata": {},
   "outputs": [],
   "source": [
    "def get_component_class(component):\n",
    "    return config[component][CL]"
   ]
  },
  {
   "cell_type": "code",
   "execution_count": 17,
   "id": "ac273ddd-e75e-4e4d-9ad3-9f418d87af00",
   "metadata": {},
   "outputs": [],
   "source": [
    "def get_component_params(config, component, value):\n",
    "    if value == CUR_PARAMS:\n",
    "        return extract_params(config, component)\n",
    "    \n",
    "    if not value:\n",
    "        return {}\n",
    "\n",
    "    return value"
   ]
  },
  {
   "cell_type": "code",
   "execution_count": 18,
   "id": "83792a37-2b4b-46ad-a411-63ed96180440",
   "metadata": {},
   "outputs": [],
   "source": [
    "def get_criterion(criterion_class):\n",
    "    if hasattr(nn, criterion_class):\n",
    "        return getattr(nn, criterion_class)\n",
    "    return globals()[criterion_class]\n",
    "\n",
    "\n",
    "def get_optimizer(optimizer_class):\n",
    "    return getattr(optim, optimizer_class)\n",
    "\n",
    "\n",
    "def get_scheduler(scheduler_class):\n",
    "    return getattr(lr_scheduler, scheduler_class)"
   ]
  },
  {
   "cell_type": "code",
   "execution_count": 19,
   "id": "555d1164-c958-4fdd-8e3e-ef68afaf5258",
   "metadata": {},
   "outputs": [],
   "source": [
    "def run_training(config_exp, dataloaders, random_seeds=True, return_model=False, train_kwargs={}):\n",
    "    if random_seeds:\n",
    "        set_random_seeds()\n",
    "\n",
    "    model = copy.deepcopy(template_model).to(device)\n",
    "\n",
    "    init_wandb(config_exp)\n",
    "\n",
    "    criterion = get_criterion(config_exp[CRITERION][CL])(**extract_params(config_exp, CRITERION))\n",
    "    optimizer = get_optimizer(config_exp[OPTIMIZER][CL])(model.parameters(), **extract_params(config_exp, OPTIMIZER))\n",
    "    scheduler = get_scheduler(config_exp[SCHEDULER][CL])(optimizer, **extract_params(config_exp, SCHEDULER))\n",
    "\n",
    "    model, acc = train_model(model, dataloaders, criterion, optimizer, scheduler, num_epochs=NUM_EPOCHS, **train_kwargs)\n",
    "\n",
    "    wandb.finish()\n",
    "\n",
    "    return (model, acc) if return_model else acc"
   ]
  },
  {
   "cell_type": "code",
   "execution_count": 20,
   "id": "3c148058-dcd2-4fec-95c4-4635f2e94fab",
   "metadata": {},
   "outputs": [],
   "source": [
    "def tune_param(config_exp, component, param_name, param_values, dataloaders):    \n",
    "    best_acc = 0.0\n",
    "    best_param_value = None\n",
    "    \n",
    "    for param_value in param_values:\n",
    "        print('\\n' + f'{param_name}: {param_value}') \n",
    "        \n",
    "        param_to_test = {param_name: param_value}\n",
    "\n",
    "        config_exp[component] = {**config_exp[component] , **param_to_test}\n",
    "                              \n",
    "        acc = run_training(config_exp, dataloaders)\n",
    "\n",
    "        if acc > best_acc:\n",
    "            best_acc = acc\n",
    "            best_param_value = param_value\n",
    "    \n",
    "    config_exp[component][param_name] = best_param_value\n",
    "    \n",
    "    return best_param_value, best_acc, config_exp"
   ]
  },
  {
   "cell_type": "code",
   "execution_count": 21,
   "id": "6b1e3b3a-3417-4fe5-8fcc-780bb3c9a12c",
   "metadata": {},
   "outputs": [],
   "source": [
    "def compare_accuracy(best_current, best_experiment, config=None, config_exp=None, par_name=None, best_par_value=None, transformation=None):\n",
    "    diff = abs(best_current - best_experiment)\n",
    "    diff_message = f'Разница между значениями: {diff:.4f}'\n",
    "    best_acc = max(best_current, best_experiment)\n",
    "    \n",
    "    print('\\n' + f'Лучшая ранее достигнутая точность: {best_current}')\n",
    "    print(f'Лучшая точность в текущем эксперименте: {best_experiment}')\n",
    "    \n",
    "    if best_experiment > best_current:\n",
    "        verdict_message = 'Точность улучшилась'\n",
    "        if par_name and best_par_value:\n",
    "            verdict_message += f' при значении параметра {par_name}: {best_par_value}'\n",
    "        elif transformation:\n",
    "            verdict_message += f' при использовании преобразования: {transformation}'\n",
    "        print(verdict_message)    \n",
    "        print(diff_message)\n",
    "        return best_acc, config_exp if config_exp else best_acc\n",
    "    else:\n",
    "        print('Точность НЕ улучшилась')\n",
    "        print(diff_message)\n",
    "        return (best_acc, config) if config else best_acc"
   ]
  },
  {
   "cell_type": "code",
   "execution_count": 22,
   "id": "f32843f8-eb3a-4667-a511-950a0ea0471f",
   "metadata": {},
   "outputs": [],
   "source": [
    "def run_experiment(config, component, component_class, dataloaders, best_cur_acc, test_param_name=None,\n",
    "                   test_param_values=None, component_params=None, train_kwargs={}):   \n",
    "    component_params = get_component_params(config, component, component_params)\n",
    "    \n",
    "    config_exp = copy.deepcopy(config)\n",
    "    config_exp[component] = {CL: component_class, **component_params}\n",
    "\n",
    "    if test_param_name and test_param_values:\n",
    "        best_test_param_value, best_exp_acc, config_exp = tune_param(config_exp, component, test_param_name, test_param_values, dataloaders)\n",
    "        best_acc, config = compare_accuracy(best_cur_acc, best_exp_acc, config, config_exp, test_param_name, best_test_param_value)\n",
    "        return config, best_acc, best_test_param_value\n",
    "    else:\n",
    "        exp_acc = run_training(config_exp, dataloaders, train_kwargs=train_kwargs)\n",
    "        best_acc, config = compare_accuracy(best_cur_acc, exp_acc, config, config_exp, transformation=component_class)\n",
    "        return config, best_acc"
   ]
  },
  {
   "cell_type": "code",
   "execution_count": 63,
   "id": "eb3f76ab-7b70-451a-b37b-53de1e94f34c",
   "metadata": {},
   "outputs": [],
   "source": [
    "def run_transformations_experiment(config, data_transforms_train, data_transforms_eval, transformation_class, best_cur_acc, transformation_config=None, sampler=None):\n",
    "    set_random_seeds()\n",
    "\n",
    "    _, dataloaders = load_data(data_transforms_train, data_transforms_eval, sampler=sampler)\n",
    "\n",
    "    config_exp = copy.deepcopy(config)\n",
    "    if transformation_config:\n",
    "        config_exp[TRANSFORMATIONS] = {transformation_class: transformation_config}\n",
    "    else:\n",
    "        config_exp[TRANSFORMATIONS] = {transformation_class: True}\n",
    "        \n",
    "    exp_acc = run_training(config_exp, dataloaders, random_seeds=False)\n",
    "\n",
    "    best_acc, config = compare_accuracy(best_cur_acc, exp_acc, config, config_exp, transformation=transformation_class)\n",
    "\n",
    "    return config, best_acc"
   ]
  },
  {
   "cell_type": "markdown",
   "id": "c3cc422b-d29c-4bd9-860d-96fff919b4ad",
   "metadata": {},
   "source": [
    "---"
   ]
  },
  {
   "cell_type": "code",
   "execution_count": 24,
   "id": "cbb08db7-ae6e-405d-9f78-c84cd29359c0",
   "metadata": {},
   "outputs": [],
   "source": [
    "config = {\n",
    "    CRITERION: {\n",
    "        CL: 'CrossEntropyLoss'\n",
    "    },\n",
    "    OPTIMIZER:  {\n",
    "        CL: 'Adam',\n",
    "        'lr': LR\n",
    "    },\n",
    "    SCHEDULER: {\n",
    "        CL: 'StepLR',\n",
    "        'step_size': 5,  # Для экспериментов\n",
    "        'gamma': 1e-1,\n",
    "    }\n",
    "}"
   ]
  },
  {
   "cell_type": "markdown",
   "id": "8708c437-8b65-426a-b9ef-8752f58c9f4f",
   "metadata": {},
   "source": [
    "---"
   ]
  },
  {
   "cell_type": "code",
   "execution_count": 25,
   "id": "05259b37-d784-4204-94ea-567ef7401071",
   "metadata": {},
   "outputs": [],
   "source": [
    "if torch.cuda.is_available():\n",
    "    torch.backends.cudnn.deterministic = True\n",
    "    torch.backends.cudnn.benchmark = False"
   ]
  },
  {
   "cell_type": "code",
   "execution_count": 26,
   "id": "688b5f6b-65dc-4e86-b998-aa51ee1573aa",
   "metadata": {},
   "outputs": [],
   "source": [
    "device = torch.device('cuda:0' if torch.cuda.is_available() else 'cpu')"
   ]
  },
  {
   "cell_type": "code",
   "execution_count": 27,
   "id": "87806a52-6ca3-499c-8124-ea7db96655ec",
   "metadata": {},
   "outputs": [],
   "source": [
    "# Загружаем модель EfficientNet B0\n",
    "weights = models.EfficientNet_B0_Weights.DEFAULT\n",
    "template_model = models.efficientnet_b0(weights=weights)  \n",
    "\n",
    "# Модифицируем классификатор в соответствии с актуальным количеством классов\n",
    "num_features = template_model.classifier[1].in_features\n",
    "template_model.classifier = nn.Sequential(\n",
    "    nn.Dropout(p=0.2),\n",
    "    nn.Linear(num_features, NUM_CLASSES)  # Кол-во выходных признаков = кол-во классов\n",
    ")\n",
    "\n",
    "template_model = template_model.to(device)  # Копии этой модели будем тренировать в экспериментах"
   ]
  },
  {
   "cell_type": "markdown",
   "id": "dc8c2d49-04bc-4f4a-9c4a-beef54808c78",
   "metadata": {},
   "source": [
    "---"
   ]
  },
  {
   "cell_type": "markdown",
   "id": "83bd3247-b22f-45cf-a04c-a3463504dd1a",
   "metadata": {},
   "source": [
    "## Базовая модель\n",
    "Сначала обучим базовую модель. Потом будем экспериментировать."
   ]
  },
  {
   "cell_type": "code",
   "execution_count": 28,
   "id": "3a39cc9b-037d-4f66-ae7c-441f120c1dc8",
   "metadata": {},
   "outputs": [],
   "source": [
    "# Преобразования, которые будут применены к изображениям\n",
    "data_transforms_train = [transforms.Resize(INPUT_SIZE),\n",
    "                         transforms.RandomHorizontalFlip(),\n",
    "                         transforms.ToTensor(),\n",
    "                         transforms.Normalize(NORMALIZATION_MEAN, NORMALIZATION_STD)]\n",
    "\n",
    "data_transforms_eval = [transforms.Resize(INPUT_SIZE),\n",
    "                        transforms.ToTensor(),\n",
    "                        transforms.Normalize(NORMALIZATION_MEAN, NORMALIZATION_STD)]"
   ]
  },
  {
   "cell_type": "code",
   "execution_count": 29,
   "id": "04b283e9-9f01-4f90-b83d-026e61588c8a",
   "metadata": {},
   "outputs": [],
   "source": [
    "image_datasets, dataloaders = load_data(data_transforms_train, data_transforms_eval)"
   ]
  },
  {
   "cell_type": "code",
   "execution_count": 30,
   "id": "566b1780-3f5c-4b2a-9fe7-97ae424b9a80",
   "metadata": {},
   "outputs": [],
   "source": [
    "DATASET_SIZES = {x: len(image_datasets[x]) for x in [TRAIN, VAL, TEST]}"
   ]
  },
  {
   "cell_type": "code",
   "execution_count": 31,
   "id": "5b3ea341-593e-4417-9af0-b4876bff36bb",
   "metadata": {},
   "outputs": [
    {
     "name": "stderr",
     "output_type": "stream",
     "text": [
      "Failed to detect the name of this notebook, you can set it manually with the WANDB_NOTEBOOK_NAME environment variable to enable code saving.\n",
      "\u001B[34m\u001B[1mwandb\u001B[0m: Currently logged in as: \u001B[33mdsaperov\u001B[0m (\u001B[33mdsaperov-organization\u001B[0m). Use \u001B[1m`wandb login --relogin`\u001B[0m to force relogin\n"
     ]
    },
    {
     "data": {
      "text/html": [
       "Tracking run with wandb version 0.17.0"
      ],
      "text/plain": [
       "<IPython.core.display.HTML object>"
      ]
     },
     "metadata": {},
     "output_type": "display_data"
    },
    {
     "data": {
      "text/html": [
       "Run data is saved locally in <code>/home/user/Downloads/ISIC2018/wandb/run-20240604_173940-q9u033lm</code>"
      ],
      "text/plain": [
       "<IPython.core.display.HTML object>"
      ]
     },
     "metadata": {},
     "output_type": "display_data"
    },
    {
     "data": {
      "text/html": [
       "Syncing run <strong><a href='https://wandb.ai/dsaperov-organization/mediscan-efficient-net-b0/runs/q9u033lm' target=\"_blank\">dazzling-morning-1</a></strong> to <a href='https://wandb.ai/dsaperov-organization/mediscan-efficient-net-b0' target=\"_blank\">Weights & Biases</a> (<a href='https://wandb.me/run' target=\"_blank\">docs</a>)<br/>"
      ],
      "text/plain": [
       "<IPython.core.display.HTML object>"
      ]
     },
     "metadata": {},
     "output_type": "display_data"
    },
    {
     "data": {
      "text/html": [
       " View project at <a href='https://wandb.ai/dsaperov-organization/mediscan-efficient-net-b0' target=\"_blank\">https://wandb.ai/dsaperov-organization/mediscan-efficient-net-b0</a>"
      ],
      "text/plain": [
       "<IPython.core.display.HTML object>"
      ]
     },
     "metadata": {},
     "output_type": "display_data"
    },
    {
     "data": {
      "text/html": [
       " View run at <a href='https://wandb.ai/dsaperov-organization/mediscan-efficient-net-b0/runs/q9u033lm' target=\"_blank\">https://wandb.ai/dsaperov-organization/mediscan-efficient-net-b0/runs/q9u033lm</a>"
      ],
      "text/plain": [
       "<IPython.core.display.HTML object>"
      ]
     },
     "metadata": {},
     "output_type": "display_data"
    },
    {
     "name": "stdout",
     "output_type": "stream",
     "text": [
      "Epoch: 1/20\n",
      "Phase: train\n",
      "Iterations completed\n",
      "train Loss: 0.6507 Acc: 0.7649\n",
      "\n",
      "Phase: val\n",
      "Iterations completed\n",
      "val Loss: 0.6015 Acc: 0.7461\n",
      "\n",
      "----------\n",
      "\n",
      "Epoch: 2/20\n",
      "Phase: train\n",
      "Iterations completed\n",
      "train Loss: 0.4807 Acc: 0.8255\n",
      "\n",
      "Phase: val\n",
      "Iterations completed\n",
      "val Loss: 0.4250 Acc: 0.8394\n",
      "\n",
      "----------\n",
      "\n",
      "Epoch: 3/20\n",
      "Phase: train\n",
      "Iterations completed\n",
      "train Loss: 0.4038 Acc: 0.8522\n",
      "\n",
      "Phase: val\n",
      "Iterations completed\n",
      "val Loss: 0.3995 Acc: 0.8394\n",
      "\n",
      "----------\n",
      "\n",
      "Epoch: 4/20\n",
      "Phase: train\n",
      "Iterations completed\n",
      "train Loss: 0.3324 Acc: 0.8777\n",
      "\n",
      "Phase: val\n",
      "Iterations completed\n",
      "val Loss: 0.3588 Acc: 0.8860\n",
      "\n",
      "----------\n",
      "\n",
      "Epoch: 5/20\n",
      "Phase: train\n",
      "Iterations completed\n",
      "train Loss: 0.2872 Acc: 0.8917\n",
      "\n",
      "Phase: val\n",
      "Iterations completed\n",
      "val Loss: 0.3856 Acc: 0.8497\n",
      "\n",
      "----------\n",
      "\n",
      "Epoch: 6/20\n",
      "Phase: train\n",
      "Iterations completed\n",
      "train Loss: 0.1415 Acc: 0.9519\n",
      "\n",
      "Phase: val\n",
      "Iterations completed\n",
      "val Loss: 0.2888 Acc: 0.9171\n",
      "\n",
      "----------\n",
      "\n",
      "Epoch: 7/20\n",
      "Phase: train\n",
      "Iterations completed\n",
      "train Loss: 0.0932 Acc: 0.9677\n",
      "\n",
      "Phase: val\n",
      "Iterations completed\n",
      "val Loss: 0.2841 Acc: 0.9016\n",
      "\n",
      "----------\n",
      "\n",
      "Epoch: 8/20\n",
      "Phase: train\n",
      "Iterations completed\n",
      "train Loss: 0.0709 Acc: 0.9757\n",
      "\n",
      "Phase: val\n",
      "Iterations completed\n",
      "val Loss: 0.3128 Acc: 0.9119\n",
      "\n",
      "----------\n",
      "\n",
      "Epoch: 9/20\n",
      "Phase: train\n",
      "Iterations completed\n",
      "train Loss: 0.0581 Acc: 0.9800\n",
      "\n",
      "Phase: val\n",
      "Iterations completed\n",
      "val Loss: 0.3129 Acc: 0.9016\n",
      "\n",
      "----------\n",
      "\n",
      "Epoch: 10/20\n",
      "Phase: train\n",
      "Iterations completed\n",
      "train Loss: 0.0429 Acc: 0.9859\n",
      "\n",
      "Phase: val\n",
      "Iterations completed\n",
      "val Loss: 0.3486 Acc: 0.9171\n",
      "\n",
      "----------\n",
      "\n",
      "Epoch: 11/20\n",
      "Phase: train\n",
      "Iterations completed\n",
      "train Loss: 0.0312 Acc: 0.9899\n",
      "\n",
      "Phase: val\n",
      "Iterations completed\n",
      "val Loss: 0.3656 Acc: 0.9119\n",
      "\n",
      "----------\n",
      "\n",
      "Epoch: 12/20\n",
      "Phase: train\n",
      "Iterations completed\n",
      "train Loss: 0.0278 Acc: 0.9915\n",
      "\n",
      "Phase: val\n",
      "Iterations completed\n",
      "val Loss: 0.3671 Acc: 0.9119\n",
      "\n",
      "----------\n",
      "\n",
      "Epoch: 13/20\n",
      "Phase: train\n",
      "Iterations completed\n",
      "train Loss: 0.0278 Acc: 0.9917\n",
      "\n",
      "Phase: val\n",
      "Iterations completed\n",
      "val Loss: 0.3598 Acc: 0.9119\n",
      "\n",
      "----------\n",
      "\n",
      "Epoch: 14/20\n",
      "Phase: train\n",
      "Iterations completed\n",
      "train Loss: 0.0258 Acc: 0.9915\n",
      "\n",
      "Phase: val\n",
      "Iterations completed\n",
      "val Loss: 0.3688 Acc: 0.8964\n",
      "\n",
      "----------\n",
      "\n",
      "Epoch: 15/20\n",
      "Phase: train\n",
      "Iterations completed\n",
      "train Loss: 0.0255 Acc: 0.9926\n",
      "\n",
      "Phase: val\n",
      "Iterations completed\n",
      "val Loss: 0.3751 Acc: 0.9016\n",
      "\n",
      "----------\n",
      "\n",
      "Epoch: 16/20\n",
      "Phase: train\n",
      "Iterations completed\n",
      "train Loss: 0.0251 Acc: 0.9916\n",
      "\n",
      "Phase: val\n",
      "Iterations completed\n",
      "val Loss: 0.3736 Acc: 0.9067\n",
      "\n",
      "----------\n",
      "\n",
      "Epoch: 17/20\n",
      "Phase: train\n",
      "Iterations completed\n",
      "train Loss: 0.0224 Acc: 0.9933\n",
      "\n",
      "Phase: val\n",
      "Iterations completed\n",
      "val Loss: 0.3555 Acc: 0.9119\n",
      "\n",
      "----------\n",
      "\n",
      "Epoch: 18/20\n",
      "Phase: train\n",
      "Iterations completed\n",
      "train Loss: 0.0240 Acc: 0.9922\n",
      "\n",
      "Phase: val\n",
      "Iterations completed\n",
      "val Loss: 0.3637 Acc: 0.9067\n",
      "\n",
      "----------\n",
      "\n",
      "Epoch: 19/20\n",
      "Phase: train\n",
      "Iterations completed\n",
      "train Loss: 0.0256 Acc: 0.9929\n",
      "\n",
      "Phase: val\n",
      "Iterations completed\n",
      "val Loss: 0.3524 Acc: 0.9016\n",
      "\n",
      "----------\n",
      "\n",
      "Epoch: 20/20\n",
      "Phase: train\n",
      "Iterations completed\n",
      "train Loss: 0.0226 Acc: 0.9930\n",
      "\n",
      "Phase: val\n",
      "Iterations completed\n",
      "val Loss: 0.3697 Acc: 0.9016\n",
      "\n",
      "----------\n",
      "\n",
      "Training complete in 18m 33s\n",
      "Best val Acc: 0.9171\n"
     ]
    },
    {
     "name": "stderr",
     "output_type": "stream",
     "text": [
      "Widget Javascript not detected.  It may not be installed or enabled properly. Reconnecting the current kernel may help.\n"
     ]
    },
    {
     "data": {
      "application/vnd.jupyter.widget-view+json": {
       "model_id": "9ebd554017094b13a317df58b4f36434"
      }
     },
     "metadata": {},
     "output_type": "display_data"
    },
    {
     "data": {
      "text/html": [
       "<style>\n",
       "    table.wandb td:nth-child(1) { padding: 0 10px; text-align: left ; width: auto;} td:nth-child(2) {text-align: left ; width: 100%}\n",
       "    .wandb-row { display: flex; flex-direction: row; flex-wrap: wrap; justify-content: flex-start; width: 100% }\n",
       "    .wandb-col { display: flex; flex-direction: column; flex-basis: 100%; flex: 1; padding: 10px; }\n",
       "    </style>\n",
       "<div class=\"wandb-row\"><div class=\"wandb-col\"><h3>Run history:</h3><br/><table class=\"wandb\"><tr><td>train_batch_acc</td><td>▁▂▃▅▆▇▅▃▆▆▇▇█▇█▇█▇█▇███████▇████████████</td></tr><tr><td>train_batch_loss</td><td>█▇▇▅▅▂▅▇▃▃▂▅▂▂▁▂▁▂▁▂▁▁▁▁▁▁▁▃▁▁▁▁▁▁▁▁▁▁▁▁</td></tr><tr><td>val_acc</td><td>▁▅▅▇▅█▇█▇████▇▇███▇▇</td></tr><tr><td>val_loss</td><td>█▄▄▃▃▁▁▂▂▂▃▃▃▃▃▃▃▃▃▃</td></tr></table><br/></div><div class=\"wandb-col\"><h3>Run summary:</h3><br/><table class=\"wandb\"><tr><td>train_batch_acc</td><td>1.0</td></tr><tr><td>train_batch_loss</td><td>0.00983</td></tr><tr><td>val_acc</td><td>0.90155</td></tr><tr><td>val_loss</td><td>0.36966</td></tr></table><br/></div></div>"
      ],
      "text/plain": [
       "<IPython.core.display.HTML object>"
      ]
     },
     "metadata": {},
     "output_type": "display_data"
    },
    {
     "data": {
      "text/html": [
       " View run <strong style=\"color:#cdcd00\">dazzling-morning-1</strong> at: <a href='https://wandb.ai/dsaperov-organization/mediscan-efficient-net-b0/runs/q9u033lm' target=\"_blank\">https://wandb.ai/dsaperov-organization/mediscan-efficient-net-b0/runs/q9u033lm</a><br/> View project at: <a href='https://wandb.ai/dsaperov-organization/mediscan-efficient-net-b0' target=\"_blank\">https://wandb.ai/dsaperov-organization/mediscan-efficient-net-b0</a><br/>Synced 5 W&B file(s), 0 media file(s), 0 artifact file(s) and 0 other file(s)"
      ],
      "text/plain": [
       "<IPython.core.display.HTML object>"
      ]
     },
     "metadata": {},
     "output_type": "display_data"
    },
    {
     "data": {
      "text/html": [
       "Find logs at: <code>./wandb/run-20240604_173940-q9u033lm/logs</code>"
      ],
      "text/plain": [
       "<IPython.core.display.HTML object>"
      ]
     },
     "metadata": {},
     "output_type": "display_data"
    }
   ],
   "source": [
    "base_model, best_acc = run_training(config, dataloaders, return_model=True)"
   ]
  },
  {
   "cell_type": "code",
   "execution_count": 32,
   "id": "7868bdf7-9ba7-4948-b95e-3dd6dbc25cf0",
   "metadata": {},
   "outputs": [
    {
     "name": "stdout",
     "output_type": "stream",
     "text": [
      "Accuracy: 84.46%\n",
      "              precision    recall  f1-score   support\n",
      "\n",
      "         MEL       0.73      0.61      0.67       171\n",
      "          NV       0.88      0.96      0.92       909\n",
      "         BCC       0.82      0.72      0.77        93\n",
      "       AKIEC       0.63      0.63      0.63        43\n",
      "         BKL       0.79      0.73      0.76       217\n",
      "          DF       0.92      0.55      0.69        44\n",
      "        VASC       0.93      0.71      0.81        35\n",
      "\n",
      "    accuracy                           0.84      1512\n",
      "   macro avg       0.81      0.70      0.75      1512\n",
      "weighted avg       0.84      0.84      0.84      1512\n",
      "\n",
      "ROC-AUC: 0.9653\n",
      "PR-AUC: 0.8247\n"
     ]
    }
   ],
   "source": [
    "evaluate_model(base_model, dataloaders[TEST])"
   ]
  },
  {
   "cell_type": "markdown",
   "id": "84416289-5a7b-4833-ab8d-8d1a611603b9",
   "metadata": {},
   "source": [
    "---"
   ]
  },
  {
   "cell_type": "markdown",
   "id": "e271660a-ccb3-4d23-8c4b-146296adc53c",
   "metadata": {},
   "source": [
    "## Работа с дисбалансом классов\n",
    "Модель демонстрирует хорошее качество предсказаний на объектах самого распространенного класса, но на других классах качество хуже. Это может быть связано с тем, что классы в датасете не сбалансированы и имеется сильный перекос в сторону одного из них.\n",
    "\n",
    "Для того, чтобы попытаться сбалансировать классы нам понадобится рассчитать их веса."
   ]
  },
  {
   "cell_type": "code",
   "execution_count": 33,
   "id": "0df7454f-9289-4354-b444-22eeebd9f238",
   "metadata": {},
   "outputs": [],
   "source": [
    "class_counts = torch.tensor(CLASS_COUNTS)\n",
    "min_samples_class_count = torch.min(class_counts)"
   ]
  },
  {
   "cell_type": "code",
   "execution_count": 34,
   "id": "350aaf19-bcb5-4103-99ab-71247c2c4383",
   "metadata": {},
   "outputs": [],
   "source": [
    "class_weights = 1 / class_counts / min_samples_class_count\n",
    "class_weights = class_weights.to(device)"
   ]
  },
  {
   "cell_type": "markdown",
   "id": "e54c05fa-8879-481c-a0c6-08c6bdb697ae",
   "metadata": {},
   "source": [
    "### Oversampling\n",
    "Согласно [одному из исследований](https://arxiv.org/abs/1710.05381), в большинстве случаев наилучшие результаты по устранению дисбаланса классов дает **oversampling**, когда мы искуственно увеличиваем число раз, когда модель встречает объекты меньших классов. Попробуем реализовать этот подход с помощью встроенного в `PyTorch` класса `WeightedRandomSampler`, но сначала посмотрим как выглядит распределение классов сейчас."
   ]
  },
  {
   "cell_type": "code",
   "execution_count": 35,
   "id": "2f76dba7-e93c-4283-a2ef-48d8e212422e",
   "metadata": {},
   "outputs": [],
   "source": [
    "def visualize_dataloader(dataloader):\n",
    "    all_labels = []\n",
    "\n",
    "    for _, labels in dataloader:\n",
    "        all_labels.extend(labels.numpy())\n",
    "\n",
    "    label_counts = Counter(all_labels)\n",
    "\n",
    "    labels, counts = zip(*label_counts.items())\n",
    "    plt.bar(labels, counts)\n",
    "    plt.xlabel('Class labels')\n",
    "    plt.ylabel('Frequency')\n",
    "    plt.title('Distribution of samples in dataloader')"
   ]
  },
  {
   "cell_type": "code",
   "execution_count": 36,
   "id": "c448befd-d526-4105-8f10-7533d0e783c9",
   "metadata": {},
   "outputs": [
    {
     "data": {
      "image/png": "[encoded data removed]",
      "text/plain": [
       "<Figure size 432x288 with 1 Axes>"
      ]
     },
     "metadata": {
      "needs_background": "light"
     },
     "output_type": "display_data"
    }
   ],
   "source": [
    "visualize_dataloader(dataloaders[TRAIN])"
   ]
  },
  {
   "cell_type": "markdown",
   "id": "424b3200-56ed-4847-ba00-2317ada1d682",
   "metadata": {},
   "source": [
    "Применим **oversampling**"
   ]
  },
  {
   "cell_type": "code",
   "execution_count": 37,
   "id": "cd9caa23-ff02-4684-8078-dbde49f30278",
   "metadata": {},
   "outputs": [],
   "source": [
    "# Сохраним исходный загрузчик, чтобы потом к нему вернуться\n",
    "dataloader_train_base = dataloaders[TRAIN]"
   ]
  },
  {
   "cell_type": "code",
   "execution_count": 38,
   "id": "0df66ba1-4e4a-46b5-9f9f-a9963af4dde8",
   "metadata": {},
   "outputs": [],
   "source": [
    "sample_weights = np.zeros(DATASET_SIZES[TRAIN])"
   ]
  },
  {
   "cell_type": "code",
   "execution_count": 39,
   "id": "ec4ca8d1-83f3-4d97-9d9c-cd4fb1d9429c",
   "metadata": {},
   "outputs": [],
   "source": [
    "for idx, (_, label) in enumerate(image_datasets[TRAIN]):\n",
    "    sample_weights[idx] = class_weights[label]\n",
    "    \n",
    "sample_weights = torch.from_numpy(sample_weights).double()\n",
    "\n",
    "sampler = WeightedRandomSampler(weights=sample_weights, num_samples=len(sample_weights), replacement=True)\n",
    "\n",
    "dataloader_train_oversampled = DataLoader(image_datasets[TRAIN], batch_size=BATCH_SIZE,\n",
    "                                          sampler=sampler, num_workers=NUM_WORKERS)\n",
    "dataloaders[TRAIN] = dataloader_train_oversampled"
   ]
  },
  {
   "cell_type": "code",
   "execution_count": 40,
   "id": "be24a734-923c-4e5a-a771-526108d2175f",
   "metadata": {},
   "outputs": [
    {
     "data": {
      "image/png": "[encoded data removed]",
      "text/plain": [
       "<Figure size 432x288 with 1 Axes>"
      ]
     },
     "metadata": {
      "needs_background": "light"
     },
     "output_type": "display_data"
    }
   ],
   "source": [
    "visualize_dataloader(dataloaders[TRAIN])"
   ]
  },
  {
   "cell_type": "code",
   "execution_count": 42,
   "id": "74c24716-1907-49d0-96c0-43851e57eda5",
   "metadata": {},
   "outputs": [
    {
     "data": {
      "text/html": [
       "Tracking run with wandb version 0.17.0"
      ],
      "text/plain": [
       "<IPython.core.display.HTML object>"
      ]
     },
     "metadata": {},
     "output_type": "display_data"
    },
    {
     "data": {
      "text/html": [
       "Run data is saved locally in <code>/home/user/Downloads/ISIC2018/wandb/run-20240604_182416-eq6ybibn</code>"
      ],
      "text/plain": [
       "<IPython.core.display.HTML object>"
      ]
     },
     "metadata": {},
     "output_type": "display_data"
    },
    {
     "data": {
      "text/html": [
       "Syncing run <strong><a href='https://wandb.ai/dsaperov-organization/mediscan-efficient-net-b0/runs/eq6ybibn' target=\"_blank\">dashing-microwave-3</a></strong> to <a href='https://wandb.ai/dsaperov-organization/mediscan-efficient-net-b0' target=\"_blank\">Weights & Biases</a> (<a href='https://wandb.me/run' target=\"_blank\">docs</a>)<br/>"
      ],
      "text/plain": [
       "<IPython.core.display.HTML object>"
      ]
     },
     "metadata": {},
     "output_type": "display_data"
    },
    {
     "data": {
      "text/html": [
       " View project at <a href='https://wandb.ai/dsaperov-organization/mediscan-efficient-net-b0' target=\"_blank\">https://wandb.ai/dsaperov-organization/mediscan-efficient-net-b0</a>"
      ],
      "text/plain": [
       "<IPython.core.display.HTML object>"
      ]
     },
     "metadata": {},
     "output_type": "display_data"
    },
    {
     "data": {
      "text/html": [
       " View run at <a href='https://wandb.ai/dsaperov-organization/mediscan-efficient-net-b0/runs/eq6ybibn' target=\"_blank\">https://wandb.ai/dsaperov-organization/mediscan-efficient-net-b0/runs/eq6ybibn</a>"
      ],
      "text/plain": [
       "<IPython.core.display.HTML object>"
      ]
     },
     "metadata": {},
     "output_type": "display_data"
    },
    {
     "name": "stdout",
     "output_type": "stream",
     "text": [
      "Epoch: 1/20\n",
      "Phase: train\n",
      "Iterations completed\n",
      "train Loss: 0.6491 Acc: 0.7688\n",
      "\n",
      "Phase: val\n",
      "Iterations completed\n",
      "val Loss: 0.6040 Acc: 0.8031\n",
      "\n",
      "----------\n",
      "\n",
      "Epoch: 2/20\n",
      "Phase: train\n",
      "Iterations completed\n",
      "train Loss: 0.3847 Acc: 0.8644\n",
      "\n",
      "Phase: val\n",
      "Iterations completed\n",
      "val Loss: 0.6153 Acc: 0.7720\n",
      "\n",
      "----------\n",
      "\n",
      "Epoch: 3/20\n",
      "Phase: train\n",
      "Iterations completed\n",
      "train Loss: 0.2924 Acc: 0.8961\n",
      "\n",
      "Phase: val\n",
      "Iterations completed\n",
      "val Loss: 0.6703 Acc: 0.7824\n",
      "\n",
      "----------\n",
      "\n",
      "Epoch: 4/20\n",
      "Phase: train\n",
      "Iterations completed\n",
      "train Loss: 0.2535 Acc: 0.9117\n",
      "\n",
      "Phase: val\n",
      "Iterations completed\n",
      "val Loss: 0.4951 Acc: 0.8497\n",
      "\n",
      "----------\n",
      "\n",
      "Epoch: 5/20\n",
      "Phase: train\n",
      "Iterations completed\n",
      "train Loss: 0.1889 Acc: 0.9320\n",
      "\n",
      "Phase: val\n",
      "Iterations completed\n",
      "val Loss: 0.8102 Acc: 0.7772\n",
      "\n",
      "----------\n",
      "\n",
      "Epoch: 6/20\n",
      "Phase: train\n",
      "Iterations completed\n",
      "train Loss: 0.1222 Acc: 0.9573\n",
      "\n",
      "Phase: val\n",
      "Iterations completed\n",
      "val Loss: 0.5424 Acc: 0.8549\n",
      "\n",
      "----------\n",
      "\n",
      "Epoch: 7/20\n",
      "Phase: train\n",
      "Iterations completed\n",
      "train Loss: 0.0855 Acc: 0.9688\n",
      "\n",
      "Phase: val\n",
      "Iterations completed\n",
      "val Loss: 0.4932 Acc: 0.8756\n",
      "\n",
      "----------\n",
      "\n",
      "Epoch: 8/20\n",
      "Phase: train\n",
      "Iterations completed\n",
      "train Loss: 0.0644 Acc: 0.9779\n",
      "\n",
      "Phase: val\n",
      "Iterations completed\n",
      "val Loss: 0.5101 Acc: 0.8601\n",
      "\n",
      "----------\n",
      "\n",
      "Epoch: 9/20\n",
      "Phase: train\n",
      "Iterations completed\n",
      "train Loss: 0.0542 Acc: 0.9798\n",
      "\n",
      "Phase: val\n",
      "Iterations completed\n",
      "val Loss: 0.5429 Acc: 0.8446\n",
      "\n",
      "----------\n",
      "\n",
      "Epoch: 10/20\n",
      "Phase: train\n",
      "Iterations completed\n",
      "train Loss: 0.0495 Acc: 0.9829\n",
      "\n",
      "Phase: val\n",
      "Iterations completed\n",
      "val Loss: 0.5407 Acc: 0.8705\n",
      "\n",
      "----------\n",
      "\n",
      "Epoch: 11/20\n",
      "Phase: train\n",
      "Iterations completed\n",
      "train Loss: 0.0430 Acc: 0.9838\n",
      "\n",
      "Phase: val\n",
      "Iterations completed\n",
      "val Loss: 0.5351 Acc: 0.8756\n",
      "\n",
      "----------\n",
      "\n",
      "Epoch: 12/20\n",
      "Phase: train\n",
      "Iterations completed\n",
      "train Loss: 0.0407 Acc: 0.9844\n",
      "\n",
      "Phase: val\n",
      "Iterations completed\n",
      "val Loss: 0.5527 Acc: 0.8705\n",
      "\n",
      "----------\n",
      "\n",
      "Epoch: 13/20\n",
      "Phase: train\n",
      "Iterations completed\n",
      "train Loss: 0.0402 Acc: 0.9864\n",
      "\n",
      "Phase: val\n",
      "Iterations completed\n",
      "val Loss: 0.5240 Acc: 0.8705\n",
      "\n",
      "----------\n",
      "\n",
      "Epoch: 14/20\n",
      "Phase: train\n",
      "Iterations completed\n",
      "train Loss: 0.0353 Acc: 0.9883\n",
      "\n",
      "Phase: val\n",
      "Iterations completed\n",
      "val Loss: 0.5236 Acc: 0.8705\n",
      "\n",
      "----------\n",
      "\n",
      "Epoch: 15/20\n",
      "Phase: train\n",
      "Iterations completed\n",
      "train Loss: 0.0335 Acc: 0.9895\n",
      "\n",
      "Phase: val\n",
      "Iterations completed\n",
      "val Loss: 0.5344 Acc: 0.8705\n",
      "\n",
      "----------\n",
      "\n",
      "Epoch: 16/20\n",
      "Phase: train\n",
      "Iterations completed\n",
      "train Loss: 0.0345 Acc: 0.9883\n",
      "\n",
      "Phase: val\n",
      "Iterations completed\n",
      "val Loss: 0.5483 Acc: 0.8601\n",
      "\n",
      "----------\n",
      "\n",
      "Epoch: 17/20\n",
      "Phase: train\n",
      "Iterations completed\n",
      "train Loss: 0.0333 Acc: 0.9892\n",
      "\n",
      "Phase: val\n",
      "Iterations completed\n",
      "val Loss: 0.5433 Acc: 0.8653\n",
      "\n",
      "----------\n",
      "\n",
      "Epoch: 18/20\n",
      "Phase: train\n",
      "Iterations completed\n",
      "train Loss: 0.0342 Acc: 0.9896\n",
      "\n",
      "Phase: val\n",
      "Iterations completed\n",
      "val Loss: 0.5375 Acc: 0.8601\n",
      "\n",
      "----------\n",
      "\n",
      "Epoch: 19/20\n",
      "Phase: train\n",
      "Iterations completed\n",
      "train Loss: 0.0343 Acc: 0.9883\n",
      "\n",
      "Phase: val\n",
      "Iterations completed\n",
      "val Loss: 0.5476 Acc: 0.8653\n",
      "\n",
      "----------\n",
      "\n",
      "Epoch: 20/20\n",
      "Phase: train\n",
      "Iterations completed\n",
      "train Loss: 0.0335 Acc: 0.9893\n",
      "\n",
      "Phase: val\n",
      "Iterations completed\n",
      "val Loss: 0.5459 Acc: 0.8705\n",
      "\n",
      "----------\n",
      "\n",
      "Training complete in 18m 57s\n",
      "Best val Acc: 0.8756\n"
     ]
    },
    {
     "name": "stderr",
     "output_type": "stream",
     "text": [
      "Widget Javascript not detected.  It may not be installed or enabled properly. Reconnecting the current kernel may help.\n"
     ]
    },
    {
     "data": {
      "application/vnd.jupyter.widget-view+json": {
       "model_id": "da0431b7d72a407e8953fc6bbe98e6cd"
      }
     },
     "metadata": {},
     "output_type": "display_data"
    },
    {
     "data": {
      "text/html": [
       "<style>\n",
       "    table.wandb td:nth-child(1) { padding: 0 10px; text-align: left ; width: auto;} td:nth-child(2) {text-align: left ; width: 100%}\n",
       "    .wandb-row { display: flex; flex-direction: row; flex-wrap: wrap; justify-content: flex-start; width: 100% }\n",
       "    .wandb-col { display: flex; flex-direction: column; flex-basis: 100%; flex: 1; padding: 10px; }\n",
       "    </style>\n",
       "<div class=\"wandb-row\"><div class=\"wandb-col\"><h3>Run history:</h3><br/><table class=\"wandb\"><tr><td>train_batch_acc</td><td>▁▅▄▆▅█▅▇▅▇▅█▇█▇▇▇▇▇▇███▇███▇████████████</td></tr><tr><td>train_batch_loss</td><td>█▃▅▄▅▂▃▂▂▂▃▁▂▁▂▂▁▁▂▂▁▁▁▁▁▁▁▂▁▁▁▁▁▁▁▁▁▁▁▁</td></tr><tr><td>val_acc</td><td>▃▁▂▆▁▇█▇▆██████▇▇▇▇█</td></tr><tr><td>val_loss</td><td>▃▄▅▁█▂▁▁▂▂▂▂▂▂▂▂▂▂▂▂</td></tr></table><br/></div><div class=\"wandb-col\"><h3>Run summary:</h3><br/><table class=\"wandb\"><tr><td>train_batch_acc</td><td>1.0</td></tr><tr><td>train_batch_loss</td><td>0.00226</td></tr><tr><td>val_acc</td><td>0.87047</td></tr><tr><td>val_loss</td><td>0.54594</td></tr></table><br/></div></div>"
      ],
      "text/plain": [
       "<IPython.core.display.HTML object>"
      ]
     },
     "metadata": {},
     "output_type": "display_data"
    },
    {
     "data": {
      "text/html": [
       " View run <strong style=\"color:#cdcd00\">dashing-microwave-3</strong> at: <a href='https://wandb.ai/dsaperov-organization/mediscan-efficient-net-b0/runs/eq6ybibn' target=\"_blank\">https://wandb.ai/dsaperov-organization/mediscan-efficient-net-b0/runs/eq6ybibn</a><br/> View project at: <a href='https://wandb.ai/dsaperov-organization/mediscan-efficient-net-b0' target=\"_blank\">https://wandb.ai/dsaperov-organization/mediscan-efficient-net-b0</a><br/>Synced 5 W&B file(s), 0 media file(s), 0 artifact file(s) and 0 other file(s)"
      ],
      "text/plain": [
       "<IPython.core.display.HTML object>"
      ]
     },
     "metadata": {},
     "output_type": "display_data"
    },
    {
     "data": {
      "text/html": [
       "Find logs at: <code>./wandb/run-20240604_182416-eq6ybibn/logs</code>"
      ],
      "text/plain": [
       "<IPython.core.display.HTML object>"
      ]
     },
     "metadata": {},
     "output_type": "display_data"
    },
    {
     "name": "stdout",
     "output_type": "stream",
     "text": [
      "\n",
      "Лучшая ранее достигнутая точность: 0.917098445595855\n",
      "Лучшая точность в текущем эксперименте: 0.8756476683937824\n",
      "Точность НЕ улучшилась\n",
      "Разница между значениями: 0.0415\n"
     ]
    }
   ],
   "source": [
    "exp_acc = run_training(config, dataloaders)\n",
    "best_acc = compare_accuracy(best_acc, exp_acc)"
   ]
  },
  {
   "cell_type": "markdown",
   "id": "5909eed4-464d-422b-9998-963075c26fac",
   "metadata": {},
   "source": [
    "Стало хуже. Возможно, это связано с тем, что раньше самый большой класс, на котором модель была наиболее точна, \"тащил\" метрики вверх, а теперь при обучении модель гораздо реже сталкивается с объектами этого класса, и, соответственно, на валидации не распознает их также хорошо, как раньше.\n",
    "\n",
    "Пока что уберем оверсэмплинг, чтобы опробовать другие подходы"
   ]
  },
  {
   "cell_type": "code",
   "execution_count": 44,
   "id": "6ce3e7e2-a2a0-4455-a2bb-1f77af06ae1b",
   "metadata": {},
   "outputs": [],
   "source": [
    "dataloaders[TRAIN] = dataloader_train_base"
   ]
  },
  {
   "cell_type": "markdown",
   "id": "1b8503b1-332a-4ccc-bf99-148c1a85cdb6",
   "metadata": {},
   "source": [
    "## Подбор функции потерь\n",
    "### `CrossEntropyLoss`\n",
    "Альтернативный подход - считать потери с учетом дисбаланса классов.\n",
    "\n",
    "Если применить `CrossEntropyLoss` c параметром `weight`, модель будет штрафоваться сильнее за ошибки на классах, представленных малым количеством объектов (мы как-бы говорим ей, что одинаково плохо выдавать неправильное предсказание для 7 экземпляров класса 0 и 1 неправильное предсказание для экземпляра 1). Это должно привести к улучшению перфоманса на малочисленных классах, модель должна стать более \"чувствительной\" к ним."
   ]
  },
  {
   "cell_type": "code",
   "execution_count": 45,
   "id": "ae248ac9-285c-434a-b6f7-76c7b83f4ebb",
   "metadata": {},
   "outputs": [
    {
     "data": {
      "text/html": [
       "Tracking run with wandb version 0.17.0"
      ],
      "text/plain": [
       "<IPython.core.display.HTML object>"
      ]
     },
     "metadata": {},
     "output_type": "display_data"
    },
    {
     "data": {
      "text/html": [
       "Run data is saved locally in <code>/home/user/Downloads/ISIC2018/wandb/run-20240604_184910-0dg8bt3w</code>"
      ],
      "text/plain": [
       "<IPython.core.display.HTML object>"
      ]
     },
     "metadata": {},
     "output_type": "display_data"
    },
    {
     "data": {
      "text/html": [
       "Syncing run <strong><a href='https://wandb.ai/dsaperov-organization/mediscan-efficient-net-b0/runs/0dg8bt3w' target=\"_blank\">lunar-dragon-4</a></strong> to <a href='https://wandb.ai/dsaperov-organization/mediscan-efficient-net-b0' target=\"_blank\">Weights & Biases</a> (<a href='https://wandb.me/run' target=\"_blank\">docs</a>)<br/>"
      ],
      "text/plain": [
       "<IPython.core.display.HTML object>"
      ]
     },
     "metadata": {},
     "output_type": "display_data"
    },
    {
     "data": {
      "text/html": [
       " View project at <a href='https://wandb.ai/dsaperov-organization/mediscan-efficient-net-b0' target=\"_blank\">https://wandb.ai/dsaperov-organization/mediscan-efficient-net-b0</a>"
      ],
      "text/plain": [
       "<IPython.core.display.HTML object>"
      ]
     },
     "metadata": {},
     "output_type": "display_data"
    },
    {
     "data": {
      "text/html": [
       " View run at <a href='https://wandb.ai/dsaperov-organization/mediscan-efficient-net-b0/runs/0dg8bt3w' target=\"_blank\">https://wandb.ai/dsaperov-organization/mediscan-efficient-net-b0/runs/0dg8bt3w</a>"
      ],
      "text/plain": [
       "<IPython.core.display.HTML object>"
      ]
     },
     "metadata": {},
     "output_type": "display_data"
    },
    {
     "name": "stdout",
     "output_type": "stream",
     "text": [
      "Epoch: 1/20\n",
      "Phase: train\n",
      "Iterations completed\n",
      "train Loss: 1.2471 Acc: 0.5672\n",
      "\n",
      "Phase: val\n",
      "Iterations completed\n",
      "val Loss: 1.6021 Acc: 0.4870\n",
      "\n",
      "----------\n",
      "\n",
      "Epoch: 2/20\n",
      "Phase: train\n",
      "Iterations completed\n",
      "train Loss: 0.9754 Acc: 0.6423\n",
      "\n",
      "Phase: val\n",
      "Iterations completed\n",
      "val Loss: 0.7056 Acc: 0.7358\n",
      "\n",
      "----------\n",
      "\n",
      "Epoch: 3/20\n",
      "Phase: train\n",
      "Iterations completed\n",
      "train Loss: 0.7955 Acc: 0.6691\n",
      "\n",
      "Phase: val\n",
      "Iterations completed\n",
      "val Loss: 0.7506 Acc: 0.6736\n",
      "\n",
      "----------\n",
      "\n",
      "Epoch: 4/20\n",
      "Phase: train\n",
      "Iterations completed\n",
      "train Loss: 0.6473 Acc: 0.7184\n",
      "\n",
      "Phase: val\n",
      "Iterations completed\n",
      "val Loss: 0.6876 Acc: 0.7565\n",
      "\n",
      "----------\n",
      "\n",
      "Epoch: 5/20\n",
      "Phase: train\n",
      "Iterations completed\n",
      "train Loss: 0.5574 Acc: 0.7405\n",
      "\n",
      "Phase: val\n",
      "Iterations completed\n",
      "val Loss: 0.7654 Acc: 0.7565\n",
      "\n",
      "----------\n",
      "\n",
      "Epoch: 6/20\n",
      "Phase: train\n",
      "Iterations completed\n",
      "train Loss: 0.3713 Acc: 0.7989\n",
      "\n",
      "Phase: val\n",
      "Iterations completed\n",
      "val Loss: 0.4122 Acc: 0.8135\n",
      "\n",
      "----------\n",
      "\n",
      "Epoch: 7/20\n",
      "Phase: train\n",
      "Iterations completed\n",
      "train Loss: 0.2883 Acc: 0.8262\n",
      "\n",
      "Phase: val\n",
      "Iterations completed\n",
      "val Loss: 0.3850 Acc: 0.8497\n",
      "\n",
      "----------\n",
      "\n",
      "Epoch: 8/20\n",
      "Phase: train\n",
      "Iterations completed\n",
      "train Loss: 0.2598 Acc: 0.8416\n",
      "\n",
      "Phase: val\n",
      "Iterations completed\n",
      "val Loss: 0.4165 Acc: 0.8342\n",
      "\n",
      "----------\n",
      "\n",
      "Epoch: 9/20\n",
      "Phase: train\n",
      "Iterations completed\n",
      "train Loss: 0.2161 Acc: 0.8494\n",
      "\n",
      "Phase: val\n",
      "Iterations completed\n",
      "val Loss: 0.4946 Acc: 0.8549\n",
      "\n",
      "----------\n",
      "\n",
      "Epoch: 10/20\n",
      "Phase: train\n",
      "Iterations completed\n",
      "train Loss: 0.2056 Acc: 0.8600\n",
      "\n",
      "Phase: val\n",
      "Iterations completed\n",
      "val Loss: 0.4404 Acc: 0.8756\n",
      "\n",
      "----------\n",
      "\n",
      "Epoch: 11/20\n",
      "Phase: train\n",
      "Iterations completed\n",
      "train Loss: 0.1741 Acc: 0.8744\n",
      "\n",
      "Phase: val\n",
      "Iterations completed\n",
      "val Loss: 0.4469 Acc: 0.8808\n",
      "\n",
      "----------\n",
      "\n",
      "Epoch: 12/20\n",
      "Phase: train\n",
      "Iterations completed\n",
      "train Loss: 0.1706 Acc: 0.8761\n",
      "\n",
      "Phase: val\n",
      "Iterations completed\n",
      "val Loss: 0.4691 Acc: 0.8756\n",
      "\n",
      "----------\n",
      "\n",
      "Epoch: 13/20\n",
      "Phase: train\n",
      "Iterations completed\n",
      "train Loss: 0.1689 Acc: 0.8782\n",
      "\n",
      "Phase: val\n",
      "Iterations completed\n",
      "val Loss: 0.4391 Acc: 0.8756\n",
      "\n",
      "----------\n",
      "\n",
      "Epoch: 14/20\n",
      "Phase: train\n",
      "Iterations completed\n",
      "train Loss: 0.1625 Acc: 0.8822\n",
      "\n",
      "Phase: val\n",
      "Iterations completed\n",
      "val Loss: 0.4634 Acc: 0.8860\n",
      "\n",
      "----------\n",
      "\n",
      "Epoch: 15/20\n",
      "Phase: train\n",
      "Iterations completed\n",
      "train Loss: 0.1644 Acc: 0.8775\n",
      "\n",
      "Phase: val\n",
      "Iterations completed\n",
      "val Loss: 0.4599 Acc: 0.8808\n",
      "\n",
      "----------\n",
      "\n",
      "Epoch: 16/20\n",
      "Phase: train\n",
      "Iterations completed\n",
      "train Loss: 0.1598 Acc: 0.8840\n",
      "\n",
      "Phase: val\n",
      "Iterations completed\n",
      "val Loss: 0.4800 Acc: 0.8756\n",
      "\n",
      "----------\n",
      "\n",
      "Epoch: 17/20\n",
      "Phase: train\n",
      "Iterations completed\n",
      "train Loss: 0.1620 Acc: 0.8870\n",
      "\n",
      "Phase: val\n",
      "Iterations completed\n",
      "val Loss: 0.4468 Acc: 0.8808\n",
      "\n",
      "----------\n",
      "\n",
      "Epoch: 18/20\n",
      "Phase: train\n",
      "Iterations completed\n",
      "train Loss: 0.1654 Acc: 0.8830\n",
      "\n",
      "Phase: val\n",
      "Iterations completed\n",
      "val Loss: 0.4732 Acc: 0.8705\n",
      "\n",
      "----------\n",
      "\n",
      "Epoch: 19/20\n",
      "Phase: train\n",
      "Iterations completed\n",
      "train Loss: 0.1575 Acc: 0.8824\n",
      "\n",
      "Phase: val\n",
      "Iterations completed\n",
      "val Loss: 0.4592 Acc: 0.8860\n",
      "\n",
      "----------\n",
      "\n",
      "Epoch: 20/20\n",
      "Phase: train\n",
      "Iterations completed\n",
      "train Loss: 0.1520 Acc: 0.8860\n",
      "\n",
      "Phase: val\n",
      "Iterations completed\n",
      "val Loss: 0.4604 Acc: 0.8912\n",
      "\n",
      "----------\n",
      "\n",
      "Training complete in 18m 60s\n",
      "Best val Acc: 0.8912\n"
     ]
    },
    {
     "name": "stderr",
     "output_type": "stream",
     "text": [
      "Widget Javascript not detected.  It may not be installed or enabled properly. Reconnecting the current kernel may help.\n"
     ]
    },
    {
     "data": {
      "application/vnd.jupyter.widget-view+json": {
       "model_id": "7228273a63304e8584dab69e78b5edb3"
      }
     },
     "metadata": {},
     "output_type": "display_data"
    },
    {
     "data": {
      "text/html": [
       "<style>\n",
       "    table.wandb td:nth-child(1) { padding: 0 10px; text-align: left ; width: auto;} td:nth-child(2) {text-align: left ; width: 100%}\n",
       "    .wandb-row { display: flex; flex-direction: row; flex-wrap: wrap; justify-content: flex-start; width: 100% }\n",
       "    .wandb-col { display: flex; flex-direction: column; flex-basis: 100%; flex: 1; padding: 10px; }\n",
       "    </style>\n",
       "<div class=\"wandb-row\"><div class=\"wandb-col\"><h3>Run history:</h3><br/><table class=\"wandb\"><tr><td>train_batch_acc</td><td>▁▃▂▅▄▃▅▃▆▅▆▇▇▅█▇▇▇▆▆▇█▆▇▇▇█▇▇▆▇█▇█▇▇▇▇▅▇</td></tr><tr><td>train_batch_loss</td><td>▅▄█▃▅▃▄▅▂▂▂▄▂▂▁▁▁▁▁▃▁▁▂▁▁▁▁▁▁▂▁▁▁▁▁▂▁▁▃▂</td></tr><tr><td>val_acc</td><td>▁▅▄▆▆▇▇▇▇███████████</td></tr><tr><td>val_loss</td><td>█▃▃▃▃▁▁▁▂▁▁▁▁▁▁▂▁▂▁▁</td></tr></table><br/></div><div class=\"wandb-col\"><h3>Run summary:</h3><br/><table class=\"wandb\"><tr><td>train_batch_acc</td><td>0.93548</td></tr><tr><td>train_batch_loss</td><td>0.06571</td></tr><tr><td>val_acc</td><td>0.89119</td></tr><tr><td>val_loss</td><td>0.46039</td></tr></table><br/></div></div>"
      ],
      "text/plain": [
       "<IPython.core.display.HTML object>"
      ]
     },
     "metadata": {},
     "output_type": "display_data"
    },
    {
     "data": {
      "text/html": [
       " View run <strong style=\"color:#cdcd00\">lunar-dragon-4</strong> at: <a href='https://wandb.ai/dsaperov-organization/mediscan-efficient-net-b0/runs/0dg8bt3w' target=\"_blank\">https://wandb.ai/dsaperov-organization/mediscan-efficient-net-b0/runs/0dg8bt3w</a><br/> View project at: <a href='https://wandb.ai/dsaperov-organization/mediscan-efficient-net-b0' target=\"_blank\">https://wandb.ai/dsaperov-organization/mediscan-efficient-net-b0</a><br/>Synced 5 W&B file(s), 0 media file(s), 0 artifact file(s) and 0 other file(s)"
      ],
      "text/plain": [
       "<IPython.core.display.HTML object>"
      ]
     },
     "metadata": {},
     "output_type": "display_data"
    },
    {
     "data": {
      "text/html": [
       "Find logs at: <code>./wandb/run-20240604_184910-0dg8bt3w/logs</code>"
      ],
      "text/plain": [
       "<IPython.core.display.HTML object>"
      ]
     },
     "metadata": {},
     "output_type": "display_data"
    },
    {
     "name": "stdout",
     "output_type": "stream",
     "text": [
      "\n",
      "Лучшая ранее достигнутая точность: 0.917098445595855\n",
      "Лучшая точность в текущем эксперименте: 0.8911917098445596\n",
      "Точность НЕ улучшилась\n",
      "Разница между значениями: 0.0259\n"
     ]
    }
   ],
   "source": [
    "params = {'weight': class_weights}\n",
    "config, best_acc = run_experiment(config, CRITERION, get_component_class(CRITERION), dataloaders, best_acc, component_params=params)"
   ]
  },
  {
   "cell_type": "markdown",
   "id": "f04a085b-e78a-446b-9833-48ec50b8648c",
   "metadata": {},
   "source": [
    "Результат чуть лучше, чем при оверсэмплинге, но разница незначительная."
   ]
  },
  {
   "cell_type": "markdown",
   "id": "641a6395-004f-4a26-8596-34ae293f88e8",
   "metadata": {},
   "source": [
    "### `BCEWithLogitsLoss`\n",
    "Больше подходит для multi-label классификации, но если сделать так, чтобы метки были закодированы в one-hot-encoding формате, то ее можно применить и в случае мульти-классовой классификации, хотя проблему дисбаланса классов она не решит."
   ]
  },
  {
   "cell_type": "code",
   "execution_count": 46,
   "id": "588de39c-8ed0-42df-b757-44822b792e59",
   "metadata": {},
   "outputs": [],
   "source": [
    "criterion_class = 'BCEWithLogitsLoss'"
   ]
  },
  {
   "cell_type": "code",
   "execution_count": 47,
   "id": "a32b2139-a648-421a-a2fc-a3743eccc14f",
   "metadata": {},
   "outputs": [],
   "source": [
    "# Модифицируем ISICDataset так, чтобы метки выдавались в one-hot-encoded формате\n",
    "class ISICDatasetBCE(ISICDataset):\n",
    "    def __getitem__(self, idx):\n",
    "        img_path = os.path.join(self.root_dir, self.annotations.iloc[idx, 0] + '.jpg')\n",
    "        image = Image.open(img_path).convert('RGB')\n",
    "        label_one_hot = self.annotations.iloc[idx, 1:].values.astype(np.float32)\n",
    "        label_tensor = torch.tensor(label_one_hot)\n",
    "\n",
    "        if self.transform:\n",
    "            image = self.transform(image)\n",
    "\n",
    "        return image, label_tensor"
   ]
  },
  {
   "cell_type": "code",
   "execution_count": 48,
   "id": "1b0d7b69-8039-40de-b90c-3c6e05101e3e",
   "metadata": {},
   "outputs": [],
   "source": [
    "transform = {\n",
    "        TRAIN: transforms.Compose(data_transforms_train),\n",
    "        VAL: transforms.Compose(data_transforms_eval),\n",
    "        TEST: transforms.Compose(data_transforms_eval)\n",
    "    }\n",
    "\n",
    "image_datasets_bce = {x: ISICDatasetBCE(root_dir=os.path.join(DATA_PATH, IMAGE_DIRS[x]),\n",
    "                                        csv_file=os.path.join(DATA_PATH,GROND_TRUTH_PATHS[x]),\n",
    "                                        transform=transform[x])\n",
    "                      for x in [TRAIN, VAL, TEST]}\n",
    "    \n",
    "dataloaders_bce = {x: DataLoader(image_datasets_bce[x], batch_size=BATCH_SIZE, shuffle=False, num_workers=NUM_WORKERS) for x in [VAL, TEST]}\n",
    "dataloaders_bce[TRAIN] = DataLoader(image_datasets_bce[TRAIN], batch_size=BATCH_SIZE, shuffle=True, num_workers=NUM_WORKERS)"
   ]
  },
  {
   "cell_type": "code",
   "execution_count": 49,
   "id": "3dd9d457-218e-4ac3-891c-925d06d949fb",
   "metadata": {},
   "outputs": [
    {
     "data": {
      "text/html": [
       "Tracking run with wandb version 0.17.0"
      ],
      "text/plain": [
       "<IPython.core.display.HTML object>"
      ]
     },
     "metadata": {},
     "output_type": "display_data"
    },
    {
     "data": {
      "text/html": [
       "Run data is saved locally in <code>/home/user/Downloads/ISIC2018/wandb/run-20240604_190918-ulomqs6i</code>"
      ],
      "text/plain": [
       "<IPython.core.display.HTML object>"
      ]
     },
     "metadata": {},
     "output_type": "display_data"
    },
    {
     "data": {
      "text/html": [
       "Syncing run <strong><a href='https://wandb.ai/dsaperov-organization/mediscan-efficient-net-b0/runs/ulomqs6i' target=\"_blank\">stilted-pine-5</a></strong> to <a href='https://wandb.ai/dsaperov-organization/mediscan-efficient-net-b0' target=\"_blank\">Weights & Biases</a> (<a href='https://wandb.me/run' target=\"_blank\">docs</a>)<br/>"
      ],
      "text/plain": [
       "<IPython.core.display.HTML object>"
      ]
     },
     "metadata": {},
     "output_type": "display_data"
    },
    {
     "data": {
      "text/html": [
       " View project at <a href='https://wandb.ai/dsaperov-organization/mediscan-efficient-net-b0' target=\"_blank\">https://wandb.ai/dsaperov-organization/mediscan-efficient-net-b0</a>"
      ],
      "text/plain": [
       "<IPython.core.display.HTML object>"
      ]
     },
     "metadata": {},
     "output_type": "display_data"
    },
    {
     "data": {
      "text/html": [
       " View run at <a href='https://wandb.ai/dsaperov-organization/mediscan-efficient-net-b0/runs/ulomqs6i' target=\"_blank\">https://wandb.ai/dsaperov-organization/mediscan-efficient-net-b0/runs/ulomqs6i</a>"
      ],
      "text/plain": [
       "<IPython.core.display.HTML object>"
      ]
     },
     "metadata": {},
     "output_type": "display_data"
    },
    {
     "name": "stdout",
     "output_type": "stream",
     "text": [
      "Epoch: 1/20\n",
      "Phase: train\n",
      "Iterations completed\n",
      "train Loss: 0.1633 Acc: 0.7671\n",
      "\n",
      "Phase: val\n",
      "Iterations completed\n",
      "val Loss: 0.1403 Acc: 0.7979\n",
      "\n",
      "----------\n",
      "\n",
      "Epoch: 2/20\n",
      "Phase: train\n",
      "Iterations completed\n",
      "train Loss: 0.1199 Acc: 0.8279\n",
      "\n",
      "Phase: val\n",
      "Iterations completed\n",
      "val Loss: 0.1081 Acc: 0.8497\n",
      "\n",
      "----------\n",
      "\n",
      "Epoch: 3/20\n",
      "Phase: train\n",
      "Iterations completed\n",
      "train Loss: 0.1015 Acc: 0.8597\n",
      "\n",
      "Phase: val\n",
      "Iterations completed\n",
      "val Loss: 0.1282 Acc: 0.8135\n",
      "\n",
      "----------\n",
      "\n",
      "Epoch: 4/20\n",
      "Phase: train\n",
      "Iterations completed\n",
      "train Loss: 0.0847 Acc: 0.8822\n",
      "\n",
      "Phase: val\n",
      "Iterations completed\n",
      "val Loss: 0.1278 Acc: 0.8342\n",
      "\n",
      "----------\n",
      "\n",
      "Epoch: 5/20\n",
      "Phase: train\n",
      "Iterations completed\n",
      "train Loss: 0.0744 Acc: 0.8972\n",
      "\n",
      "Phase: val\n",
      "Iterations completed\n",
      "val Loss: 0.0962 Acc: 0.8653\n",
      "\n",
      "----------\n",
      "\n",
      "Epoch: 6/20\n",
      "Phase: train\n",
      "Iterations completed\n",
      "train Loss: 0.0382 Acc: 0.9509\n",
      "\n",
      "Phase: val\n",
      "Iterations completed\n",
      "val Loss: 0.0856 Acc: 0.9016\n",
      "\n",
      "----------\n",
      "\n",
      "Epoch: 7/20\n",
      "Phase: train\n",
      "Iterations completed\n",
      "train Loss: 0.0262 Acc: 0.9675\n",
      "\n",
      "Phase: val\n",
      "Iterations completed\n",
      "val Loss: 0.0879 Acc: 0.8912\n",
      "\n",
      "----------\n",
      "\n",
      "Epoch: 8/20\n",
      "Phase: train\n",
      "Iterations completed\n",
      "train Loss: 0.0129 Acc: 0.9855\n",
      "\n",
      "Phase: val\n",
      "Iterations completed\n",
      "val Loss: 0.1069 Acc: 0.8964\n",
      "\n",
      "----------\n",
      "\n",
      "Epoch: 11/20\n",
      "Phase: train\n",
      "Iterations completed\n",
      "train Loss: 0.0092 Acc: 0.9903\n",
      "\n",
      "Phase: val\n",
      "Iterations completed\n",
      "val Loss: 0.1098 Acc: 0.9016\n",
      "\n",
      "----------\n",
      "\n",
      "Epoch: 12/20\n",
      "Phase: train\n",
      "Iterations completed\n",
      "train Loss: 0.0081 Acc: 0.9919\n",
      "\n",
      "Phase: val\n",
      "Iterations completed\n",
      "val Loss: 0.1087 Acc: 0.9016\n",
      "\n",
      "----------\n",
      "\n",
      "Epoch: 13/20\n",
      "Phase: train\n",
      "Iterations completed\n",
      "train Loss: 0.0084 Acc: 0.9923\n",
      "\n",
      "Phase: val\n",
      "Iterations completed\n",
      "val Loss: 0.1114 Acc: 0.9067\n",
      "\n",
      "----------\n",
      "\n",
      "Epoch: 14/20\n",
      "Phase: train\n",
      "Iterations completed\n",
      "train Loss: 0.0074 Acc: 0.9924\n",
      "\n",
      "Phase: val\n",
      "Iterations completed\n",
      "val Loss: 0.1109 Acc: 0.8964\n",
      "\n",
      "----------\n",
      "\n",
      "Epoch: 15/20\n",
      "Phase: train\n",
      "Iterations completed\n",
      "train Loss: 0.0078 Acc: 0.9918\n",
      "\n",
      "Phase: val\n",
      "Iterations completed\n",
      "val Loss: 0.1139 Acc: 0.9119\n",
      "\n",
      "----------\n",
      "\n",
      "Epoch: 16/20\n",
      "Phase: train\n",
      "Iterations completed\n",
      "train Loss: 0.0073 Acc: 0.9925\n",
      "\n",
      "Phase: val\n",
      "Iterations completed\n",
      "val Loss: 0.1155 Acc: 0.9119\n",
      "\n",
      "----------\n",
      "\n",
      "Epoch: 17/20\n",
      "Phase: train\n",
      "Iterations completed\n",
      "train Loss: 0.0069 Acc: 0.9934\n",
      "\n",
      "Phase: val\n",
      "Iterations completed\n",
      "val Loss: 0.1160 Acc: 0.8964\n",
      "\n",
      "----------\n",
      "\n",
      "Epoch: 18/20\n",
      "Phase: train\n",
      "Iterations completed\n",
      "train Loss: 0.0072 Acc: 0.9929\n",
      "\n",
      "Phase: val\n",
      "Iterations completed\n",
      "val Loss: 0.1175 Acc: 0.9016\n",
      "\n",
      "----------\n",
      "\n",
      "Epoch: 19/20\n",
      "Phase: train\n",
      "Iterations completed\n",
      "train Loss: 0.0071 Acc: 0.9930\n",
      "\n",
      "Phase: val\n",
      "Iterations completed\n",
      "val Loss: 0.1157 Acc: 0.9067\n",
      "\n",
      "----------\n",
      "\n",
      "Epoch: 20/20\n",
      "Phase: train\n",
      "Iterations completed\n",
      "train Loss: 0.0072 Acc: 0.9931\n",
      "\n",
      "Phase: val\n",
      "Iterations completed\n",
      "val Loss: 0.1147 Acc: 0.9067\n",
      "\n",
      "----------\n",
      "\n",
      "Training complete in 18m 60s\n",
      "Best val Acc: 0.9119\n"
     ]
    },
    {
     "name": "stderr",
     "output_type": "stream",
     "text": [
      "Widget Javascript not detected.  It may not be installed or enabled properly. Reconnecting the current kernel may help.\n"
     ]
    },
    {
     "data": {
      "application/vnd.jupyter.widget-view+json": {
       "model_id": "2eac509bf563478ca16c34759a4258e0"
      }
     },
     "metadata": {},
     "output_type": "display_data"
    },
    {
     "data": {
      "text/html": [
       "<style>\n",
       "    table.wandb td:nth-child(1) { padding: 0 10px; text-align: left ; width: auto;} td:nth-child(2) {text-align: left ; width: 100%}\n",
       "    .wandb-row { display: flex; flex-direction: row; flex-wrap: wrap; justify-content: flex-start; width: 100% }\n",
       "    .wandb-col { display: flex; flex-direction: column; flex-basis: 100%; flex: 1; padding: 10px; }\n",
       "    </style>\n",
       "<div class=\"wandb-row\"><div class=\"wandb-col\"><h3>Run history:</h3><br/><table class=\"wandb\"><tr><td>train_batch_acc</td><td>▁▅▃▅▅▇▇▂▆▇▇▇█▇█▇█▇█▇███████▇████████████</td></tr><tr><td>train_batch_loss</td><td>█▆▅▄▄▃▄▅▃▃▂▃▂▂▁▂▁▁▁▃▁▁▁▁▁▁▁▃▁▁▁▁▁▁▁▁▁▁▁▁</td></tr><tr><td>val_acc</td><td>▁▄▂▃▅▇▇▇█▇▇▇█▇██▇▇██</td></tr><tr><td>val_loss</td><td>█▄▆▆▂▁▁▃▃▄▄▄▄▄▅▅▅▅▅▅</td></tr></table><br/></div><div class=\"wandb-col\"><h3>Run summary:</h3><br/><table class=\"wandb\"><tr><td>train_batch_acc</td><td>0.96774</td></tr><tr><td>train_batch_loss</td><td>0.01634</td></tr><tr><td>val_acc</td><td>0.90674</td></tr><tr><td>val_loss</td><td>0.11473</td></tr></table><br/></div></div>"
      ],
      "text/plain": [
       "<IPython.core.display.HTML object>"
      ]
     },
     "metadata": {},
     "output_type": "display_data"
    },
    {
     "data": {
      "text/html": [
       " View run <strong style=\"color:#cdcd00\">stilted-pine-5</strong> at: <a href='https://wandb.ai/dsaperov-organization/mediscan-efficient-net-b0/runs/ulomqs6i' target=\"_blank\">https://wandb.ai/dsaperov-organization/mediscan-efficient-net-b0/runs/ulomqs6i</a><br/> View project at: <a href='https://wandb.ai/dsaperov-organization/mediscan-efficient-net-b0' target=\"_blank\">https://wandb.ai/dsaperov-organization/mediscan-efficient-net-b0</a><br/>Synced 5 W&B file(s), 0 media file(s), 0 artifact file(s) and 0 other file(s)"
      ],
      "text/plain": [
       "<IPython.core.display.HTML object>"
      ]
     },
     "metadata": {},
     "output_type": "display_data"
    },
    {
     "data": {
      "text/html": [
       "Find logs at: <code>./wandb/run-20240604_190918-ulomqs6i/logs</code>"
      ],
      "text/plain": [
       "<IPython.core.display.HTML object>"
      ]
     },
     "metadata": {},
     "output_type": "display_data"
    },
    {
     "name": "stdout",
     "output_type": "stream",
     "text": [
      "\n",
      "Лучшая ранее достигнутая точность: 0.917098445595855\n",
      "Лучшая точность в текущем эксперименте: 0.9119170984455959\n",
      "Точность НЕ улучшилась\n",
      "Разница между значениями: 0.0052\n"
     ]
    }
   ],
   "source": [
    "train_kwargs = {'labels_encoded': True}\n",
    "config, best_acc = run_experiment(config, CRITERION, criterion_class, dataloaders_bce, best_acc, train_kwargs=train_kwargs)"
   ]
  },
  {
   "cell_type": "markdown",
   "id": "01fe000f-e3a2-47a5-9bb2-a4c593d342aa",
   "metadata": {},
   "source": [
    "### `FocalLoss`\n",
    "`FocalLoss` добавляет коэффициент, увеличивая вклад ошибок на трудно классифицируемых объектах и уменьшая вклад ошибок на легко классифицируемых. Это само по себе может косвенно улучшить качество предсказаний на малочисленных классах."
   ]
  },
  {
   "cell_type": "code",
   "execution_count": 50,
   "id": "50ca9d06-0dbd-416d-a56e-379b36546108",
   "metadata": {},
   "outputs": [],
   "source": [
    "criterion_class = 'FocalLoss'"
   ]
  },
  {
   "cell_type": "code",
   "execution_count": 51,
   "id": "8739bd32-9cab-440c-8c61-f37bac7f1246",
   "metadata": {},
   "outputs": [],
   "source": [
    "class FocalLoss(nn.Module):\n",
    "    def __init__(self, alpha=None, gamma=2, reduction='mean'):\n",
    "        super(FocalLoss, self).__init__()\n",
    "        self.alpha = alpha\n",
    "        self.gamma = gamma\n",
    "        self.reduction = reduction\n",
    "\n",
    "    def forward(self, inputs, labels):\n",
    "        BCE_loss = F.cross_entropy(inputs, labels, reduction='none')\n",
    "        pt = torch.exp(-BCE_loss)\n",
    "        focal_loss = (1 - pt) ** self.gamma * BCE_loss\n",
    "\n",
    "        if self.alpha is not None:\n",
    "            focal_loss *= self.alpha.gather(0, labels.data.view(-1))\n",
    "\n",
    "        if self.reduction == 'mean':\n",
    "            return focal_loss.mean()\n",
    "        elif self.reduction == 'sum':\n",
    "            return focal_loss.sum()\n",
    "        else:\n",
    "            return focal_loss  "
   ]
  },
  {
   "cell_type": "code",
   "execution_count": 52,
   "id": "8f00feb4-90f4-4917-a282-e8218110031b",
   "metadata": {},
   "outputs": [
    {
     "data": {
      "text/html": [
       "Tracking run with wandb version 0.17.0"
      ],
      "text/plain": [
       "<IPython.core.display.HTML object>"
      ]
     },
     "metadata": {},
     "output_type": "display_data"
    },
    {
     "data": {
      "text/html": [
       "Run data is saved locally in <code>/home/user/Downloads/ISIC2018/wandb/run-20240604_192915-soqiwxt2</code>"
      ],
      "text/plain": [
       "<IPython.core.display.HTML object>"
      ]
     },
     "metadata": {},
     "output_type": "display_data"
    },
    {
     "data": {
      "text/html": [
       "Syncing run <strong><a href='https://wandb.ai/dsaperov-organization/mediscan-efficient-net-b0/runs/soqiwxt2' target=\"_blank\">vague-terrain-6</a></strong> to <a href='https://wandb.ai/dsaperov-organization/mediscan-efficient-net-b0' target=\"_blank\">Weights & Biases</a> (<a href='https://wandb.me/run' target=\"_blank\">docs</a>)<br/>"
      ],
      "text/plain": [
       "<IPython.core.display.HTML object>"
      ]
     },
     "metadata": {},
     "output_type": "display_data"
    },
    {
     "data": {
      "text/html": [
       " View project at <a href='https://wandb.ai/dsaperov-organization/mediscan-efficient-net-b0' target=\"_blank\">https://wandb.ai/dsaperov-organization/mediscan-efficient-net-b0</a>"
      ],
      "text/plain": [
       "<IPython.core.display.HTML object>"
      ]
     },
     "metadata": {},
     "output_type": "display_data"
    },
    {
     "data": {
      "text/html": [
       " View run at <a href='https://wandb.ai/dsaperov-organization/mediscan-efficient-net-b0/runs/soqiwxt2' target=\"_blank\">https://wandb.ai/dsaperov-organization/mediscan-efficient-net-b0/runs/soqiwxt2</a>"
      ],
      "text/plain": [
       "<IPython.core.display.HTML object>"
      ]
     },
     "metadata": {},
     "output_type": "display_data"
    },
    {
     "name": "stdout",
     "output_type": "stream",
     "text": [
      "Epoch: 1/20\n",
      "Phase: train\n",
      "Iterations completed\n",
      "train Loss: 0.3598 Acc: 0.7554\n",
      "\n",
      "Phase: val\n",
      "Iterations completed\n",
      "val Loss: 0.3644 Acc: 0.6839\n",
      "\n",
      "----------\n",
      "\n",
      "Epoch: 2/20\n",
      "Phase: train\n",
      "Iterations completed\n",
      "train Loss: 0.2357 Acc: 0.8126\n",
      "\n",
      "Phase: val\n",
      "Iterations completed\n",
      "val Loss: 0.2359 Acc: 0.8238\n",
      "\n",
      "----------\n",
      "\n",
      "Epoch: 3/20\n",
      "Phase: train\n",
      "Iterations completed\n",
      "train Loss: 0.1911 Acc: 0.8419\n",
      "\n",
      "Phase: val\n",
      "Iterations completed\n",
      "val Loss: 0.2008 Acc: 0.8446\n",
      "\n",
      "----------\n",
      "\n",
      "Epoch: 4/20\n",
      "Phase: train\n",
      "Iterations completed\n",
      "train Loss: 0.1491 Acc: 0.8680\n",
      "\n",
      "Phase: val\n",
      "Iterations completed\n",
      "val Loss: 0.2404 Acc: 0.8342\n",
      "\n",
      "----------\n",
      "\n",
      "Epoch: 5/20\n",
      "Phase: train\n",
      "Iterations completed\n",
      "train Loss: 0.1324 Acc: 0.8745\n",
      "\n",
      "Phase: val\n",
      "Iterations completed\n",
      "val Loss: 0.1548 Acc: 0.8705\n",
      "\n",
      "----------\n",
      "\n",
      "Epoch: 6/20\n",
      "Phase: train\n",
      "Iterations completed\n",
      "train Loss: 0.0594 Acc: 0.9371\n",
      "\n",
      "Phase: val\n",
      "Iterations completed\n",
      "val Loss: 0.1199 Acc: 0.8964\n",
      "\n",
      "----------\n",
      "\n",
      "Epoch: 7/20\n",
      "Phase: train\n",
      "Iterations completed\n",
      "train Loss: 0.0253 Acc: 0.9681\n",
      "\n",
      "Phase: val\n",
      "Iterations completed\n",
      "val Loss: 0.1285 Acc: 0.8912\n",
      "\n",
      "----------\n",
      "\n",
      "Epoch: 10/20\n",
      "Phase: train\n",
      "Iterations completed\n",
      "train Loss: 0.0213 Acc: 0.9739\n",
      "\n",
      "Phase: val\n",
      "Iterations completed\n",
      "val Loss: 0.1456 Acc: 0.8964\n",
      "\n",
      "----------\n",
      "\n",
      "Epoch: 11/20\n",
      "Phase: train\n",
      "Iterations completed\n",
      "train Loss: 0.0157 Acc: 0.9813\n",
      "\n",
      "Phase: val\n",
      "Iterations completed\n",
      "val Loss: 0.1409 Acc: 0.8912\n",
      "\n",
      "----------\n",
      "\n",
      "Epoch: 12/20\n",
      "Phase: train\n",
      "Iterations completed\n",
      "train Loss: 0.0140 Acc: 0.9832\n",
      "\n",
      "Phase: val\n",
      "Iterations completed\n",
      "val Loss: 0.1450 Acc: 0.8808\n",
      "\n",
      "----------\n",
      "\n",
      "Epoch: 13/20\n",
      "Phase: train\n",
      "Iterations completed\n",
      "train Loss: 0.0136 Acc: 0.9835\n",
      "\n",
      "Phase: val\n",
      "Iterations completed\n",
      "val Loss: 0.1389 Acc: 0.8653\n",
      "\n",
      "----------\n",
      "\n",
      "Epoch: 14/20\n",
      "Phase: train\n",
      "Iterations completed\n",
      "train Loss: 0.0131 Acc: 0.9841\n",
      "\n",
      "Phase: val\n",
      "Iterations completed\n",
      "val Loss: 0.1447 Acc: 0.8860\n",
      "\n",
      "----------\n",
      "\n",
      "Epoch: 15/20\n",
      "Phase: train\n",
      "Iterations completed\n",
      "train Loss: 0.0138 Acc: 0.9831\n",
      "\n",
      "Phase: val\n",
      "Iterations completed\n",
      "val Loss: 0.1503 Acc: 0.8808\n",
      "\n",
      "----------\n",
      "\n",
      "Epoch: 16/20\n",
      "Phase: train\n",
      "Iterations completed\n",
      "train Loss: 0.0124 Acc: 0.9850\n",
      "\n",
      "Phase: val\n",
      "Iterations completed\n",
      "val Loss: 0.1458 Acc: 0.8808\n",
      "\n",
      "----------\n",
      "\n",
      "Epoch: 17/20\n",
      "Phase: train\n",
      "Iterations completed\n",
      "train Loss: 0.0120 Acc: 0.9860\n",
      "\n",
      "Phase: val\n",
      "Iterations completed\n",
      "val Loss: 0.1471 Acc: 0.8912\n",
      "\n",
      "----------\n",
      "\n",
      "Epoch: 18/20\n",
      "Phase: train\n",
      "Iterations completed\n",
      "train Loss: 0.0130 Acc: 0.9859\n",
      "\n",
      "Phase: val\n",
      "Iterations completed\n",
      "val Loss: 0.1435 Acc: 0.8653\n",
      "\n",
      "----------\n",
      "\n",
      "Epoch: 19/20\n",
      "Phase: train\n",
      "Iterations completed\n",
      "train Loss: 0.0122 Acc: 0.9858\n",
      "\n",
      "Phase: val\n",
      "Iterations completed\n",
      "val Loss: 0.1431 Acc: 0.8860\n",
      "\n",
      "----------\n",
      "\n",
      "Epoch: 20/20\n",
      "Phase: train\n",
      "Iterations completed\n",
      "train Loss: 0.0124 Acc: 0.9865\n",
      "\n",
      "Phase: val\n",
      "Iterations completed\n",
      "val Loss: 0.1480 Acc: 0.8964\n",
      "\n",
      "----------\n",
      "\n",
      "Training complete in 19m 23s\n",
      "Best val Acc: 0.8964\n"
     ]
    },
    {
     "name": "stderr",
     "output_type": "stream",
     "text": [
      "Widget Javascript not detected.  It may not be installed or enabled properly. Reconnecting the current kernel may help.\n"
     ]
    },
    {
     "data": {
      "application/vnd.jupyter.widget-view+json": {
       "model_id": "9f4392e06f0a4950b0f6720e02800e42"
      }
     },
     "metadata": {},
     "output_type": "display_data"
    },
    {
     "data": {
      "text/html": [
       "<style>\n",
       "    table.wandb td:nth-child(1) { padding: 0 10px; text-align: left ; width: auto;} td:nth-child(2) {text-align: left ; width: 100%}\n",
       "    .wandb-row { display: flex; flex-direction: row; flex-wrap: wrap; justify-content: flex-start; width: 100% }\n",
       "    .wandb-col { display: flex; flex-direction: column; flex-basis: 100%; flex: 1; padding: 10px; }\n",
       "    </style>\n",
       "<div class=\"wandb-row\"><div class=\"wandb-col\"><h3>Run history:</h3><br/><table class=\"wandb\"><tr><td>train_batch_acc</td><td>▁▂▅▅▅▆▆▄▅▇█▆▇▇█▇█▇█▇█▇▇████▇████▇████▇██</td></tr><tr><td>train_batch_loss</td><td>█▇▆▅▅▃▅▅▃▂▂▅▂▁▁▁▁▁▁▂▁▁▁▁▁▁▁▂▁▁▁▁▁▁▁▁▁▁▁▁</td></tr><tr><td>val_acc</td><td>▁▆▆▆▇██████▇▇█▇▇█▇██</td></tr><tr><td>val_loss</td><td>█▄▃▄▂▁▁▁▁▂▂▂▂▂▂▂▂▂▂▂</td></tr></table><br/></div><div class=\"wandb-col\"><h3>Run summary:</h3><br/><table class=\"wandb\"><tr><td>train_batch_acc</td><td>0.96774</td></tr><tr><td>train_batch_loss</td><td>0.02525</td></tr><tr><td>val_acc</td><td>0.89637</td></tr><tr><td>val_loss</td><td>0.14796</td></tr></table><br/></div></div>"
      ],
      "text/plain": [
       "<IPython.core.display.HTML object>"
      ]
     },
     "metadata": {},
     "output_type": "display_data"
    },
    {
     "data": {
      "text/html": [
       " View run <strong style=\"color:#cdcd00\">vague-terrain-6</strong> at: <a href='https://wandb.ai/dsaperov-organization/mediscan-efficient-net-b0/runs/soqiwxt2' target=\"_blank\">https://wandb.ai/dsaperov-organization/mediscan-efficient-net-b0/runs/soqiwxt2</a><br/> View project at: <a href='https://wandb.ai/dsaperov-organization/mediscan-efficient-net-b0' target=\"_blank\">https://wandb.ai/dsaperov-organization/mediscan-efficient-net-b0</a><br/>Synced 5 W&B file(s), 0 media file(s), 0 artifact file(s) and 0 other file(s)"
      ],
      "text/plain": [
       "<IPython.core.display.HTML object>"
      ]
     },
     "metadata": {},
     "output_type": "display_data"
    },
    {
     "data": {
      "text/html": [
       "Find logs at: <code>./wandb/run-20240604_192915-soqiwxt2/logs</code>"
      ],
      "text/plain": [
       "<IPython.core.display.HTML object>"
      ]
     },
     "metadata": {},
     "output_type": "display_data"
    },
    {
     "name": "stdout",
     "output_type": "stream",
     "text": [
      "\n",
      "Лучшая ранее достигнутая точность: 0.917098445595855\n",
      "Лучшая точность в текущем эксперименте: 0.8963730569948187\n",
      "Точность НЕ улучшилась\n",
      "Разница между значениями: 0.0207\n"
     ]
    }
   ],
   "source": [
    "config, best_acc = run_experiment(config, CRITERION, criterion_class, dataloaders, best_acc)"
   ]
  },
  {
   "cell_type": "markdown",
   "id": "6ce5d71f-924c-4053-8e98-0dd7950230e1",
   "metadata": {},
   "source": [
    "Кроме того, `FocalLoss` позволяет задать параметр `alpha`, который дает возможность учитывать дисбаланс классов. Попробуем использовать его."
   ]
  },
  {
   "cell_type": "code",
   "execution_count": 54,
   "id": "834a1e45-03ac-457a-ba73-ce571a99d460",
   "metadata": {},
   "outputs": [
    {
     "data": {
      "text/html": [
       "Tracking run with wandb version 0.17.0"
      ],
      "text/plain": [
       "<IPython.core.display.HTML object>"
      ]
     },
     "metadata": {},
     "output_type": "display_data"
    },
    {
     "data": {
      "text/html": [
       "Run data is saved locally in <code>/home/user/Downloads/ISIC2018/wandb/run-20240604_194933-11cnjep0</code>"
      ],
      "text/plain": [
       "<IPython.core.display.HTML object>"
      ]
     },
     "metadata": {},
     "output_type": "display_data"
    },
    {
     "data": {
      "text/html": [
       "Syncing run <strong><a href='https://wandb.ai/dsaperov-organization/mediscan-efficient-net-b0/runs/11cnjep0' target=\"_blank\">swift-universe-7</a></strong> to <a href='https://wandb.ai/dsaperov-organization/mediscan-efficient-net-b0' target=\"_blank\">Weights & Biases</a> (<a href='https://wandb.me/run' target=\"_blank\">docs</a>)<br/>"
      ],
      "text/plain": [
       "<IPython.core.display.HTML object>"
      ]
     },
     "metadata": {},
     "output_type": "display_data"
    },
    {
     "data": {
      "text/html": [
       " View project at <a href='https://wandb.ai/dsaperov-organization/mediscan-efficient-net-b0' target=\"_blank\">https://wandb.ai/dsaperov-organization/mediscan-efficient-net-b0</a>"
      ],
      "text/plain": [
       "<IPython.core.display.HTML object>"
      ]
     },
     "metadata": {},
     "output_type": "display_data"
    },
    {
     "data": {
      "text/html": [
       " View run at <a href='https://wandb.ai/dsaperov-organization/mediscan-efficient-net-b0/runs/11cnjep0' target=\"_blank\">https://wandb.ai/dsaperov-organization/mediscan-efficient-net-b0/runs/11cnjep0</a>"
      ],
      "text/plain": [
       "<IPython.core.display.HTML object>"
      ]
     },
     "metadata": {},
     "output_type": "display_data"
    },
    {
     "name": "stdout",
     "output_type": "stream",
     "text": [
      "Epoch: 1/20\n",
      "Phase: train\n",
      "Iterations completed\n",
      "train Loss: 0.0000 Acc: 0.5699\n",
      "\n",
      "Phase: val\n",
      "Iterations completed\n",
      "val Loss: 0.0000 Acc: 0.6321\n",
      "\n",
      "----------\n",
      "\n",
      "Epoch: 2/20\n",
      "Phase: train\n",
      "Iterations completed\n",
      "train Loss: 0.0000 Acc: 0.6647\n",
      "\n",
      "Phase: val\n",
      "Iterations completed\n",
      "val Loss: 0.0000 Acc: 0.7617\n",
      "\n",
      "----------\n",
      "\n",
      "Epoch: 3/20\n",
      "Phase: train\n",
      "Iterations completed\n",
      "train Loss: 0.0000 Acc: 0.6949\n",
      "\n",
      "Phase: val\n",
      "Iterations completed\n",
      "val Loss: 0.0000 Acc: 0.6373\n",
      "\n",
      "----------\n",
      "\n",
      "Epoch: 4/20\n",
      "Phase: train\n",
      "Iterations completed\n",
      "train Loss: 0.0000 Acc: 0.7120\n",
      "\n",
      "Phase: val\n",
      "Iterations completed\n",
      "val Loss: 0.0000 Acc: 0.6218\n",
      "\n",
      "----------\n",
      "\n",
      "Epoch: 5/20\n",
      "Phase: train\n",
      "Iterations completed\n",
      "train Loss: 0.0000 Acc: 0.7545\n",
      "\n",
      "Phase: val\n",
      "Iterations completed\n",
      "val Loss: 0.0000 Acc: 0.7617\n",
      "\n",
      "----------\n",
      "\n",
      "Epoch: 6/20\n",
      "Phase: train\n",
      "Iterations completed\n",
      "train Loss: 0.0000 Acc: 0.8144\n",
      "\n",
      "Phase: val\n",
      "Iterations completed\n",
      "val Loss: 0.0000 Acc: 0.8290\n",
      "\n",
      "----------\n",
      "\n",
      "Epoch: 7/20\n",
      "Phase: train\n",
      "Iterations completed\n",
      "train Loss: 0.0000 Acc: 0.8369\n",
      "\n",
      "Phase: val\n",
      "Iterations completed\n",
      "val Loss: 0.0000 Acc: 0.8497\n",
      "\n",
      "----------\n",
      "\n",
      "Epoch: 8/20\n",
      "Phase: train\n",
      "Iterations completed\n",
      "train Loss: 0.0000 Acc: 0.8458\n",
      "\n",
      "Phase: val\n",
      "Iterations completed\n",
      "val Loss: 0.0000 Acc: 0.8238\n",
      "\n",
      "----------\n",
      "\n",
      "Epoch: 9/20\n",
      "Phase: train\n",
      "Iterations completed\n",
      "train Loss: 0.0000 Acc: 0.8512\n",
      "\n",
      "Phase: val\n",
      "Iterations completed\n",
      "val Loss: 0.0000 Acc: 0.8135\n",
      "\n",
      "----------\n",
      "\n",
      "Epoch: 10/20\n",
      "Phase: train\n",
      "Iterations completed\n",
      "train Loss: 0.0000 Acc: 0.8568\n",
      "\n",
      "Phase: val\n",
      "Iterations completed\n",
      "val Loss: 0.0000 Acc: 0.8497\n",
      "\n",
      "----------\n",
      "\n",
      "Epoch: 11/20\n",
      "Phase: train\n",
      "Iterations completed\n",
      "train Loss: 0.0000 Acc: 0.8725\n",
      "\n",
      "Phase: val\n",
      "Iterations completed\n",
      "val Loss: 0.0000 Acc: 0.8446\n",
      "\n",
      "----------\n",
      "\n",
      "Epoch: 12/20\n",
      "Phase: train\n",
      "Iterations completed\n",
      "train Loss: 0.0000 Acc: 0.8720\n",
      "\n",
      "Phase: val\n",
      "Iterations completed\n",
      "val Loss: 0.0000 Acc: 0.8446\n",
      "\n",
      "----------\n",
      "\n",
      "Epoch: 13/20\n",
      "Phase: train\n",
      "Iterations completed\n",
      "train Loss: 0.0000 Acc: 0.8719\n",
      "\n",
      "Phase: val\n",
      "Iterations completed\n",
      "val Loss: 0.0000 Acc: 0.8238\n",
      "\n",
      "----------\n",
      "\n",
      "Epoch: 14/20\n",
      "Phase: train\n",
      "Iterations completed\n",
      "train Loss: 0.0000 Acc: 0.8747\n",
      "\n",
      "Phase: val\n",
      "Iterations completed\n",
      "val Loss: 0.0000 Acc: 0.8497\n",
      "\n",
      "----------\n",
      "\n",
      "Epoch: 15/20\n",
      "Phase: train\n",
      "Iterations completed\n",
      "train Loss: 0.0000 Acc: 0.8748\n",
      "\n",
      "Phase: val\n",
      "Iterations completed\n",
      "val Loss: 0.0000 Acc: 0.8394\n",
      "\n",
      "----------\n",
      "\n",
      "Epoch: 18/20\n",
      "Phase: train\n",
      "Iterations completed\n",
      "train Loss: 0.0000 Acc: 0.8724\n",
      "\n",
      "Phase: val\n",
      "Iterations completed\n",
      "val Loss: 0.0000 Acc: 0.8290\n",
      "\n",
      "----------\n",
      "\n",
      "Epoch: 19/20\n",
      "Phase: train\n",
      "Iterations completed\n",
      "train Loss: 0.0000 Acc: 0.8734\n",
      "\n",
      "Phase: val\n",
      "Iterations completed\n",
      "val Loss: 0.0000 Acc: 0.8446\n",
      "\n",
      "----------\n",
      "\n",
      "Epoch: 20/20\n",
      "Phase: train\n",
      "Iterations completed\n",
      "train Loss: 0.0000 Acc: 0.8751\n",
      "\n",
      "Phase: val\n",
      "Iterations completed\n",
      "val Loss: 0.0000 Acc: 0.8446\n",
      "\n",
      "----------\n",
      "\n",
      "Training complete in 19m 8s\n",
      "Best val Acc: 0.8497\n"
     ]
    },
    {
     "name": "stderr",
     "output_type": "stream",
     "text": [
      "Widget Javascript not detected.  It may not be installed or enabled properly. Reconnecting the current kernel may help.\n"
     ]
    },
    {
     "data": {
      "application/vnd.jupyter.widget-view+json": {
       "model_id": "45432b91d9de44cdaf9522fa33390385"
      }
     },
     "metadata": {},
     "output_type": "display_data"
    },
    {
     "data": {
      "text/html": [
       "<style>\n",
       "    table.wandb td:nth-child(1) { padding: 0 10px; text-align: left ; width: auto;} td:nth-child(2) {text-align: left ; width: 100%}\n",
       "    .wandb-row { display: flex; flex-direction: row; flex-wrap: wrap; justify-content: flex-start; width: 100% }\n",
       "    .wandb-col { display: flex; flex-direction: column; flex-basis: 100%; flex: 1; padding: 10px; }\n",
       "    </style>\n",
       "<div class=\"wandb-row\"><div class=\"wandb-col\"><h3>Run history:</h3><br/><table class=\"wandb\"><tr><td>train_batch_acc</td><td>▁▁▅▅▄▃▅▂▅▅▆▅▆▆█▆█▇▆▆█▇▆▆▇▇█▆▇▆▇▇▆▆▇█▆▆▆▆</td></tr><tr><td>train_batch_loss</td><td>█▆█▅▅▂▃▅▂▄▁▅▂▂▁▁▁▁▁▂▁▁▁▁▁▁▁▂▁▁▁▁▁▁▁▁▁▁▂▂</td></tr><tr><td>val_acc</td><td>▁▅▁▁▅▇█▇▇███▇█▇██▇██</td></tr><tr><td>val_loss</td><td>█▅▇▅▄▁▁▁▁▁▂▂▂▁▁▂▁▂▂▁</td></tr></table><br/></div><div class=\"wandb-col\"><h3>Run summary:</h3><br/><table class=\"wandb\"><tr><td>train_batch_acc</td><td>0.87097</td></tr><tr><td>train_batch_loss</td><td>0.0</td></tr><tr><td>val_acc</td><td>0.84456</td></tr><tr><td>val_loss</td><td>0.0</td></tr></table><br/></div></div>"
      ],
      "text/plain": [
       "<IPython.core.display.HTML object>"
      ]
     },
     "metadata": {},
     "output_type": "display_data"
    },
    {
     "data": {
      "text/html": [
       " View run <strong style=\"color:#cdcd00\">swift-universe-7</strong> at: <a href='https://wandb.ai/dsaperov-organization/mediscan-efficient-net-b0/runs/11cnjep0' target=\"_blank\">https://wandb.ai/dsaperov-organization/mediscan-efficient-net-b0/runs/11cnjep0</a><br/> View project at: <a href='https://wandb.ai/dsaperov-organization/mediscan-efficient-net-b0' target=\"_blank\">https://wandb.ai/dsaperov-organization/mediscan-efficient-net-b0</a><br/>Synced 5 W&B file(s), 0 media file(s), 0 artifact file(s) and 0 other file(s)"
      ],
      "text/plain": [
       "<IPython.core.display.HTML object>"
      ]
     },
     "metadata": {},
     "output_type": "display_data"
    },
    {
     "data": {
      "text/html": [
       "Find logs at: <code>./wandb/run-20240604_194933-11cnjep0/logs</code>"
      ],
      "text/plain": [
       "<IPython.core.display.HTML object>"
      ]
     },
     "metadata": {},
     "output_type": "display_data"
    },
    {
     "name": "stdout",
     "output_type": "stream",
     "text": [
      "\n",
      "Лучшая ранее достигнутая точность: 0.917098445595855\n",
      "Лучшая точность в текущем эксперименте: 0.8497409326424871\n",
      "Точность НЕ улучшилась\n",
      "Разница между значениями: 0.0674\n"
     ]
    }
   ],
   "source": [
    "params = {'alpha': class_weights}\n",
    "config, best_acc = run_experiment(config, CRITERION, criterion_class, dataloaders, best_acc, component_params=params)"
   ]
  },
  {
   "cell_type": "markdown",
   "id": "8965b95a-017d-4276-95bf-58fdcc04f849",
   "metadata": {},
   "source": [
    "Почему-то не отобразилась информация о завершающей части обучения. Лучшая точность получившейся модели - 0.8497 (данные из wandb), что меньше, чем у любой другой модели.\n",
    "\n",
    "В итоге получилось, что лучший результат у базовой модели. 2 место - BCEWithLogitLoss. 3 - FocalLoss без использования весов."
   ]
  },
  {
   "cell_type": "code",
   "execution_count": 56,
   "id": "0d26c8b1-c90e-4aa7-915e-b4473c5623dd",
   "metadata": {},
   "outputs": [
    {
     "data": {
      "text/plain": [
       "{'criterion': {'class': 'CrossEntropyLoss'},\n",
       " 'optimizer': {'class': 'Adam', 'lr': 0.001},\n",
       " 'scheduler': {'class': 'StepLR', 'step_size': 5, 'gamma': 0.1}}"
      ]
     },
     "execution_count": 56,
     "metadata": {},
     "output_type": "execute_result"
    }
   ],
   "source": [
    "# Текущая лучшая конфигурация модели исходя из значений метрики на валидации\n",
    "config"
   ]
  },
  {
   "cell_type": "markdown",
   "id": "85e8b8e7-6587-4b4e-b66f-d61fdffaa6b0",
   "metadata": {},
   "source": [
    "## Аугментации\n",
    "Будем применять аугментации к базовой модели (так как она показала наилучшее качество на валидации), а также попробуем совместить оверсэмплинг с аугментациями, так как они по идее должны друг друга потенциировать."
   ]
  },
  {
   "cell_type": "code",
   "execution_count": 67,
   "id": "e65784c3-1f80-448a-b8a5-4bb5c7a409bc",
   "metadata": {},
   "outputs": [],
   "source": [
    "# Для оверсэмплинга будем вести отдельный журнал\n",
    "config_oversampling = copy.deepcopy(config)\n",
    "\n",
    "# Точность базовой модели с оверсэмлингом\n",
    "best_acc_oversampling = 0.8756476683937824"
   ]
  },
  {
   "cell_type": "markdown",
   "id": "6409c97c-fd0c-48d8-ad38-195c3c228a77",
   "metadata": {},
   "source": [
    "### `CenterCrop`"
   ]
  },
  {
   "cell_type": "markdown",
   "id": "1e657896-c175-4620-91a1-4acd1eaf32e1",
   "metadata": {},
   "source": [
    "#### Без оверсэмплинга"
   ]
  },
  {
   "cell_type": "code",
   "execution_count": 57,
   "id": "e469cba4-0755-4a4e-b8a2-2d4f822f58b2",
   "metadata": {},
   "outputs": [],
   "source": [
    "transformation_class = 'CenterCrop'"
   ]
  },
  {
   "cell_type": "code",
   "execution_count": 58,
   "id": "d4b52c2c-81ee-4ce5-a211-d3a06eeda243",
   "metadata": {},
   "outputs": [],
   "source": [
    "data_transforms_train = [transforms.CenterCrop(IMAGE_MIN_SIZE),\n",
    "                         transforms.Resize(INPUT_SIZE),\n",
    "                         transforms.RandomHorizontalFlip(),\n",
    "                         transforms.ToTensor(),\n",
    "                         transforms.Normalize(NORMALIZATION_MEAN, NORMALIZATION_STD)]\n",
    "\n",
    "data_transforms_eval = [transforms.CenterCrop(IMAGE_MIN_SIZE),\n",
    "                        transforms.Resize(INPUT_SIZE),\n",
    "                        transforms.ToTensor(),\n",
    "                        transforms.Normalize(NORMALIZATION_MEAN, NORMALIZATION_STD)]"
   ]
  },
  {
   "cell_type": "code",
   "execution_count": 59,
   "id": "173e7cbf-c32c-4980-a6d9-7125a9314a6d",
   "metadata": {},
   "outputs": [
    {
     "data": {
      "text/html": [
       "Tracking run with wandb version 0.17.0"
      ],
      "text/plain": [
       "<IPython.core.display.HTML object>"
      ]
     },
     "metadata": {},
     "output_type": "display_data"
    },
    {
     "data": {
      "text/html": [
       "Run data is saved locally in <code>/home/user/Downloads/ISIC2018/wandb/run-20240604_201703-byhuwv0a</code>"
      ],
      "text/plain": [
       "<IPython.core.display.HTML object>"
      ]
     },
     "metadata": {},
     "output_type": "display_data"
    },
    {
     "data": {
      "text/html": [
       "Syncing run <strong><a href='https://wandb.ai/dsaperov-organization/mediscan-efficient-net-b0/runs/byhuwv0a' target=\"_blank\">wild-snowflake-8</a></strong> to <a href='https://wandb.ai/dsaperov-organization/mediscan-efficient-net-b0' target=\"_blank\">Weights & Biases</a> (<a href='https://wandb.me/run' target=\"_blank\">docs</a>)<br/>"
      ],
      "text/plain": [
       "<IPython.core.display.HTML object>"
      ]
     },
     "metadata": {},
     "output_type": "display_data"
    },
    {
     "data": {
      "text/html": [
       " View project at <a href='https://wandb.ai/dsaperov-organization/mediscan-efficient-net-b0' target=\"_blank\">https://wandb.ai/dsaperov-organization/mediscan-efficient-net-b0</a>"
      ],
      "text/plain": [
       "<IPython.core.display.HTML object>"
      ]
     },
     "metadata": {},
     "output_type": "display_data"
    },
    {
     "data": {
      "text/html": [
       " View run at <a href='https://wandb.ai/dsaperov-organization/mediscan-efficient-net-b0/runs/byhuwv0a' target=\"_blank\">https://wandb.ai/dsaperov-organization/mediscan-efficient-net-b0/runs/byhuwv0a</a>"
      ],
      "text/plain": [
       "<IPython.core.display.HTML object>"
      ]
     },
     "metadata": {},
     "output_type": "display_data"
    },
    {
     "name": "stdout",
     "output_type": "stream",
     "text": [
      "Epoch: 1/20\n",
      "Phase: train\n",
      "Iterations completed\n",
      "train Loss: 0.6631 Acc: 0.7664\n",
      "\n",
      "Phase: val\n",
      "Iterations completed\n",
      "val Loss: 0.4717 Acc: 0.8290\n",
      "\n",
      "----------\n",
      "\n",
      "Epoch: 2/20\n",
      "Phase: train\n",
      "Iterations completed\n",
      "train Loss: 0.4808 Acc: 0.8222\n",
      "\n",
      "Phase: val\n",
      "Iterations completed\n",
      "val Loss: 0.4260 Acc: 0.8549\n",
      "\n",
      "----------\n",
      "\n",
      "Epoch: 3/20\n",
      "Phase: train\n",
      "Iterations completed\n",
      "train Loss: 0.4012 Acc: 0.8548\n",
      "\n",
      "Phase: val\n",
      "Iterations completed\n",
      "val Loss: 0.4375 Acc: 0.8187\n",
      "\n",
      "----------\n",
      "\n",
      "Epoch: 4/20\n",
      "Phase: train\n",
      "Iterations completed\n",
      "train Loss: 0.3320 Acc: 0.8805\n",
      "\n",
      "Phase: val\n",
      "Iterations completed\n",
      "val Loss: 0.5123 Acc: 0.8135\n",
      "\n",
      "----------\n",
      "\n",
      "Epoch: 5/20\n",
      "Phase: train\n",
      "Iterations completed\n",
      "train Loss: 0.2836 Acc: 0.8951\n",
      "\n",
      "Phase: val\n",
      "Iterations completed\n",
      "val Loss: 0.4333 Acc: 0.8446\n",
      "\n",
      "----------\n",
      "\n",
      "Epoch: 6/20\n",
      "Phase: train\n",
      "Iterations completed\n",
      "train Loss: 0.1399 Acc: 0.9514\n",
      "\n",
      "Phase: val\n",
      "Iterations completed\n",
      "val Loss: 0.3779 Acc: 0.8964\n",
      "\n",
      "----------\n",
      "\n",
      "Epoch: 7/20\n",
      "Phase: train\n",
      "Iterations completed\n",
      "train Loss: 0.0930 Acc: 0.9690\n",
      "\n",
      "Phase: val\n",
      "Iterations completed\n",
      "val Loss: 0.3594 Acc: 0.8912\n",
      "\n",
      "----------\n",
      "\n",
      "Epoch: 8/20\n",
      "Phase: train\n",
      "Iterations completed\n",
      "train Loss: 0.0694 Acc: 0.9757\n",
      "\n",
      "Phase: val\n",
      "Iterations completed\n",
      "val Loss: 0.3966 Acc: 0.8964\n",
      "\n",
      "----------\n",
      "\n",
      "Epoch: 9/20\n",
      "Phase: train\n",
      "Iterations completed\n",
      "train Loss: 0.0544 Acc: 0.9810\n",
      "\n",
      "Phase: val\n",
      "Iterations completed\n",
      "val Loss: 0.4088 Acc: 0.9016\n",
      "\n",
      "----------\n",
      "\n",
      "Epoch: 10/20\n",
      "Phase: train\n",
      "Iterations completed\n",
      "train Loss: 0.0427 Acc: 0.9850\n",
      "\n",
      "Phase: val\n",
      "Iterations completed\n",
      "val Loss: 0.4417 Acc: 0.8964\n",
      "\n",
      "----------\n",
      "\n",
      "Epoch: 11/20\n",
      "Phase: train\n",
      "Iterations completed\n",
      "train Loss: 0.0247 Acc: 0.9932\n",
      "\n",
      "Phase: val\n",
      "Iterations completed\n",
      "val Loss: 0.4267 Acc: 0.9016\n",
      "\n",
      "----------\n",
      "\n",
      "Epoch: 14/20\n",
      "Phase: train\n",
      "Iterations completed\n",
      "train Loss: 0.0257 Acc: 0.9921\n",
      "\n",
      "Phase: val\n",
      "Iterations completed\n",
      "val Loss: 0.4250 Acc: 0.9016\n",
      "\n",
      "----------\n",
      "\n",
      "Epoch: 15/20\n",
      "Phase: train\n",
      "Iterations completed\n",
      "train Loss: 0.0270 Acc: 0.9922\n",
      "\n",
      "Phase: val\n",
      "Iterations completed\n",
      "val Loss: 0.4386 Acc: 0.9016\n",
      "\n",
      "----------\n",
      "\n",
      "Epoch: 16/20\n",
      "Phase: train\n",
      "Iterations completed\n",
      "train Loss: 0.0255 Acc: 0.9916\n",
      "\n",
      "Phase: val\n",
      "Iterations completed\n",
      "val Loss: 0.4421 Acc: 0.9016\n",
      "\n",
      "----------\n",
      "\n",
      "Epoch: 17/20\n",
      "Phase: train\n",
      "Iterations completed\n",
      "train Loss: 0.0239 Acc: 0.9925\n",
      "\n",
      "Phase: val\n",
      "Iterations completed\n",
      "val Loss: 0.4315 Acc: 0.9067\n",
      "\n",
      "----------\n",
      "\n",
      "Epoch: 18/20\n",
      "Phase: train\n",
      "Iterations completed\n",
      "train Loss: 0.0248 Acc: 0.9921\n",
      "\n",
      "Phase: val\n",
      "Iterations completed\n",
      "val Loss: 0.4467 Acc: 0.9067\n",
      "\n",
      "----------\n",
      "\n",
      "Epoch: 19/20\n",
      "Phase: train\n",
      "Iterations completed\n",
      "train Loss: 0.0243 Acc: 0.9929\n",
      "\n",
      "Phase: val\n",
      "Iterations completed\n",
      "val Loss: 0.4314 Acc: 0.9067\n",
      "\n",
      "----------\n",
      "\n",
      "Epoch: 20/20\n",
      "Phase: train\n",
      "Iterations completed\n",
      "train Loss: 0.0229 Acc: 0.9929\n",
      "\n",
      "Phase: val\n",
      "Iterations completed\n",
      "val Loss: 0.4333 Acc: 0.9067\n",
      "\n",
      "----------\n",
      "\n",
      "Training complete in 17m 30s\n",
      "Best val Acc: 0.9067\n"
     ]
    },
    {
     "name": "stderr",
     "output_type": "stream",
     "text": [
      "Widget Javascript not detected.  It may not be installed or enabled properly. Reconnecting the current kernel may help.\n"
     ]
    },
    {
     "data": {
      "application/vnd.jupyter.widget-view+json": {
       "model_id": "0b3c6503a9fb43ef9da001bd99b34e90"
      }
     },
     "metadata": {},
     "output_type": "display_data"
    },
    {
     "data": {
      "text/html": [
       "<style>\n",
       "    table.wandb td:nth-child(1) { padding: 0 10px; text-align: left ; width: auto;} td:nth-child(2) {text-align: left ; width: 100%}\n",
       "    .wandb-row { display: flex; flex-direction: row; flex-wrap: wrap; justify-content: flex-start; width: 100% }\n",
       "    .wandb-col { display: flex; flex-direction: column; flex-basis: 100%; flex: 1; padding: 10px; }\n",
       "    </style>\n",
       "<div class=\"wandb-row\"><div class=\"wandb-col\"><h3>Run history:</h3><br/><table class=\"wandb\"><tr><td>train_batch_acc</td><td>▁▄▂▄▅▅▆▃▆▇▇▆██▇██▇████▇▇██▇▇███████████▇</td></tr><tr><td>train_batch_loss</td><td>█▇▇▄▄▃▆▆▃▃▂▃▁▂▁▁▁▁▁▁▁▁▂▂▁▁▁▂▁▁▁▁▁▁▁▁▁▁▁▁</td></tr><tr><td>val_acc</td><td>▂▄▁▁▃▇▇▇█▇▇█████████</td></tr><tr><td>val_loss</td><td>▆▄▅█▄▂▁▃▃▅▅▄▄▄▅▅▄▅▄▄</td></tr></table><br/></div><div class=\"wandb-col\"><h3>Run summary:</h3><br/><table class=\"wandb\"><tr><td>train_batch_acc</td><td>1.0</td></tr><tr><td>train_batch_loss</td><td>0.00378</td></tr><tr><td>val_acc</td><td>0.90674</td></tr><tr><td>val_loss</td><td>0.43327</td></tr></table><br/></div></div>"
      ],
      "text/plain": [
       "<IPython.core.display.HTML object>"
      ]
     },
     "metadata": {},
     "output_type": "display_data"
    },
    {
     "data": {
      "text/html": [
       " View run <strong style=\"color:#cdcd00\">wild-snowflake-8</strong> at: <a href='https://wandb.ai/dsaperov-organization/mediscan-efficient-net-b0/runs/byhuwv0a' target=\"_blank\">https://wandb.ai/dsaperov-organization/mediscan-efficient-net-b0/runs/byhuwv0a</a><br/> View project at: <a href='https://wandb.ai/dsaperov-organization/mediscan-efficient-net-b0' target=\"_blank\">https://wandb.ai/dsaperov-organization/mediscan-efficient-net-b0</a><br/>Synced 5 W&B file(s), 0 media file(s), 0 artifact file(s) and 0 other file(s)"
      ],
      "text/plain": [
       "<IPython.core.display.HTML object>"
      ]
     },
     "metadata": {},
     "output_type": "display_data"
    },
    {
     "data": {
      "text/html": [
       "Find logs at: <code>./wandb/run-20240604_201703-byhuwv0a/logs</code>"
      ],
      "text/plain": [
       "<IPython.core.display.HTML object>"
      ]
     },
     "metadata": {},
     "output_type": "display_data"
    },
    {
     "name": "stdout",
     "output_type": "stream",
     "text": [
      "\n",
      "Лучшая ранее достигнутая точность: 0.917098445595855\n",
      "Лучшая точность в текущем эксперименте: 0.9067357512953368\n",
      "Точность НЕ улучшилась\n",
      "Разница между значениями: 0.0104\n"
     ]
    }
   ],
   "source": [
    "config, best_acc = run_transformations_experiment(config, data_transforms_train, data_transforms_eval, transformation_class, best_acc)"
   ]
  },
  {
   "cell_type": "markdown",
   "id": "76ff209c-d1d4-48de-aeb7-6a59d3004ebd",
   "metadata": {},
   "source": [
    "#### С оверсэмплингом"
   ]
  },
  {
   "cell_type": "code",
   "execution_count": 69,
   "id": "47059ab5-eb72-4868-89c3-beb38daf8aae",
   "metadata": {},
   "outputs": [
    {
     "data": {
      "text/html": [
       "Tracking run with wandb version 0.17.0"
      ],
      "text/plain": [
       "<IPython.core.display.HTML object>"
      ]
     },
     "metadata": {},
     "output_type": "display_data"
    },
    {
     "data": {
      "text/html": [
       "Run data is saved locally in <code>/home/user/Downloads/ISIC2018/wandb/run-20240604_215609-6la4jaol</code>"
      ],
      "text/plain": [
       "<IPython.core.display.HTML object>"
      ]
     },
     "metadata": {},
     "output_type": "display_data"
    },
    {
     "data": {
      "text/html": [
       "Syncing run <strong><a href='https://wandb.ai/dsaperov-organization/mediscan-efficient-net-b0/runs/6la4jaol' target=\"_blank\">vocal-elevator-11</a></strong> to <a href='https://wandb.ai/dsaperov-organization/mediscan-efficient-net-b0' target=\"_blank\">Weights & Biases</a> (<a href='https://wandb.me/run' target=\"_blank\">docs</a>)<br/>"
      ],
      "text/plain": [
       "<IPython.core.display.HTML object>"
      ]
     },
     "metadata": {},
     "output_type": "display_data"
    },
    {
     "data": {
      "text/html": [
       " View project at <a href='https://wandb.ai/dsaperov-organization/mediscan-efficient-net-b0' target=\"_blank\">https://wandb.ai/dsaperov-organization/mediscan-efficient-net-b0</a>"
      ],
      "text/plain": [
       "<IPython.core.display.HTML object>"
      ]
     },
     "metadata": {},
     "output_type": "display_data"
    },
    {
     "data": {
      "text/html": [
       " View run at <a href='https://wandb.ai/dsaperov-organization/mediscan-efficient-net-b0/runs/6la4jaol' target=\"_blank\">https://wandb.ai/dsaperov-organization/mediscan-efficient-net-b0/runs/6la4jaol</a>"
      ],
      "text/plain": [
       "<IPython.core.display.HTML object>"
      ]
     },
     "metadata": {},
     "output_type": "display_data"
    },
    {
     "name": "stdout",
     "output_type": "stream",
     "text": [
      "Epoch: 1/20\n",
      "Phase: train\n",
      "Iterations completed\n",
      "train Loss: 0.6558 Acc: 0.7612\n",
      "\n",
      "Phase: val\n",
      "Iterations completed\n",
      "val Loss: 0.5900 Acc: 0.8083\n",
      "\n",
      "----------\n",
      "\n",
      "Epoch: 2/20\n",
      "Phase: train\n",
      "Iterations completed\n",
      "train Loss: 0.3844 Acc: 0.8605\n",
      "\n",
      "Phase: val\n",
      "Iterations completed\n",
      "val Loss: 0.6370 Acc: 0.8135\n",
      "\n",
      "----------\n",
      "\n",
      "Epoch: 3/20\n",
      "Phase: train\n",
      "Iterations completed\n",
      "train Loss: 0.3199 Acc: 0.8852\n",
      "\n",
      "Phase: val\n",
      "Iterations completed\n",
      "val Loss: 0.5081 Acc: 0.8238\n",
      "\n",
      "----------\n",
      "\n",
      "Epoch: 4/20\n",
      "Phase: train\n",
      "Iterations completed\n",
      "train Loss: 0.1201 Acc: 0.9571\n",
      "\n",
      "Phase: val\n",
      "Iterations completed\n",
      "val Loss: 0.4332 Acc: 0.8549\n",
      "\n",
      "----------\n",
      "\n",
      "Epoch: 7/20\n",
      "Phase: train\n",
      "Iterations completed\n",
      "train Loss: 0.0854 Acc: 0.9707\n",
      "\n",
      "Phase: val\n",
      "Iterations completed\n",
      "val Loss: 0.3764 Acc: 0.8912\n",
      "\n",
      "----------\n",
      "\n",
      "Epoch: 8/20\n",
      "Phase: train\n",
      "Iterations completed\n",
      "train Loss: 0.0687 Acc: 0.9781\n",
      "\n",
      "Phase: val\n",
      "Iterations completed\n",
      "val Loss: 0.3607 Acc: 0.8912\n",
      "\n",
      "----------\n",
      "\n",
      "Epoch: 9/20\n",
      "Phase: train\n",
      "Iterations completed\n",
      "train Loss: 0.0617 Acc: 0.9779\n",
      "\n",
      "Phase: val\n",
      "Iterations completed\n",
      "val Loss: 0.3816 Acc: 0.8860\n",
      "\n",
      "----------\n",
      "\n",
      "Epoch: 10/20\n",
      "Phase: train\n",
      "Iterations completed\n",
      "train Loss: 0.0544 Acc: 0.9815\n",
      "\n",
      "Phase: val\n",
      "Iterations completed\n",
      "val Loss: 0.3977 Acc: 0.8964\n",
      "\n",
      "----------\n",
      "\n",
      "Epoch: 11/20\n",
      "Phase: train\n",
      "Iterations completed\n",
      "train Loss: 0.0485 Acc: 0.9836\n",
      "\n",
      "Phase: val\n",
      "Iterations completed\n",
      "val Loss: 0.3688 Acc: 0.9016\n",
      "\n",
      "----------\n",
      "\n",
      "Epoch: 12/20\n",
      "Phase: train\n",
      "Iterations completed\n",
      "train Loss: 0.0426 Acc: 0.9855\n",
      "\n",
      "Phase: val\n",
      "Iterations completed\n",
      "val Loss: 0.3851 Acc: 0.8964\n",
      "\n",
      "----------\n",
      "\n",
      "Epoch: 13/20\n",
      "Phase: train\n",
      "Iterations completed\n",
      "train Loss: 0.0411 Acc: 0.9868\n",
      "\n",
      "Phase: val\n",
      "Iterations completed\n",
      "val Loss: 0.3633 Acc: 0.8912\n",
      "\n",
      "----------\n",
      "\n",
      "Epoch: 14/20\n",
      "Phase: train\n",
      "Iterations completed\n",
      "train Loss: 0.0429 Acc: 0.9866\n",
      "\n",
      "Phase: val\n",
      "Iterations completed\n",
      "val Loss: 0.3728 Acc: 0.8912\n",
      "\n",
      "----------\n",
      "\n",
      "Epoch: 15/20\n",
      "Phase: train\n",
      "Iterations completed\n",
      "train Loss: 0.0385 Acc: 0.9874\n",
      "\n",
      "Phase: val\n",
      "Iterations completed\n",
      "val Loss: 0.3734 Acc: 0.9016\n",
      "\n",
      "----------\n",
      "\n",
      "Epoch: 16/20\n",
      "Phase: train\n",
      "Iterations completed\n",
      "train Loss: 0.0365 Acc: 0.9890\n",
      "\n",
      "Phase: val\n",
      "Iterations completed\n",
      "val Loss: 0.3840 Acc: 0.8964\n",
      "\n",
      "----------\n",
      "\n",
      "Epoch: 17/20\n",
      "Phase: train\n",
      "Iterations completed\n",
      "train Loss: 0.0382 Acc: 0.9876\n",
      "\n",
      "Phase: val\n",
      "Iterations completed\n",
      "val Loss: 0.3819 Acc: 0.8964\n",
      "\n",
      "----------\n",
      "\n",
      "Epoch: 18/20\n",
      "Phase: train\n",
      "Iterations completed\n",
      "train Loss: 0.0364 Acc: 0.9884\n",
      "\n",
      "Phase: val\n",
      "Iterations completed\n",
      "val Loss: 0.3970 Acc: 0.8964\n",
      "\n",
      "----------\n",
      "\n",
      "Epoch: 19/20\n",
      "Phase: train\n",
      "Iterations completed\n",
      "train Loss: 0.0375 Acc: 0.9879\n",
      "\n",
      "Phase: val\n",
      "Iterations completed\n",
      "val Loss: 0.3873 Acc: 0.8808\n",
      "\n",
      "----------\n",
      "\n",
      "Epoch: 20/20\n",
      "Phase: train\n",
      "Iterations completed\n",
      "train Loss: 0.0363 Acc: 0.9889\n",
      "\n",
      "Phase: val\n",
      "Iterations completed\n",
      "val Loss: 0.3785 Acc: 0.8860\n",
      "\n",
      "----------\n",
      "\n",
      "Training complete in 16m 39s\n",
      "Best val Acc: 0.9016\n"
     ]
    },
    {
     "name": "stderr",
     "output_type": "stream",
     "text": [
      "Widget Javascript not detected.  It may not be installed or enabled properly. Reconnecting the current kernel may help.\n"
     ]
    },
    {
     "data": {
      "application/vnd.jupyter.widget-view+json": {
       "model_id": "7c96345deb774b2aa53cab2decf419a2"
      }
     },
     "metadata": {},
     "output_type": "display_data"
    },
    {
     "data": {
      "text/html": [
       "<style>\n",
       "    table.wandb td:nth-child(1) { padding: 0 10px; text-align: left ; width: auto;} td:nth-child(2) {text-align: left ; width: 100%}\n",
       "    .wandb-row { display: flex; flex-direction: row; flex-wrap: wrap; justify-content: flex-start; width: 100% }\n",
       "    .wandb-col { display: flex; flex-direction: column; flex-basis: 100%; flex: 1; padding: 10px; }\n",
       "    </style>\n",
       "<div class=\"wandb-row\"><div class=\"wandb-col\"><h3>Run history:</h3><br/><table class=\"wandb\"><tr><td>train_batch_acc</td><td>▁▅▃▅▅▄▅▇▇▇▇█▇██▇▇▇▇████▇███████████▇▇███</td></tr><tr><td>train_batch_loss</td><td>█▄█▄▅▄▄▂▃▂▃▁▃▁▁▁▁▂▂▁▁▁▁▁▁▁▁▁▁▁▁▁▁▁▁▂▂▁▁▁</td></tr><tr><td>val_acc</td><td>▃▃▄▅▁▅▇▇▇███▇▇████▇▇</td></tr><tr><td>val_loss</td><td>▆▇▄▄█▃▁▁▁▂▁▂▁▁▁▂▁▂▂▁</td></tr></table><br/></div><div class=\"wandb-col\"><h3>Run summary:</h3><br/><table class=\"wandb\"><tr><td>train_batch_acc</td><td>1.0</td></tr><tr><td>train_batch_loss</td><td>0.00241</td></tr><tr><td>val_acc</td><td>0.88601</td></tr><tr><td>val_loss</td><td>0.37851</td></tr></table><br/></div></div>"
      ],
      "text/plain": [
       "<IPython.core.display.HTML object>"
      ]
     },
     "metadata": {},
     "output_type": "display_data"
    },
    {
     "data": {
      "text/html": [
       " View run <strong style=\"color:#cdcd00\">vocal-elevator-11</strong> at: <a href='https://wandb.ai/dsaperov-organization/mediscan-efficient-net-b0/runs/6la4jaol' target=\"_blank\">https://wandb.ai/dsaperov-organization/mediscan-efficient-net-b0/runs/6la4jaol</a><br/> View project at: <a href='https://wandb.ai/dsaperov-organization/mediscan-efficient-net-b0' target=\"_blank\">https://wandb.ai/dsaperov-organization/mediscan-efficient-net-b0</a><br/>Synced 5 W&B file(s), 0 media file(s), 0 artifact file(s) and 0 other file(s)"
      ],
      "text/plain": [
       "<IPython.core.display.HTML object>"
      ]
     },
     "metadata": {},
     "output_type": "display_data"
    },
    {
     "data": {
      "text/html": [
       "Find logs at: <code>./wandb/run-20240604_215609-6la4jaol/logs</code>"
      ],
      "text/plain": [
       "<IPython.core.display.HTML object>"
      ]
     },
     "metadata": {},
     "output_type": "display_data"
    },
    {
     "name": "stdout",
     "output_type": "stream",
     "text": [
      "\n",
      "Лучшая ранее достигнутая точность: 0.8756476683937824\n",
      "Лучшая точность в текущем эксперименте: 0.9015544041450777\n",
      "Точность улучшилась при использовании преобразования: CenterCrop\n",
      "Разница между значениями: 0.0259\n"
     ]
    }
   ],
   "source": [
    "config_oversampling, best_acc_oversampling = run_transformations_experiment(config_oversampling, data_transforms_train, data_transforms_eval, transformation_class, best_acc_oversampling, sampler=sampler)"
   ]
  },
  {
   "cell_type": "markdown",
   "id": "07eae06d-ed35-49d6-86b7-ef056d3901d0",
   "metadata": {},
   "source": [
    "`CenterCrop` ухудшило качество базовой модели без оверсэмплинга и улучшило качество модели с оверсэмплингом."
   ]
  },
  {
   "cell_type": "markdown",
   "id": "2be2fca0-ae31-4830-94ed-9ea2cc2fad84",
   "metadata": {},
   "source": [
    "### `RandomVerticalFlip`\n",
    "#### Без оверсэмплинга"
   ]
  },
  {
   "cell_type": "code",
   "execution_count": 70,
   "id": "b583b38d-f696-47be-b20c-61f052d2c70c",
   "metadata": {},
   "outputs": [],
   "source": [
    "transformation_class = 'RandomVerticalFlip'"
   ]
  },
  {
   "cell_type": "code",
   "execution_count": 74,
   "id": "5033bb2c-ff67-41d6-98e4-fb0dc57c320e",
   "metadata": {},
   "outputs": [],
   "source": [
    "data_transforms_train = [transforms.Resize(INPUT_SIZE),\n",
    "                         transforms.RandomHorizontalFlip(),\n",
    "                         transforms.RandomVerticalFlip(),\n",
    "                         transforms.ToTensor(),\n",
    "                         transforms.Normalize(NORMALIZATION_MEAN, NORMALIZATION_STD)]\n",
    "\n",
    "data_transforms_eval = [transforms.Resize(INPUT_SIZE),\n",
    "                        transforms.ToTensor(),\n",
    "                        transforms.Normalize(NORMALIZATION_MEAN, NORMALIZATION_STD)]"
   ]
  },
  {
   "cell_type": "code",
   "execution_count": 75,
   "id": "56b4dd3e-62a9-4f23-adee-e425caafcbf3",
   "metadata": {},
   "outputs": [
    {
     "data": {
      "text/html": [
       "Tracking run with wandb version 0.17.0"
      ],
      "text/plain": [
       "<IPython.core.display.HTML object>"
      ]
     },
     "metadata": {},
     "output_type": "display_data"
    },
    {
     "data": {
      "text/html": [
       "Run data is saved locally in <code>/home/user/Downloads/ISIC2018/wandb/run-20240604_223145-irprwmj6</code>"
      ],
      "text/plain": [
       "<IPython.core.display.HTML object>"
      ]
     },
     "metadata": {},
     "output_type": "display_data"
    },
    {
     "data": {
      "text/html": [
       "Syncing run <strong><a href='https://wandb.ai/dsaperov-organization/mediscan-efficient-net-b0/runs/irprwmj6' target=\"_blank\">swept-sponge-13</a></strong> to <a href='https://wandb.ai/dsaperov-organization/mediscan-efficient-net-b0' target=\"_blank\">Weights & Biases</a> (<a href='https://wandb.me/run' target=\"_blank\">docs</a>)<br/>"
      ],
      "text/plain": [
       "<IPython.core.display.HTML object>"
      ]
     },
     "metadata": {},
     "output_type": "display_data"
    },
    {
     "data": {
      "text/html": [
       " View project at <a href='https://wandb.ai/dsaperov-organization/mediscan-efficient-net-b0' target=\"_blank\">https://wandb.ai/dsaperov-organization/mediscan-efficient-net-b0</a>"
      ],
      "text/plain": [
       "<IPython.core.display.HTML object>"
      ]
     },
     "metadata": {},
     "output_type": "display_data"
    },
    {
     "data": {
      "text/html": [
       " View run at <a href='https://wandb.ai/dsaperov-organization/mediscan-efficient-net-b0/runs/irprwmj6' target=\"_blank\">https://wandb.ai/dsaperov-organization/mediscan-efficient-net-b0/runs/irprwmj6</a>"
      ],
      "text/plain": [
       "<IPython.core.display.HTML object>"
      ]
     },
     "metadata": {},
     "output_type": "display_data"
    },
    {
     "name": "stdout",
     "output_type": "stream",
     "text": [
      "Epoch: 1/20\n",
      "Phase: train\n",
      "Iterations completed\n",
      "train Loss: 0.6642 Acc: 0.7638\n",
      "\n",
      "Phase: val\n",
      "Iterations completed\n",
      "val Loss: 0.6024 Acc: 0.7617\n",
      "\n",
      "----------\n",
      "\n",
      "Epoch: 2/20\n",
      "Phase: train\n",
      "Iterations completed\n",
      "train Loss: 0.4971 Acc: 0.8189\n",
      "\n",
      "Phase: val\n",
      "Iterations completed\n",
      "val Loss: 0.4305 Acc: 0.8549\n",
      "\n",
      "----------\n",
      "\n",
      "Epoch: 3/20\n",
      "Phase: train\n",
      "Iterations completed\n",
      "train Loss: 0.4327 Acc: 0.8402\n",
      "\n",
      "Phase: val\n",
      "Iterations completed\n",
      "val Loss: 0.4631 Acc: 0.8394\n",
      "\n",
      "----------\n",
      "\n",
      "Epoch: 4/20\n",
      "Phase: train\n",
      "Iterations completed\n",
      "train Loss: 0.3737 Acc: 0.8624\n",
      "\n",
      "Phase: val\n",
      "Iterations completed\n",
      "val Loss: 0.5594 Acc: 0.8238\n",
      "\n",
      "----------\n",
      "\n",
      "Epoch: 5/20\n",
      "Phase: train\n",
      "Iterations completed\n",
      "train Loss: 0.3408 Acc: 0.8749\n",
      "\n",
      "Phase: val\n",
      "Iterations completed\n",
      "val Loss: 0.3695 Acc: 0.8912\n",
      "\n",
      "----------\n",
      "\n",
      "Epoch: 6/20\n",
      "Phase: train\n",
      "Iterations completed\n",
      "train Loss: 0.1970 Acc: 0.9293\n",
      "\n",
      "Phase: val\n",
      "Iterations completed\n",
      "train Loss: 0.1163 Acc: 0.9563\n",
      "\n",
      "Phase: val\n",
      "Iterations completed\n",
      "val Loss: 0.3105 Acc: 0.8860\n",
      "\n",
      "----------\n",
      "\n",
      "Epoch: 10/20\n",
      "Phase: train\n",
      "Iterations completed\n",
      "train Loss: 0.0995 Acc: 0.9626\n",
      "\n",
      "Phase: val\n",
      "Iterations completed\n",
      "val Loss: 0.3320 Acc: 0.8912\n",
      "\n",
      "----------\n",
      "\n",
      "Epoch: 11/20\n",
      "Phase: train\n",
      "Iterations completed\n",
      "train Loss: 0.0812 Acc: 0.9703\n",
      "\n",
      "Phase: val\n",
      "Iterations completed\n",
      "val Loss: 0.3371 Acc: 0.8964\n",
      "\n",
      "----------\n",
      "\n",
      "Epoch: 12/20\n",
      "Phase: train\n",
      "Iterations completed\n",
      "train Loss: 0.0710 Acc: 0.9760\n",
      "\n",
      "Phase: val\n",
      "Iterations completed\n",
      "val Loss: 0.3574 Acc: 0.8808\n",
      "\n",
      "----------\n",
      "\n",
      "Epoch: 13/20\n",
      "Phase: train\n",
      "Iterations completed\n",
      "train Loss: 0.0774 Acc: 0.9718\n",
      "\n",
      "Phase: val\n",
      "Iterations completed\n",
      "val Loss: 0.3681 Acc: 0.8756\n",
      "\n",
      "----------\n",
      "\n",
      "Epoch: 14/20\n",
      "Phase: train\n",
      "Iterations completed\n",
      "train Loss: 0.0679 Acc: 0.9751\n",
      "\n",
      "Phase: val\n",
      "Iterations completed\n",
      "val Loss: 0.3676 Acc: 0.8808\n",
      "\n",
      "----------\n",
      "\n",
      "Epoch: 15/20\n",
      "Phase: train\n",
      "Iterations completed\n",
      "train Loss: 0.0686 Acc: 0.9762\n",
      "\n",
      "Phase: val\n",
      "Iterations completed\n",
      "val Loss: 0.3880 Acc: 0.8808\n",
      "\n",
      "----------\n",
      "\n",
      "Epoch: 16/20\n",
      "Phase: train\n",
      "Iterations completed\n",
      "train Loss: 0.0705 Acc: 0.9762\n",
      "\n",
      "Phase: val\n",
      "Iterations completed\n",
      "val Loss: 0.3800 Acc: 0.8808\n",
      "\n",
      "----------\n",
      "\n",
      "Epoch: 17/20\n",
      "Phase: train\n",
      "Iterations completed\n",
      "train Loss: 0.0633 Acc: 0.9776\n",
      "\n",
      "Phase: val\n",
      "Iterations completed\n",
      "val Loss: 0.3624 Acc: 0.8912\n",
      "\n",
      "----------\n",
      "\n",
      "Epoch: 18/20\n",
      "Phase: train\n",
      "Iterations completed\n",
      "train Loss: 0.0675 Acc: 0.9769\n",
      "\n",
      "Phase: val\n",
      "Iterations completed\n",
      "val Loss: 0.3773 Acc: 0.8860\n",
      "\n",
      "----------\n",
      "\n",
      "Epoch: 19/20\n",
      "Phase: train\n",
      "Iterations completed\n",
      "train Loss: 0.0612 Acc: 0.9791\n",
      "\n",
      "Phase: val\n",
      "Iterations completed\n",
      "val Loss: 0.3665 Acc: 0.8860\n",
      "\n",
      "----------\n",
      "\n",
      "Epoch: 20/20\n",
      "Phase: train\n",
      "Iterations completed\n",
      "train Loss: 0.0652 Acc: 0.9789\n",
      "\n",
      "Phase: val\n",
      "Iterations completed\n",
      "val Loss: 0.3635 Acc: 0.8860\n",
      "\n",
      "----------\n",
      "\n",
      "Training complete in 17m 18s\n",
      "Best val Acc: 0.9016\n"
     ]
    },
    {
     "name": "stderr",
     "output_type": "stream",
     "text": [
      "Widget Javascript not detected.  It may not be installed or enabled properly. Reconnecting the current kernel may help.\n"
     ]
    },
    {
     "data": {
      "application/vnd.jupyter.widget-view+json": {
       "model_id": "62cfe22ccc1245358ca7ef94bdf296d8"
      }
     },
     "metadata": {},
     "output_type": "display_data"
    },
    {
     "data": {
      "text/html": [
       "<style>\n",
       "    table.wandb td:nth-child(1) { padding: 0 10px; text-align: left ; width: auto;} td:nth-child(2) {text-align: left ; width: 100%}\n",
       "    .wandb-row { display: flex; flex-direction: row; flex-wrap: wrap; justify-content: flex-start; width: 100% }\n",
       "    .wandb-col { display: flex; flex-direction: column; flex-basis: 100%; flex: 1; padding: 10px; }\n",
       "    </style>\n",
       "<div class=\"wandb-row\"><div class=\"wandb-col\"><h3>Run history:</h3><br/><table class=\"wandb\"><tr><td>train_batch_acc</td><td>▁▃▃▅▄▇▆▅▅▅▇▇▆█▆████▆█▇▇█▇████▇▇▇███▇██▇▆</td></tr><tr><td>train_batch_loss</td><td>█▇▇▄▆▃▃▄▄▄▂▄▂▂▃▁▁▂▁▃▁▁▂▁▂▁▁▂▁▂▁▂▁▁▁▁▂▁▂▂</td></tr><tr><td>val_acc</td><td>▁▆▅▄▇▇█▇▇▇█▇▇▇▇▇▇▇▇▇</td></tr><tr><td>val_loss</td><td>█▄▅▇▃▂▁▂▂▂▂▃▃▃▃▃▃▃▃▃</td></tr></table><br/></div><div class=\"wandb-col\"><h3>Run summary:</h3><br/><table class=\"wandb\"><tr><td>train_batch_acc</td><td>0.96774</td></tr><tr><td>train_batch_loss</td><td>0.04283</td></tr><tr><td>val_acc</td><td>0.88601</td></tr><tr><td>val_loss</td><td>0.36353</td></tr></table><br/></div></div>"
      ],
      "text/plain": [
       "<IPython.core.display.HTML object>"
      ]
     },
     "metadata": {},
     "output_type": "display_data"
    },
    {
     "data": {
      "text/html": [
       " View run <strong style=\"color:#cdcd00\">swept-sponge-13</strong> at: <a href='https://wandb.ai/dsaperov-organization/mediscan-efficient-net-b0/runs/irprwmj6' target=\"_blank\">https://wandb.ai/dsaperov-organization/mediscan-efficient-net-b0/runs/irprwmj6</a><br/> View project at: <a href='https://wandb.ai/dsaperov-organization/mediscan-efficient-net-b0' target=\"_blank\">https://wandb.ai/dsaperov-organization/mediscan-efficient-net-b0</a><br/>Synced 5 W&B file(s), 0 media file(s), 0 artifact file(s) and 0 other file(s)"
      ],
      "text/plain": [
       "<IPython.core.display.HTML object>"
      ]
     },
     "metadata": {},
     "output_type": "display_data"
    },
    {
     "data": {
      "text/html": [
       "Find logs at: <code>./wandb/run-20240604_223145-irprwmj6/logs</code>"
      ],
      "text/plain": [
       "<IPython.core.display.HTML object>"
      ]
     },
     "metadata": {},
     "output_type": "display_data"
    },
    {
     "name": "stdout",
     "output_type": "stream",
     "text": [
      "\n",
      "Лучшая ранее достигнутая точность: 0.917098445595855\n",
      "Лучшая точность в текущем эксперименте: 0.9015544041450777\n",
      "Точность НЕ улучшилась\n",
      "Разница между значениями: 0.0155\n"
     ]
    }
   ],
   "source": [
    "config, best_acc = run_transformations_experiment(config, data_transforms_train, data_transforms_eval, transformation_class, best_acc)"
   ]
  },
  {
   "cell_type": "markdown",
   "id": "7e9fe221-29eb-4ad8-a5ad-1626df2e06ba",
   "metadata": {},
   "source": [
    "#### С оверсэмплингом"
   ]
  },
  {
   "cell_type": "code",
   "execution_count": null,
   "id": "f31fe027-936e-4e9a-b70d-6eaafdde670e",
   "metadata": {},
   "outputs": [],
   "source": [
    "data_transforms_train = [transforms.CenterCrop(IMAGE_MIN_SIZE),\n",
    "                         transforms.Resize(INPUT_SIZE),\n",
    "                         transforms.RandomHorizontalFlip(),\n",
    "                         transforms.RandomVerticalFlip(),\n",
    "                         transforms.ToTensor(),\n",
    "                         transforms.Normalize(NORMALIZATION_MEAN, NORMALIZATION_STD)]\n",
    "\n",
    "data_transforms_eval = [transforms.CenterCrop(IMAGE_MIN_SIZE),\n",
    "                        transforms.Resize(INPUT_SIZE),\n",
    "                        transforms.ToTensor(),\n",
    "                        transforms.Normalize(NORMALIZATION_MEAN, NORMALIZATION_STD)]"
   ]
  },
  {
   "cell_type": "code",
   "execution_count": null,
   "id": "08fd96f3-15ae-45a9-871d-73e2f16ba34a",
   "metadata": {},
   "outputs": [
    {
     "data": {
      "text/html": [
       "Tracking run with wandb version 0.17.0"
      ],
      "text/plain": [
       "<IPython.core.display.HTML object>"
      ]
     },
     "metadata": {},
     "output_type": "display_data"
    },
    {
     "data": {
      "text/html": [
       "Run data is saved locally in <code>/home/user/Downloads/ISIC2018/wandb/run-20240604_225129-tw4utrnb</code>"
      ],
      "text/plain": [
       "<IPython.core.display.HTML object>"
      ]
     },
     "metadata": {},
     "output_type": "display_data"
    },
    {
     "data": {
      "text/html": [
       "Syncing run <strong><a href='https://wandb.ai/dsaperov-organization/mediscan-efficient-net-b0/runs/tw4utrnb' target=\"_blank\">glad-terrain-14</a></strong> to <a href='https://wandb.ai/dsaperov-organization/mediscan-efficient-net-b0' target=\"_blank\">Weights & Biases</a> (<a href='https://wandb.me/run' target=\"_blank\">docs</a>)<br/>"
      ],
      "text/plain": [
       "<IPython.core.display.HTML object>"
      ]
     },
     "metadata": {},
     "output_type": "display_data"
    },
    {
     "data": {
      "text/html": [
       " View project at <a href='https://wandb.ai/dsaperov-organization/mediscan-efficient-net-b0' target=\"_blank\">https://wandb.ai/dsaperov-organization/mediscan-efficient-net-b0</a>"
      ],
      "text/plain": [
       "<IPython.core.display.HTML object>"
      ]
     },
     "metadata": {},
     "output_type": "display_data"
    },
    {
     "data": {
      "text/html": [
       " View run at <a href='https://wandb.ai/dsaperov-organization/mediscan-efficient-net-b0/runs/tw4utrnb' target=\"_blank\">https://wandb.ai/dsaperov-organization/mediscan-efficient-net-b0/runs/tw4utrnb</a>"
      ],
      "text/plain": [
       "<IPython.core.display.HTML object>"
      ]
     },
     "metadata": {},
     "output_type": "display_data"
    },
    {
     "name": "stdout",
     "output_type": "stream",
     "text": [
      "Epoch: 1/20\n",
      "Phase: train\n",
      "Iterations completed\n",
      "train Loss: 0.6817 Acc: 0.7596\n",
      "\n",
      "Phase: val\n",
      "Iterations completed\n",
      "val Loss: 0.6116 Acc: 0.8031\n",
      "\n",
      "----------\n",
      "\n",
      "Epoch: 2/20\n",
      "Phase: train\n",
      "Iterations completed\n",
      "train Loss: 0.4080 Acc: 0.8540\n",
      "\n",
      "Phase: val\n",
      "Iterations completed\n",
      "val Loss: 0.6260 Acc: 0.7720\n",
      "\n",
      "----------\n",
      "\n",
      "Epoch: 3/20\n",
      "Phase: train\n",
      "Iterations completed\n",
      "train Loss: 0.3353 Acc: 0.8808\n",
      "\n",
      "Phase: val\n",
      "Iterations completed\n",
      "val Loss: 0.7739 Acc: 0.7617\n",
      "\n",
      "----------\n",
      "\n",
      "Epoch: 4/20\n",
      "Phase: train\n",
      "Iterations completed\n",
      "train Loss: 0.2800 Acc: 0.8987\n",
      "\n",
      "Phase: val\n",
      "Iterations completed\n",
      "val Loss: 0.5385 Acc: 0.8446\n",
      "\n",
      "----------\n",
      "\n",
      "Epoch: 5/20\n",
      "Phase: train\n",
      "Iterations completed\n",
      "train Loss: 0.2629 Acc: 0.9060\n",
      "\n",
      "Phase: val\n",
      "Iterations completed\n",
      "val Loss: 0.7162 Acc: 0.7565\n",
      "\n",
      "----------\n",
      "\n",
      "Epoch: 6/20\n",
      "Phase: train\n",
      "Iterations completed\n",
      "train Loss: 0.1494 Acc: 0.9465\n",
      "\n",
      "Phase: val\n",
      "Iterations completed\n",
      "val Loss: 0.4675 Acc: 0.8394\n",
      "\n",
      "----------\n",
      "\n",
      "Epoch: 7/20\n",
      "Phase: train\n",
      "Iterations completed\n",
      "train Loss: 0.1228 Acc: 0.9541\n",
      "\n",
      "Phase: val\n",
      "Iterations completed\n",
      "val Loss: 0.4294 Acc: 0.8705\n",
      "\n",
      "----------\n",
      "\n",
      "Epoch: 8/20\n",
      "Phase: train\n",
      "Iterations completed\n",
      "train Loss: 0.1022 Acc: 0.9634\n",
      "\n",
      "Phase: val\n",
      "Iterations completed\n",
      "val Loss: 0.4214 Acc: 0.8705\n",
      "\n",
      "----------\n",
      "\n",
      "Epoch: 9/20\n",
      "Phase: train\n",
      "Iterations completed\n",
      "train Loss: 0.0908 Acc: 0.9672\n",
      "\n",
      "Phase: val\n",
      "Iterations completed\n",
      "val Loss: 0.4509 Acc: 0.8653\n",
      "\n",
      "----------\n",
      "\n",
      "Epoch: 10/20\n",
      "Phase: train\n",
      "Iterations completed\n",
      "train Loss: 0.0834 Acc: 0.9715\n",
      "\n",
      "Phase: val\n",
      "Iterations completed\n",
      "val Loss: 0.4065 Acc: 0.8912\n",
      "\n",
      "----------\n",
      "\n",
      "Epoch: 11/20\n",
      "Phase: train\n",
      "Iterations completed\n",
      "train Loss: 0.0712 Acc: 0.9736\n",
      "\n",
      "Phase: val\n",
      "Iterations completed\n",
      "val Loss: 0.4178 Acc: 0.8912\n",
      "\n",
      "----------\n",
      "\n",
      "Epoch: 12/20\n",
      "Phase: train\n",
      "Iterations completed\n",
      "train Loss: 0.0683 Acc: 0.9767\n",
      "\n",
      "Phase: val\n",
      "Iterations completed\n",
      "val Loss: 0.4178 Acc: 0.9016\n",
      "\n",
      "----------\n",
      "\n",
      "Epoch: 13/20\n",
      "Phase: train\n",
      "Iterations completed\n",
      "train Loss: 0.0678 Acc: 0.9765\n",
      "\n",
      "Phase: val\n",
      "Iterations completed\n",
      "val Loss: 0.3934 Acc: 0.8912\n",
      "\n",
      "----------\n",
      "\n",
      "Epoch: 14/20\n",
      "Phase: train\n",
      "Iterations completed\n",
      "train Loss: 0.0661 Acc: 0.9781\n",
      "\n",
      "Phase: val\n",
      "Iterations completed\n",
      "val Loss: 0.3927 Acc: 0.8964\n",
      "\n",
      "----------\n",
      "\n",
      "Epoch: 15/20\n",
      "Phase: train\n",
      "Iterations completed\n",
      "train Loss: 0.0623 Acc: 0.9772\n",
      "\n",
      "Phase: val\n",
      "Iterations completed\n",
      "val Loss: 0.3960 Acc: 0.8860\n",
      "\n",
      "----------\n",
      "\n",
      "Epoch: 16/20\n",
      "Phase: train\n",
      "Iterations completed\n",
      "train Loss: 0.0639 Acc: 0.9771\n",
      "\n",
      "Phase: val\n",
      "Iterations completed\n",
      "val Loss: 0.3926 Acc: 0.8964\n",
      "\n",
      "----------\n",
      "\n",
      "Epoch: 17/20\n",
      "Phase: train\n",
      "Iterations completed\n",
      "train Loss: 0.0603 Acc: 0.9784\n",
      "\n",
      "Phase: val\n",
      "Iterations completed\n",
      "val Loss: 0.3957 Acc: 0.9016\n",
      "\n",
      "----------\n",
      "\n",
      "Epoch: 18/20\n",
      "Phase: train\n",
      "Iterations completed\n",
      "train Loss: 0.0605 Acc: 0.9796\n",
      "\n",
      "Phase: val\n"
     ]
    }
   ],
   "source": [
    "config_oversampling, best_acc_oversampling = run_transformations_experiment(config_oversampling, data_transforms_train, data_transforms_eval, transformation_class, best_acc_oversampling, sampler=sampler)"
   ]
  },
  {
   "cell_type": "markdown",
   "id": "15252b3c-c122-4468-95d0-80026c18dc11",
   "metadata": {},
   "source": [
    "Снова конец логов обрезался. Согласно данным wandb, лучшее значение метрики в данном эксперименте было 0.9016, то есть совпадает с лучшим результатом предыдущего эксперимента. Таким образом, на этот раз аугментации в обоих случаях не принесли пользы."
   ]
  },
  {
   "cell_type": "markdown",
   "id": "df090d0c-5036-444e-8179-b0c52f4cc8fb",
   "metadata": {},
   "source": [
    "### `RandomRotation`\n",
    "#### Без оверсэмплинга"
   ]
  },
  {
   "cell_type": "code",
   "execution_count": 85,
   "id": "9b42591b-5076-4b27-b33b-3e2cd04ead47",
   "metadata": {},
   "outputs": [],
   "source": [
    "transformation_class = 'RandomRotation'"
   ]
  },
  {
   "cell_type": "code",
   "execution_count": 86,
   "id": "d618814e-87a0-41d9-959b-ac02d1a63a8d",
   "metadata": {},
   "outputs": [],
   "source": [
    "data_transforms_train = [transforms.Resize(INPUT_SIZE),\n",
    "                         transforms.RandomHorizontalFlip(),\n",
    "                         transforms.RandomRotation(90),\n",
    "                         transforms.ToTensor(),\n",
    "                         transforms.Normalize(NORMALIZATION_MEAN, NORMALIZATION_STD)]\n",
    "\n",
    "data_transforms_eval = [transforms.Resize(INPUT_SIZE),\n",
    "                        transforms.ToTensor(),\n",
    "                        transforms.Normalize(NORMALIZATION_MEAN, NORMALIZATION_STD)]"
   ]
  },
  {
   "cell_type": "code",
   "execution_count": 90,
   "id": "f6a36366-8bb2-465f-ab5c-5601f5696e43",
   "metadata": {},
   "outputs": [
    {
     "data": {
      "text/html": [
       "Tracking run with wandb version 0.17.0"
      ],
      "text/plain": [
       "<IPython.core.display.HTML object>"
      ]
     },
     "metadata": {},
     "output_type": "display_data"
    },
    {
     "data": {
      "text/html": [
       "Run data is saved locally in <code>/home/user/Downloads/ISIC2018/wandb/run-20240604_234845-6oqqrbo1</code>"
      ],
      "text/plain": [
       "<IPython.core.display.HTML object>"
      ]
     },
     "metadata": {},
     "output_type": "display_data"
    },
    {
     "data": {
      "text/html": [
       "Syncing run <strong><a href='https://wandb.ai/dsaperov-organization/mediscan-efficient-net-b0/runs/6oqqrbo1' target=\"_blank\">unique-resonance-16</a></strong> to <a href='https://wandb.ai/dsaperov-organization/mediscan-efficient-net-b0' target=\"_blank\">Weights & Biases</a> (<a href='https://wandb.me/run' target=\"_blank\">docs</a>)<br/>"
      ],
      "text/plain": [
       "<IPython.core.display.HTML object>"
      ]
     },
     "metadata": {},
     "output_type": "display_data"
    },
    {
     "data": {
      "text/html": [
       " View project at <a href='https://wandb.ai/dsaperov-organization/mediscan-efficient-net-b0' target=\"_blank\">https://wandb.ai/dsaperov-organization/mediscan-efficient-net-b0</a>"
      ],
      "text/plain": [
       "<IPython.core.display.HTML object>"
      ]
     },
     "metadata": {},
     "output_type": "display_data"
    },
    {
     "data": {
      "text/html": [
       " View run at <a href='https://wandb.ai/dsaperov-organization/mediscan-efficient-net-b0/runs/6oqqrbo1' target=\"_blank\">https://wandb.ai/dsaperov-organization/mediscan-efficient-net-b0/runs/6oqqrbo1</a>"
      ],
      "text/plain": [
       "<IPython.core.display.HTML object>"
      ]
     },
     "metadata": {},
     "output_type": "display_data"
    },
    {
     "name": "stdout",
     "output_type": "stream",
     "text": [
      "Epoch: 1/20\n",
      "Phase: train\n",
      "Iterations completed\n",
      "train Loss: 0.6785 Acc: 0.7575\n",
      "\n",
      "Phase: val\n",
      "Iterations completed\n",
      "val Loss: 0.5585 Acc: 0.7927\n",
      "\n",
      "----------\n",
      "\n",
      "Epoch: 2/20\n",
      "Phase: train\n",
      "Iterations completed\n",
      "train Loss: 0.5261 Acc: 0.8082\n",
      "\n",
      "Phase: val\n",
      "Iterations completed\n",
      "val Loss: 0.4585 Acc: 0.8446\n",
      "\n",
      "----------\n",
      "\n",
      "Epoch: 3/20\n",
      "Phase: train\n",
      "Iterations completed\n",
      "train Loss: 0.4753 Acc: 0.8253\n",
      "\n",
      "Phase: val\n",
      "Iterations completed\n",
      "val Loss: 0.4254 Acc: 0.8187\n",
      "\n",
      "----------\n",
      "\n",
      "Epoch: 4/20\n",
      "Phase: train\n",
      "Iterations completed\n",
      "train Loss: 0.4398 Acc: 0.8397\n",
      "\n",
      "Phase: val\n",
      "Iterations completed\n",
      "val Loss: 0.4233 Acc: 0.8601\n",
      "\n",
      "----------\n",
      "\n",
      "Epoch: 5/20\n",
      "Phase: train\n",
      "Iterations completed\n",
      "train Loss: 0.3979 Acc: 0.8521\n",
      "\n",
      "Phase: val\n",
      "Iterations completed\n",
      "val Loss: 0.3589 Acc: 0.8549\n",
      "\n",
      "----------\n",
      "\n",
      "Epoch: 6/20\n",
      "Phase: train\n",
      "Iterations completed\n",
      "train Loss: 0.2901 Acc: 0.8934\n",
      "\n",
      "Phase: val\n",
      "Iterations completed\n",
      "val Loss: 0.2916 Acc: 0.8860\n",
      "\n",
      "----------\n",
      "\n",
      "Epoch: 7/20\n",
      "Phase: train\n",
      "Iterations completed\n",
      "train Loss: 0.2399 Acc: 0.9105\n",
      "\n",
      "Phase: val\n",
      "Iterations completed\n",
      "val Loss: 0.2953 Acc: 0.8912\n",
      "\n",
      "----------\n",
      "\n",
      "Epoch: 8/20\n",
      "Phase: train\n",
      "Iterations completed\n",
      "train Loss: 0.2288 Acc: 0.9124\n",
      "\n",
      "Phase: val\n",
      "Iterations completed\n",
      "val Loss: 0.2965 Acc: 0.8912\n",
      "\n",
      "----------\n",
      "\n",
      "Epoch: 9/20\n",
      "Phase: train\n",
      "Iterations completed\n",
      "train Loss: 0.2064 Acc: 0.9205\n",
      "\n",
      "Phase: val\n",
      "Iterations completed\n",
      "val Loss: 0.2674 Acc: 0.9067\n",
      "\n",
      "----------\n",
      "\n",
      "Epoch: 10/20\n",
      "Phase: train\n",
      "Iterations completed\n",
      "train Loss: 0.1903 Acc: 0.9305\n",
      "\n",
      "Phase: val\n",
      "Iterations completed\n",
      "val Loss: 0.3092 Acc: 0.9016\n",
      "\n",
      "----------\n",
      "\n",
      "Epoch: 11/20\n",
      "Phase: train\n",
      "Iterations completed\n",
      "train Loss: 0.1709 Acc: 0.9373\n",
      "\n",
      "Phase: val\n",
      "Iterations completed\n",
      "val Loss: 0.2579 Acc: 0.9119\n",
      "\n",
      "----------\n",
      "\n",
      "Epoch: 12/20\n",
      "Phase: train\n",
      "Iterations completed\n",
      "train Loss: 0.1641 Acc: 0.9380\n",
      "\n",
      "Phase: val\n",
      "Iterations completed\n",
      "val Loss: 0.2593 Acc: 0.9119\n",
      "\n",
      "----------\n",
      "\n",
      "Epoch: 15/20\n",
      "Phase: train\n",
      "Iterations completed\n",
      "train Loss: 0.1636 Acc: 0.9384\n",
      "\n",
      "Phase: val\n",
      "Iterations completed\n",
      "val Loss: 0.5089 Acc: 0.9067\n",
      "\n",
      "----------\n",
      "\n",
      "Epoch: 16/20\n",
      "Phase: train\n",
      "Iterations completed\n",
      "train Loss: 0.1584 Acc: 0.9426\n",
      "\n",
      "Phase: val\n",
      "Iterations completed\n",
      "val Loss: 0.2765 Acc: 0.9067\n",
      "\n",
      "----------\n",
      "\n",
      "Epoch: 17/20\n",
      "Phase: train\n",
      "Iterations completed\n",
      "train Loss: 0.1614 Acc: 0.9413\n",
      "\n",
      "Phase: val\n",
      "Iterations completed\n",
      "val Loss: 0.2529 Acc: 0.9119\n",
      "\n",
      "----------\n",
      "\n",
      "Epoch: 18/20\n",
      "Phase: train\n",
      "Iterations completed\n",
      "train Loss: 0.1583 Acc: 0.9413\n",
      "\n",
      "Phase: val\n",
      "Iterations completed\n",
      "val Loss: 0.2929 Acc: 0.9016\n",
      "\n",
      "----------\n",
      "\n",
      "Epoch: 19/20\n",
      "Phase: train\n",
      "Iterations completed\n",
      "train Loss: 0.1557 Acc: 0.9425\n",
      "\n",
      "Phase: val\n",
      "Iterations completed\n",
      "val Loss: 0.2557 Acc: 0.9119\n",
      "\n",
      "----------\n",
      "\n",
      "Epoch: 20/20\n",
      "Phase: train\n",
      "Iterations completed\n",
      "train Loss: 0.1577 Acc: 0.9413\n",
      "\n",
      "Phase: val\n",
      "Iterations completed\n",
      "val Loss: 0.2600 Acc: 0.9223\n",
      "\n",
      "----------\n",
      "\n",
      "Training complete in 17m 56s\n",
      "Best val Acc: 0.9223\n"
     ]
    },
    {
     "name": "stderr",
     "output_type": "stream",
     "text": [
      "Widget Javascript not detected.  It may not be installed or enabled properly. Reconnecting the current kernel may help.\n"
     ]
    },
    {
     "data": {
      "application/vnd.jupyter.widget-view+json": {
       "model_id": "7ce143d15147481197469f30a469d730"
      }
     },
     "metadata": {},
     "output_type": "display_data"
    },
    {
     "data": {
      "text/html": [
       "<style>\n",
       "    table.wandb td:nth-child(1) { padding: 0 10px; text-align: left ; width: auto;} td:nth-child(2) {text-align: left ; width: 100%}\n",
       "    .wandb-row { display: flex; flex-direction: row; flex-wrap: wrap; justify-content: flex-start; width: 100% }\n",
       "    .wandb-col { display: flex; flex-direction: column; flex-basis: 100%; flex: 1; padding: 10px; }\n",
       "    </style>\n",
       "<div class=\"wandb-row\"><div class=\"wandb-col\"><h3>Run history:</h3><br/><table class=\"wandb\"><tr><td>train_batch_acc</td><td>▁▄▃▅▃▆▆▅▅▆▆▆▆▆▆▆▆▆█▄▇▆▇▆▇▆█▅█▇▇▆▇▆▇▇▇▆▇▄</td></tr><tr><td>train_batch_loss</td><td>█▆▇▄▅▄▅▆▄▃▃▅▃▄▂▃▂▃▁▆▂▂▂▂▂▂▁▄▂▁▂▂▁▂▂▁▂▃▂▄</td></tr><tr><td>val_acc</td><td>▁▄▂▅▄▆▆▆▇▇▇▇▇▇▇▇▇▇▇█</td></tr><tr><td>val_loss</td><td>█▆▅▅▃▂▂▂▁▂▁▁▁▁▇▂▁▂▁▁</td></tr></table><br/></div><div class=\"wandb-col\"><h3>Run summary:</h3><br/><table class=\"wandb\"><tr><td>train_batch_acc</td><td>0.96774</td></tr><tr><td>train_batch_loss</td><td>0.18901</td></tr><tr><td>val_acc</td><td>0.92228</td></tr><tr><td>val_loss</td><td>0.25997</td></tr></table><br/></div></div>"
      ],
      "text/plain": [
       "<IPython.core.display.HTML object>"
      ]
     },
     "metadata": {},
     "output_type": "display_data"
    },
    {
     "data": {
      "text/html": [
       " View run <strong style=\"color:#cdcd00\">unique-resonance-16</strong> at: <a href='https://wandb.ai/dsaperov-organization/mediscan-efficient-net-b0/runs/6oqqrbo1' target=\"_blank\">https://wandb.ai/dsaperov-organization/mediscan-efficient-net-b0/runs/6oqqrbo1</a><br/> View project at: <a href='https://wandb.ai/dsaperov-organization/mediscan-efficient-net-b0' target=\"_blank\">https://wandb.ai/dsaperov-organization/mediscan-efficient-net-b0</a><br/>Synced 5 W&B file(s), 0 media file(s), 0 artifact file(s) and 0 other file(s)"
      ],
      "text/plain": [
       "<IPython.core.display.HTML object>"
      ]
     },
     "metadata": {},
     "output_type": "display_data"
    },
    {
     "data": {
      "text/html": [
       "Find logs at: <code>./wandb/run-20240604_234845-6oqqrbo1/logs</code>"
      ],
      "text/plain": [
       "<IPython.core.display.HTML object>"
      ]
     },
     "metadata": {},
     "output_type": "display_data"
    },
    {
     "name": "stdout",
     "output_type": "stream",
     "text": [
      "\n",
      "Лучшая ранее достигнутая точность: 0.917098445595855\n",
      "Лучшая точность в текущем эксперименте: 0.922279792746114\n",
      "Точность улучшилась при использовании преобразования: RandomRotation\n",
      "Разница между значениями: 0.0052\n"
     ]
    }
   ],
   "source": [
    "config, best_acc = run_transformations_experiment(config, data_transforms_train, data_transforms_eval, transformation_class, best_acc)"
   ]
  },
  {
   "cell_type": "markdown",
   "id": "1a2d47a0-ff8a-43c5-bf24-f0cda147f274",
   "metadata": {},
   "source": [
    "#### С оверсэмплингом"
   ]
  },
  {
   "cell_type": "code",
   "execution_count": 93,
   "id": "0af41513-873a-4dc4-8590-06a5d7d95304",
   "metadata": {},
   "outputs": [],
   "source": [
    "data_transforms_train = [transforms.CenterCrop(IMAGE_MIN_SIZE),\n",
    "                         transforms.Resize(INPUT_SIZE),\n",
    "                         transforms.RandomHorizontalFlip(),\n",
    "                         transforms.RandomRotation(90),\n",
    "                         transforms.ToTensor(),\n",
    "                         transforms.Normalize(NORMALIZATION_MEAN, NORMALIZATION_STD)]\n",
    "\n",
    "data_transforms_eval = [transforms.CenterCrop(IMAGE_MIN_SIZE),\n",
    "                        transforms.Resize(INPUT_SIZE),\n",
    "                        transforms.ToTensor(),\n",
    "                        transforms.Normalize(NORMALIZATION_MEAN, NORMALIZATION_STD)]"
   ]
  },
  {
   "cell_type": "code",
   "execution_count": 94,
   "id": "e938cafa-40ff-41e8-9b1d-da0a2164d736",
   "metadata": {},
   "outputs": [
    {
     "data": {
      "text/html": [
       "Tracking run with wandb version 0.17.0"
      ],
      "text/plain": [
       "<IPython.core.display.HTML object>"
      ]
     },
     "metadata": {},
     "output_type": "display_data"
    },
    {
     "data": {
      "text/html": [
       "Run data is saved locally in <code>/home/user/Downloads/ISIC2018/wandb/run-20240605_001949-xgyqwdmi</code>"
      ],
      "text/plain": [
       "<IPython.core.display.HTML object>"
      ]
     },
     "metadata": {},
     "output_type": "display_data"
    },
    {
     "data": {
      "text/html": [
       "Syncing run <strong><a href='https://wandb.ai/dsaperov-organization/mediscan-efficient-net-b0/runs/xgyqwdmi' target=\"_blank\">eager-wind-17</a></strong> to <a href='https://wandb.ai/dsaperov-organization/mediscan-efficient-net-b0' target=\"_blank\">Weights & Biases</a> (<a href='https://wandb.me/run' target=\"_blank\">docs</a>)<br/>"
      ],
      "text/plain": [
       "<IPython.core.display.HTML object>"
      ]
     },
     "metadata": {},
     "output_type": "display_data"
    },
    {
     "data": {
      "text/html": [
       " View project at <a href='https://wandb.ai/dsaperov-organization/mediscan-efficient-net-b0' target=\"_blank\">https://wandb.ai/dsaperov-organization/mediscan-efficient-net-b0</a>"
      ],
      "text/plain": [
       "<IPython.core.display.HTML object>"
      ]
     },
     "metadata": {},
     "output_type": "display_data"
    },
    {
     "data": {
      "text/html": [
       " View run at <a href='https://wandb.ai/dsaperov-organization/mediscan-efficient-net-b0/runs/xgyqwdmi' target=\"_blank\">https://wandb.ai/dsaperov-organization/mediscan-efficient-net-b0/runs/xgyqwdmi</a>"
      ],
      "text/plain": [
       "<IPython.core.display.HTML object>"
      ]
     },
     "metadata": {},
     "output_type": "display_data"
    },
    {
     "name": "stdout",
     "output_type": "stream",
     "text": [
      "Epoch: 1/20\n",
      "Phase: train\n",
      "Iterations completed\n",
      "train Loss: 0.7504 Acc: 0.7299\n",
      "\n",
      "Phase: val\n",
      "Iterations completed\n",
      "val Loss: 0.6387 Acc: 0.7720\n",
      "\n",
      "----------\n",
      "\n",
      "Epoch: 2/20\n",
      "Phase: train\n",
      "Iterations completed\n",
      "train Loss: 0.4962 Acc: 0.8250\n",
      "\n",
      "Phase: val\n",
      "Iterations completed\n",
      "val Loss: 0.7046 Acc: 0.7461\n",
      "\n",
      "----------\n",
      "\n",
      "Epoch: 3/20\n",
      "Phase: train\n",
      "Iterations completed\n",
      "train Loss: 0.4218 Acc: 0.8468\n",
      "\n",
      "Phase: val\n",
      "Iterations completed\n",
      "val Loss: 0.5880 Acc: 0.7876\n",
      "\n",
      "----------\n",
      "\n",
      "Epoch: 4/20\n",
      "Phase: train\n",
      "Iterations completed\n",
      "train Loss: 0.3657 Acc: 0.8662\n",
      "\n",
      "Phase: val\n",
      "Iterations completed\n",
      "val Loss: 0.6870 Acc: 0.7979\n",
      "\n",
      "----------\n",
      "\n",
      "Epoch: 5/20\n",
      "Phase: train\n",
      "Iterations completed\n",
      "train Loss: 0.3060 Acc: 0.8897\n",
      "\n",
      "Phase: val\n",
      "Iterations completed\n",
      "val Loss: 0.6731 Acc: 0.7565\n",
      "\n",
      "----------\n",
      "\n",
      "Epoch: 6/20\n",
      "Phase: train\n",
      "Iterations completed\n",
      "train Loss: 0.2119 Acc: 0.9221\n",
      "\n",
      "Phase: val\n",
      "Iterations completed\n",
      "val Loss: 0.4680 Acc: 0.8394\n",
      "\n",
      "----------\n",
      "\n",
      "Epoch: 7/20\n",
      "Phase: train\n",
      "Iterations completed\n",
      "train Loss: 0.1732 Acc: 0.9362\n",
      "\n",
      "Phase: val\n",
      "Iterations completed\n",
      "val Loss: 0.4209 Acc: 0.8653\n",
      "\n",
      "----------\n",
      "\n",
      "Epoch: 8/20\n",
      "Phase: train\n",
      "Iterations completed\n",
      "train Loss: 0.1510 Acc: 0.9454\n",
      "\n",
      "Phase: val\n",
      "Iterations completed\n",
      "val Loss: 0.4188 Acc: 0.8549\n",
      "\n",
      "----------\n",
      "\n",
      "Epoch: 9/20\n",
      "Phase: train\n",
      "Iterations completed\n",
      "train Loss: 0.1351 Acc: 0.9507\n",
      "\n",
      "Phase: val\n",
      "Iterations completed\n",
      "val Loss: 0.4030 Acc: 0.8705\n",
      "\n",
      "----------\n",
      "\n",
      "Epoch: 10/20\n",
      "Phase: train\n",
      "Iterations completed\n",
      "train Loss: 0.1288 Acc: 0.9529\n",
      "\n",
      "Phase: val\n",
      "Iterations completed\n",
      "val Loss: 0.3756 Acc: 0.8705\n",
      "\n",
      "----------\n",
      "\n",
      "Epoch: 11/20\n",
      "Phase: train\n",
      "Iterations completed\n",
      "train Loss: 0.1173 Acc: 0.9561\n",
      "\n",
      "Phase: val\n",
      "Iterations completed\n",
      "val Loss: 0.3792 Acc: 0.8705\n",
      "\n",
      "----------\n",
      "\n",
      "Epoch: 12/20\n",
      "Phase: train\n",
      "Iterations completed\n",
      "train Loss: 0.1149 Acc: 0.9597\n",
      "\n",
      "Phase: val\n",
      "Iterations completed\n",
      "val Loss: 0.3670 Acc: 0.8756\n",
      "\n",
      "----------\n",
      "\n",
      "Epoch: 13/20\n",
      "Phase: train\n",
      "Iterations completed\n",
      "train Loss: 0.1131 Acc: 0.9579\n",
      "\n",
      "Phase: val\n",
      "Iterations completed\n",
      "val Loss: 0.3613 Acc: 0.8860\n",
      "\n",
      "----------\n",
      "\n",
      "Epoch: 14/20\n",
      "Phase: train\n",
      "Iterations completed\n",
      "train Loss: 0.1093 Acc: 0.9624\n",
      "\n",
      "Phase: val\n",
      "Iterations completed\n",
      "val Loss: 0.3551 Acc: 0.8705\n",
      "\n",
      "----------\n",
      "\n",
      "Epoch: 15/20\n",
      "Phase: train\n",
      "Iterations completed\n",
      "train Loss: 0.1074 Acc: 0.9612\n",
      "\n",
      "Phase: val\n",
      "Iterations completed\n",
      "val Loss: 0.3644 Acc: 0.8860\n",
      "\n",
      "----------\n",
      "\n",
      "Epoch: 16/20\n",
      "Phase: train\n",
      "Iterations completed\n",
      "train Loss: 0.1082 Acc: 0.9625\n",
      "\n",
      "Phase: val\n",
      "Iterations completed\n",
      "val Loss: 0.3741 Acc: 0.8808\n",
      "\n",
      "----------\n",
      "\n",
      "Epoch: 17/20\n",
      "Phase: train\n",
      "Iterations completed\n",
      "train Loss: 0.0986 Acc: 0.9644\n",
      "\n",
      "Phase: val\n",
      "Iterations completed\n",
      "val Loss: 0.3615 Acc: 0.8964\n",
      "\n",
      "----------\n",
      "\n",
      "Epoch: 18/20\n",
      "Phase: train\n",
      "Iterations completed\n",
      "train Loss: 0.1037 Acc: 0.9610\n",
      "\n",
      "Phase: val\n",
      "Iterations completed\n",
      "val Loss: 0.3631 Acc: 0.8912\n",
      "\n",
      "----------\n",
      "\n",
      "Epoch: 19/20\n",
      "Phase: train\n",
      "Iterations completed\n",
      "train Loss: 0.1004 Acc: 0.9643\n",
      "\n",
      "Phase: val\n",
      "Iterations completed\n",
      "val Loss: 0.3618 Acc: 0.8860\n",
      "\n",
      "----------\n",
      "\n",
      "Epoch: 20/20\n",
      "Phase: train\n",
      "Iterations completed\n",
      "train Loss: 0.1021 Acc: 0.9622\n",
      "\n",
      "Phase: val\n",
      "Iterations completed\n",
      "val Loss: 0.3691 Acc: 0.8860\n",
      "\n",
      "----------\n",
      "\n",
      "Training complete in 16m 28s\n",
      "Best val Acc: 0.8964\n"
     ]
    },
    {
     "name": "stderr",
     "output_type": "stream",
     "text": [
      "Widget Javascript not detected.  It may not be installed or enabled properly. Reconnecting the current kernel may help.\n"
     ]
    },
    {
     "data": {
      "application/vnd.jupyter.widget-view+json": {
       "model_id": "d509a3a751904b3d8a6530dad8e93366"
      }
     },
     "metadata": {},
     "output_type": "display_data"
    },
    {
     "data": {
      "text/html": [
       "<style>\n",
       "    table.wandb td:nth-child(1) { padding: 0 10px; text-align: left ; width: auto;} td:nth-child(2) {text-align: left ; width: 100%}\n",
       "    .wandb-row { display: flex; flex-direction: row; flex-wrap: wrap; justify-content: flex-start; width: 100% }\n",
       "    .wandb-col { display: flex; flex-direction: column; flex-basis: 100%; flex: 1; padding: 10px; }\n",
       "    </style>\n",
       "<div class=\"wandb-row\"><div class=\"wandb-col\"><h3>Run history:</h3><br/><table class=\"wandb\"><tr><td>train_batch_acc</td><td>▁▃▅▅▅▆▄▇▅▆▇█▇█▇▇▇▇▇▇▇█▇▇▇▇▇▇▇█▇█▇█▇▇▇▇▇▇</td></tr><tr><td>train_batch_loss</td><td>█▅▄▄▅▂▄▃▃▂▂▁▃▁▂▂▂▂▁▂▁▁▁▂▁▁▁▂▁▁▂▁▁▁▂▂▂▁▁▂</td></tr><tr><td>val_acc</td><td>▂▁▃▃▁▅▇▆▇▇▇▇█▇█▇████</td></tr><tr><td>val_loss</td><td>▇█▆█▇▃▂▂▂▁▁▁▁▁▁▁▁▁▁▁</td></tr></table><br/></div><div class=\"wandb-col\"><h3>Run summary:</h3><br/><table class=\"wandb\"><tr><td>train_batch_acc</td><td>0.96774</td></tr><tr><td>train_batch_loss</td><td>0.06798</td></tr><tr><td>val_acc</td><td>0.88601</td></tr><tr><td>val_loss</td><td>0.3691</td></tr></table><br/></div></div>"
      ],
      "text/plain": [
       "<IPython.core.display.HTML object>"
      ]
     },
     "metadata": {},
     "output_type": "display_data"
    },
    {
     "data": {
      "text/html": [
       " View run <strong style=\"color:#cdcd00\">eager-wind-17</strong> at: <a href='https://wandb.ai/dsaperov-organization/mediscan-efficient-net-b0/runs/xgyqwdmi' target=\"_blank\">https://wandb.ai/dsaperov-organization/mediscan-efficient-net-b0/runs/xgyqwdmi</a><br/> View project at: <a href='https://wandb.ai/dsaperov-organization/mediscan-efficient-net-b0' target=\"_blank\">https://wandb.ai/dsaperov-organization/mediscan-efficient-net-b0</a><br/>Synced 5 W&B file(s), 0 media file(s), 0 artifact file(s) and 0 other file(s)"
      ],
      "text/plain": [
       "<IPython.core.display.HTML object>"
      ]
     },
     "metadata": {},
     "output_type": "display_data"
    },
    {
     "data": {
      "text/html": [
       "Find logs at: <code>./wandb/run-20240605_001949-xgyqwdmi/logs</code>"
      ],
      "text/plain": [
       "<IPython.core.display.HTML object>"
      ]
     },
     "metadata": {},
     "output_type": "display_data"
    },
    {
     "name": "stdout",
     "output_type": "stream",
     "text": [
      "\n",
      "Лучшая ранее достигнутая точность: 0.9015544041450777\n",
      "Лучшая точность в текущем эксперименте: 0.8963730569948187\n",
      "Точность НЕ улучшилась\n",
      "Разница между значениями: 0.0052\n"
     ]
    }
   ],
   "source": [
    "config_oversampling, best_acc_oversampling = run_transformations_experiment(config_oversampling, data_transforms_train, data_transforms_eval, transformation_class, best_acc_oversampling, sampler=sampler)"
   ]
  },
  {
   "cell_type": "markdown",
   "id": "b8960424-467d-4e21-8fc0-8353e8352acc",
   "metadata": {},
   "source": [
    "### `ColorJitter`\n",
    "#### Без оверсэмплинга"
   ]
  },
  {
   "cell_type": "code",
   "execution_count": 95,
   "id": "2d0db9d7-7e08-4061-b908-1e6c177defc4",
   "metadata": {},
   "outputs": [],
   "source": [
    "transformation_class = 'ColorJitter'"
   ]
  },
  {
   "cell_type": "code",
   "execution_count": 97,
   "id": "aefd25db-e059-4376-ab50-ecd9ea34b040",
   "metadata": {},
   "outputs": [],
   "source": [
    "color_jitter_configs = [{'brightness': 0.2, 'contrast': 0.2, 'saturation': 0.2, 'hue': 0.2},\n",
    "                        {'brightness': 0.3, 'contrast': 0.3, 'saturation': 0.3, 'hue': 0.1}]"
   ]
  },
  {
   "cell_type": "code",
   "execution_count": 100,
   "id": "f3328c9f-6c21-4cc4-89ba-9eafcba2983d",
   "metadata": {},
   "outputs": [
    {
     "data": {
      "text/html": [
       "Tracking run with wandb version 0.17.0"
      ],
      "text/plain": [
       "<IPython.core.display.HTML object>"
      ]
     },
     "metadata": {},
     "output_type": "display_data"
    },
    {
     "data": {
      "text/html": [
       "Run data is saved locally in <code>/home/user/Downloads/ISIC2018/wandb/run-20240605_004814-9r92ydy0</code>"
      ],
      "text/plain": [
       "<IPython.core.display.HTML object>"
      ]
     },
     "metadata": {},
     "output_type": "display_data"
    },
    {
     "data": {
      "text/html": [
       "Syncing run <strong><a href='https://wandb.ai/dsaperov-organization/mediscan-efficient-net-b0/runs/9r92ydy0' target=\"_blank\">serene-cloud-18</a></strong> to <a href='https://wandb.ai/dsaperov-organization/mediscan-efficient-net-b0' target=\"_blank\">Weights & Biases</a> (<a href='https://wandb.me/run' target=\"_blank\">docs</a>)<br/>"
      ],
      "text/plain": [
       "<IPython.core.display.HTML object>"
      ]
     },
     "metadata": {},
     "output_type": "display_data"
    },
    {
     "data": {
      "text/html": [
       " View project at <a href='https://wandb.ai/dsaperov-organization/mediscan-efficient-net-b0' target=\"_blank\">https://wandb.ai/dsaperov-organization/mediscan-efficient-net-b0</a>"
      ],
      "text/plain": [
       "<IPython.core.display.HTML object>"
      ]
     },
     "metadata": {},
     "output_type": "display_data"
    },
    {
     "data": {
      "text/html": [
       " View run at <a href='https://wandb.ai/dsaperov-organization/mediscan-efficient-net-b0/runs/9r92ydy0' target=\"_blank\">https://wandb.ai/dsaperov-organization/mediscan-efficient-net-b0/runs/9r92ydy0</a>"
      ],
      "text/plain": [
       "<IPython.core.display.HTML object>"
      ]
     },
     "metadata": {},
     "output_type": "display_data"
    },
    {
     "name": "stdout",
     "output_type": "stream",
     "text": [
      "Epoch: 1/20\n",
      "Phase: train\n",
      "Iterations completed\n",
      "train Loss: 0.7661 Acc: 0.7304\n",
      "\n",
      "Phase: val\n",
      "Iterations completed\n",
      "val Loss: 0.7063 Acc: 0.7461\n",
      "\n",
      "----------\n",
      "\n",
      "Epoch: 2/20\n",
      "Phase: train\n",
      "Iterations completed\n",
      "train Loss: 0.6173 Acc: 0.7788\n",
      "\n",
      "Phase: val\n",
      "Iterations completed\n",
      "val Loss: 0.5610 Acc: 0.8187\n",
      "\n",
      "----------\n",
      "\n",
      "Epoch: 3/20\n",
      "Phase: train\n",
      "Iterations completed\n",
      "train Loss: 0.5648 Acc: 0.7927\n",
      "\n",
      "Phase: val\n",
      "Iterations completed\n",
      "val Loss: 0.5091 Acc: 0.7720\n",
      "\n",
      "----------\n",
      "\n",
      "Epoch: 4/20\n",
      "Phase: train\n",
      "Iterations completed\n",
      "train Loss: 0.5247 Acc: 0.8100\n",
      "\n",
      "Phase: val\n",
      "Iterations completed\n",
      "val Loss: 0.4867 Acc: 0.8394\n",
      "\n",
      "----------\n",
      "\n",
      "Epoch: 5/20\n",
      "Phase: train\n",
      "Iterations completed\n",
      "train Loss: 0.4993 Acc: 0.8137\n",
      "\n",
      "Phase: val\n",
      "Iterations completed\n",
      "val Loss: 0.4746 Acc: 0.8135\n",
      "\n",
      "----------\n",
      "\n",
      "Epoch: 6/20\n",
      "Phase: train\n",
      "Iterations completed\n",
      "train Loss: 0.3991 Acc: 0.8523\n",
      "\n",
      "Phase: val\n",
      "Iterations completed\n",
      "val Loss: 0.3880 Acc: 0.8394\n",
      "\n",
      "----------\n",
      "\n",
      "Epoch: 7/20\n",
      "Phase: train\n",
      "Iterations completed\n",
      "train Loss: 0.3381 Acc: 0.8738\n",
      "\n",
      "Phase: val\n",
      "Iterations completed\n",
      "val Loss: 0.3837 Acc: 0.8497\n",
      "\n",
      "----------\n",
      "\n",
      "Epoch: 9/20\n",
      "Phase: train\n",
      "Iterations completed\n",
      "train Loss: 0.3197 Acc: 0.8809\n",
      "\n",
      "Phase: val\n",
      "Iterations completed\n",
      "val Loss: 0.3922 Acc: 0.8497\n",
      "\n",
      "----------\n",
      "\n",
      "Epoch: 10/20\n",
      "Phase: train\n",
      "Iterations completed\n",
      "train Loss: 0.3048 Acc: 0.8866\n",
      "\n",
      "Phase: val\n",
      "Iterations completed\n",
      "val Loss: 0.3847 Acc: 0.8446\n",
      "\n",
      "----------\n",
      "\n",
      "Epoch: 11/20\n",
      "Phase: train\n",
      "Iterations completed\n",
      "train Loss: 0.2816 Acc: 0.8939\n",
      "\n",
      "Phase: val\n",
      "Iterations completed\n",
      "val Loss: 0.3533 Acc: 0.8549\n",
      "\n",
      "----------\n",
      "\n",
      "Epoch: 12/20\n",
      "Phase: train\n",
      "Iterations completed\n",
      "train Loss: 0.2815 Acc: 0.8970\n",
      "\n",
      "Phase: val\n",
      "Iterations completed\n",
      "val Loss: 0.3486 Acc: 0.8549\n",
      "\n",
      "----------\n",
      "\n",
      "Epoch: 13/20\n",
      "Phase: train\n",
      "Iterations completed\n",
      "train Loss: 0.2703 Acc: 0.8991\n",
      "\n",
      "Phase: val\n",
      "Iterations completed\n",
      "val Loss: 0.3513 Acc: 0.8601\n",
      "\n",
      "----------\n",
      "\n",
      "Epoch: 14/20\n",
      "Phase: train\n",
      "Iterations completed\n",
      "train Loss: 0.2740 Acc: 0.8983\n",
      "\n",
      "Phase: val\n",
      "Iterations completed\n",
      "val Loss: 0.3543 Acc: 0.8601\n",
      "\n",
      "----------\n",
      "\n",
      "Epoch: 15/20\n",
      "Phase: train\n",
      "Iterations completed\n",
      "train Loss: 0.2737 Acc: 0.8985\n",
      "\n",
      "Phase: val\n",
      "Iterations completed\n",
      "val Loss: 0.3578 Acc: 0.8653\n",
      "\n",
      "----------\n",
      "\n",
      "Epoch: 16/20\n",
      "Phase: train\n",
      "Iterations completed\n",
      "train Loss: 0.2741 Acc: 0.8956\n",
      "\n",
      "Phase: val\n",
      "Iterations completed\n",
      "val Loss: 0.3562 Acc: 0.8549\n",
      "\n",
      "----------\n",
      "\n",
      "Epoch: 17/20\n",
      "Phase: train\n",
      "Iterations completed\n",
      "train Loss: 0.2688 Acc: 0.8985\n",
      "\n",
      "Phase: val\n",
      "Iterations completed\n",
      "val Loss: 0.3594 Acc: 0.8497\n",
      "\n",
      "----------\n",
      "\n",
      "Epoch: 18/20\n",
      "Phase: train\n",
      "Iterations completed\n",
      "train Loss: 0.2658 Acc: 0.9025\n",
      "\n",
      "Phase: val\n",
      "Iterations completed\n",
      "val Loss: 0.3459 Acc: 0.8653\n",
      "\n",
      "----------\n",
      "\n",
      "Epoch: 19/20\n",
      "Phase: train\n",
      "Iterations completed\n",
      "train Loss: 0.2710 Acc: 0.8942\n",
      "\n",
      "Phase: val\n",
      "Iterations completed\n",
      "val Loss: 0.3473 Acc: 0.8601\n",
      "\n",
      "----------\n",
      "\n",
      "Epoch: 20/20\n",
      "Phase: train\n",
      "Iterations completed\n",
      "train Loss: 0.2665 Acc: 0.9007\n",
      "\n",
      "Phase: val\n",
      "Iterations completed\n",
      "val Loss: 0.3500 Acc: 0.8549\n",
      "\n",
      "----------\n",
      "\n",
      "Training complete in 26m 58s\n",
      "Best val Acc: 0.8653\n"
     ]
    },
    {
     "name": "stderr",
     "output_type": "stream",
     "text": [
      "Widget Javascript not detected.  It may not be installed or enabled properly. Reconnecting the current kernel may help.\n"
     ]
    },
    {
     "data": {
      "application/vnd.jupyter.widget-view+json": {
       "model_id": "09af47ca43f34f8e8b1096a5aa7d2a2f"
      }
     },
     "metadata": {},
     "output_type": "display_data"
    },
    {
     "data": {
      "text/html": [
       "<style>\n",
       "    table.wandb td:nth-child(1) { padding: 0 10px; text-align: left ; width: auto;} td:nth-child(2) {text-align: left ; width: 100%}\n",
       "    .wandb-row { display: flex; flex-direction: row; flex-wrap: wrap; justify-content: flex-start; width: 100% }\n",
       "    .wandb-col { display: flex; flex-direction: column; flex-basis: 100%; flex: 1; padding: 10px; }\n",
       "    </style>\n",
       "<div class=\"wandb-row\"><div class=\"wandb-col\"><h3>Run history:</h3><br/><table class=\"wandb\"><tr><td>train_batch_acc</td><td>▁▃▃▃▄▇▃▃▅▅▆▃▆▆▅▆█▆▇▃▇▃▆▇▄▇▆▄█▇▆▇▆▆▄▅█▅▃▃</td></tr><tr><td>train_batch_loss</td><td>██▆▅▇▂▅▄▅▃▃▇▂▃▄▃▁▃▃▄▁▃▂▂▄▂▁▄▂▁▃▁▂▃▄▃▁▃▅▄</td></tr><tr><td>val_acc</td><td>▁▅▃▆▅▆▇▇▇▇▇▇███▇▇██▇</td></tr><tr><td>val_loss</td><td>█▅▄▄▃▂▂▂▂▂▁▁▁▁▁▁▁▁▁▁</td></tr></table><br/></div><div class=\"wandb-col\"><h3>Run summary:</h3><br/><table class=\"wandb\"><tr><td>train_batch_acc</td><td>0.83871</td></tr><tr><td>train_batch_loss</td><td>0.46175</td></tr><tr><td>val_acc</td><td>0.85492</td></tr><tr><td>val_loss</td><td>0.34997</td></tr></table><br/></div></div>"
      ],
      "text/plain": [
       "<IPython.core.display.HTML object>"
      ]
     },
     "metadata": {},
     "output_type": "display_data"
    },
    {
     "data": {
      "text/html": [
       " View run <strong style=\"color:#cdcd00\">serene-cloud-18</strong> at: <a href='https://wandb.ai/dsaperov-organization/mediscan-efficient-net-b0/runs/9r92ydy0' target=\"_blank\">https://wandb.ai/dsaperov-organization/mediscan-efficient-net-b0/runs/9r92ydy0</a><br/> View project at: <a href='https://wandb.ai/dsaperov-organization/mediscan-efficient-net-b0' target=\"_blank\">https://wandb.ai/dsaperov-organization/mediscan-efficient-net-b0</a><br/>Synced 5 W&B file(s), 0 media file(s), 0 artifact file(s) and 0 other file(s)"
      ],
      "text/plain": [
       "<IPython.core.display.HTML object>"
      ]
     },
     "metadata": {},
     "output_type": "display_data"
    },
    {
     "data": {
      "text/html": [
       "Find logs at: <code>./wandb/run-20240605_004814-9r92ydy0/logs</code>"
      ],
      "text/plain": [
       "<IPython.core.display.HTML object>"
      ]
     },
     "metadata": {},
     "output_type": "display_data"
    },
    {
     "name": "stdout",
     "output_type": "stream",
     "text": [
      "\n",
      "Лучшая ранее достигнутая точность: 0.922279792746114\n",
      "Лучшая точность в текущем эксперименте: 0.8652849740932643\n",
      "Точность НЕ улучшилась\n",
      "Разница между значениями: 0.0570\n"
     ]
    },
    {
     "name": "stderr",
     "output_type": "stream",
     "text": [
      "Widget Javascript not detected.  It may not be installed or enabled properly. Reconnecting the current kernel may help.\n"
     ]
    },
    {
     "data": {
      "application/vnd.jupyter.widget-view+json": {
       "model_id": "642915dbb0754b0094c817dcf32b744d"
      }
     },
     "metadata": {},
     "output_type": "display_data"
    },
    {
     "data": {
      "text/html": [
       "Tracking run with wandb version 0.17.0"
      ],
      "text/plain": [
       "<IPython.core.display.HTML object>"
      ]
     },
     "metadata": {},
     "output_type": "display_data"
    },
    {
     "data": {
      "text/html": [
       "Run data is saved locally in <code>/home/user/Downloads/ISIC2018/wandb/run-20240605_011517-uux70jj7</code>"
      ],
      "text/plain": [
       "<IPython.core.display.HTML object>"
      ]
     },
     "metadata": {},
     "output_type": "display_data"
    },
    {
     "data": {
      "text/html": [
       "Syncing run <strong><a href='https://wandb.ai/dsaperov-organization/mediscan-efficient-net-b0/runs/uux70jj7' target=\"_blank\">wise-lake-19</a></strong> to <a href='https://wandb.ai/dsaperov-organization/mediscan-efficient-net-b0' target=\"_blank\">Weights & Biases</a> (<a href='https://wandb.me/run' target=\"_blank\">docs</a>)<br/>"
      ],
      "text/plain": [
       "<IPython.core.display.HTML object>"
      ]
     },
     "metadata": {},
     "output_type": "display_data"
    },
    {
     "data": {
      "text/html": [
       " View project at <a href='https://wandb.ai/dsaperov-organization/mediscan-efficient-net-b0' target=\"_blank\">https://wandb.ai/dsaperov-organization/mediscan-efficient-net-b0</a>"
      ],
      "text/plain": [
       "<IPython.core.display.HTML object>"
      ]
     },
     "metadata": {},
     "output_type": "display_data"
    },
    {
     "data": {
      "text/html": [
       " View run at <a href='https://wandb.ai/dsaperov-organization/mediscan-efficient-net-b0/runs/uux70jj7' target=\"_blank\">https://wandb.ai/dsaperov-organization/mediscan-efficient-net-b0/runs/uux70jj7</a>"
      ],
      "text/plain": [
       "<IPython.core.display.HTML object>"
      ]
     },
     "metadata": {},
     "output_type": "display_data"
    },
    {
     "name": "stdout",
     "output_type": "stream",
     "text": [
      "Epoch: 1/20\n",
      "Phase: train\n",
      "Iterations completed\n",
      "train Loss: 0.7559 Acc: 0.7270\n",
      "\n",
      "Phase: val\n",
      "Iterations completed\n",
      "val Loss: 0.7008 Acc: 0.7098\n",
      "\n",
      "----------\n",
      "\n",
      "Epoch: 2/20\n",
      "Phase: train\n",
      "Iterations completed\n",
      "train Loss: 0.6148 Acc: 0.7767\n",
      "\n",
      "Phase: val\n",
      "Iterations completed\n",
      "val Loss: 0.4790 Acc: 0.8342\n",
      "\n",
      "----------\n",
      "\n",
      "Epoch: 3/20\n",
      "Phase: train\n",
      "Iterations completed\n",
      "train Loss: 0.5598 Acc: 0.7971\n",
      "\n",
      "Phase: val\n",
      "Iterations completed\n",
      "val Loss: 0.5732 Acc: 0.7565\n",
      "\n",
      "----------\n",
      "\n",
      "Epoch: 4/20\n",
      "Phase: train\n",
      "Iterations completed\n",
      "train Loss: 0.5156 Acc: 0.8150\n",
      "\n",
      "Phase: val\n",
      "Iterations completed\n",
      "val Loss: 0.5141 Acc: 0.7979\n",
      "\n",
      "----------\n",
      "\n",
      "Epoch: 5/20\n",
      "Phase: train\n",
      "Iterations completed\n",
      "train Loss: 0.3350 Acc: 0.8750\n",
      "\n",
      "Phase: val\n",
      "Iterations completed\n",
      "val Loss: 0.3205 Acc: 0.8860\n",
      "\n",
      "----------\n",
      "\n",
      "Epoch: 8/20\n",
      "Phase: train\n",
      "Iterations completed\n",
      "train Loss: 0.3249 Acc: 0.8778\n",
      "\n",
      "Phase: val\n",
      "Iterations completed\n",
      "val Loss: 0.3358 Acc: 0.8808\n",
      "\n",
      "----------\n",
      "\n",
      "Epoch: 9/20\n",
      "Phase: train\n",
      "Iterations completed\n",
      "train Loss: 0.3045 Acc: 0.8840\n",
      "\n",
      "Phase: val\n",
      "Iterations completed\n",
      "val Loss: 0.3249 Acc: 0.8964\n",
      "\n",
      "----------\n",
      "\n",
      "Epoch: 10/20\n",
      "Phase: train\n",
      "Iterations completed\n",
      "train Loss: 0.2857 Acc: 0.8936\n",
      "\n",
      "Phase: val\n",
      "Iterations completed\n",
      "val Loss: 0.3287 Acc: 0.9016\n",
      "\n",
      "----------\n",
      "\n",
      "Epoch: 11/20\n",
      "Phase: train\n",
      "Iterations completed\n",
      "train Loss: 0.2705 Acc: 0.8994\n",
      "\n",
      "Phase: val\n",
      "Iterations completed\n",
      "val Loss: 0.3031 Acc: 0.8964\n",
      "\n",
      "----------\n",
      "\n",
      "Epoch: 12/20\n",
      "Phase: train\n",
      "Iterations completed\n",
      "train Loss: 0.2655 Acc: 0.9008\n",
      "\n",
      "Phase: val\n",
      "Iterations completed\n",
      "val Loss: 0.2903 Acc: 0.9016\n",
      "\n",
      "----------\n",
      "\n",
      "Epoch: 13/20\n",
      "Phase: train\n",
      "Iterations completed\n",
      "train Loss: 0.2622 Acc: 0.9004\n",
      "\n",
      "Phase: val\n",
      "Iterations completed\n",
      "val Loss: 0.2780 Acc: 0.9119\n",
      "\n",
      "----------\n",
      "\n",
      "Epoch: 14/20\n",
      "Phase: train\n",
      "Iterations completed\n",
      "train Loss: 0.2624 Acc: 0.9003\n",
      "\n",
      "Phase: val\n",
      "Iterations completed\n",
      "val Loss: 0.2810 Acc: 0.9067\n",
      "\n",
      "----------\n",
      "\n",
      "Epoch: 15/20\n",
      "Phase: train\n",
      "Iterations completed\n",
      "train Loss: 0.2604 Acc: 0.9016\n",
      "\n",
      "Phase: val\n",
      "Iterations completed\n",
      "val Loss: 0.2750 Acc: 0.9171\n",
      "\n",
      "----------\n",
      "\n",
      "Epoch: 16/20\n",
      "Phase: train\n",
      "Iterations completed\n",
      "train Loss: 0.2602 Acc: 0.9018\n",
      "\n",
      "Phase: val\n",
      "Iterations completed\n",
      "val Loss: 0.2752 Acc: 0.9119\n",
      "\n",
      "----------\n",
      "\n",
      "Epoch: 17/20\n",
      "Phase: train\n",
      "Iterations completed\n",
      "train Loss: 0.2565 Acc: 0.9052\n",
      "\n",
      "Phase: val\n",
      "Iterations completed\n",
      "val Loss: 0.2848 Acc: 0.9119\n",
      "\n",
      "----------\n",
      "\n",
      "Epoch: 18/20\n",
      "Phase: train\n",
      "Iterations completed\n",
      "train Loss: 0.2502 Acc: 0.9075\n",
      "\n",
      "Phase: val\n",
      "Iterations completed\n",
      "val Loss: 0.2795 Acc: 0.9171\n",
      "\n",
      "----------\n",
      "\n",
      "Epoch: 19/20\n",
      "Phase: train\n",
      "Iterations completed\n",
      "train Loss: 0.2595 Acc: 0.9028\n",
      "\n",
      "Phase: val\n",
      "Iterations completed\n",
      "val Loss: 0.2760 Acc: 0.9171\n",
      "\n",
      "----------\n",
      "\n",
      "Epoch: 20/20\n",
      "Phase: train\n",
      "Iterations completed\n",
      "train Loss: 0.2546 Acc: 0.9059\n",
      "\n",
      "Phase: val\n",
      "Iterations completed\n",
      "val Loss: 0.2752 Acc: 0.9016\n",
      "\n",
      "----------\n",
      "\n",
      "Training complete in 24m 25s\n",
      "Best val Acc: 0.9171\n"
     ]
    },
    {
     "name": "stderr",
     "output_type": "stream",
     "text": [
      "Widget Javascript not detected.  It may not be installed or enabled properly. Reconnecting the current kernel may help.\n"
     ]
    },
    {
     "data": {
      "application/vnd.jupyter.widget-view+json": {
       "model_id": "8c3e09aedf494b3590bcf83906ad4f55"
      }
     },
     "metadata": {},
     "output_type": "display_data"
    },
    {
     "data": {
      "text/html": [
       "<style>\n",
       "    table.wandb td:nth-child(1) { padding: 0 10px; text-align: left ; width: auto;} td:nth-child(2) {text-align: left ; width: 100%}\n",
       "    .wandb-row { display: flex; flex-direction: row; flex-wrap: wrap; justify-content: flex-start; width: 100% }\n",
       "    .wandb-col { display: flex; flex-direction: column; flex-basis: 100%; flex: 1; padding: 10px; }\n",
       "    </style>\n",
       "<div class=\"wandb-row\"><div class=\"wandb-col\"><h3>Run history:</h3><br/><table class=\"wandb\"><tr><td>train_batch_acc</td><td>▁▂▃▄▅▇▄▄▅▆▇▄▆▅▅▅▇▆▇▄▅▅▅▇▃▇█▄▆▇▅▇▆▆▅▅▇▃▅▅</td></tr><tr><td>train_batch_loss</td><td>██▇▅▆▃▅▅▄▃▃▆▂▃▅▄▁▃▂▃▂▃▂▁▅▂▁▄▂▂▃▂▂▂▄▃▂▅▄▅</td></tr><tr><td>val_acc</td><td>▁▅▃▄▃▆▇▇▇▇▇▇███████▇</td></tr><tr><td>val_loss</td><td>█▄▆▅▆▃▂▂▂▂▁▁▁▁▁▁▁▁▁▁</td></tr></table><br/></div><div class=\"wandb-col\"><h3>Run summary:</h3><br/><table class=\"wandb\"><tr><td>train_batch_acc</td><td>0.87097</td></tr><tr><td>train_batch_loss</td><td>0.37206</td></tr><tr><td>val_acc</td><td>0.90155</td></tr><tr><td>val_loss</td><td>0.27521</td></tr></table><br/></div></div>"
      ],
      "text/plain": [
       "<IPython.core.display.HTML object>"
      ]
     },
     "metadata": {},
     "output_type": "display_data"
    },
    {
     "data": {
      "text/html": [
       " View run <strong style=\"color:#cdcd00\">wise-lake-19</strong> at: <a href='https://wandb.ai/dsaperov-organization/mediscan-efficient-net-b0/runs/uux70jj7' target=\"_blank\">https://wandb.ai/dsaperov-organization/mediscan-efficient-net-b0/runs/uux70jj7</a><br/> View project at: <a href='https://wandb.ai/dsaperov-organization/mediscan-efficient-net-b0' target=\"_blank\">https://wandb.ai/dsaperov-organization/mediscan-efficient-net-b0</a><br/>Synced 5 W&B file(s), 0 media file(s), 0 artifact file(s) and 0 other file(s)"
      ],
      "text/plain": [
       "<IPython.core.display.HTML object>"
      ]
     },
     "metadata": {},
     "output_type": "display_data"
    },
    {
     "data": {
      "text/html": [
       "Find logs at: <code>./wandb/run-20240605_011517-uux70jj7/logs</code>"
      ],
      "text/plain": [
       "<IPython.core.display.HTML object>"
      ]
     },
     "metadata": {},
     "output_type": "display_data"
    },
    {
     "name": "stdout",
     "output_type": "stream",
     "text": [
      "\n",
      "Лучшая ранее достигнутая точность: 0.922279792746114\n",
      "Лучшая точность в текущем эксперименте: 0.917098445595855\n",
      "Точность НЕ улучшилась\n",
      "Разница между значениями: 0.0052\n"
     ]
    }
   ],
   "source": [
    "for cj_config in color_jitter_configs:\n",
    "    data_transforms_train = [transforms.Resize(INPUT_SIZE),\n",
    "                             transforms.RandomHorizontalFlip(),\n",
    "                             transforms.RandomRotation(90),\n",
    "                             transforms.ColorJitter(**cj_config),\n",
    "                             transforms.ToTensor(),\n",
    "                             transforms.Normalize(NORMALIZATION_MEAN, NORMALIZATION_STD)]\n",
    "\n",
    "    data_transforms_eval = [transforms.Resize(INPUT_SIZE),\n",
    "                            transforms.ToTensor(),\n",
    "                            transforms.Normalize(NORMALIZATION_MEAN, NORMALIZATION_STD)]\n",
    "    \n",
    "    config, best_acc = run_transformations_experiment(config, data_transforms_train, data_transforms_eval,\n",
    "                                                      transformation_class, best_acc, cj_config)"
   ]
  },
  {
   "cell_type": "markdown",
   "id": "e7fcb293-3aee-4d0b-b3fb-7a6fa7bbab65",
   "metadata": {},
   "source": [
    "#### С оверсэмплингом"
   ]
  },
  {
   "cell_type": "code",
   "execution_count": 103,
   "id": "810d4703-0bdb-4955-bad8-edaac12d722f",
   "metadata": {},
   "outputs": [
    {
     "data": {
      "text/html": [
       "Tracking run with wandb version 0.17.0"
      ],
      "text/plain": [
       "<IPython.core.display.HTML object>"
      ]
     },
     "metadata": {},
     "output_type": "display_data"
    },
    {
     "data": {
      "text/html": [
       "Run data is saved locally in <code>/home/user/Downloads/ISIC2018/wandb/run-20240605_014117-0o8tsca6</code>"
      ],
      "text/plain": [
       "<IPython.core.display.HTML object>"
      ]
     },
     "metadata": {},
     "output_type": "display_data"
    },
    {
     "data": {
      "text/html": [
       "Syncing run <strong><a href='https://wandb.ai/dsaperov-organization/mediscan-efficient-net-b0/runs/0o8tsca6' target=\"_blank\">wobbly-frost-20</a></strong> to <a href='https://wandb.ai/dsaperov-organization/mediscan-efficient-net-b0' target=\"_blank\">Weights & Biases</a> (<a href='https://wandb.me/run' target=\"_blank\">docs</a>)<br/>"
      ],
      "text/plain": [
       "<IPython.core.display.HTML object>"
      ]
     },
     "metadata": {},
     "output_type": "display_data"
    },
    {
     "data": {
      "text/html": [
       " View project at <a href='https://wandb.ai/dsaperov-organization/mediscan-efficient-net-b0' target=\"_blank\">https://wandb.ai/dsaperov-organization/mediscan-efficient-net-b0</a>"
      ],
      "text/plain": [
       "<IPython.core.display.HTML object>"
      ]
     },
     "metadata": {},
     "output_type": "display_data"
    },
    {
     "data": {
      "text/html": [
       " View run at <a href='https://wandb.ai/dsaperov-organization/mediscan-efficient-net-b0/runs/0o8tsca6' target=\"_blank\">https://wandb.ai/dsaperov-organization/mediscan-efficient-net-b0/runs/0o8tsca6</a>"
      ],
      "text/plain": [
       "<IPython.core.display.HTML object>"
      ]
     },
     "metadata": {},
     "output_type": "display_data"
    },
    {
     "name": "stdout",
     "output_type": "stream",
     "text": [
      "Epoch: 1/20\n",
      "Phase: train\n",
      "Iterations completed\n",
      "train Loss: 0.8185 Acc: 0.7052\n",
      "\n",
      "Phase: val\n",
      "Iterations completed\n",
      "val Loss: 0.6593 Acc: 0.7772\n",
      "\n",
      "----------\n",
      "\n",
      "Epoch: 2/20\n",
      "Phase: train\n",
      "Iterations completed\n",
      "train Loss: 0.5188 Acc: 0.8094\n",
      "\n",
      "Phase: val\n",
      "Iterations completed\n",
      "val Loss: 0.8322 Acc: 0.7461\n",
      "\n",
      "----------\n",
      "\n",
      "Epoch: 3/20\n",
      "Phase: train\n",
      "Iterations completed\n",
      "train Loss: 0.3994 Acc: 0.8539\n",
      "\n",
      "Phase: val\n",
      "Iterations completed\n",
      "val Loss: 0.6132 Acc: 0.8135\n",
      "\n",
      "----------\n",
      "\n",
      "Epoch: 4/20\n",
      "Phase: train\n",
      "Iterations completed\n",
      "train Loss: 0.3541 Acc: 0.8721\n",
      "\n",
      "Phase: val\n",
      "Iterations completed\n",
      "val Loss: 0.7531 Acc: 0.7979\n",
      "\n",
      "----------\n",
      "\n",
      "Epoch: 5/20\n",
      "Phase: train\n",
      "Iterations completed\n",
      "train Loss: 0.2882 Acc: 0.8939\n",
      "\n",
      "Phase: val\n",
      "Iterations completed\n",
      "val Loss: 0.8622 Acc: 0.7565\n",
      "\n",
      "----------\n",
      "\n",
      "Epoch: 6/20\n",
      "Phase: train\n",
      "Iterations completed\n",
      "train Loss: 0.1952 Acc: 0.9309\n",
      "\n",
      "Phase: val\n",
      "Iterations completed\n",
      "val Loss: 0.6536 Acc: 0.8187\n",
      "\n",
      "----------\n",
      "\n",
      "Epoch: 7/20\n",
      "Phase: train\n",
      "Iterations completed\n",
      "train Loss: 0.1480 Acc: 0.9449\n",
      "\n",
      "Phase: val\n",
      "Iterations completed\n",
      "val Loss: 0.6119 Acc: 0.8290\n",
      "\n",
      "----------\n",
      "\n",
      "Epoch: 8/20\n",
      "Phase: train\n",
      "Iterations completed\n",
      "train Loss: 0.1280 Acc: 0.9535\n",
      "\n",
      "Phase: val\n",
      "Iterations completed\n",
      "val Loss: 0.6040 Acc: 0.8446\n",
      "\n",
      "----------\n",
      "\n",
      "Epoch: 9/20\n",
      "Phase: train\n",
      "Iterations completed\n",
      "train Loss: 0.1075 Acc: 0.9618\n",
      "\n",
      "Phase: val\n",
      "Iterations completed\n",
      "val Loss: 0.6594 Acc: 0.8394\n",
      "\n",
      "----------\n",
      "\n",
      "Epoch: 10/20\n",
      "Phase: train\n",
      "Iterations completed\n",
      "train Loss: 0.0984 Acc: 0.9654\n",
      "\n",
      "Phase: val\n",
      "Iterations completed\n",
      "val Loss: 0.6387 Acc: 0.8238\n",
      "\n",
      "----------\n",
      "\n",
      "Epoch: 11/20\n",
      "Phase: train\n",
      "Iterations completed\n",
      "train Loss: 0.0896 Acc: 0.9681\n",
      "\n",
      "Phase: val\n",
      "Iterations completed\n",
      "val Loss: 0.6325 Acc: 0.8187\n",
      "\n",
      "----------\n",
      "\n",
      "Epoch: 12/20\n",
      "Phase: train\n",
      "Iterations completed\n",
      "train Loss: 0.0810 Acc: 0.9694\n",
      "\n",
      "Phase: val\n",
      "Iterations completed\n",
      "val Loss: 0.6301 Acc: 0.8342\n",
      "\n",
      "----------\n",
      "\n",
      "Epoch: 13/20\n",
      "Phase: train\n",
      "Iterations completed\n",
      "train Loss: 0.0851 Acc: 0.9716\n",
      "\n",
      "Phase: val\n",
      "Iterations completed\n",
      "val Loss: 0.6238 Acc: 0.8290\n",
      "\n",
      "----------\n",
      "\n",
      "Epoch: 14/20\n",
      "Phase: train\n",
      "Iterations completed\n",
      "train Loss: 0.0770 Acc: 0.9728\n",
      "\n",
      "Phase: val\n",
      "Iterations completed\n",
      "val Loss: 0.6293 Acc: 0.8342\n",
      "\n",
      "----------\n",
      "\n",
      "Epoch: 15/20\n",
      "Phase: train\n",
      "Iterations completed\n",
      "train Loss: 0.0751 Acc: 0.9730\n",
      "\n",
      "Phase: val\n",
      "Iterations completed\n",
      "val Loss: 0.6473 Acc: 0.8446\n",
      "\n",
      "----------\n",
      "\n",
      "Epoch: 16/20\n",
      "Phase: train\n",
      "Iterations completed\n",
      "train Loss: 0.0782 Acc: 0.9712\n",
      "\n",
      "Phase: val\n",
      "Iterations completed\n",
      "val Loss: 0.6264 Acc: 0.8290\n",
      "\n",
      "----------\n",
      "\n",
      "Epoch: 17/20\n",
      "Phase: train\n",
      "Iterations completed\n",
      "train Loss: 0.0774 Acc: 0.9722\n",
      "\n",
      "Phase: val\n",
      "Iterations completed\n",
      "val Loss: 0.6453 Acc: 0.8290\n",
      "\n",
      "----------\n",
      "\n",
      "Epoch: 18/20\n",
      "Phase: train\n",
      "Iterations completed\n",
      "train Loss: 0.0790 Acc: 0.9705\n",
      "\n",
      "Phase: val\n",
      "Iterations completed\n",
      "val Loss: 0.6386 Acc: 0.8342\n",
      "\n",
      "----------\n",
      "\n",
      "Epoch: 19/20\n",
      "Phase: train\n",
      "Iterations completed\n",
      "train Loss: 0.0783 Acc: 0.9724\n",
      "\n",
      "Phase: val\n",
      "Iterations completed\n",
      "val Loss: 0.6396 Acc: 0.8290\n",
      "\n",
      "----------\n",
      "\n",
      "Epoch: 20/20\n",
      "Phase: train\n",
      "Iterations completed\n",
      "train Loss: 0.0786 Acc: 0.9735\n",
      "\n",
      "Phase: val\n",
      "Iterations completed\n",
      "val Loss: 0.6397 Acc: 0.8238\n",
      "\n",
      "----------\n",
      "\n",
      "Training complete in 21m 16s\n",
      "Best val Acc: 0.8446\n"
     ]
    },
    {
     "name": "stderr",
     "output_type": "stream",
     "text": [
      "Widget Javascript not detected.  It may not be installed or enabled properly. Reconnecting the current kernel may help.\n"
     ]
    },
    {
     "data": {
      "application/vnd.jupyter.widget-view+json": {
       "model_id": "af665f79cd3741ff8807a74b1d9b1f18"
      }
     },
     "metadata": {},
     "output_type": "display_data"
    },
    {
     "data": {
      "text/html": [
       "<style>\n",
       "    table.wandb td:nth-child(1) { padding: 0 10px; text-align: left ; width: auto;} td:nth-child(2) {text-align: left ; width: 100%}\n",
       "    .wandb-row { display: flex; flex-direction: row; flex-wrap: wrap; justify-content: flex-start; width: 100% }\n",
       "    .wandb-col { display: flex; flex-direction: column; flex-basis: 100%; flex: 1; padding: 10px; }\n",
       "    </style>\n",
       "<div class=\"wandb-row\"><div class=\"wandb-col\"><h3>Run history:</h3><br/><table class=\"wandb\"><tr><td>train_batch_acc</td><td>▁▃▄▆▅▅▄▅▆▇▆▇▆▇▅▆▇▇▆████▇███▆██▇█▇█▇▇▇▇▇▇</td></tr><tr><td>train_batch_loss</td><td>█▅▅▃▄▄▄▃▃▂▃▂▂▂▃▃▂▁▂▁▁▁▁▁▁▁▁▂▁▁▂▁▂▁▁▁▁▁▂▂</td></tr><tr><td>val_acc</td><td>▃▁▆▅▂▆▇██▇▆▇▇▇█▇▇▇▇▇</td></tr><tr><td>val_loss</td><td>▂▇▁▅█▂▁▁▃▂▂▂▂▂▂▂▂▂▂▂</td></tr></table><br/></div><div class=\"wandb-col\"><h3>Run summary:</h3><br/><table class=\"wandb\"><tr><td>train_batch_acc</td><td>0.96774</td></tr><tr><td>train_batch_loss</td><td>0.03804</td></tr><tr><td>val_acc</td><td>0.82383</td></tr><tr><td>val_loss</td><td>0.63974</td></tr></table><br/></div></div>"
      ],
      "text/plain": [
       "<IPython.core.display.HTML object>"
      ]
     },
     "metadata": {},
     "output_type": "display_data"
    },
    {
     "data": {
      "text/html": [
       " View run <strong style=\"color:#cdcd00\">wobbly-frost-20</strong> at: <a href='https://wandb.ai/dsaperov-organization/mediscan-efficient-net-b0/runs/0o8tsca6' target=\"_blank\">https://wandb.ai/dsaperov-organization/mediscan-efficient-net-b0/runs/0o8tsca6</a><br/> View project at: <a href='https://wandb.ai/dsaperov-organization/mediscan-efficient-net-b0' target=\"_blank\">https://wandb.ai/dsaperov-organization/mediscan-efficient-net-b0</a><br/>Synced 5 W&B file(s), 0 media file(s), 0 artifact file(s) and 0 other file(s)"
      ],
      "text/plain": [
       "<IPython.core.display.HTML object>"
      ]
     },
     "metadata": {},
     "output_type": "display_data"
    },
    {
     "data": {
      "text/html": [
       "Find logs at: <code>./wandb/run-20240605_014117-0o8tsca6/logs</code>"
      ],
      "text/plain": [
       "<IPython.core.display.HTML object>"
      ]
     },
     "metadata": {},
     "output_type": "display_data"
    },
    {
     "name": "stdout",
     "output_type": "stream",
     "text": [
      "\n",
      "Лучшая ранее достигнутая точность: 0.9015544041450777\n",
      "Лучшая точность в текущем эксперименте: 0.844559585492228\n",
      "Точность НЕ улучшилась\n",
      "Разница между значениями: 0.0570\n"
     ]
    },
    {
     "name": "stderr",
     "output_type": "stream",
     "text": [
      "Widget Javascript not detected.  It may not be installed or enabled properly. Reconnecting the current kernel may help.\n"
     ]
    },
    {
     "data": {
      "application/vnd.jupyter.widget-view+json": {
       "model_id": "3f06c10ede0d466c8841849a511474ee"
      }
     },
     "metadata": {},
     "output_type": "display_data"
    },
    {
     "data": {
      "text/html": [
       "Tracking run with wandb version 0.17.0"
      ],
      "text/plain": [
       "<IPython.core.display.HTML object>"
      ]
     },
     "metadata": {},
     "output_type": "display_data"
    },
    {
     "data": {
      "text/html": [
       "Run data is saved locally in <code>/home/user/Downloads/ISIC2018/wandb/run-20240605_020240-clx5mdnl</code>"
      ],
      "text/plain": [
       "<IPython.core.display.HTML object>"
      ]
     },
     "metadata": {},
     "output_type": "display_data"
    },
    {
     "data": {
      "text/html": [
       "Syncing run <strong><a href='https://wandb.ai/dsaperov-organization/mediscan-efficient-net-b0/runs/clx5mdnl' target=\"_blank\">hardy-snowflake-21</a></strong> to <a href='https://wandb.ai/dsaperov-organization/mediscan-efficient-net-b0' target=\"_blank\">Weights & Biases</a> (<a href='https://wandb.me/run' target=\"_blank\">docs</a>)<br/>"
      ],
      "text/plain": [
       "<IPython.core.display.HTML object>"
      ]
     },
     "metadata": {},
     "output_type": "display_data"
    },
    {
     "data": {
      "text/html": [
       " View project at <a href='https://wandb.ai/dsaperov-organization/mediscan-efficient-net-b0' target=\"_blank\">https://wandb.ai/dsaperov-organization/mediscan-efficient-net-b0</a>"
      ],
      "text/plain": [
       "<IPython.core.display.HTML object>"
      ]
     },
     "metadata": {},
     "output_type": "display_data"
    },
    {
     "data": {
      "text/html": [
       " View run at <a href='https://wandb.ai/dsaperov-organization/mediscan-efficient-net-b0/runs/clx5mdnl' target=\"_blank\">https://wandb.ai/dsaperov-organization/mediscan-efficient-net-b0/runs/clx5mdnl</a>"
      ],
      "text/plain": [
       "<IPython.core.display.HTML object>"
      ]
     },
     "metadata": {},
     "output_type": "display_data"
    },
    {
     "name": "stdout",
     "output_type": "stream",
     "text": [
      "Epoch: 1/20\n",
      "Phase: train\n",
      "Iterations completed\n",
      "train Loss: 0.7992 Acc: 0.7091\n",
      "\n",
      "Phase: val\n",
      "Iterations completed\n",
      "val Loss: 0.6274 Acc: 0.7772\n",
      "\n",
      "----------\n",
      "\n",
      "Epoch: 2/20\n",
      "Phase: train\n",
      "Iterations completed\n",
      "train Loss: 0.5013 Acc: 0.8176\n",
      "\n",
      "Phase: val\n",
      "Iterations completed\n",
      "val Loss: 0.6948 Acc: 0.7668\n",
      "\n",
      "----------\n",
      "\n",
      "Epoch: 3/20\n",
      "Phase: train\n",
      "Iterations completed\n",
      "train Loss: 0.3991 Acc: 0.8535\n",
      "\n",
      "Phase: val\n",
      "Iterations completed\n",
      "val Loss: 0.5693 Acc: 0.8135\n",
      "\n",
      "----------\n",
      "\n",
      "Epoch: 4/20\n",
      "Phase: train\n",
      "Iterations completed\n",
      "train Loss: 0.3496 Acc: 0.8758\n",
      "\n",
      "Phase: val\n",
      "Iterations completed\n",
      "val Loss: 0.6514 Acc: 0.7979\n",
      "\n",
      "----------\n",
      "\n",
      "Epoch: 5/20\n",
      "Phase: train\n",
      "Iterations completed\n",
      "train Loss: 0.2867 Acc: 0.8958\n",
      "\n",
      "Phase: val\n",
      "Iterations completed\n",
      "val Loss: 0.8252 Acc: 0.7254\n",
      "\n",
      "----------\n",
      "\n",
      "Epoch: 6/20\n",
      "Phase: train\n",
      "Iterations completed\n",
      "train Loss: 0.1871 Acc: 0.9308\n",
      "\n",
      "Phase: val\n",
      "Iterations completed\n",
      "val Loss: 0.5271 Acc: 0.8446\n",
      "\n",
      "----------\n",
      "\n",
      "Epoch: 7/20\n",
      "Phase: train\n",
      "Iterations completed\n",
      "train Loss: 0.1421 Acc: 0.9488\n",
      "\n",
      "Phase: val\n",
      "Iterations completed\n",
      "val Loss: 0.4969 Acc: 0.8497\n",
      "\n",
      "----------\n",
      "\n",
      "Epoch: 8/20\n",
      "Phase: train\n",
      "Iterations completed\n",
      "train Loss: 0.1210 Acc: 0.9577\n",
      "\n",
      "Phase: val\n",
      "Iterations completed\n",
      "val Loss: 0.4965 Acc: 0.8342\n",
      "\n",
      "----------\n",
      "\n",
      "Epoch: 9/20\n",
      "Phase: train\n",
      "Iterations completed\n",
      "train Loss: 0.1017 Acc: 0.9628\n",
      "\n",
      "Phase: val\n",
      "Iterations completed\n",
      "val Loss: 0.4803 Acc: 0.8497\n",
      "\n",
      "----------\n",
      "\n",
      "Epoch: 10/20\n",
      "Phase: train\n",
      "Iterations completed\n",
      "train Loss: 0.0925 Acc: 0.9667\n",
      "\n",
      "Phase: val\n",
      "Iterations completed\n",
      "val Loss: 0.5340 Acc: 0.8342\n",
      "\n",
      "----------\n",
      "\n",
      "Epoch: 11/20\n",
      "Phase: train\n",
      "Iterations completed\n",
      "train Loss: 0.0805 Acc: 0.9713\n",
      "\n",
      "Phase: val\n",
      "Iterations completed\n",
      "val Loss: 0.5125 Acc: 0.8497\n",
      "\n",
      "----------\n",
      "\n",
      "Epoch: 12/20\n",
      "Phase: train\n",
      "Iterations completed\n",
      "train Loss: 0.0784 Acc: 0.9726\n",
      "\n",
      "Phase: val\n",
      "Iterations completed\n",
      "val Loss: 0.5137 Acc: 0.8601\n",
      "\n",
      "----------\n",
      "\n",
      "Epoch: 13/20\n",
      "Phase: train\n",
      "Iterations completed\n",
      "train Loss: 0.0795 Acc: 0.9720\n",
      "\n",
      "Phase: val\n",
      "Iterations completed\n",
      "val Loss: 0.5107 Acc: 0.8601\n",
      "\n",
      "----------\n",
      "\n",
      "Epoch: 14/20\n",
      "Phase: train\n",
      "Iterations completed\n",
      "train Loss: 0.0755 Acc: 0.9733\n",
      "\n",
      "Phase: val\n",
      "Iterations completed\n",
      "val Loss: 0.5021 Acc: 0.8601\n",
      "\n",
      "----------\n",
      "\n",
      "Epoch: 15/20\n",
      "Phase: train\n",
      "Iterations completed\n",
      "train Loss: 0.0751 Acc: 0.9726\n",
      "\n",
      "Phase: val\n",
      "Iterations completed\n",
      "val Loss: 0.4970 Acc: 0.8601\n",
      "\n",
      "----------\n",
      "\n",
      "Epoch: 16/20\n",
      "Phase: train\n",
      "Iterations completed\n",
      "train Loss: 0.0754 Acc: 0.9722\n",
      "\n",
      "Phase: val\n",
      "Iterations completed\n",
      "val Loss: 0.4967 Acc: 0.8601\n",
      "\n",
      "----------\n",
      "\n",
      "Epoch: 17/20\n",
      "Phase: train\n",
      "Iterations completed\n",
      "train Loss: 0.0685 Acc: 0.9765\n",
      "\n",
      "Phase: val\n",
      "Iterations completed\n",
      "val Loss: 0.5015 Acc: 0.8705\n",
      "\n",
      "----------\n",
      "\n",
      "Epoch: 18/20\n",
      "Phase: train\n",
      "Iterations completed\n",
      "train Loss: 0.0742 Acc: 0.9739\n",
      "\n",
      "Phase: val\n",
      "Iterations completed\n",
      "val Loss: 0.4982 Acc: 0.8705\n",
      "\n",
      "----------\n",
      "\n",
      "Epoch: 19/20\n",
      "Phase: train\n",
      "Iterations completed\n",
      "train Loss: 0.0704 Acc: 0.9755\n",
      "\n",
      "Phase: val\n",
      "Iterations completed\n",
      "val Loss: 0.4949 Acc: 0.8549\n",
      "\n",
      "----------\n",
      "\n",
      "Epoch: 20/20\n",
      "Phase: train\n",
      "Iterations completed\n",
      "train Loss: 0.0743 Acc: 0.9734\n",
      "\n",
      "Phase: val\n",
      "Iterations completed\n",
      "val Loss: 0.4949 Acc: 0.8601\n",
      "\n",
      "----------\n",
      "\n",
      "Training complete in 21m 21s\n",
      "Best val Acc: 0.8705\n"
     ]
    },
    {
     "name": "stderr",
     "output_type": "stream",
     "text": [
      "Widget Javascript not detected.  It may not be installed or enabled properly. Reconnecting the current kernel may help.\n"
     ]
    },
    {
     "data": {
      "application/vnd.jupyter.widget-view+json": {
       "model_id": "7a052d4d7ea0433fa0598e2e4f27156c"
      }
     },
     "metadata": {},
     "output_type": "display_data"
    },
    {
     "data": {
      "text/html": [
       "<style>\n",
       "    table.wandb td:nth-child(1) { padding: 0 10px; text-align: left ; width: auto;} td:nth-child(2) {text-align: left ; width: 100%}\n",
       "    .wandb-row { display: flex; flex-direction: row; flex-wrap: wrap; justify-content: flex-start; width: 100% }\n",
       "    .wandb-col { display: flex; flex-direction: column; flex-basis: 100%; flex: 1; padding: 10px; }\n",
       "    </style>\n",
       "<div class=\"wandb-row\"><div class=\"wandb-col\"><h3>Run history:</h3><br/><table class=\"wandb\"><tr><td>train_batch_acc</td><td>▁▆▅▅▆▆▆▆▆█▆▇▇▇▇▇▇█▇██████▇█▇██▇█████████</td></tr><tr><td>train_batch_loss</td><td>█▄▄▄▅▄▄▃▃▂▃▂▂▂▂▂▂▁▂▁▁▁▁▁▁▂▁▁▁▁▁▁▁▁▁▂▁▁▁▁</td></tr><tr><td>val_acc</td><td>▄▃▅▅▁▇▇▆▇▆▇███████▇█</td></tr><tr><td>val_loss</td><td>▄▅▃▄█▂▁▁▁▂▂▂▂▁▁▁▁▁▁▁</td></tr></table><br/></div><div class=\"wandb-col\"><h3>Run summary:</h3><br/><table class=\"wandb\"><tr><td>train_batch_acc</td><td>0.96774</td></tr><tr><td>train_batch_loss</td><td>0.04601</td></tr><tr><td>val_acc</td><td>0.8601</td></tr><tr><td>val_loss</td><td>0.49489</td></tr></table><br/></div></div>"
      ],
      "text/plain": [
       "<IPython.core.display.HTML object>"
      ]
     },
     "metadata": {},
     "output_type": "display_data"
    },
    {
     "data": {
      "text/html": [
       " View run <strong style=\"color:#cdcd00\">hardy-snowflake-21</strong> at: <a href='https://wandb.ai/dsaperov-organization/mediscan-efficient-net-b0/runs/clx5mdnl' target=\"_blank\">https://wandb.ai/dsaperov-organization/mediscan-efficient-net-b0/runs/clx5mdnl</a><br/> View project at: <a href='https://wandb.ai/dsaperov-organization/mediscan-efficient-net-b0' target=\"_blank\">https://wandb.ai/dsaperov-organization/mediscan-efficient-net-b0</a><br/>Synced 5 W&B file(s), 0 media file(s), 0 artifact file(s) and 0 other file(s)"
      ],
      "text/plain": [
       "<IPython.core.display.HTML object>"
      ]
     },
     "metadata": {},
     "output_type": "display_data"
    },
    {
     "data": {
      "text/html": [
       "Find logs at: <code>./wandb/run-20240605_020240-clx5mdnl/logs</code>"
      ],
      "text/plain": [
       "<IPython.core.display.HTML object>"
      ]
     },
     "metadata": {},
     "output_type": "display_data"
    },
    {
     "name": "stdout",
     "output_type": "stream",
     "text": [
      "\n",
      "Лучшая ранее достигнутая точность: 0.9015544041450777\n",
      "Лучшая точность в текущем эксперименте: 0.8704663212435233\n",
      "Точность НЕ улучшилась\n",
      "Разница между значениями: 0.0311\n"
     ]
    }
   ],
   "source": [
    "for cj_config in color_jitter_configs:\n",
    "    data_transforms_train = [transforms.CenterCrop(IMAGE_MIN_SIZE),\n",
    "                             transforms.Resize(INPUT_SIZE),\n",
    "                             transforms.RandomHorizontalFlip(),\n",
    "                             transforms.ColorJitter(**cj_config),\n",
    "                             transforms.ToTensor(),\n",
    "                             transforms.Normalize(NORMALIZATION_MEAN, NORMALIZATION_STD)]\n",
    "\n",
    "    data_transforms_eval = [transforms.CenterCrop(IMAGE_MIN_SIZE),\n",
    "                            transforms.Resize(INPUT_SIZE),\n",
    "                            transforms.ToTensor(),\n",
    "                            transforms.Normalize(NORMALIZATION_MEAN, NORMALIZATION_STD)]\n",
    "    \n",
    "    config_oversampling, best_acc_oversampling = run_transformations_experiment(config_oversampling,\n",
    "                                                                                data_transforms_train, \n",
    "                                                                                data_transforms_eval,\n",
    "                                                                                transformation_class,\n",
    "                                                                                best_acc_oversampling, \n",
    "                                                                                cj_config, sampler=sampler)"
   ]
  },
  {
   "cell_type": "markdown",
   "id": "62af32d4-0d4a-494b-816d-82929b8f872e",
   "metadata": {},
   "source": [
    "### `RandomPerspective`\n",
    "#### Без оверсэмплинга"
   ]
  },
  {
   "cell_type": "code",
   "execution_count": 104,
   "id": "6154207b-5355-4974-9b82-e0d336de8d20",
   "metadata": {},
   "outputs": [],
   "source": [
    "transformation_class = 'RandomPerspective'"
   ]
  },
  {
   "cell_type": "code",
   "execution_count": 107,
   "id": "ed73590b-f351-4f74-a88c-16fd1955af47",
   "metadata": {},
   "outputs": [],
   "source": [
    "data_transforms_train = [transforms.Resize(INPUT_SIZE),\n",
    "                         transforms.RandomHorizontalFlip(),\n",
    "                         transforms.RandomRotation(90),\n",
    "                         transforms.RandomPerspective(),\n",
    "                         transforms.ToTensor(),\n",
    "                         transforms.Normalize(NORMALIZATION_MEAN, NORMALIZATION_STD)]\n",
    "\n",
    "data_transforms_eval = [transforms.Resize(INPUT_SIZE),\n",
    "                        transforms.ToTensor(),\n",
    "                        transforms.Normalize(NORMALIZATION_MEAN, NORMALIZATION_STD)]"
   ]
  },
  {
   "cell_type": "code",
   "execution_count": 108,
   "id": "5f99877b-fd6a-4888-a142-2b7fe2d1c8bd",
   "metadata": {},
   "outputs": [
    {
     "data": {
      "text/html": [
       "Tracking run with wandb version 0.17.0"
      ],
      "text/plain": [
       "<IPython.core.display.HTML object>"
      ]
     },
     "metadata": {},
     "output_type": "display_data"
    },
    {
     "data": {
      "text/html": [
       "Run data is saved locally in <code>/home/user/Downloads/ISIC2018/wandb/run-20240605_022457-0lnkt04m</code>"
      ],
      "text/plain": [
       "<IPython.core.display.HTML object>"
      ]
     },
     "metadata": {},
     "output_type": "display_data"
    },
    {
     "data": {
      "text/html": [
       "Syncing run <strong><a href='https://wandb.ai/dsaperov-organization/mediscan-efficient-net-b0/runs/0lnkt04m' target=\"_blank\">rural-field-22</a></strong> to <a href='https://wandb.ai/dsaperov-organization/mediscan-efficient-net-b0' target=\"_blank\">Weights & Biases</a> (<a href='https://wandb.me/run' target=\"_blank\">docs</a>)<br/>"
      ],
      "text/plain": [
       "<IPython.core.display.HTML object>"
      ]
     },
     "metadata": {},
     "output_type": "display_data"
    },
    {
     "data": {
      "text/html": [
       " View project at <a href='https://wandb.ai/dsaperov-organization/mediscan-efficient-net-b0' target=\"_blank\">https://wandb.ai/dsaperov-organization/mediscan-efficient-net-b0</a>"
      ],
      "text/plain": [
       "<IPython.core.display.HTML object>"
      ]
     },
     "metadata": {},
     "output_type": "display_data"
    },
    {
     "data": {
      "text/html": [
       " View run at <a href='https://wandb.ai/dsaperov-organization/mediscan-efficient-net-b0/runs/0lnkt04m' target=\"_blank\">https://wandb.ai/dsaperov-organization/mediscan-efficient-net-b0/runs/0lnkt04m</a>"
      ],
      "text/plain": [
       "<IPython.core.display.HTML object>"
      ]
     },
     "metadata": {},
     "output_type": "display_data"
    },
    {
     "name": "stdout",
     "output_type": "stream",
     "text": [
      "Epoch: 1/20\n",
      "Phase: train\n",
      "Iterations completed\n",
      "train Loss: 0.7142 Acc: 0.7491\n",
      "\n",
      "Phase: val\n",
      "Iterations completed\n",
      "val Loss: 0.6095 Acc: 0.7927\n",
      "\n",
      "----------\n",
      "\n",
      "Epoch: 2/20\n",
      "Phase: train\n",
      "Iterations completed\n",
      "train Loss: 0.5670 Acc: 0.7937\n",
      "\n",
      "Phase: val\n",
      "Iterations completed\n",
      "val Loss: 0.5660 Acc: 0.8083\n",
      "\n",
      "----------\n",
      "\n",
      "Epoch: 3/20\n",
      "Phase: train\n",
      "Iterations completed\n",
      "train Loss: 0.5099 Acc: 0.8135\n",
      "\n",
      "Phase: val\n",
      "Iterations completed\n",
      "val Loss: 0.4006 Acc: 0.8705\n",
      "\n",
      "----------\n",
      "\n",
      "Epoch: 4/20\n",
      "Phase: train\n",
      "Iterations completed\n",
      "train Loss: 0.4706 Acc: 0.8273\n",
      "\n",
      "Phase: val\n",
      "Iterations completed\n",
      "val Loss: 0.4410 Acc: 0.8342\n",
      "\n",
      "----------\n",
      "\n",
      "Epoch: 5/20\n",
      "Phase: train\n",
      "Iterations completed\n",
      "train Loss: 0.4427 Acc: 0.8355\n",
      "\n",
      "Phase: val\n",
      "Iterations completed\n",
      "val Loss: 0.4062 Acc: 0.8549\n",
      "\n",
      "----------\n",
      "\n",
      "Epoch: 6/20\n",
      "Phase: train\n",
      "Iterations completed\n",
      "train Loss: 0.3419 Acc: 0.8720\n",
      "\n",
      "Phase: val\n",
      "Iterations completed\n",
      "val Loss: 0.2931 Acc: 0.9016\n",
      "\n",
      "----------\n",
      "\n",
      "Epoch: 7/20\n",
      "Phase: train\n",
      "Iterations completed\n",
      "train Loss: 0.2970 Acc: 0.8868\n",
      "\n",
      "Phase: val\n",
      "Iterations completed\n",
      "val Loss: 0.2949 Acc: 0.8912\n",
      "\n",
      "----------\n",
      "\n",
      "Epoch: 8/20\n",
      "Phase: train\n",
      "Iterations completed\n",
      "train Loss: 0.2805 Acc: 0.8945\n",
      "\n",
      "Phase: val\n",
      "Iterations completed\n",
      "val Loss: 0.2772 Acc: 0.8964\n",
      "\n",
      "----------\n",
      "\n",
      "Epoch: 9/20\n",
      "Phase: train\n",
      "Iterations completed\n",
      "train Loss: 0.2619 Acc: 0.8985\n",
      "\n",
      "Phase: val\n",
      "Iterations completed\n",
      "val Loss: 0.2654 Acc: 0.9119\n",
      "\n",
      "----------\n",
      "\n",
      "Epoch: 10/20\n",
      "Phase: train\n",
      "Iterations completed\n",
      "train Loss: 0.2509 Acc: 0.9047\n",
      "\n",
      "Phase: val\n",
      "Iterations completed\n",
      "val Loss: 0.2937 Acc: 0.8912\n",
      "\n",
      "----------\n",
      "\n",
      "Epoch: 11/20\n",
      "Phase: train\n",
      "Iterations completed\n",
      "train Loss: 0.2286 Acc: 0.9146\n",
      "\n",
      "Phase: val\n",
      "Iterations completed\n",
      "val Loss: 0.2787 Acc: 0.8964\n",
      "\n",
      "----------\n",
      "\n",
      "Epoch: 12/20\n",
      "Phase: train\n",
      "Iterations completed\n",
      "train Loss: 0.2274 Acc: 0.9139\n",
      "\n",
      "Phase: val\n",
      "Iterations completed\n",
      "val Loss: 0.2792 Acc: 0.9067\n",
      "\n",
      "----------\n",
      "\n",
      "Epoch: 13/20\n",
      "Phase: train\n",
      "Iterations completed\n",
      "train Loss: 0.2281 Acc: 0.9136\n",
      "\n",
      "Phase: val\n",
      "Iterations completed\n",
      "val Loss: 0.2893 Acc: 0.8912\n",
      "\n",
      "----------\n",
      "\n",
      "Epoch: 14/20\n",
      "Phase: train\n",
      "Iterations completed\n",
      "train Loss: 0.2248 Acc: 0.9164\n",
      "\n",
      "Phase: val\n",
      "Iterations completed\n",
      "val Loss: 0.2783 Acc: 0.9016\n",
      "\n",
      "----------\n",
      "\n",
      "Epoch: 15/20\n",
      "Phase: train\n",
      "Iterations completed\n",
      "train Loss: 0.2230 Acc: 0.9160\n",
      "\n",
      "Phase: val\n",
      "Iterations completed\n",
      "val Loss: 0.2833 Acc: 0.8912\n",
      "\n",
      "----------\n",
      "\n",
      "Epoch: 16/20\n",
      "Phase: train\n",
      "Iterations completed\n",
      "train Loss: 0.2234 Acc: 0.9153\n",
      "\n",
      "Phase: val\n",
      "Iterations completed\n",
      "val Loss: 0.2785 Acc: 0.9119\n",
      "\n",
      "----------\n",
      "\n",
      "Epoch: 17/20\n",
      "Phase: train\n",
      "Iterations completed\n",
      "train Loss: 0.2162 Acc: 0.9172\n",
      "\n",
      "Phase: val\n",
      "Iterations completed\n",
      "val Loss: 0.2807 Acc: 0.8912\n",
      "\n",
      "----------\n",
      "\n",
      "Epoch: 18/20\n",
      "Phase: train\n",
      "Iterations completed\n",
      "train Loss: 0.2186 Acc: 0.9162\n",
      "\n",
      "Phase: val\n",
      "Iterations completed\n",
      "val Loss: 0.2891 Acc: 0.9016\n",
      "\n",
      "----------\n",
      "\n",
      "Epoch: 19/20\n",
      "Phase: train\n",
      "Iterations completed\n",
      "train Loss: 0.2140 Acc: 0.9195\n",
      "\n",
      "Phase: val\n",
      "Iterations completed\n",
      "val Loss: 0.2752 Acc: 0.9119\n",
      "\n",
      "----------\n",
      "\n",
      "Epoch: 20/20\n",
      "Phase: train\n",
      "Iterations completed\n",
      "train Loss: 0.2179 Acc: 0.9185\n",
      "\n",
      "Phase: val\n",
      "Iterations completed\n",
      "val Loss: 0.2810 Acc: 0.9016\n",
      "\n",
      "----------\n",
      "\n",
      "Training complete in 17m 32s\n",
      "Best val Acc: 0.9119\n"
     ]
    },
    {
     "name": "stderr",
     "output_type": "stream",
     "text": [
      "Widget Javascript not detected.  It may not be installed or enabled properly. Reconnecting the current kernel may help.\n"
     ]
    },
    {
     "data": {
      "application/vnd.jupyter.widget-view+json": {
       "model_id": "d3e8abd17dae4150a39fb25fe05d5caf"
      }
     },
     "metadata": {},
     "output_type": "display_data"
    },
    {
     "data": {
      "text/html": [
       "<style>\n",
       "    table.wandb td:nth-child(1) { padding: 0 10px; text-align: left ; width: auto;} td:nth-child(2) {text-align: left ; width: 100%}\n",
       "    .wandb-row { display: flex; flex-direction: row; flex-wrap: wrap; justify-content: flex-start; width: 100% }\n",
       "    .wandb-col { display: flex; flex-direction: column; flex-basis: 100%; flex: 1; padding: 10px; }\n",
       "    </style>\n",
       "<div class=\"wandb-row\"><div class=\"wandb-col\"><h3>Run history:</h3><br/><table class=\"wandb\"><tr><td>train_batch_acc</td><td>▁▃▃▃▃▃▃▃▄▆▆▂▆▆▄▃▆▆▅▃█▆▆▆▆▇█▃▆▆▆▇▆▃▆▆▆▆▆▅</td></tr><tr><td>train_batch_loss</td><td>█▇▆▆▇▄▇▆▅▄▃▇▂▄▃▄▂▃▃▅▁▃▃▃▄▂▁▅▂▂▃▂▂▄▃▂▂▃▃▃</td></tr><tr><td>val_acc</td><td>▁▂▆▃▅▇▇▇█▇▇█▇▇▇█▇▇█▇</td></tr><tr><td>val_loss</td><td>█▇▄▅▄▂▂▁▁▂▁▁▁▁▁▁▁▁▁▁</td></tr></table><br/></div><div class=\"wandb-col\"><h3>Run summary:</h3><br/><table class=\"wandb\"><tr><td>train_batch_acc</td><td>0.93548</td></tr><tr><td>train_batch_loss</td><td>0.12776</td></tr><tr><td>val_acc</td><td>0.90155</td></tr><tr><td>val_loss</td><td>0.28097</td></tr></table><br/></div></div>"
      ],
      "text/plain": [
       "<IPython.core.display.HTML object>"
      ]
     },
     "metadata": {},
     "output_type": "display_data"
    },
    {
     "data": {
      "text/html": [
       " View run <strong style=\"color:#cdcd00\">rural-field-22</strong> at: <a href='https://wandb.ai/dsaperov-organization/mediscan-efficient-net-b0/runs/0lnkt04m' target=\"_blank\">https://wandb.ai/dsaperov-organization/mediscan-efficient-net-b0/runs/0lnkt04m</a><br/> View project at: <a href='https://wandb.ai/dsaperov-organization/mediscan-efficient-net-b0' target=\"_blank\">https://wandb.ai/dsaperov-organization/mediscan-efficient-net-b0</a><br/>Synced 5 W&B file(s), 0 media file(s), 0 artifact file(s) and 0 other file(s)"
      ],
      "text/plain": [
       "<IPython.core.display.HTML object>"
      ]
     },
     "metadata": {},
     "output_type": "display_data"
    },
    {
     "data": {
      "text/html": [
       "Find logs at: <code>./wandb/run-20240605_022457-0lnkt04m/logs</code>"
      ],
      "text/plain": [
       "<IPython.core.display.HTML object>"
      ]
     },
     "metadata": {},
     "output_type": "display_data"
    },
    {
     "name": "stdout",
     "output_type": "stream",
     "text": [
      "\n",
      "Лучшая ранее достигнутая точность: 0.922279792746114\n",
      "Лучшая точность в текущем эксперименте: 0.9119170984455959\n",
      "Точность НЕ улучшилась\n",
      "Разница между значениями: 0.0104\n"
     ]
    }
   ],
   "source": [
    "config, best_acc = run_transformations_experiment(config, data_transforms_train, data_transforms_eval, transformation_class, best_acc)"
   ]
  },
  {
   "cell_type": "markdown",
   "id": "590854fa-df81-4af0-a09b-c0a90b8b6c8d",
   "metadata": {},
   "source": [
    "#### С оверсэмплингом"
   ]
  },
  {
   "cell_type": "code",
   "execution_count": 110,
   "id": "04366f9a-9648-4347-92d6-5595908e2545",
   "metadata": {},
   "outputs": [],
   "source": [
    "data_transforms_train = [transforms.CenterCrop(IMAGE_MIN_SIZE),\n",
    "                         transforms.Resize(INPUT_SIZE),\n",
    "                         transforms.RandomHorizontalFlip(),\n",
    "                         transforms.RandomPerspective(),\n",
    "                         transforms.ToTensor(),\n",
    "                         transforms.Normalize(NORMALIZATION_MEAN, NORMALIZATION_STD)]\n",
    "\n",
    "data_transforms_eval = [transforms.CenterCrop(IMAGE_MIN_SIZE),\n",
    "                        transforms.Resize(INPUT_SIZE),\n",
    "                        transforms.ToTensor(),\n",
    "                        transforms.Normalize(NORMALIZATION_MEAN, NORMALIZATION_STD)]"
   ]
  },
  {
   "cell_type": "code",
   "execution_count": 111,
   "id": "4e373d03-7d1e-4783-96ca-8aceff0ff52a",
   "metadata": {},
   "outputs": [
    {
     "data": {
      "text/html": [
       "Tracking run with wandb version 0.17.0"
      ],
      "text/plain": [
       "<IPython.core.display.HTML object>"
      ]
     },
     "metadata": {},
     "output_type": "display_data"
    },
    {
     "data": {
      "text/html": [
       "Run data is saved locally in <code>/home/user/Downloads/ISIC2018/wandb/run-20240605_024333-ngks9h5a</code>"
      ],
      "text/plain": [
       "<IPython.core.display.HTML object>"
      ]
     },
     "metadata": {},
     "output_type": "display_data"
    },
    {
     "data": {
      "text/html": [
       "Syncing run <strong><a href='https://wandb.ai/dsaperov-organization/mediscan-efficient-net-b0/runs/ngks9h5a' target=\"_blank\">lunar-totem-23</a></strong> to <a href='https://wandb.ai/dsaperov-organization/mediscan-efficient-net-b0' target=\"_blank\">Weights & Biases</a> (<a href='https://wandb.me/run' target=\"_blank\">docs</a>)<br/>"
      ],
      "text/plain": [
       "<IPython.core.display.HTML object>"
      ]
     },
     "metadata": {},
     "output_type": "display_data"
    },
    {
     "data": {
      "text/html": [
       " View project at <a href='https://wandb.ai/dsaperov-organization/mediscan-efficient-net-b0' target=\"_blank\">https://wandb.ai/dsaperov-organization/mediscan-efficient-net-b0</a>"
      ],
      "text/plain": [
       "<IPython.core.display.HTML object>"
      ]
     },
     "metadata": {},
     "output_type": "display_data"
    },
    {
     "data": {
      "text/html": [
       " View run at <a href='https://wandb.ai/dsaperov-organization/mediscan-efficient-net-b0/runs/ngks9h5a' target=\"_blank\">https://wandb.ai/dsaperov-organization/mediscan-efficient-net-b0/runs/ngks9h5a</a>"
      ],
      "text/plain": [
       "<IPython.core.display.HTML object>"
      ]
     },
     "metadata": {},
     "output_type": "display_data"
    },
    {
     "name": "stdout",
     "output_type": "stream",
     "text": [
      "Epoch: 1/20\n",
      "Phase: train\n",
      "Iterations completed\n",
      "train Loss: 0.7469 Acc: 0.7324\n",
      "\n",
      "Phase: val\n",
      "Iterations completed\n",
      "val Loss: 0.6242 Acc: 0.7772\n",
      "\n",
      "----------\n",
      "\n",
      "Epoch: 2/20\n",
      "Phase: train\n",
      "Iterations completed\n",
      "train Loss: 0.4818 Acc: 0.8255\n",
      "\n",
      "Phase: val\n",
      "Iterations completed\n",
      "val Loss: 0.6601 Acc: 0.7720\n",
      "\n",
      "----------\n",
      "\n",
      "Epoch: 3/20\n",
      "Phase: train\n",
      "Iterations completed\n",
      "train Loss: 0.3777 Acc: 0.8612\n",
      "\n",
      "Phase: val\n",
      "Iterations completed\n",
      "val Loss: 0.5540 Acc: 0.8394\n",
      "\n",
      "----------\n",
      "\n",
      "Epoch: 4/20\n",
      "Phase: train\n",
      "Iterations completed\n",
      "train Loss: 0.3462 Acc: 0.8731\n",
      "\n",
      "Phase: val\n",
      "Iterations completed\n",
      "val Loss: 0.6692 Acc: 0.8031\n",
      "\n",
      "----------\n",
      "\n",
      "Epoch: 5/20\n",
      "Phase: train\n",
      "Iterations completed\n",
      "train Loss: 0.2862 Acc: 0.8955\n",
      "\n",
      "Phase: val\n",
      "Iterations completed\n",
      "val Loss: 0.6150 Acc: 0.7876\n",
      "\n",
      "----------\n",
      "\n",
      "Epoch: 6/20\n",
      "Phase: train\n",
      "Iterations completed\n",
      "train Loss: 0.1991 Acc: 0.9278\n",
      "\n",
      "Phase: val\n",
      "Iterations completed\n",
      "val Loss: 0.4557 Acc: 0.8394\n",
      "\n",
      "----------\n",
      "\n",
      "Epoch: 7/20\n",
      "Phase: train\n",
      "Iterations completed\n",
      "train Loss: 0.1544 Acc: 0.9446\n",
      "\n",
      "Phase: val\n",
      "Iterations completed\n",
      "val Loss: 0.4285 Acc: 0.8860\n",
      "\n",
      "----------\n",
      "\n",
      "Epoch: 8/20\n",
      "Phase: train\n",
      "Iterations completed\n",
      "train Loss: 0.1324 Acc: 0.9540\n",
      "\n",
      "Phase: val\n",
      "Iterations completed\n",
      "val Loss: 0.4199 Acc: 0.8756\n",
      "\n",
      "----------\n",
      "\n",
      "Epoch: 9/20\n",
      "Phase: train\n",
      "Iterations completed\n",
      "train Loss: 0.1216 Acc: 0.9570\n",
      "\n",
      "Phase: val\n",
      "Iterations completed\n",
      "val Loss: 0.4162 Acc: 0.8912\n",
      "\n",
      "----------\n",
      "\n",
      "Epoch: 10/20\n",
      "Phase: train\n",
      "Iterations completed\n",
      "train Loss: 0.1202 Acc: 0.9558\n",
      "\n",
      "Phase: val\n",
      "Iterations completed\n",
      "val Loss: 0.3950 Acc: 0.8964\n",
      "\n",
      "----------\n",
      "\n",
      "Epoch: 11/20\n",
      "Phase: train\n",
      "Iterations completed\n",
      "train Loss: 0.1007 Acc: 0.9631\n",
      "\n",
      "Phase: val\n",
      "Iterations completed\n",
      "val Loss: 0.3875 Acc: 0.8912\n",
      "\n",
      "----------\n",
      "\n",
      "Epoch: 12/20\n",
      "Phase: train\n",
      "Iterations completed\n",
      "train Loss: 0.0940 Acc: 0.9670\n",
      "\n",
      "Phase: val\n",
      "Iterations completed\n",
      "val Loss: 0.3852 Acc: 0.8912\n",
      "\n",
      "----------\n",
      "\n",
      "Epoch: 13/20\n",
      "Phase: train\n",
      "Iterations completed\n",
      "train Loss: 0.0984 Acc: 0.9644\n",
      "\n",
      "Phase: val\n",
      "Iterations completed\n",
      "val Loss: 0.3719 Acc: 0.8912\n",
      "\n",
      "----------\n",
      "\n",
      "Epoch: 14/20\n",
      "Phase: train\n",
      "Iterations completed\n",
      "train Loss: 0.0991 Acc: 0.9651\n",
      "\n",
      "Phase: val\n",
      "Iterations completed\n",
      "val Loss: 0.3693 Acc: 0.8808\n",
      "\n",
      "----------\n",
      "\n",
      "Epoch: 15/20\n",
      "Phase: train\n",
      "Iterations completed\n",
      "train Loss: 0.0900 Acc: 0.9669\n",
      "\n",
      "Phase: val\n",
      "Iterations completed\n",
      "val Loss: 0.3827 Acc: 0.8860\n",
      "\n",
      "----------\n",
      "\n",
      "Epoch: 16/20\n",
      "Phase: train\n",
      "Iterations completed\n",
      "train Loss: 0.0859 Acc: 0.9699\n",
      "\n",
      "Phase: val\n",
      "Iterations completed\n",
      "val Loss: 0.3787 Acc: 0.8808\n",
      "\n",
      "----------\n",
      "\n",
      "Epoch: 17/20\n",
      "Phase: train\n",
      "Iterations completed\n",
      "train Loss: 0.0868 Acc: 0.9695\n",
      "\n",
      "Phase: val\n",
      "Iterations completed\n",
      "val Loss: 0.3800 Acc: 0.8860\n",
      "\n",
      "----------\n",
      "\n",
      "Epoch: 18/20\n",
      "Phase: train\n",
      "Iterations completed\n",
      "train Loss: 0.0858 Acc: 0.9715\n",
      "\n",
      "Phase: val\n",
      "Iterations completed\n",
      "val Loss: 0.3770 Acc: 0.8860\n",
      "\n",
      "----------\n",
      "\n",
      "Epoch: 19/20\n",
      "Phase: train\n",
      "Iterations completed\n",
      "train Loss: 0.0888 Acc: 0.9682\n",
      "\n",
      "Phase: val\n",
      "Iterations completed\n",
      "val Loss: 0.3948 Acc: 0.8860\n",
      "\n",
      "----------\n",
      "\n",
      "Epoch: 20/20\n",
      "Phase: train\n",
      "Iterations completed\n",
      "train Loss: 0.0858 Acc: 0.9699\n",
      "\n",
      "Phase: val\n",
      "Iterations completed\n",
      "val Loss: 0.3857 Acc: 0.8860\n",
      "\n",
      "----------\n",
      "\n",
      "Training complete in 15m 35s\n",
      "Best val Acc: 0.8964\n"
     ]
    },
    {
     "name": "stderr",
     "output_type": "stream",
     "text": [
      "Widget Javascript not detected.  It may not be installed or enabled properly. Reconnecting the current kernel may help.\n"
     ]
    },
    {
     "data": {
      "application/vnd.jupyter.widget-view+json": {
       "model_id": "ffa5c64c4ed8411bbac838b5071a89c1"
      }
     },
     "metadata": {},
     "output_type": "display_data"
    },
    {
     "data": {
      "text/html": [
       "<style>\n",
       "    table.wandb td:nth-child(1) { padding: 0 10px; text-align: left ; width: auto;} td:nth-child(2) {text-align: left ; width: 100%}\n",
       "    .wandb-row { display: flex; flex-direction: row; flex-wrap: wrap; justify-content: flex-start; width: 100% }\n",
       "    .wandb-col { display: flex; flex-direction: column; flex-basis: 100%; flex: 1; padding: 10px; }\n",
       "    </style>\n",
       "<div class=\"wandb-row\"><div class=\"wandb-col\"><h3>Run history:</h3><br/><table class=\"wandb\"><tr><td>train_batch_acc</td><td>▁▄▃▇▅▅▅▇▅▇▅▇▆▇▇▇▇▇▇▇█▇▇▇▇▇▇▇██▇███▇▇▇▇█▇</td></tr><tr><td>train_batch_loss</td><td>█▅▄▃▅▄▃▃▄▃▃▂▂▂▂▂▁▂▂▂▁▁▁▂▁▂▁▂▁▁▂▁▁▁▁▂▂▁▁▂</td></tr><tr><td>val_acc</td><td>▁▁▅▃▂▅▇▇█████▇▇▇▇▇▇▇</td></tr><tr><td>val_loss</td><td>▇█▅█▇▃▂▂▂▂▁▁▁▁▁▁▁▁▂▁</td></tr></table><br/></div><div class=\"wandb-col\"><h3>Run summary:</h3><br/><table class=\"wandb\"><tr><td>train_batch_acc</td><td>1.0</td></tr><tr><td>train_batch_loss</td><td>0.01719</td></tr><tr><td>val_acc</td><td>0.88601</td></tr><tr><td>val_loss</td><td>0.3857</td></tr></table><br/></div></div>"
      ],
      "text/plain": [
       "<IPython.core.display.HTML object>"
      ]
     },
     "metadata": {},
     "output_type": "display_data"
    },
    {
     "data": {
      "text/html": [
       " View run <strong style=\"color:#cdcd00\">lunar-totem-23</strong> at: <a href='https://wandb.ai/dsaperov-organization/mediscan-efficient-net-b0/runs/ngks9h5a' target=\"_blank\">https://wandb.ai/dsaperov-organization/mediscan-efficient-net-b0/runs/ngks9h5a</a><br/> View project at: <a href='https://wandb.ai/dsaperov-organization/mediscan-efficient-net-b0' target=\"_blank\">https://wandb.ai/dsaperov-organization/mediscan-efficient-net-b0</a><br/>Synced 5 W&B file(s), 0 media file(s), 0 artifact file(s) and 0 other file(s)"
      ],
      "text/plain": [
       "<IPython.core.display.HTML object>"
      ]
     },
     "metadata": {},
     "output_type": "display_data"
    },
    {
     "data": {
      "text/html": [
       "Find logs at: <code>./wandb/run-20240605_024333-ngks9h5a/logs</code>"
      ],
      "text/plain": [
       "<IPython.core.display.HTML object>"
      ]
     },
     "metadata": {},
     "output_type": "display_data"
    },
    {
     "name": "stdout",
     "output_type": "stream",
     "text": [
      "\n",
      "Лучшая ранее достигнутая точность: 0.9015544041450777\n",
      "Лучшая точность в текущем эксперименте: 0.8963730569948187\n",
      "Точность НЕ улучшилась\n",
      "Разница между значениями: 0.0052\n"
     ]
    }
   ],
   "source": [
    "config_oversampling, best_acc_oversampling = run_transformations_experiment(config_oversampling, data_transforms_train, data_transforms_eval, transformation_class, best_acc_oversampling, sampler=sampler)"
   ]
  },
  {
   "cell_type": "markdown",
   "id": "2b2864f0-d12c-474f-83d1-a2dcf1fc1155",
   "metadata": {},
   "source": [
    "---"
   ]
  },
  {
   "cell_type": "markdown",
   "id": "15857df1-1c2b-4578-b8d0-e98d814253c6",
   "metadata": {},
   "source": [
    "### Резюме\n",
    "Какие бы аугментации мы не применяли, модель без оверсэмплинга на валидационной выборке всегда обгоняла модель с оверсэмплингом. Также нельзя сказать, что аугментации сами по себе значительно улучшали перфоманс модели в обоих случаях. И там и там было отобрано по одному типу преобразования, которому удалось повысить значение метрики на валидационной выборке. Остальные аугментации либо ухудшали качество, либо давали результат, который был достижим и без них.\n",
    "\n",
    "Таким образом, теперь осталось подобрать параметры оптимайзера и щедулера. На данном этапе придется отказаться от модели с оверсэмплингом в пользу базовой модели с примененной аугментацией `RandomRotation(90)`.\n",
    "\n",
    "Создадим загрузчик, который и будем дальше использовать."
   ]
  },
  {
   "cell_type": "code",
   "execution_count": 112,
   "id": "6d99731f-1c9b-4853-94c6-a6986afbddc4",
   "metadata": {},
   "outputs": [
    {
     "data": {
      "text/plain": [
       "{'RandomRotation': True}"
      ]
     },
     "execution_count": 112,
     "metadata": {},
     "output_type": "execute_result"
    }
   ],
   "source": [
    "config[TRANSFORMATIONS]"
   ]
  },
  {
   "cell_type": "code",
   "execution_count": 113,
   "id": "1fc2767a-901b-4b5f-b637-cb733698d94f",
   "metadata": {},
   "outputs": [],
   "source": [
    "data_transforms_train = [transforms.Resize(INPUT_SIZE),\n",
    "                         transforms.RandomHorizontalFlip(),\n",
    "                         transforms.RandomRotation(90),\n",
    "                         transforms.ToTensor(),\n",
    "                         transforms.Normalize(NORMALIZATION_MEAN, NORMALIZATION_STD)]\n",
    "\n",
    "data_transforms_eval = [transforms.Resize(INPUT_SIZE),\n",
    "                        transforms.ToTensor(),\n",
    "                        transforms.Normalize(NORMALIZATION_MEAN, NORMALIZATION_STD)]"
   ]
  },
  {
   "cell_type": "code",
   "execution_count": 114,
   "id": "047ce538-6752-41d0-a36e-7f46bfc37920",
   "metadata": {},
   "outputs": [],
   "source": [
    "image_datasets, dataloaders = load_data(data_transforms_train, data_transforms_eval)"
   ]
  },
  {
   "cell_type": "markdown",
   "id": "1e07823a-0344-4034-8e7c-36a1339d8ce7",
   "metadata": {},
   "source": [
    "---"
   ]
  },
  {
   "cell_type": "markdown",
   "id": "7ed96d1f-5e6a-4ef9-ab4e-6089dfa0076d",
   "metadata": {},
   "source": [
    "## Подбор параметров оптимайзера\n",
    "### `weight_decay`"
   ]
  },
  {
   "cell_type": "code",
   "execution_count": 115,
   "id": "3ed568ec-d1e9-4d1c-a400-f256665d9b4a",
   "metadata": {},
   "outputs": [],
   "source": [
    "WEIGHT_DECAYS = [1e-4, 1e-3, 1e-2]"
   ]
  },
  {
   "cell_type": "code",
   "execution_count": 116,
   "id": "e93a7520-e9b4-4f57-a3b4-5d312acdfaee",
   "metadata": {},
   "outputs": [
    {
     "name": "stdout",
     "output_type": "stream",
     "text": [
      "\n",
      "weight_decay: 0.0001\n"
     ]
    },
    {
     "data": {
      "text/html": [
       "Tracking run with wandb version 0.17.0"
      ],
      "text/plain": [
       "<IPython.core.display.HTML object>"
      ]
     },
     "metadata": {},
     "output_type": "display_data"
    },
    {
     "data": {
      "text/html": [
       "Run data is saved locally in <code>/home/user/Downloads/ISIC2018/wandb/run-20240605_030159-mvux1ifj</code>"
      ],
      "text/plain": [
       "<IPython.core.display.HTML object>"
      ]
     },
     "metadata": {},
     "output_type": "display_data"
    },
    {
     "data": {
      "text/html": [
       "Syncing run <strong><a href='https://wandb.ai/dsaperov-organization/mediscan-efficient-net-b0/runs/mvux1ifj' target=\"_blank\">skilled-wood-24</a></strong> to <a href='https://wandb.ai/dsaperov-organization/mediscan-efficient-net-b0' target=\"_blank\">Weights & Biases</a> (<a href='https://wandb.me/run' target=\"_blank\">docs</a>)<br/>"
      ],
      "text/plain": [
       "<IPython.core.display.HTML object>"
      ]
     },
     "metadata": {},
     "output_type": "display_data"
    },
    {
     "data": {
      "text/html": [
       " View project at <a href='https://wandb.ai/dsaperov-organization/mediscan-efficient-net-b0' target=\"_blank\">https://wandb.ai/dsaperov-organization/mediscan-efficient-net-b0</a>"
      ],
      "text/plain": [
       "<IPython.core.display.HTML object>"
      ]
     },
     "metadata": {},
     "output_type": "display_data"
    },
    {
     "data": {
      "text/html": [
       " View run at <a href='https://wandb.ai/dsaperov-organization/mediscan-efficient-net-b0/runs/mvux1ifj' target=\"_blank\">https://wandb.ai/dsaperov-organization/mediscan-efficient-net-b0/runs/mvux1ifj</a>"
      ],
      "text/plain": [
       "<IPython.core.display.HTML object>"
      ]
     },
     "metadata": {},
     "output_type": "display_data"
    },
    {
     "name": "stdout",
     "output_type": "stream",
     "text": [
      "Epoch: 1/20\n",
      "Phase: train\n",
      "Iterations completed\n",
      "train Loss: 0.6766 Acc: 0.7579\n",
      "\n",
      "Phase: val\n",
      "Iterations completed\n",
      "val Loss: 0.6015 Acc: 0.7617\n",
      "\n",
      "----------\n",
      "\n",
      "Epoch: 2/20\n",
      "Phase: train\n",
      "Iterations completed\n",
      "train Loss: 0.5360 Acc: 0.8047\n",
      "\n",
      "Phase: val\n",
      "Iterations completed\n",
      "val Loss: 0.4375 Acc: 0.8653\n",
      "\n",
      "----------\n",
      "\n",
      "Epoch: 3/20\n",
      "Phase: train\n",
      "Iterations completed\n",
      "train Loss: 0.4815 Acc: 0.8233\n",
      "\n",
      "Phase: val\n",
      "Iterations completed\n",
      "val Loss: 0.4511 Acc: 0.8187\n",
      "\n",
      "----------\n",
      "\n",
      "Epoch: 4/20\n",
      "Phase: train\n",
      "Iterations completed\n",
      "train Loss: 0.4485 Acc: 0.8334\n",
      "\n",
      "Phase: val\n",
      "Iterations completed\n",
      "val Loss: 0.3583 Acc: 0.8808\n",
      "\n",
      "----------\n",
      "\n",
      "Epoch: 5/20\n",
      "Phase: train\n",
      "Iterations completed\n",
      "train Loss: 0.4160 Acc: 0.8498\n",
      "\n",
      "Phase: val\n",
      "Iterations completed\n",
      "val Loss: 0.3905 Acc: 0.8549\n",
      "\n",
      "----------\n",
      "\n",
      "Epoch: 6/20\n",
      "Phase: train\n",
      "Iterations completed\n",
      "train Loss: 0.3062 Acc: 0.8903\n",
      "\n",
      "Phase: val\n",
      "Iterations completed\n",
      "val Loss: 0.2768 Acc: 0.8860\n",
      "\n",
      "----------\n",
      "\n",
      "Epoch: 7/20\n",
      "Phase: train\n",
      "Iterations completed\n",
      "train Loss: 0.2553 Acc: 0.9056\n",
      "\n",
      "Phase: val\n",
      "Iterations completed\n",
      "val Loss: 0.2726 Acc: 0.8912\n",
      "\n",
      "----------\n",
      "\n",
      "Epoch: 8/20\n",
      "Phase: train\n",
      "Iterations completed\n",
      "train Loss: 0.2403 Acc: 0.9108\n",
      "\n",
      "Phase: val\n",
      "Iterations completed\n",
      "val Loss: 0.2771 Acc: 0.8860\n",
      "\n",
      "----------\n",
      "\n",
      "Epoch: 9/20\n",
      "Phase: train\n",
      "Iterations completed\n",
      "train Loss: 0.2202 Acc: 0.9180\n",
      "\n",
      "Phase: val\n",
      "Iterations completed\n",
      "val Loss: 0.2772 Acc: 0.8964\n",
      "\n",
      "----------\n",
      "\n",
      "Epoch: 10/20\n",
      "Phase: train\n",
      "Iterations completed\n",
      "train Loss: 0.2050 Acc: 0.9267\n",
      "\n",
      "Phase: val\n",
      "Iterations completed\n",
      "val Loss: 0.2891 Acc: 0.9119\n",
      "\n",
      "----------\n",
      "\n",
      "Epoch: 11/20\n",
      "Phase: train\n",
      "Iterations completed\n",
      "train Loss: 0.1837 Acc: 0.9320\n",
      "\n",
      "Phase: val\n",
      "Iterations completed\n",
      "val Loss: 0.2736 Acc: 0.9067\n",
      "\n",
      "----------\n",
      "\n",
      "Epoch: 12/20\n",
      "Phase: train\n",
      "Iterations completed\n",
      "train Loss: 0.1775 Acc: 0.9341\n",
      "\n",
      "Phase: val\n",
      "Iterations completed\n",
      "val Loss: 0.2711 Acc: 0.9067\n",
      "\n",
      "----------\n",
      "\n",
      "Epoch: 13/20\n",
      "Phase: train\n",
      "Iterations completed\n",
      "train Loss: 0.1757 Acc: 0.9378\n",
      "\n",
      "Phase: val\n",
      "Iterations completed\n",
      "val Loss: 0.2911 Acc: 0.9016\n",
      "\n",
      "----------\n",
      "\n",
      "Epoch: 14/20\n",
      "Phase: train\n",
      "Iterations completed\n",
      "train Loss: 0.1729 Acc: 0.9359\n",
      "\n",
      "Phase: val\n",
      "Iterations completed\n",
      "val Loss: 0.2816 Acc: 0.9016\n",
      "\n",
      "----------\n",
      "\n",
      "Epoch: 15/20\n",
      "Phase: train\n",
      "Iterations completed\n",
      "train Loss: 0.1741 Acc: 0.9340\n",
      "\n",
      "Phase: val\n",
      "Iterations completed\n",
      "val Loss: 0.2740 Acc: 0.9067\n",
      "\n",
      "----------\n",
      "\n",
      "Epoch: 16/20\n",
      "Phase: train\n",
      "Iterations completed\n",
      "train Loss: 0.1728 Acc: 0.9389\n",
      "\n",
      "Phase: val\n",
      "Iterations completed\n",
      "val Loss: 0.2793 Acc: 0.9119\n",
      "\n",
      "----------\n",
      "\n",
      "Epoch: 17/20\n",
      "Phase: train\n",
      "Iterations completed\n",
      "train Loss: 0.1694 Acc: 0.9377\n",
      "\n",
      "Phase: val\n",
      "Iterations completed\n",
      "val Loss: 0.2793 Acc: 0.9016\n",
      "\n",
      "----------\n",
      "\n",
      "Epoch: 18/20\n",
      "Phase: train\n",
      "Iterations completed\n",
      "train Loss: 0.1681 Acc: 0.9391\n",
      "\n",
      "Phase: val\n",
      "Iterations completed\n",
      "val Loss: 0.2750 Acc: 0.9119\n",
      "\n",
      "----------\n",
      "\n",
      "Epoch: 19/20\n",
      "Phase: train\n",
      "Iterations completed\n",
      "train Loss: 0.1669 Acc: 0.9389\n",
      "\n",
      "Phase: val\n",
      "Iterations completed\n",
      "val Loss: 0.2700 Acc: 0.9016\n",
      "\n",
      "----------\n",
      "\n",
      "Epoch: 20/20\n",
      "Phase: train\n",
      "Iterations completed\n",
      "train Loss: 0.1684 Acc: 0.9410\n",
      "\n",
      "Phase: val\n",
      "Iterations completed\n",
      "val Loss: 0.2750 Acc: 0.9119\n",
      "\n",
      "----------\n",
      "\n",
      "Training complete in 15m 53s\n",
      "Best val Acc: 0.9119\n"
     ]
    },
    {
     "name": "stderr",
     "output_type": "stream",
     "text": [
      "Widget Javascript not detected.  It may not be installed or enabled properly. Reconnecting the current kernel may help.\n"
     ]
    },
    {
     "data": {
      "application/vnd.jupyter.widget-view+json": {
       "model_id": "5ed067d386fc45cca06dccec9be3665c"
      }
     },
     "metadata": {},
     "output_type": "display_data"
    },
    {
     "data": {
      "text/html": [
       "<style>\n",
       "    table.wandb td:nth-child(1) { padding: 0 10px; text-align: left ; width: auto;} td:nth-child(2) {text-align: left ; width: 100%}\n",
       "    .wandb-row { display: flex; flex-direction: row; flex-wrap: wrap; justify-content: flex-start; width: 100% }\n",
       "    .wandb-col { display: flex; flex-direction: column; flex-basis: 100%; flex: 1; padding: 10px; }\n",
       "    </style>\n",
       "<div class=\"wandb-row\"><div class=\"wandb-col\"><h3>Run history:</h3><br/><table class=\"wandb\"><tr><td>train_batch_acc</td><td>▁▅▂▃▃▅▃▃▅▅▆▃▆▅▅▆▇▇▆▆█▇▄▆▇▇█▅▆▆▇▇█▆▇▆█▆▆▆</td></tr><tr><td>train_batch_loss</td><td>█▇█▆▆▃▆▆▄▄▃▆▃▄▃▂▂▂▂▄▁▃▃▂▂▂▁▃▂▂▂▂▁▂▂▂▁▂▃▃</td></tr><tr><td>val_acc</td><td>▁▆▄▇▅▇▇▇▇███████████</td></tr><tr><td>val_loss</td><td>█▅▅▃▄▁▁▁▁▁▁▁▁▁▁▁▁▁▁▁</td></tr></table><br/></div><div class=\"wandb-col\"><h3>Run summary:</h3><br/><table class=\"wandb\"><tr><td>train_batch_acc</td><td>0.93548</td></tr><tr><td>train_batch_loss</td><td>0.16629</td></tr><tr><td>val_acc</td><td>0.91192</td></tr><tr><td>val_loss</td><td>0.27499</td></tr></table><br/></div></div>"
      ],
      "text/plain": [
       "<IPython.core.display.HTML object>"
      ]
     },
     "metadata": {},
     "output_type": "display_data"
    },
    {
     "data": {
      "text/html": [
       " View run <strong style=\"color:#cdcd00\">skilled-wood-24</strong> at: <a href='https://wandb.ai/dsaperov-organization/mediscan-efficient-net-b0/runs/mvux1ifj' target=\"_blank\">https://wandb.ai/dsaperov-organization/mediscan-efficient-net-b0/runs/mvux1ifj</a><br/> View project at: <a href='https://wandb.ai/dsaperov-organization/mediscan-efficient-net-b0' target=\"_blank\">https://wandb.ai/dsaperov-organization/mediscan-efficient-net-b0</a><br/>Synced 5 W&B file(s), 0 media file(s), 0 artifact file(s) and 0 other file(s)"
      ],
      "text/plain": [
       "<IPython.core.display.HTML object>"
      ]
     },
     "metadata": {},
     "output_type": "display_data"
    },
    {
     "data": {
      "text/html": [
       "Find logs at: <code>./wandb/run-20240605_030159-mvux1ifj/logs</code>"
      ],
      "text/plain": [
       "<IPython.core.display.HTML object>"
      ]
     },
     "metadata": {},
     "output_type": "display_data"
    },
    {
     "name": "stdout",
     "output_type": "stream",
     "text": [
      "\n",
      "weight_decay: 0.001\n"
     ]
    },
    {
     "name": "stderr",
     "output_type": "stream",
     "text": [
      "Widget Javascript not detected.  It may not be installed or enabled properly. Reconnecting the current kernel may help.\n"
     ]
    },
    {
     "data": {
      "application/vnd.jupyter.widget-view+json": {
       "model_id": "cbb1de89e25b42cfb69e0dde579243c5"
      }
     },
     "metadata": {},
     "output_type": "display_data"
    },
    {
     "data": {
      "text/html": [
       "Tracking run with wandb version 0.17.0"
      ],
      "text/plain": [
       "<IPython.core.display.HTML object>"
      ]
     },
     "metadata": {},
     "output_type": "display_data"
    },
    {
     "data": {
      "text/html": [
       "Run data is saved locally in <code>/home/user/Downloads/ISIC2018/wandb/run-20240605_031758-8jyx1ewe</code>"
      ],
      "text/plain": [
       "<IPython.core.display.HTML object>"
      ]
     },
     "metadata": {},
     "output_type": "display_data"
    },
    {
     "data": {
      "text/html": [
       "Syncing run <strong><a href='https://wandb.ai/dsaperov-organization/mediscan-efficient-net-b0/runs/8jyx1ewe' target=\"_blank\">silver-leaf-25</a></strong> to <a href='https://wandb.ai/dsaperov-organization/mediscan-efficient-net-b0' target=\"_blank\">Weights & Biases</a> (<a href='https://wandb.me/run' target=\"_blank\">docs</a>)<br/>"
      ],
      "text/plain": [
       "<IPython.core.display.HTML object>"
      ]
     },
     "metadata": {},
     "output_type": "display_data"
    },
    {
     "data": {
      "text/html": [
       " View project at <a href='https://wandb.ai/dsaperov-organization/mediscan-efficient-net-b0' target=\"_blank\">https://wandb.ai/dsaperov-organization/mediscan-efficient-net-b0</a>"
      ],
      "text/plain": [
       "<IPython.core.display.HTML object>"
      ]
     },
     "metadata": {},
     "output_type": "display_data"
    },
    {
     "data": {
      "text/html": [
       " View run at <a href='https://wandb.ai/dsaperov-organization/mediscan-efficient-net-b0/runs/8jyx1ewe' target=\"_blank\">https://wandb.ai/dsaperov-organization/mediscan-efficient-net-b0/runs/8jyx1ewe</a>"
      ],
      "text/plain": [
       "<IPython.core.display.HTML object>"
      ]
     },
     "metadata": {},
     "output_type": "display_data"
    },
    {
     "name": "stdout",
     "output_type": "stream",
     "text": [
      "Epoch: 1/20\n",
      "Phase: train\n",
      "Iterations completed\n",
      "train Loss: 0.6979 Acc: 0.7520\n",
      "\n",
      "Phase: val\n",
      "Iterations completed\n",
      "val Loss: 0.5548 Acc: 0.8135\n",
      "\n",
      "----------\n",
      "\n",
      "Epoch: 2/20\n",
      "Phase: train\n",
      "Iterations completed\n",
      "train Loss: 0.5933 Acc: 0.7867\n",
      "\n",
      "Phase: val\n",
      "Iterations completed\n",
      "val Loss: 0.5421 Acc: 0.7772\n",
      "\n",
      "----------\n",
      "\n",
      "Epoch: 3/20\n",
      "Phase: train\n",
      "Iterations completed\n",
      "train Loss: 0.5734 Acc: 0.7936\n",
      "\n",
      "Phase: val\n",
      "Iterations completed\n",
      "val Loss: 0.5450 Acc: 0.7668\n",
      "\n",
      "----------\n",
      "\n",
      "Epoch: 4/20\n",
      "Phase: train\n",
      "Iterations completed\n",
      "train Loss: 0.5679 Acc: 0.7935\n",
      "\n",
      "Phase: val\n",
      "Iterations completed\n",
      "val Loss: 0.6671 Acc: 0.7720\n",
      "\n",
      "----------\n",
      "\n",
      "Epoch: 5/20\n",
      "Phase: train\n",
      "Iterations completed\n",
      "train Loss: 0.5538 Acc: 0.7982\n",
      "\n",
      "Phase: val\n",
      "Iterations completed\n",
      "val Loss: 0.4944 Acc: 0.8601\n",
      "\n",
      "----------\n",
      "\n",
      "Epoch: 6/20\n",
      "Phase: train\n",
      "Iterations completed\n",
      "train Loss: 0.4413 Acc: 0.8396\n",
      "\n",
      "Phase: val\n",
      "Iterations completed\n",
      "val Loss: 0.3845 Acc: 0.8705\n",
      "\n",
      "----------\n",
      "\n",
      "Epoch: 7/20\n",
      "Phase: train\n",
      "Iterations completed\n",
      "train Loss: 0.3862 Acc: 0.8584\n",
      "\n",
      "Phase: val\n",
      "Iterations completed\n",
      "val Loss: 0.3678 Acc: 0.8808\n",
      "\n",
      "----------\n",
      "\n",
      "Epoch: 8/20\n",
      "Phase: train\n",
      "Iterations completed\n",
      "train Loss: 0.3776 Acc: 0.8649\n",
      "\n",
      "Phase: val\n",
      "Iterations completed\n",
      "val Loss: 0.3641 Acc: 0.8912\n",
      "\n",
      "----------\n",
      "\n",
      "Epoch: 9/20\n",
      "Phase: train\n",
      "Iterations completed\n",
      "train Loss: 0.3571 Acc: 0.8657\n",
      "\n",
      "Phase: val\n",
      "Iterations completed\n",
      "val Loss: 0.3499 Acc: 0.8860\n",
      "\n",
      "----------\n",
      "\n",
      "Epoch: 10/20\n",
      "Phase: train\n",
      "Iterations completed\n",
      "train Loss: 0.3465 Acc: 0.8747\n",
      "\n",
      "Phase: val\n",
      "Iterations completed\n",
      "val Loss: 0.3089 Acc: 0.8860\n",
      "\n",
      "----------\n",
      "\n",
      "Epoch: 11/20\n",
      "Phase: train\n",
      "Iterations completed\n",
      "train Loss: 0.3201 Acc: 0.8819\n",
      "\n",
      "Phase: val\n",
      "Iterations completed\n",
      "val Loss: 0.3212 Acc: 0.8808\n",
      "\n",
      "----------\n",
      "\n",
      "Epoch: 12/20\n",
      "Phase: train\n",
      "Iterations completed\n",
      "train Loss: 0.3118 Acc: 0.8854\n",
      "\n",
      "Phase: val\n",
      "Iterations completed\n",
      "val Loss: 0.3228 Acc: 0.8860\n",
      "\n",
      "----------\n",
      "\n",
      "Epoch: 13/20\n",
      "Phase: train\n",
      "Iterations completed\n",
      "train Loss: 0.3030 Acc: 0.8876\n",
      "\n",
      "Phase: val\n",
      "Iterations completed\n",
      "val Loss: 0.3226 Acc: 0.8912\n",
      "\n",
      "----------\n",
      "\n",
      "Epoch: 14/20\n",
      "Phase: train\n",
      "Iterations completed\n",
      "train Loss: 0.3052 Acc: 0.8845\n",
      "\n",
      "Phase: val\n",
      "Iterations completed\n",
      "val Loss: 0.3170 Acc: 0.8912\n",
      "\n",
      "----------\n",
      "\n",
      "Epoch: 15/20\n",
      "Phase: train\n",
      "Iterations completed\n",
      "train Loss: 0.3075 Acc: 0.8854\n",
      "\n",
      "Phase: val\n",
      "Iterations completed\n",
      "val Loss: 0.3237 Acc: 0.8964\n",
      "\n",
      "----------\n",
      "\n",
      "Epoch: 16/20\n",
      "Phase: train\n",
      "Iterations completed\n",
      "train Loss: 0.2979 Acc: 0.8928\n",
      "\n",
      "Phase: val\n",
      "Iterations completed\n",
      "val Loss: 0.3318 Acc: 0.9016\n",
      "\n",
      "----------\n",
      "\n",
      "Epoch: 17/20\n",
      "Phase: train\n",
      "Iterations completed\n",
      "train Loss: 0.3016 Acc: 0.8890\n",
      "\n",
      "Phase: val\n",
      "Iterations completed\n",
      "val Loss: 0.3241 Acc: 0.9016\n",
      "\n",
      "----------\n",
      "\n",
      "Epoch: 18/20\n",
      "Phase: train\n",
      "Iterations completed\n",
      "train Loss: 0.2980 Acc: 0.8859\n",
      "\n",
      "Phase: val\n",
      "Iterations completed\n",
      "val Loss: 0.3297 Acc: 0.8964\n",
      "\n",
      "----------\n",
      "\n",
      "Epoch: 19/20\n",
      "Phase: train\n",
      "Iterations completed\n",
      "train Loss: 0.2900 Acc: 0.8935\n",
      "\n",
      "Phase: val\n",
      "Iterations completed\n",
      "val Loss: 0.3201 Acc: 0.8860\n",
      "\n",
      "----------\n",
      "\n",
      "Epoch: 20/20\n",
      "Phase: train\n",
      "Iterations completed\n",
      "train Loss: 0.2941 Acc: 0.8925\n",
      "\n",
      "Phase: val\n",
      "Iterations completed\n",
      "val Loss: 0.3273 Acc: 0.9016\n",
      "\n",
      "----------\n",
      "\n",
      "Training complete in 15m 54s\n",
      "Best val Acc: 0.9016\n"
     ]
    },
    {
     "name": "stderr",
     "output_type": "stream",
     "text": [
      "Widget Javascript not detected.  It may not be installed or enabled properly. Reconnecting the current kernel may help.\n"
     ]
    },
    {
     "data": {
      "application/vnd.jupyter.widget-view+json": {
       "model_id": "23e9cd6b33734dea864da67c014e2458"
      }
     },
     "metadata": {},
     "output_type": "display_data"
    },
    {
     "data": {
      "text/html": [
       "<style>\n",
       "    table.wandb td:nth-child(1) { padding: 0 10px; text-align: left ; width: auto;} td:nth-child(2) {text-align: left ; width: 100%}\n",
       "    .wandb-row { display: flex; flex-direction: row; flex-wrap: wrap; justify-content: flex-start; width: 100% }\n",
       "    .wandb-col { display: flex; flex-direction: column; flex-basis: 100%; flex: 1; padding: 10px; }\n",
       "    </style>\n",
       "<div class=\"wandb-row\"><div class=\"wandb-col\"><h3>Run history:</h3><br/><table class=\"wandb\"><tr><td>train_batch_acc</td><td>▂▃▃▄▃▄▃▃▃▆▆▂▅▄▅▅▃▅▄▃▇▆▅▆▅▆█▁▄▆▆▄▅▆▆▅▆▅▆▂</td></tr><tr><td>train_batch_loss</td><td>█▇▇▅▇▄▇▆▆▄▃▇▄▄▆▅▄▃▄▆▃▃▃▃▃▃▁▇▄▃▃▃▃▃▄▃▂▄▃▅</td></tr><tr><td>val_acc</td><td>▃▂▁▁▆▆▇▇▇▇▇▇▇▇████▇█</td></tr><tr><td>val_loss</td><td>▆▆▆█▅▂▂▂▂▁▁▁▁▁▁▁▁▁▁▁</td></tr></table><br/></div><div class=\"wandb-col\"><h3>Run summary:</h3><br/><table class=\"wandb\"><tr><td>train_batch_acc</td><td>0.93548</td></tr><tr><td>train_batch_loss</td><td>0.22842</td></tr><tr><td>val_acc</td><td>0.90155</td></tr><tr><td>val_loss</td><td>0.3273</td></tr></table><br/></div></div>"
      ],
      "text/plain": [
       "<IPython.core.display.HTML object>"
      ]
     },
     "metadata": {},
     "output_type": "display_data"
    },
    {
     "data": {
      "text/html": [
       " View run <strong style=\"color:#cdcd00\">silver-leaf-25</strong> at: <a href='https://wandb.ai/dsaperov-organization/mediscan-efficient-net-b0/runs/8jyx1ewe' target=\"_blank\">https://wandb.ai/dsaperov-organization/mediscan-efficient-net-b0/runs/8jyx1ewe</a><br/> View project at: <a href='https://wandb.ai/dsaperov-organization/mediscan-efficient-net-b0' target=\"_blank\">https://wandb.ai/dsaperov-organization/mediscan-efficient-net-b0</a><br/>Synced 5 W&B file(s), 0 media file(s), 0 artifact file(s) and 0 other file(s)"
      ],
      "text/plain": [
       "<IPython.core.display.HTML object>"
      ]
     },
     "metadata": {},
     "output_type": "display_data"
    },
    {
     "data": {
      "text/html": [
       "Find logs at: <code>./wandb/run-20240605_031758-8jyx1ewe/logs</code>"
      ],
      "text/plain": [
       "<IPython.core.display.HTML object>"
      ]
     },
     "metadata": {},
     "output_type": "display_data"
    },
    {
     "name": "stdout",
     "output_type": "stream",
     "text": [
      "\n",
      "weight_decay: 0.01\n"
     ]
    },
    {
     "name": "stderr",
     "output_type": "stream",
     "text": [
      "Widget Javascript not detected.  It may not be installed or enabled properly. Reconnecting the current kernel may help.\n"
     ]
    },
    {
     "data": {
      "application/vnd.jupyter.widget-view+json": {
       "model_id": "d950f8e840b448d193525c62962783a4"
      }
     },
     "metadata": {},
     "output_type": "display_data"
    },
    {
     "data": {
      "text/html": [
       "Tracking run with wandb version 0.17.0"
      ],
      "text/plain": [
       "<IPython.core.display.HTML object>"
      ]
     },
     "metadata": {},
     "output_type": "display_data"
    },
    {
     "data": {
      "text/html": [
       "Run data is saved locally in <code>/home/user/Downloads/ISIC2018/wandb/run-20240605_033400-4c0x2gwj</code>"
      ],
      "text/plain": [
       "<IPython.core.display.HTML object>"
      ]
     },
     "metadata": {},
     "output_type": "display_data"
    },
    {
     "data": {
      "text/html": [
       "Syncing run <strong><a href='https://wandb.ai/dsaperov-organization/mediscan-efficient-net-b0/runs/4c0x2gwj' target=\"_blank\">faithful-jazz-26</a></strong> to <a href='https://wandb.ai/dsaperov-organization/mediscan-efficient-net-b0' target=\"_blank\">Weights & Biases</a> (<a href='https://wandb.me/run' target=\"_blank\">docs</a>)<br/>"
      ],
      "text/plain": [
       "<IPython.core.display.HTML object>"
      ]
     },
     "metadata": {},
     "output_type": "display_data"
    },
    {
     "data": {
      "text/html": [
       " View project at <a href='https://wandb.ai/dsaperov-organization/mediscan-efficient-net-b0' target=\"_blank\">https://wandb.ai/dsaperov-organization/mediscan-efficient-net-b0</a>"
      ],
      "text/plain": [
       "<IPython.core.display.HTML object>"
      ]
     },
     "metadata": {},
     "output_type": "display_data"
    },
    {
     "data": {
      "text/html": [
       " View run at <a href='https://wandb.ai/dsaperov-organization/mediscan-efficient-net-b0/runs/4c0x2gwj' target=\"_blank\">https://wandb.ai/dsaperov-organization/mediscan-efficient-net-b0/runs/4c0x2gwj</a>"
      ],
      "text/plain": [
       "<IPython.core.display.HTML object>"
      ]
     },
     "metadata": {},
     "output_type": "display_data"
    },
    {
     "name": "stdout",
     "output_type": "stream",
     "text": [
      "Epoch: 1/20\n",
      "Phase: train\n",
      "Iterations completed\n",
      "train Loss: 0.7953 Acc: 0.7183\n",
      "\n",
      "Phase: val\n",
      "Iterations completed\n",
      "val Loss: 1.0502 Acc: 0.6528\n",
      "\n",
      "----------\n",
      "\n",
      "Epoch: 2/20\n",
      "Phase: train\n",
      "Iterations completed\n",
      "train Loss: 0.7659 Acc: 0.7237\n",
      "\n",
      "Phase: val\n",
      "Iterations completed\n",
      "val Loss: 0.9801 Acc: 0.6373\n",
      "\n",
      "----------\n",
      "\n",
      "Epoch: 3/20\n",
      "Phase: train\n",
      "Iterations completed\n",
      "train Loss: 0.7956 Acc: 0.7111\n",
      "\n",
      "Phase: val\n",
      "Iterations completed\n",
      "val Loss: 0.8147 Acc: 0.7098\n",
      "\n",
      "----------\n",
      "\n",
      "Epoch: 4/20\n",
      "Phase: train\n",
      "Iterations completed\n",
      "train Loss: 0.7719 Acc: 0.7178\n",
      "\n",
      "Phase: val\n",
      "Iterations completed\n",
      "val Loss: 0.8991 Acc: 0.6528\n",
      "\n",
      "----------\n",
      "\n",
      "Epoch: 5/20\n",
      "Phase: train\n",
      "Iterations completed\n",
      "train Loss: 0.7668 Acc: 0.7159\n",
      "\n",
      "Phase: val\n",
      "Iterations completed\n",
      "val Loss: 0.7807 Acc: 0.7202\n",
      "\n",
      "----------\n",
      "\n",
      "Epoch: 6/20\n",
      "Phase: train\n",
      "Iterations completed\n",
      "train Loss: 0.6864 Acc: 0.7496\n",
      "\n",
      "Phase: val\n",
      "Iterations completed\n",
      "val Loss: 0.6394 Acc: 0.7720\n",
      "\n",
      "----------\n",
      "\n",
      "Epoch: 7/20\n",
      "Phase: train\n",
      "Iterations completed\n",
      "train Loss: 0.6543 Acc: 0.7598\n",
      "\n",
      "Phase: val\n",
      "Iterations completed\n",
      "val Loss: 0.5514 Acc: 0.8342\n",
      "\n",
      "----------\n",
      "\n",
      "Epoch: 8/20\n",
      "Phase: train\n",
      "Iterations completed\n",
      "train Loss: 0.6544 Acc: 0.7595\n",
      "\n",
      "Phase: val\n",
      "Iterations completed\n",
      "val Loss: 0.5697 Acc: 0.7824\n",
      "\n",
      "----------\n",
      "\n",
      "Epoch: 9/20\n",
      "Phase: train\n",
      "Iterations completed\n",
      "train Loss: 0.6352 Acc: 0.7657\n",
      "\n",
      "Phase: val\n",
      "Iterations completed\n",
      "val Loss: 0.6495 Acc: 0.7461\n",
      "\n",
      "----------\n",
      "\n",
      "Epoch: 10/20\n",
      "Phase: train\n",
      "Iterations completed\n",
      "train Loss: 0.6353 Acc: 0.7722\n",
      "\n",
      "Phase: val\n",
      "Iterations completed\n",
      "val Loss: 0.5661 Acc: 0.7720\n",
      "\n",
      "----------\n",
      "\n",
      "Epoch: 11/20\n",
      "Phase: train\n",
      "Iterations completed\n",
      "train Loss: 0.6118 Acc: 0.7824\n",
      "\n",
      "Phase: val\n",
      "Iterations completed\n",
      "val Loss: 0.4986 Acc: 0.8394\n",
      "\n",
      "----------\n",
      "\n",
      "Epoch: 12/20\n",
      "Phase: train\n",
      "Iterations completed\n",
      "train Loss: 0.6060 Acc: 0.7815\n",
      "\n",
      "Phase: val\n",
      "Iterations completed\n",
      "val Loss: 0.4965 Acc: 0.8342\n",
      "\n",
      "----------\n",
      "\n",
      "Epoch: 13/20\n",
      "Phase: train\n",
      "Iterations completed\n",
      "train Loss: 0.5974 Acc: 0.7859\n",
      "\n",
      "Phase: val\n",
      "Iterations completed\n",
      "val Loss: 0.5056 Acc: 0.8342\n",
      "\n",
      "----------\n",
      "\n",
      "Epoch: 14/20\n",
      "Phase: train\n",
      "Iterations completed\n",
      "train Loss: 0.5976 Acc: 0.7832\n",
      "\n",
      "Phase: val\n",
      "Iterations completed\n",
      "val Loss: 0.5094 Acc: 0.8446\n",
      "\n",
      "----------\n",
      "\n",
      "Epoch: 15/20\n",
      "Phase: train\n",
      "Iterations completed\n",
      "train Loss: 0.5917 Acc: 0.7890\n",
      "\n",
      "Phase: val\n",
      "Iterations completed\n",
      "val Loss: 0.5062 Acc: 0.8394\n",
      "\n",
      "----------\n",
      "\n",
      "Epoch: 16/20\n",
      "Phase: train\n",
      "Iterations completed\n",
      "train Loss: 0.5953 Acc: 0.7801\n",
      "\n",
      "Phase: val\n",
      "Iterations completed\n",
      "val Loss: 0.5016 Acc: 0.8446\n",
      "\n",
      "----------\n",
      "\n",
      "Epoch: 17/20\n",
      "Phase: train\n",
      "Iterations completed\n",
      "train Loss: 0.5938 Acc: 0.7840\n",
      "\n",
      "Phase: val\n",
      "Iterations completed\n",
      "val Loss: 0.5012 Acc: 0.8394\n",
      "\n",
      "----------\n",
      "\n",
      "Epoch: 18/20\n",
      "Phase: train\n",
      "Iterations completed\n",
      "train Loss: 0.5924 Acc: 0.7848\n",
      "\n",
      "Phase: val\n",
      "Iterations completed\n",
      "val Loss: 0.4961 Acc: 0.8497\n",
      "\n",
      "----------\n",
      "\n",
      "Epoch: 19/20\n",
      "Phase: train\n",
      "Iterations completed\n",
      "train Loss: 0.5863 Acc: 0.7900\n",
      "\n",
      "Phase: val\n",
      "Iterations completed\n",
      "val Loss: 0.4937 Acc: 0.8394\n",
      "\n",
      "----------\n",
      "\n",
      "Epoch: 20/20\n",
      "Phase: train\n",
      "Iterations completed\n",
      "train Loss: 0.5912 Acc: 0.7859\n",
      "\n",
      "Phase: val\n",
      "Iterations completed\n",
      "val Loss: 0.4993 Acc: 0.8342\n",
      "\n",
      "----------\n",
      "\n",
      "Training complete in 15m 46s\n",
      "Best val Acc: 0.8497\n"
     ]
    },
    {
     "name": "stderr",
     "output_type": "stream",
     "text": [
      "Widget Javascript not detected.  It may not be installed or enabled properly. Reconnecting the current kernel may help.\n"
     ]
    },
    {
     "data": {
      "application/vnd.jupyter.widget-view+json": {
       "model_id": "67de883e22c64ff6964cd3402501927b"
      }
     },
     "metadata": {},
     "output_type": "display_data"
    },
    {
     "data": {
      "text/html": [
       "<style>\n",
       "    table.wandb td:nth-child(1) { padding: 0 10px; text-align: left ; width: auto;} td:nth-child(2) {text-align: left ; width: 100%}\n",
       "    .wandb-row { display: flex; flex-direction: row; flex-wrap: wrap; justify-content: flex-start; width: 100% }\n",
       "    .wandb-col { display: flex; flex-direction: column; flex-basis: 100%; flex: 1; padding: 10px; }\n",
       "    </style>\n",
       "<div class=\"wandb-row\"><div class=\"wandb-col\"><h3>Run history:</h3><br/><table class=\"wandb\"><tr><td>train_batch_acc</td><td>▁▆▅▅▃▃▅▆▃▇█▂▅▇▂▅█▆▃▅▇▅▇▃▇▇█▂▇█▅▅▇▅▁▇▆▆▆▃</td></tr><tr><td>train_batch_loss</td><td>▆▄▅▄▇▅▅▃▄▄▂▆▄▃█▆▄▃▄▆▃▃▃▃▃▅▁█▄▂▆▄▃▃█▂▃▃▃▆</td></tr><tr><td>val_acc</td><td>▂▁▃▂▄▅▇▆▅▅█▇▇██████▇</td></tr><tr><td>val_loss</td><td>█▇▅▆▅▃▂▂▃▂▁▁▁▁▁▁▁▁▁▁</td></tr></table><br/></div><div class=\"wandb-col\"><h3>Run summary:</h3><br/><table class=\"wandb\"><tr><td>train_batch_acc</td><td>0.83871</td></tr><tr><td>train_batch_loss</td><td>0.47504</td></tr><tr><td>val_acc</td><td>0.8342</td></tr><tr><td>val_loss</td><td>0.4993</td></tr></table><br/></div></div>"
      ],
      "text/plain": [
       "<IPython.core.display.HTML object>"
      ]
     },
     "metadata": {},
     "output_type": "display_data"
    },
    {
     "data": {
      "text/html": [
       " View run <strong style=\"color:#cdcd00\">faithful-jazz-26</strong> at: <a href='https://wandb.ai/dsaperov-organization/mediscan-efficient-net-b0/runs/4c0x2gwj' target=\"_blank\">https://wandb.ai/dsaperov-organization/mediscan-efficient-net-b0/runs/4c0x2gwj</a><br/> View project at: <a href='https://wandb.ai/dsaperov-organization/mediscan-efficient-net-b0' target=\"_blank\">https://wandb.ai/dsaperov-organization/mediscan-efficient-net-b0</a><br/>Synced 5 W&B file(s), 0 media file(s), 0 artifact file(s) and 0 other file(s)"
      ],
      "text/plain": [
       "<IPython.core.display.HTML object>"
      ]
     },
     "metadata": {},
     "output_type": "display_data"
    },
    {
     "data": {
      "text/html": [
       "Find logs at: <code>./wandb/run-20240605_033400-4c0x2gwj/logs</code>"
      ],
      "text/plain": [
       "<IPython.core.display.HTML object>"
      ]
     },
     "metadata": {},
     "output_type": "display_data"
    },
    {
     "name": "stdout",
     "output_type": "stream",
     "text": [
      "\n",
      "Лучшая ранее достигнутая точность: 0.922279792746114\n",
      "Лучшая точность в текущем эксперименте: 0.9119170984455959\n",
      "Точность НЕ улучшилась\n",
      "Разница между значениями: 0.0104\n"
     ]
    }
   ],
   "source": [
    "param_name = 'weight_decay'\n",
    "config, best_acc, _ = run_experiment(config, OPTIMIZER, get_component_class(OPTIMIZER), dataloaders,\n",
    "                                     best_acc, param_name, WEIGHT_DECAYS, component_params=CUR_PARAMS)"
   ]
  },
  {
   "cell_type": "markdown",
   "id": "2c692e5c-fb5a-40bc-9939-fdf57005b93a",
   "metadata": {},
   "source": [
    "---"
   ]
  },
  {
   "cell_type": "markdown",
   "id": "ba6d038d-64be-4841-be59-dbbd36834cef",
   "metadata": {},
   "source": [
    "## Выбор планировщика шага\n",
    "### `ReduceLROnPlateau`"
   ]
  },
  {
   "cell_type": "code",
   "execution_count": 118,
   "id": "f673ecd7-0704-40b8-9d5d-000980d05df8",
   "metadata": {},
   "outputs": [],
   "source": [
    "sheduler_class = 'ReduceLROnPlateau'"
   ]
  },
  {
   "cell_type": "markdown",
   "id": "a737853b-7ee1-493c-8316-e91e2927b1fc",
   "metadata": {},
   "source": [
    "#### Параметр `patience`"
   ]
  },
  {
   "cell_type": "code",
   "execution_count": 119,
   "id": "f09aca9a-05e6-4cd0-86cb-8b5908410c35",
   "metadata": {},
   "outputs": [],
   "source": [
    "PATIENCES = [3, 6]"
   ]
  },
  {
   "cell_type": "code",
   "execution_count": 120,
   "id": "539788a0-f42d-483c-acd2-922549d69114",
   "metadata": {},
   "outputs": [
    {
     "name": "stdout",
     "output_type": "stream",
     "text": [
      "\n",
      "patience: 3\n"
     ]
    },
    {
     "data": {
      "text/html": [
       "Tracking run with wandb version 0.17.0"
      ],
      "text/plain": [
       "<IPython.core.display.HTML object>"
      ]
     },
     "metadata": {},
     "output_type": "display_data"
    },
    {
     "data": {
      "text/html": [
       "Run data is saved locally in <code>/home/user/Downloads/ISIC2018/wandb/run-20240605_035055-tblkrhs4</code>"
      ],
      "text/plain": [
       "<IPython.core.display.HTML object>"
      ]
     },
     "metadata": {},
     "output_type": "display_data"
    },
    {
     "data": {
      "text/html": [
       "Syncing run <strong><a href='https://wandb.ai/dsaperov-organization/mediscan-efficient-net-b0/runs/tblkrhs4' target=\"_blank\">desert-oath-27</a></strong> to <a href='https://wandb.ai/dsaperov-organization/mediscan-efficient-net-b0' target=\"_blank\">Weights & Biases</a> (<a href='https://wandb.me/run' target=\"_blank\">docs</a>)<br/>"
      ],
      "text/plain": [
       "<IPython.core.display.HTML object>"
      ]
     },
     "metadata": {},
     "output_type": "display_data"
    },
    {
     "data": {
      "text/html": [
       " View project at <a href='https://wandb.ai/dsaperov-organization/mediscan-efficient-net-b0' target=\"_blank\">https://wandb.ai/dsaperov-organization/mediscan-efficient-net-b0</a>"
      ],
      "text/plain": [
       "<IPython.core.display.HTML object>"
      ]
     },
     "metadata": {},
     "output_type": "display_data"
    },
    {
     "data": {
      "text/html": [
       " View run at <a href='https://wandb.ai/dsaperov-organization/mediscan-efficient-net-b0/runs/tblkrhs4' target=\"_blank\">https://wandb.ai/dsaperov-organization/mediscan-efficient-net-b0/runs/tblkrhs4</a>"
      ],
      "text/plain": [
       "<IPython.core.display.HTML object>"
      ]
     },
     "metadata": {},
     "output_type": "display_data"
    },
    {
     "name": "stdout",
     "output_type": "stream",
     "text": [
      "Epoch: 1/20\n",
      "Phase: train\n",
      "Iterations completed\n",
      "train Loss: 0.6785 Acc: 0.7575\n",
      "\n",
      "Phase: val\n",
      "Iterations completed\n",
      "val Loss: 0.5585 Acc: 0.7927\n",
      "\n",
      "----------\n",
      "\n",
      "Epoch: 2/20\n",
      "Phase: train\n",
      "Iterations completed\n",
      "train Loss: 0.5261 Acc: 0.8082\n",
      "\n",
      "Phase: val\n",
      "Iterations completed\n",
      "val Loss: 0.4585 Acc: 0.8446\n",
      "\n",
      "----------\n",
      "\n",
      "Epoch: 3/20\n",
      "Phase: train\n",
      "Iterations completed\n",
      "train Loss: 0.4753 Acc: 0.8253\n",
      "\n",
      "Phase: val\n",
      "Iterations completed\n",
      "val Loss: 0.4254 Acc: 0.8187\n",
      "\n",
      "----------\n",
      "\n",
      "Epoch: 4/20\n",
      "Phase: train\n",
      "Iterations completed\n",
      "train Loss: 0.4398 Acc: 0.8397\n",
      "\n",
      "Phase: val\n",
      "Iterations completed\n",
      "val Loss: 0.4233 Acc: 0.8601\n",
      "\n",
      "----------\n",
      "\n",
      "Epoch: 5/20\n",
      "Phase: train\n",
      "Iterations completed\n",
      "train Loss: 0.3979 Acc: 0.8521\n",
      "\n",
      "Phase: val\n",
      "Iterations completed\n",
      "val Loss: 0.3589 Acc: 0.8549\n",
      "\n",
      "----------\n",
      "\n",
      "Epoch: 6/20\n",
      "Phase: train\n",
      "Iterations completed\n",
      "train Loss: 0.3751 Acc: 0.8609\n",
      "\n",
      "Phase: val\n",
      "Iterations completed\n",
      "val Loss: 0.4543 Acc: 0.8394\n",
      "\n",
      "----------\n",
      "\n",
      "Epoch: 7/20\n",
      "Phase: train\n",
      "Iterations completed\n",
      "train Loss: 0.3502 Acc: 0.8694\n",
      "\n",
      "Phase: val\n",
      "Iterations completed\n",
      "val Loss: 0.3684 Acc: 0.8860\n",
      "\n",
      "----------\n",
      "\n",
      "Epoch: 8/20\n",
      "Phase: train\n",
      "Iterations completed\n",
      "train Loss: 0.3268 Acc: 0.8772\n",
      "\n",
      "Phase: val\n",
      "Iterations completed\n",
      "val Loss: 0.4897 Acc: 0.8238\n",
      "\n",
      "----------\n",
      "\n",
      "Epoch: 9/20\n",
      "Phase: train\n",
      "Iterations completed\n",
      "train Loss: 0.3020 Acc: 0.8883\n",
      "\n",
      "Phase: val\n",
      "Iterations completed\n",
      "val Loss: 0.4158 Acc: 0.8964\n",
      "\n",
      "----------\n",
      "\n",
      "Epoch: 10/20\n",
      "Phase: train\n",
      "Iterations completed\n",
      "train Loss: 0.2907 Acc: 0.8917\n",
      "\n",
      "Phase: val\n",
      "Iterations completed\n",
      "val Loss: 0.3724 Acc: 0.8912\n",
      "\n",
      "----------\n",
      "\n",
      "Epoch: 11/20\n",
      "Phase: train\n",
      "Iterations completed\n",
      "train Loss: 0.2665 Acc: 0.9017\n",
      "\n",
      "Phase: val\n",
      "Iterations completed\n",
      "val Loss: 0.3341 Acc: 0.8964\n",
      "\n",
      "----------\n",
      "\n",
      "Epoch: 12/20\n",
      "Phase: train\n",
      "Iterations completed\n",
      "train Loss: 0.1784 Acc: 0.9355\n",
      "\n",
      "Phase: val\n",
      "Iterations completed\n",
      "val Loss: 0.3434 Acc: 0.9016\n",
      "\n",
      "----------\n",
      "\n",
      "Epoch: 13/20\n",
      "Phase: train\n",
      "Iterations completed\n",
      "train Loss: 0.1461 Acc: 0.9460\n",
      "\n",
      "Phase: val\n",
      "Iterations completed\n",
      "val Loss: 0.3594 Acc: 0.8912\n",
      "\n",
      "----------\n",
      "\n",
      "Epoch: 14/20\n",
      "Phase: train\n",
      "Iterations completed\n",
      "train Loss: 0.1284 Acc: 0.9511\n",
      "\n",
      "Phase: val\n",
      "Iterations completed\n",
      "val Loss: 0.3171 Acc: 0.8860\n",
      "\n",
      "----------\n",
      "\n",
      "Epoch: 15/20\n",
      "Phase: train\n",
      "Iterations completed\n",
      "train Loss: 0.1225 Acc: 0.9539\n",
      "\n",
      "Phase: val\n",
      "Iterations completed\n",
      "val Loss: 0.3371 Acc: 0.9067\n",
      "\n",
      "----------\n",
      "\n",
      "Epoch: 16/20\n",
      "Phase: train\n",
      "Iterations completed\n",
      "train Loss: 0.1137 Acc: 0.9582\n",
      "\n",
      "Phase: val\n",
      "Iterations completed\n",
      "val Loss: 0.3757 Acc: 0.8860\n",
      "\n",
      "----------\n",
      "\n",
      "Epoch: 17/20\n",
      "Phase: train\n",
      "Iterations completed\n",
      "train Loss: 0.1026 Acc: 0.9619\n",
      "\n",
      "Phase: val\n",
      "Iterations completed\n",
      "val Loss: 0.3751 Acc: 0.8964\n",
      "\n",
      "----------\n",
      "\n",
      "Epoch: 18/20\n",
      "Phase: train\n",
      "Iterations completed\n",
      "train Loss: 0.0991 Acc: 0.9629\n",
      "\n",
      "Phase: val\n",
      "Iterations completed\n",
      "val Loss: 0.3323 Acc: 0.8860\n",
      "\n",
      "----------\n",
      "\n",
      "Epoch: 19/20\n",
      "Phase: train\n",
      "Iterations completed\n",
      "train Loss: 0.0838 Acc: 0.9691\n",
      "\n",
      "Phase: val\n",
      "Iterations completed\n",
      "val Loss: 0.3919 Acc: 0.8808\n",
      "\n",
      "----------\n",
      "\n",
      "Epoch: 20/20\n",
      "Phase: train\n",
      "Iterations completed\n",
      "train Loss: 0.0809 Acc: 0.9696\n",
      "\n",
      "Phase: val\n",
      "Iterations completed\n",
      "val Loss: 0.3705 Acc: 0.9016\n",
      "\n",
      "----------\n",
      "\n",
      "Training complete in 15m 53s\n",
      "Best val Acc: 0.9067\n"
     ]
    },
    {
     "name": "stderr",
     "output_type": "stream",
     "text": [
      "Widget Javascript not detected.  It may not be installed or enabled properly. Reconnecting the current kernel may help.\n"
     ]
    },
    {
     "data": {
      "application/vnd.jupyter.widget-view+json": {
       "model_id": "daaad9658b314aaf8d115ff0dc32c285"
      }
     },
     "metadata": {},
     "output_type": "display_data"
    },
    {
     "data": {
      "text/html": [
       "<style>\n",
       "    table.wandb td:nth-child(1) { padding: 0 10px; text-align: left ; width: auto;} td:nth-child(2) {text-align: left ; width: 100%}\n",
       "    .wandb-row { display: flex; flex-direction: row; flex-wrap: wrap; justify-content: flex-start; width: 100% }\n",
       "    .wandb-col { display: flex; flex-direction: column; flex-basis: 100%; flex: 1; padding: 10px; }\n",
       "    </style>\n",
       "<div class=\"wandb-row\"><div class=\"wandb-col\"><h3>Run history:</h3><br/><table class=\"wandb\"><tr><td>train_batch_acc</td><td>▁▄▃▅▃▆▆▅▅▆▄▃▆▆▆▆▅▆▆▆▆▅▆▆▆▇█▆▇█▇▆▇▆▆▇█▇▆▆</td></tr><tr><td>train_batch_loss</td><td>█▆▇▄▅▄▆▆▄▄▃▆▄▃▃▃▃▂▃▄▃▄▂▃▂▂▁▃▂▁▂▂▂▂▂▁▁▁▂▂</td></tr><tr><td>val_acc</td><td>▁▄▃▅▅▄▇▃▇▇▇█▇▇█▇▇▇▆█</td></tr><tr><td>val_loss</td><td>█▅▄▄▂▅▂▆▄▃▁▂▂▁▂▃▃▁▃▃</td></tr></table><br/></div><div class=\"wandb-col\"><h3>Run summary:</h3><br/><table class=\"wandb\"><tr><td>train_batch_acc</td><td>1.0</td></tr><tr><td>train_batch_loss</td><td>0.01594</td></tr><tr><td>val_acc</td><td>0.90155</td></tr><tr><td>val_loss</td><td>0.37049</td></tr></table><br/></div></div>"
      ],
      "text/plain": [
       "<IPython.core.display.HTML object>"
      ]
     },
     "metadata": {},
     "output_type": "display_data"
    },
    {
     "data": {
      "text/html": [
       " View run <strong style=\"color:#cdcd00\">desert-oath-27</strong> at: <a href='https://wandb.ai/dsaperov-organization/mediscan-efficient-net-b0/runs/tblkrhs4' target=\"_blank\">https://wandb.ai/dsaperov-organization/mediscan-efficient-net-b0/runs/tblkrhs4</a><br/> View project at: <a href='https://wandb.ai/dsaperov-organization/mediscan-efficient-net-b0' target=\"_blank\">https://wandb.ai/dsaperov-organization/mediscan-efficient-net-b0</a><br/>Synced 5 W&B file(s), 0 media file(s), 0 artifact file(s) and 0 other file(s)"
      ],
      "text/plain": [
       "<IPython.core.display.HTML object>"
      ]
     },
     "metadata": {},
     "output_type": "display_data"
    },
    {
     "data": {
      "text/html": [
       "Find logs at: <code>./wandb/run-20240605_035055-tblkrhs4/logs</code>"
      ],
      "text/plain": [
       "<IPython.core.display.HTML object>"
      ]
     },
     "metadata": {},
     "output_type": "display_data"
    },
    {
     "name": "stdout",
     "output_type": "stream",
     "text": [
      "\n",
      "patience: 6\n"
     ]
    },
    {
     "name": "stderr",
     "output_type": "stream",
     "text": [
      "Widget Javascript not detected.  It may not be installed or enabled properly. Reconnecting the current kernel may help.\n"
     ]
    },
    {
     "data": {
      "application/vnd.jupyter.widget-view+json": {
       "model_id": "24820e70d0ee424489c7eb41dd136dad"
      }
     },
     "metadata": {},
     "output_type": "display_data"
    },
    {
     "data": {
      "text/html": [
       "Tracking run with wandb version 0.17.0"
      ],
      "text/plain": [
       "<IPython.core.display.HTML object>"
      ]
     },
     "metadata": {},
     "output_type": "display_data"
    },
    {
     "data": {
      "text/html": [
       "Run data is saved locally in <code>/home/user/Downloads/ISIC2018/wandb/run-20240605_040654-9ltq0zcu</code>"
      ],
      "text/plain": [
       "<IPython.core.display.HTML object>"
      ]
     },
     "metadata": {},
     "output_type": "display_data"
    },
    {
     "data": {
      "text/html": [
       "Syncing run <strong><a href='https://wandb.ai/dsaperov-organization/mediscan-efficient-net-b0/runs/9ltq0zcu' target=\"_blank\">dulcet-spaceship-28</a></strong> to <a href='https://wandb.ai/dsaperov-organization/mediscan-efficient-net-b0' target=\"_blank\">Weights & Biases</a> (<a href='https://wandb.me/run' target=\"_blank\">docs</a>)<br/>"
      ],
      "text/plain": [
       "<IPython.core.display.HTML object>"
      ]
     },
     "metadata": {},
     "output_type": "display_data"
    },
    {
     "data": {
      "text/html": [
       " View project at <a href='https://wandb.ai/dsaperov-organization/mediscan-efficient-net-b0' target=\"_blank\">https://wandb.ai/dsaperov-organization/mediscan-efficient-net-b0</a>"
      ],
      "text/plain": [
       "<IPython.core.display.HTML object>"
      ]
     },
     "metadata": {},
     "output_type": "display_data"
    },
    {
     "data": {
      "text/html": [
       " View run at <a href='https://wandb.ai/dsaperov-organization/mediscan-efficient-net-b0/runs/9ltq0zcu' target=\"_blank\">https://wandb.ai/dsaperov-organization/mediscan-efficient-net-b0/runs/9ltq0zcu</a>"
      ],
      "text/plain": [
       "<IPython.core.display.HTML object>"
      ]
     },
     "metadata": {},
     "output_type": "display_data"
    },
    {
     "name": "stdout",
     "output_type": "stream",
     "text": [
      "Epoch: 1/20\n",
      "Phase: train\n",
      "Iterations completed\n",
      "train Loss: 0.6785 Acc: 0.7575\n",
      "\n",
      "Phase: val\n",
      "Iterations completed\n",
      "val Loss: 0.5585 Acc: 0.7927\n",
      "\n",
      "----------\n",
      "\n",
      "Epoch: 2/20\n",
      "Phase: train\n",
      "Iterations completed\n",
      "train Loss: 0.5261 Acc: 0.8082\n",
      "\n",
      "Phase: val\n",
      "Iterations completed\n",
      "val Loss: 0.4585 Acc: 0.8446\n",
      "\n",
      "----------\n",
      "\n",
      "Epoch: 3/20\n",
      "Phase: train\n",
      "Iterations completed\n",
      "train Loss: 0.4753 Acc: 0.8253\n",
      "\n",
      "Phase: val\n",
      "Iterations completed\n",
      "val Loss: 0.4254 Acc: 0.8187\n",
      "\n",
      "----------\n",
      "\n",
      "Epoch: 4/20\n",
      "Phase: train\n",
      "Iterations completed\n",
      "train Loss: 0.4398 Acc: 0.8397\n",
      "\n",
      "Phase: val\n",
      "Iterations completed\n",
      "val Loss: 0.4233 Acc: 0.8601\n",
      "\n",
      "----------\n",
      "\n",
      "Epoch: 5/20\n",
      "Phase: train\n",
      "Iterations completed\n",
      "train Loss: 0.3979 Acc: 0.8521\n",
      "\n",
      "Phase: val\n",
      "Iterations completed\n",
      "val Loss: 0.3589 Acc: 0.8549\n",
      "\n",
      "----------\n",
      "\n",
      "Epoch: 6/20\n",
      "Phase: train\n",
      "Iterations completed\n",
      "train Loss: 0.3751 Acc: 0.8609\n",
      "\n",
      "Phase: val\n",
      "Iterations completed\n",
      "val Loss: 0.4543 Acc: 0.8394\n",
      "\n",
      "----------\n",
      "\n",
      "Epoch: 7/20\n",
      "Phase: train\n",
      "Iterations completed\n",
      "train Loss: 0.3502 Acc: 0.8694\n",
      "\n",
      "Phase: val\n",
      "Iterations completed\n",
      "val Loss: 0.3684 Acc: 0.8860\n",
      "\n",
      "----------\n",
      "\n",
      "Epoch: 8/20\n",
      "Phase: train\n",
      "Iterations completed\n",
      "train Loss: 0.3268 Acc: 0.8772\n",
      "\n",
      "Phase: val\n",
      "Iterations completed\n",
      "val Loss: 0.4897 Acc: 0.8238\n",
      "\n",
      "----------\n",
      "\n",
      "Epoch: 9/20\n",
      "Phase: train\n",
      "Iterations completed\n",
      "train Loss: 0.3020 Acc: 0.8883\n",
      "\n",
      "Phase: val\n",
      "Iterations completed\n",
      "val Loss: 0.4158 Acc: 0.8964\n",
      "\n",
      "----------\n",
      "\n",
      "Epoch: 10/20\n",
      "Phase: train\n",
      "Iterations completed\n",
      "train Loss: 0.2907 Acc: 0.8917\n",
      "\n",
      "Phase: val\n",
      "Iterations completed\n",
      "val Loss: 0.3724 Acc: 0.8912\n",
      "\n",
      "----------\n",
      "\n",
      "Epoch: 11/20\n",
      "Phase: train\n",
      "Iterations completed\n",
      "train Loss: 0.2665 Acc: 0.9017\n",
      "\n",
      "Phase: val\n",
      "Iterations completed\n",
      "val Loss: 0.3341 Acc: 0.8964\n",
      "\n",
      "----------\n",
      "\n",
      "Epoch: 12/20\n",
      "Phase: train\n",
      "Iterations completed\n",
      "train Loss: 0.2706 Acc: 0.9005\n",
      "\n",
      "Phase: val\n",
      "Iterations completed\n",
      "val Loss: 0.4149 Acc: 0.8705\n",
      "\n",
      "----------\n",
      "\n",
      "Epoch: 13/20\n",
      "Phase: train\n",
      "Iterations completed\n",
      "train Loss: 0.2461 Acc: 0.9130\n",
      "\n",
      "Phase: val\n",
      "Iterations completed\n",
      "val Loss: 0.3790 Acc: 0.8964\n",
      "\n",
      "----------\n",
      "\n",
      "Epoch: 14/20\n",
      "Phase: train\n",
      "Iterations completed\n",
      "train Loss: 0.2310 Acc: 0.9146\n",
      "\n",
      "Phase: val\n",
      "Iterations completed\n",
      "val Loss: 0.4551 Acc: 0.8808\n",
      "\n",
      "----------\n",
      "\n",
      "Epoch: 15/20\n",
      "Phase: train\n",
      "Iterations completed\n",
      "train Loss: 0.1509 Acc: 0.9419\n",
      "\n",
      "Phase: val\n",
      "Iterations completed\n",
      "val Loss: 0.3313 Acc: 0.8860\n",
      "\n",
      "----------\n",
      "\n",
      "Epoch: 16/20\n",
      "Phase: train\n",
      "Iterations completed\n",
      "train Loss: 0.1154 Acc: 0.9585\n",
      "\n",
      "Phase: val\n",
      "Iterations completed\n",
      "val Loss: 0.3475 Acc: 0.9067\n",
      "\n",
      "----------\n",
      "\n",
      "Epoch: 17/20\n",
      "Phase: train\n",
      "Iterations completed\n",
      "train Loss: 0.0984 Acc: 0.9647\n",
      "\n",
      "Phase: val\n",
      "Iterations completed\n",
      "val Loss: 0.3700 Acc: 0.8860\n",
      "\n",
      "----------\n",
      "\n",
      "Epoch: 18/20\n",
      "Phase: train\n",
      "Iterations completed\n",
      "train Loss: 0.0946 Acc: 0.9661\n",
      "\n",
      "Phase: val\n",
      "Iterations completed\n",
      "val Loss: 0.3884 Acc: 0.8808\n",
      "\n",
      "----------\n",
      "\n",
      "Epoch: 19/20\n",
      "Phase: train\n",
      "Iterations completed\n",
      "train Loss: 0.0790 Acc: 0.9726\n",
      "\n",
      "Phase: val\n",
      "Iterations completed\n",
      "val Loss: 0.3810 Acc: 0.8912\n",
      "\n",
      "----------\n",
      "\n",
      "Epoch: 20/20\n",
      "Phase: train\n",
      "Iterations completed\n",
      "train Loss: 0.0764 Acc: 0.9731\n",
      "\n",
      "Phase: val\n",
      "Iterations completed\n",
      "val Loss: 0.3915 Acc: 0.9067\n",
      "\n",
      "----------\n",
      "\n",
      "Training complete in 15m 56s\n",
      "Best val Acc: 0.9067\n"
     ]
    },
    {
     "name": "stderr",
     "output_type": "stream",
     "text": [
      "Widget Javascript not detected.  It may not be installed or enabled properly. Reconnecting the current kernel may help.\n"
     ]
    },
    {
     "data": {
      "application/vnd.jupyter.widget-view+json": {
       "model_id": "714e6a5b74714d2ba6423880f3d808b4"
      }
     },
     "metadata": {},
     "output_type": "display_data"
    },
    {
     "data": {
      "text/html": [
       "<style>\n",
       "    table.wandb td:nth-child(1) { padding: 0 10px; text-align: left ; width: auto;} td:nth-child(2) {text-align: left ; width: 100%}\n",
       "    .wandb-row { display: flex; flex-direction: row; flex-wrap: wrap; justify-content: flex-start; width: 100% }\n",
       "    .wandb-col { display: flex; flex-direction: column; flex-basis: 100%; flex: 1; padding: 10px; }\n",
       "    </style>\n",
       "<div class=\"wandb-row\"><div class=\"wandb-col\"><h3>Run history:</h3><br/><table class=\"wandb\"><tr><td>train_batch_acc</td><td>▁▄▃▅▃▆▆▅▅▆▄▃▆▆▆▆▅▆▆▆▆▅▆▆▆▆▆▃▅█▇▇█▆▇█▆██▇</td></tr><tr><td>train_batch_loss</td><td>█▆▇▄▅▄▅▆▄▄▃▆▄▃▃▃▃▂▃▄▃▄▂▃▃▂▂▅▄▁▂▂▁▂▁▁▂▁▁▂</td></tr><tr><td>val_acc</td><td>▁▄▃▅▅▄▇▃▇▇▇▆▇▆▇█▇▆▇█</td></tr><tr><td>val_loss</td><td>█▅▄▄▂▅▂▆▄▂▁▄▂▅▁▁▂▃▃▃</td></tr></table><br/></div><div class=\"wandb-col\"><h3>Run summary:</h3><br/><table class=\"wandb\"><tr><td>train_batch_acc</td><td>1.0</td></tr><tr><td>train_batch_loss</td><td>0.01097</td></tr><tr><td>val_acc</td><td>0.90674</td></tr><tr><td>val_loss</td><td>0.39152</td></tr></table><br/></div></div>"
      ],
      "text/plain": [
       "<IPython.core.display.HTML object>"
      ]
     },
     "metadata": {},
     "output_type": "display_data"
    },
    {
     "data": {
      "text/html": [
       " View run <strong style=\"color:#cdcd00\">dulcet-spaceship-28</strong> at: <a href='https://wandb.ai/dsaperov-organization/mediscan-efficient-net-b0/runs/9ltq0zcu' target=\"_blank\">https://wandb.ai/dsaperov-organization/mediscan-efficient-net-b0/runs/9ltq0zcu</a><br/> View project at: <a href='https://wandb.ai/dsaperov-organization/mediscan-efficient-net-b0' target=\"_blank\">https://wandb.ai/dsaperov-organization/mediscan-efficient-net-b0</a><br/>Synced 5 W&B file(s), 0 media file(s), 0 artifact file(s) and 0 other file(s)"
      ],
      "text/plain": [
       "<IPython.core.display.HTML object>"
      ]
     },
     "metadata": {},
     "output_type": "display_data"
    },
    {
     "data": {
      "text/html": [
       "Find logs at: <code>./wandb/run-20240605_040654-9ltq0zcu/logs</code>"
      ],
      "text/plain": [
       "<IPython.core.display.HTML object>"
      ]
     },
     "metadata": {},
     "output_type": "display_data"
    },
    {
     "name": "stdout",
     "output_type": "stream",
     "text": [
      "\n",
      "Лучшая ранее достигнутая точность: 0.922279792746114\n",
      "Лучшая точность в текущем эксперименте: 0.9067357512953368\n",
      "Точность НЕ улучшилась\n",
      "Разница между значениями: 0.0155\n"
     ]
    }
   ],
   "source": [
    "param_name = 'patience'\n",
    "config, best_acc, best_patience = run_experiment(config, SCHEDULER, sheduler_class, dataloaders, best_acc, param_name, PATIENCES)"
   ]
  },
  {
   "cell_type": "code",
   "execution_count": 122,
   "id": "d0a24f52-d2ea-4ae2-9e45-0e197fb0393e",
   "metadata": {},
   "outputs": [],
   "source": [
    "params = {param_name: best_patience}"
   ]
  },
  {
   "cell_type": "markdown",
   "id": "d3b4d6c7-1c6e-4a25-a156-53ce3ca7e611",
   "metadata": {},
   "source": [
    "#### Параметр `factor`"
   ]
  },
  {
   "cell_type": "code",
   "execution_count": 124,
   "id": "f689ccb3-d52b-462a-9c08-17537efcbe4a",
   "metadata": {},
   "outputs": [],
   "source": [
    "FACTORS = [0.3, 0.5]"
   ]
  },
  {
   "cell_type": "code",
   "execution_count": 125,
   "id": "5649bcb2-966a-4b28-a913-8d4f9cb1751f",
   "metadata": {},
   "outputs": [
    {
     "name": "stdout",
     "output_type": "stream",
     "text": [
      "\n",
      "factor: 0.3\n"
     ]
    },
    {
     "data": {
      "text/html": [
       "Tracking run with wandb version 0.17.0"
      ],
      "text/plain": [
       "<IPython.core.display.HTML object>"
      ]
     },
     "metadata": {},
     "output_type": "display_data"
    },
    {
     "data": {
      "text/html": [
       "Run data is saved locally in <code>/home/user/Downloads/ISIC2018/wandb/run-20240605_042529-msl0dkxc</code>"
      ],
      "text/plain": [
       "<IPython.core.display.HTML object>"
      ]
     },
     "metadata": {},
     "output_type": "display_data"
    },
    {
     "data": {
      "text/html": [
       "Syncing run <strong><a href='https://wandb.ai/dsaperov-organization/mediscan-efficient-net-b0/runs/msl0dkxc' target=\"_blank\">happy-voice-29</a></strong> to <a href='https://wandb.ai/dsaperov-organization/mediscan-efficient-net-b0' target=\"_blank\">Weights & Biases</a> (<a href='https://wandb.me/run' target=\"_blank\">docs</a>)<br/>"
      ],
      "text/plain": [
       "<IPython.core.display.HTML object>"
      ]
     },
     "metadata": {},
     "output_type": "display_data"
    },
    {
     "data": {
      "text/html": [
       " View project at <a href='https://wandb.ai/dsaperov-organization/mediscan-efficient-net-b0' target=\"_blank\">https://wandb.ai/dsaperov-organization/mediscan-efficient-net-b0</a>"
      ],
      "text/plain": [
       "<IPython.core.display.HTML object>"
      ]
     },
     "metadata": {},
     "output_type": "display_data"
    },
    {
     "data": {
      "text/html": [
       " View run at <a href='https://wandb.ai/dsaperov-organization/mediscan-efficient-net-b0/runs/msl0dkxc' target=\"_blank\">https://wandb.ai/dsaperov-organization/mediscan-efficient-net-b0/runs/msl0dkxc</a>"
      ],
      "text/plain": [
       "<IPython.core.display.HTML object>"
      ]
     },
     "metadata": {},
     "output_type": "display_data"
    },
    {
     "name": "stdout",
     "output_type": "stream",
     "text": [
      "Epoch: 1/20\n",
      "Phase: train\n",
      "Iterations completed\n",
      "train Loss: 0.6785 Acc: 0.7575\n",
      "\n",
      "Phase: val\n",
      "Iterations completed\n",
      "val Loss: 0.5585 Acc: 0.7927\n",
      "\n",
      "----------\n",
      "\n",
      "Epoch: 2/20\n",
      "Phase: train\n",
      "Iterations completed\n",
      "train Loss: 0.5261 Acc: 0.8082\n",
      "\n",
      "Phase: val\n",
      "Iterations completed\n",
      "val Loss: 0.4585 Acc: 0.8446\n",
      "\n",
      "----------\n",
      "\n",
      "Epoch: 3/20\n",
      "Phase: train\n",
      "Iterations completed\n",
      "train Loss: 0.4753 Acc: 0.8253\n",
      "\n",
      "Phase: val\n",
      "Iterations completed\n",
      "val Loss: 0.4254 Acc: 0.8187\n",
      "\n",
      "----------\n",
      "\n",
      "Epoch: 4/20\n",
      "Phase: train\n",
      "Iterations completed\n",
      "train Loss: 0.4398 Acc: 0.8397\n",
      "\n",
      "Phase: val\n",
      "Iterations completed\n",
      "val Loss: 0.4233 Acc: 0.8601\n",
      "\n",
      "----------\n",
      "\n",
      "Epoch: 5/20\n",
      "Phase: train\n",
      "Iterations completed\n",
      "train Loss: 0.3979 Acc: 0.8521\n",
      "\n",
      "Phase: val\n",
      "Iterations completed\n",
      "val Loss: 0.3589 Acc: 0.8549\n",
      "\n",
      "----------\n",
      "\n",
      "Epoch: 6/20\n",
      "Phase: train\n",
      "Iterations completed\n",
      "train Loss: 0.3751 Acc: 0.8609\n",
      "\n",
      "Phase: val\n",
      "Iterations completed\n",
      "val Loss: 0.4543 Acc: 0.8394\n",
      "\n",
      "----------\n",
      "\n",
      "Epoch: 7/20\n",
      "Phase: train\n",
      "Iterations completed\n",
      "train Loss: 0.3502 Acc: 0.8694\n",
      "\n",
      "Phase: val\n",
      "Iterations completed\n",
      "val Loss: 0.3684 Acc: 0.8860\n",
      "\n",
      "----------\n",
      "\n",
      "Epoch: 8/20\n",
      "Phase: train\n",
      "Iterations completed\n",
      "train Loss: 0.3268 Acc: 0.8772\n",
      "\n",
      "Phase: val\n",
      "Iterations completed\n",
      "val Loss: 0.4897 Acc: 0.8238\n",
      "\n",
      "----------\n",
      "\n",
      "Epoch: 9/20\n",
      "Phase: train\n",
      "Iterations completed\n",
      "train Loss: 0.3020 Acc: 0.8883\n",
      "\n",
      "Phase: val\n",
      "Iterations completed\n",
      "val Loss: 0.4158 Acc: 0.8964\n",
      "\n",
      "----------\n",
      "\n",
      "Epoch: 10/20\n",
      "Phase: train\n",
      "Iterations completed\n",
      "train Loss: 0.2907 Acc: 0.8917\n",
      "\n",
      "Phase: val\n",
      "Iterations completed\n",
      "val Loss: 0.3724 Acc: 0.8912\n",
      "\n",
      "----------\n",
      "\n",
      "Epoch: 11/20\n",
      "Phase: train\n",
      "Iterations completed\n",
      "train Loss: 0.2665 Acc: 0.9017\n",
      "\n",
      "Phase: val\n",
      "Iterations completed\n",
      "val Loss: 0.3341 Acc: 0.8964\n",
      "\n",
      "----------\n",
      "\n",
      "Epoch: 12/20\n",
      "Phase: train\n",
      "Iterations completed\n",
      "train Loss: 0.1789 Acc: 0.9343\n",
      "\n",
      "Phase: val\n",
      "Iterations completed\n",
      "val Loss: 0.3643 Acc: 0.8912\n",
      "\n",
      "----------\n",
      "\n",
      "Epoch: 13/20\n",
      "Phase: train\n",
      "Iterations completed\n",
      "train Loss: 0.1439 Acc: 0.9482\n",
      "\n",
      "Phase: val\n",
      "Iterations completed\n",
      "val Loss: 0.4189 Acc: 0.8705\n",
      "\n",
      "----------\n",
      "\n",
      "Epoch: 14/20\n",
      "Phase: train\n",
      "Iterations completed\n",
      "train Loss: 0.1258 Acc: 0.9534\n",
      "\n",
      "Phase: val\n",
      "Iterations completed\n",
      "val Loss: 0.3458 Acc: 0.8912\n",
      "\n",
      "----------\n",
      "\n",
      "Epoch: 15/20\n",
      "Phase: train\n",
      "Iterations completed\n",
      "train Loss: 0.1208 Acc: 0.9538\n",
      "\n",
      "Phase: val\n",
      "Iterations completed\n",
      "val Loss: 0.3701 Acc: 0.8964\n",
      "\n",
      "----------\n",
      "\n",
      "Epoch: 16/20\n",
      "Phase: train\n",
      "Iterations completed\n",
      "train Loss: 0.0924 Acc: 0.9673\n",
      "\n",
      "Phase: val\n",
      "Iterations completed\n",
      "val Loss: 0.3983 Acc: 0.8964\n",
      "\n",
      "----------\n",
      "\n",
      "Epoch: 17/20\n",
      "Phase: train\n",
      "Iterations completed\n",
      "train Loss: 0.0758 Acc: 0.9733\n",
      "\n",
      "Phase: val\n",
      "Iterations completed\n",
      "val Loss: 0.3723 Acc: 0.8912\n",
      "\n",
      "----------\n",
      "\n",
      "Epoch: 18/20\n",
      "Phase: train\n",
      "Iterations completed\n",
      "train Loss: 0.0745 Acc: 0.9718\n",
      "\n",
      "Phase: val\n",
      "Iterations completed\n",
      "val Loss: 0.3551 Acc: 0.8964\n",
      "\n",
      "----------\n",
      "\n",
      "Epoch: 19/20\n",
      "Phase: train\n",
      "Iterations completed\n",
      "train Loss: 0.0596 Acc: 0.9789\n",
      "\n",
      "Phase: val\n",
      "Iterations completed\n",
      "val Loss: 0.4080 Acc: 0.8860\n",
      "\n",
      "----------\n",
      "\n",
      "Epoch: 20/20\n",
      "Phase: train\n",
      "Iterations completed\n",
      "train Loss: 0.0589 Acc: 0.9793\n",
      "\n",
      "Phase: val\n",
      "Iterations completed\n",
      "val Loss: 0.4286 Acc: 0.8964\n",
      "\n",
      "----------\n",
      "\n",
      "Training complete in 15m 46s\n",
      "Best val Acc: 0.8964\n"
     ]
    },
    {
     "name": "stderr",
     "output_type": "stream",
     "text": [
      "Widget Javascript not detected.  It may not be installed or enabled properly. Reconnecting the current kernel may help.\n"
     ]
    },
    {
     "data": {
      "application/vnd.jupyter.widget-view+json": {
       "model_id": "0bfcdffebe35481d950f7aecb5fd157c"
      }
     },
     "metadata": {},
     "output_type": "display_data"
    },
    {
     "data": {
      "text/html": [
       "<style>\n",
       "    table.wandb td:nth-child(1) { padding: 0 10px; text-align: left ; width: auto;} td:nth-child(2) {text-align: left ; width: 100%}\n",
       "    .wandb-row { display: flex; flex-direction: row; flex-wrap: wrap; justify-content: flex-start; width: 100% }\n",
       "    .wandb-col { display: flex; flex-direction: column; flex-basis: 100%; flex: 1; padding: 10px; }\n",
       "    </style>\n",
       "<div class=\"wandb-row\"><div class=\"wandb-col\"><h3>Run history:</h3><br/><table class=\"wandb\"><tr><td>train_batch_acc</td><td>▁▄▃▅▃▆▆▅▅▆▄▃▆▆▆▆▅▆▆▆▆▅▆▆▆▆█▆▇█▆▇▇▇▇███▇▆</td></tr><tr><td>train_batch_loss</td><td>█▆▇▄▅▄▆▆▄▄▃▆▄▃▃▃▃▂▃▄▃▄▂▃▂▂▁▃▂▁▂▂▁▂▂▁▁▁▁▂</td></tr><tr><td>val_acc</td><td>▁▅▃▆▅▄▇▃████▆█████▇█</td></tr><tr><td>val_loss</td><td>█▅▄▄▂▅▂▆▄▂▁▂▄▁▂▃▂▂▃▄</td></tr></table><br/></div><div class=\"wandb-col\"><h3>Run summary:</h3><br/><table class=\"wandb\"><tr><td>train_batch_acc</td><td>1.0</td></tr><tr><td>train_batch_loss</td><td>0.01819</td></tr><tr><td>val_acc</td><td>0.89637</td></tr><tr><td>val_loss</td><td>0.42862</td></tr></table><br/></div></div>"
      ],
      "text/plain": [
       "<IPython.core.display.HTML object>"
      ]
     },
     "metadata": {},
     "output_type": "display_data"
    },
    {
     "data": {
      "text/html": [
       " View run <strong style=\"color:#cdcd00\">happy-voice-29</strong> at: <a href='https://wandb.ai/dsaperov-organization/mediscan-efficient-net-b0/runs/msl0dkxc' target=\"_blank\">https://wandb.ai/dsaperov-organization/mediscan-efficient-net-b0/runs/msl0dkxc</a><br/> View project at: <a href='https://wandb.ai/dsaperov-organization/mediscan-efficient-net-b0' target=\"_blank\">https://wandb.ai/dsaperov-organization/mediscan-efficient-net-b0</a><br/>Synced 5 W&B file(s), 0 media file(s), 0 artifact file(s) and 0 other file(s)"
      ],
      "text/plain": [
       "<IPython.core.display.HTML object>"
      ]
     },
     "metadata": {},
     "output_type": "display_data"
    },
    {
     "data": {
      "text/html": [
       "Find logs at: <code>./wandb/run-20240605_042529-msl0dkxc/logs</code>"
      ],
      "text/plain": [
       "<IPython.core.display.HTML object>"
      ]
     },
     "metadata": {},
     "output_type": "display_data"
    },
    {
     "name": "stdout",
     "output_type": "stream",
     "text": [
      "\n",
      "factor: 0.5\n"
     ]
    },
    {
     "name": "stderr",
     "output_type": "stream",
     "text": [
      "Widget Javascript not detected.  It may not be installed or enabled properly. Reconnecting the current kernel may help.\n"
     ]
    },
    {
     "data": {
      "application/vnd.jupyter.widget-view+json": {
       "model_id": "aaba9b13c8c04fea9c7db89233355314"
      }
     },
     "metadata": {},
     "output_type": "display_data"
    },
    {
     "data": {
      "text/html": [
       "Tracking run with wandb version 0.17.0"
      ],
      "text/plain": [
       "<IPython.core.display.HTML object>"
      ]
     },
     "metadata": {},
     "output_type": "display_data"
    },
    {
     "data": {
      "text/html": [
       "Run data is saved locally in <code>/home/user/Downloads/ISIC2018/wandb/run-20240605_044122-qhifk5cb</code>"
      ],
      "text/plain": [
       "<IPython.core.display.HTML object>"
      ]
     },
     "metadata": {},
     "output_type": "display_data"
    },
    {
     "data": {
      "text/html": [
       "Syncing run <strong><a href='https://wandb.ai/dsaperov-organization/mediscan-efficient-net-b0/runs/qhifk5cb' target=\"_blank\">vital-thunder-30</a></strong> to <a href='https://wandb.ai/dsaperov-organization/mediscan-efficient-net-b0' target=\"_blank\">Weights & Biases</a> (<a href='https://wandb.me/run' target=\"_blank\">docs</a>)<br/>"
      ],
      "text/plain": [
       "<IPython.core.display.HTML object>"
      ]
     },
     "metadata": {},
     "output_type": "display_data"
    },
    {
     "data": {
      "text/html": [
       " View project at <a href='https://wandb.ai/dsaperov-organization/mediscan-efficient-net-b0' target=\"_blank\">https://wandb.ai/dsaperov-organization/mediscan-efficient-net-b0</a>"
      ],
      "text/plain": [
       "<IPython.core.display.HTML object>"
      ]
     },
     "metadata": {},
     "output_type": "display_data"
    },
    {
     "data": {
      "text/html": [
       " View run at <a href='https://wandb.ai/dsaperov-organization/mediscan-efficient-net-b0/runs/qhifk5cb' target=\"_blank\">https://wandb.ai/dsaperov-organization/mediscan-efficient-net-b0/runs/qhifk5cb</a>"
      ],
      "text/plain": [
       "<IPython.core.display.HTML object>"
      ]
     },
     "metadata": {},
     "output_type": "display_data"
    },
    {
     "name": "stdout",
     "output_type": "stream",
     "text": [
      "Epoch: 1/20\n",
      "Phase: train\n",
      "Iterations completed\n",
      "train Loss: 0.6785 Acc: 0.7575\n",
      "\n",
      "Phase: val\n",
      "Iterations completed\n",
      "val Loss: 0.5585 Acc: 0.7927\n",
      "\n",
      "----------\n",
      "\n",
      "Epoch: 2/20\n",
      "Phase: train\n",
      "Iterations completed\n",
      "train Loss: 0.5261 Acc: 0.8082\n",
      "\n",
      "Phase: val\n",
      "Iterations completed\n",
      "val Loss: 0.4585 Acc: 0.8446\n",
      "\n",
      "----------\n",
      "\n",
      "Epoch: 3/20\n",
      "Phase: train\n",
      "Iterations completed\n",
      "train Loss: 0.4753 Acc: 0.8253\n",
      "\n",
      "Phase: val\n",
      "Iterations completed\n",
      "val Loss: 0.4254 Acc: 0.8187\n",
      "\n",
      "----------\n",
      "\n",
      "Epoch: 4/20\n",
      "Phase: train\n",
      "Iterations completed\n",
      "train Loss: 0.4398 Acc: 0.8397\n",
      "\n",
      "Phase: val\n",
      "Iterations completed\n",
      "val Loss: 0.4233 Acc: 0.8601\n",
      "\n",
      "----------\n",
      "\n",
      "Epoch: 5/20\n",
      "Phase: train\n",
      "Iterations completed\n",
      "train Loss: 0.3979 Acc: 0.8521\n",
      "\n",
      "Phase: val\n",
      "Iterations completed\n",
      "val Loss: 0.3589 Acc: 0.8549\n",
      "\n",
      "----------\n",
      "\n",
      "Epoch: 6/20\n",
      "Phase: train\n",
      "Iterations completed\n",
      "train Loss: 0.3751 Acc: 0.8609\n",
      "\n",
      "Phase: val\n",
      "Iterations completed\n",
      "val Loss: 0.4543 Acc: 0.8394\n",
      "\n",
      "----------\n",
      "\n",
      "Epoch: 7/20\n",
      "Phase: train\n",
      "Iterations completed\n",
      "train Loss: 0.3502 Acc: 0.8694\n",
      "\n",
      "Phase: val\n",
      "Iterations completed\n",
      "val Loss: 0.3684 Acc: 0.8860\n",
      "\n",
      "----------\n",
      "\n",
      "Epoch: 8/20\n",
      "Phase: train\n",
      "Iterations completed\n",
      "train Loss: 0.3268 Acc: 0.8772\n",
      "\n",
      "Phase: val\n",
      "Iterations completed\n",
      "val Loss: 0.4897 Acc: 0.8238\n",
      "\n",
      "----------\n",
      "\n",
      "Epoch: 9/20\n",
      "Phase: train\n",
      "Iterations completed\n",
      "train Loss: 0.3020 Acc: 0.8883\n",
      "\n",
      "Phase: val\n",
      "Iterations completed\n",
      "val Loss: 0.4158 Acc: 0.8964\n",
      "\n",
      "----------\n",
      "\n",
      "Epoch: 10/20\n",
      "Phase: train\n",
      "Iterations completed\n",
      "train Loss: 0.2907 Acc: 0.8917\n",
      "\n",
      "Phase: val\n",
      "Iterations completed\n",
      "val Loss: 0.3724 Acc: 0.8912\n",
      "\n",
      "----------\n",
      "\n",
      "Epoch: 11/20\n",
      "Phase: train\n",
      "Iterations completed\n",
      "train Loss: 0.2665 Acc: 0.9017\n",
      "\n",
      "Phase: val\n",
      "Iterations completed\n",
      "val Loss: 0.3341 Acc: 0.8964\n",
      "\n",
      "----------\n",
      "\n",
      "Epoch: 12/20\n",
      "Phase: train\n",
      "Iterations completed\n",
      "train Loss: 0.1980 Acc: 0.9282\n",
      "\n",
      "Phase: val\n",
      "Iterations completed\n",
      "val Loss: 0.3465 Acc: 0.8860\n",
      "\n",
      "----------\n",
      "\n",
      "Epoch: 13/20\n",
      "Phase: train\n",
      "Iterations completed\n",
      "train Loss: 0.1636 Acc: 0.9421\n",
      "\n",
      "Phase: val\n",
      "Iterations completed\n",
      "val Loss: 0.4467 Acc: 0.8808\n",
      "\n",
      "----------\n",
      "\n",
      "Epoch: 14/20\n",
      "Phase: train\n",
      "Iterations completed\n",
      "train Loss: 0.1491 Acc: 0.9452\n",
      "\n",
      "Phase: val\n",
      "Iterations completed\n",
      "val Loss: 0.3588 Acc: 0.8860\n",
      "\n",
      "----------\n",
      "\n",
      "Epoch: 15/20\n",
      "Phase: train\n",
      "Iterations completed\n",
      "train Loss: 0.1446 Acc: 0.9470\n",
      "\n",
      "Phase: val\n",
      "Iterations completed\n",
      "val Loss: 0.3672 Acc: 0.8860\n",
      "\n",
      "----------\n",
      "\n",
      "Epoch: 16/20\n",
      "Phase: train\n",
      "Iterations completed\n",
      "train Loss: 0.1057 Acc: 0.9631\n",
      "\n",
      "Phase: val\n",
      "Iterations completed\n",
      "val Loss: 0.3992 Acc: 0.8808\n",
      "\n",
      "----------\n",
      "\n",
      "Epoch: 17/20\n",
      "Phase: train\n",
      "Iterations completed\n",
      "train Loss: 0.0841 Acc: 0.9697\n",
      "\n",
      "Phase: val\n",
      "Iterations completed\n",
      "val Loss: 0.4084 Acc: 0.8860\n",
      "\n",
      "----------\n",
      "\n",
      "Epoch: 18/20\n",
      "Phase: train\n",
      "Iterations completed\n",
      "train Loss: 0.0835 Acc: 0.9698\n",
      "\n",
      "Phase: val\n",
      "Iterations completed\n",
      "val Loss: 0.3632 Acc: 0.8964\n",
      "\n",
      "----------\n",
      "\n",
      "Epoch: 19/20\n",
      "Phase: train\n",
      "Iterations completed\n",
      "train Loss: 0.0660 Acc: 0.9769\n",
      "\n",
      "Phase: val\n",
      "Iterations completed\n",
      "val Loss: 0.3485 Acc: 0.9171\n",
      "\n",
      "----------\n",
      "\n",
      "Epoch: 20/20\n",
      "Phase: train\n",
      "Iterations completed\n",
      "train Loss: 0.0675 Acc: 0.9750\n",
      "\n",
      "Phase: val\n",
      "Iterations completed\n",
      "val Loss: 0.4888 Acc: 0.8964\n",
      "\n",
      "----------\n",
      "\n",
      "Training complete in 15m 45s\n",
      "Best val Acc: 0.9171\n"
     ]
    },
    {
     "name": "stderr",
     "output_type": "stream",
     "text": [
      "Widget Javascript not detected.  It may not be installed or enabled properly. Reconnecting the current kernel may help.\n"
     ]
    },
    {
     "data": {
      "application/vnd.jupyter.widget-view+json": {
       "model_id": "6c53251324eb4c44b9722477a608dd70"
      }
     },
     "metadata": {},
     "output_type": "display_data"
    },
    {
     "data": {
      "text/html": [
       "<style>\n",
       "    table.wandb td:nth-child(1) { padding: 0 10px; text-align: left ; width: auto;} td:nth-child(2) {text-align: left ; width: 100%}\n",
       "    .wandb-row { display: flex; flex-direction: row; flex-wrap: wrap; justify-content: flex-start; width: 100% }\n",
       "    .wandb-col { display: flex; flex-direction: column; flex-basis: 100%; flex: 1; padding: 10px; }\n",
       "    </style>\n",
       "<div class=\"wandb-row\"><div class=\"wandb-col\"><h3>Run history:</h3><br/><table class=\"wandb\"><tr><td>train_batch_acc</td><td>▁▄▃▅▃▆▆▅▅▆▄▃▆▆▆▆▅▆▆▆▆▅▇▆▆▆█▆█▆▇▆█▆▇█▇██▆</td></tr><tr><td>train_batch_loss</td><td>█▇▇▄▅▄▆▆▄▄▃▆▄▄▃▃▃▂▃▄▃▄▂▃▂▂▁▄▂▂▂▃▁▂▂▁▂▁▁▂</td></tr><tr><td>val_acc</td><td>▁▄▂▅▅▄▆▃▇▇▇▆▆▆▆▆▆▇█▇</td></tr><tr><td>val_loss</td><td>█▅▄▄▂▅▂▆▄▂▁▁▅▂▂▃▃▂▁▆</td></tr></table><br/></div><div class=\"wandb-col\"><h3>Run summary:</h3><br/><table class=\"wandb\"><tr><td>train_batch_acc</td><td>1.0</td></tr><tr><td>train_batch_loss</td><td>0.00812</td></tr><tr><td>val_acc</td><td>0.89637</td></tr><tr><td>val_loss</td><td>0.48882</td></tr></table><br/></div></div>"
      ],
      "text/plain": [
       "<IPython.core.display.HTML object>"
      ]
     },
     "metadata": {},
     "output_type": "display_data"
    },
    {
     "data": {
      "text/html": [
       " View run <strong style=\"color:#cdcd00\">vital-thunder-30</strong> at: <a href='https://wandb.ai/dsaperov-organization/mediscan-efficient-net-b0/runs/qhifk5cb' target=\"_blank\">https://wandb.ai/dsaperov-organization/mediscan-efficient-net-b0/runs/qhifk5cb</a><br/> View project at: <a href='https://wandb.ai/dsaperov-organization/mediscan-efficient-net-b0' target=\"_blank\">https://wandb.ai/dsaperov-organization/mediscan-efficient-net-b0</a><br/>Synced 5 W&B file(s), 0 media file(s), 0 artifact file(s) and 0 other file(s)"
      ],
      "text/plain": [
       "<IPython.core.display.HTML object>"
      ]
     },
     "metadata": {},
     "output_type": "display_data"
    },
    {
     "data": {
      "text/html": [
       "Find logs at: <code>./wandb/run-20240605_044122-qhifk5cb/logs</code>"
      ],
      "text/plain": [
       "<IPython.core.display.HTML object>"
      ]
     },
     "metadata": {},
     "output_type": "display_data"
    },
    {
     "name": "stdout",
     "output_type": "stream",
     "text": [
      "\n",
      "Лучшая ранее достигнутая точность: 0.922279792746114\n",
      "Лучшая точность в текущем эксперименте: 0.917098445595855\n",
      "Точность НЕ улучшилась\n",
      "Разница между значениями: 0.0052\n"
     ]
    }
   ],
   "source": [
    "param_name = 'factor'\n",
    "config, best_acc, _ = run_experiment(config, SCHEDULER, sheduler_class, dataloaders, best_acc, param_name, FACTORS, component_params=params)"
   ]
  },
  {
   "cell_type": "markdown",
   "id": "28fba3e3-0cc4-45fa-9944-677097f5a3a5",
   "metadata": {},
   "source": [
    "### `CyclicLR`"
   ]
  },
  {
   "cell_type": "code",
   "execution_count": 127,
   "id": "10276ded-df08-4c77-b701-0dcf805b14ca",
   "metadata": {},
   "outputs": [],
   "source": [
    "sheduler_class = 'CyclicLR'"
   ]
  },
  {
   "cell_type": "markdown",
   "id": "541cd01b-7a07-4e2e-97dd-0f02ef7f0c32",
   "metadata": {},
   "source": [
    "#### Параметр `step_size_up`"
   ]
  },
  {
   "cell_type": "code",
   "execution_count": 128,
   "id": "1d0eea16-b866-4ea3-817d-d539652b57fd",
   "metadata": {},
   "outputs": [],
   "source": [
    "STEP_SIZE_UP = [NUM_EPOCHS // 2, NUM_EPOCHS // 4]"
   ]
  },
  {
   "cell_type": "code",
   "execution_count": 129,
   "id": "06cfbbbe-e00f-4dc9-abce-384206fecce4",
   "metadata": {},
   "outputs": [],
   "source": [
    "param_name = 'step_size_up'\n",
    "base_lr = 1e-5\n",
    "max_lr = 1e-3\n",
    "mode = 'triangular2'"
   ]
  },
  {
   "cell_type": "code",
   "execution_count": 130,
   "id": "98de90b7-5d09-4802-869f-c0cf3c8206af",
   "metadata": {},
   "outputs": [],
   "source": [
    "params = {'base_lr': base_lr, 'max_lr': max_lr, 'mode': mode, 'cycle_momentum': False}"
   ]
  },
  {
   "cell_type": "code",
   "execution_count": 131,
   "id": "824cbe8b-92b3-4f19-a67e-bb0c79ec9c4e",
   "metadata": {},
   "outputs": [
    {
     "name": "stdout",
     "output_type": "stream",
     "text": [
      "\n",
      "step_size_up: 10\n"
     ]
    },
    {
     "data": {
      "text/html": [
       "Tracking run with wandb version 0.17.0"
      ],
      "text/plain": [
       "<IPython.core.display.HTML object>"
      ]
     },
     "metadata": {},
     "output_type": "display_data"
    },
    {
     "data": {
      "text/html": [
       "Run data is saved locally in <code>/home/user/Downloads/ISIC2018/wandb/run-20240605_045849-10x5rv6j</code>"
      ],
      "text/plain": [
       "<IPython.core.display.HTML object>"
      ]
     },
     "metadata": {},
     "output_type": "display_data"
    },
    {
     "data": {
      "text/html": [
       "Syncing run <strong><a href='https://wandb.ai/dsaperov-organization/mediscan-efficient-net-b0/runs/10x5rv6j' target=\"_blank\">denim-eon-31</a></strong> to <a href='https://wandb.ai/dsaperov-organization/mediscan-efficient-net-b0' target=\"_blank\">Weights & Biases</a> (<a href='https://wandb.me/run' target=\"_blank\">docs</a>)<br/>"
      ],
      "text/plain": [
       "<IPython.core.display.HTML object>"
      ]
     },
     "metadata": {},
     "output_type": "display_data"
    },
    {
     "data": {
      "text/html": [
       " View project at <a href='https://wandb.ai/dsaperov-organization/mediscan-efficient-net-b0' target=\"_blank\">https://wandb.ai/dsaperov-organization/mediscan-efficient-net-b0</a>"
      ],
      "text/plain": [
       "<IPython.core.display.HTML object>"
      ]
     },
     "metadata": {},
     "output_type": "display_data"
    },
    {
     "data": {
      "text/html": [
       " View run at <a href='https://wandb.ai/dsaperov-organization/mediscan-efficient-net-b0/runs/10x5rv6j' target=\"_blank\">https://wandb.ai/dsaperov-organization/mediscan-efficient-net-b0/runs/10x5rv6j</a>"
      ],
      "text/plain": [
       "<IPython.core.display.HTML object>"
      ]
     },
     "metadata": {},
     "output_type": "display_data"
    },
    {
     "name": "stdout",
     "output_type": "stream",
     "text": [
      "Epoch: 1/20\n",
      "Phase: train\n",
      "Iterations completed\n",
      "train Loss: 1.4659 Acc: 0.5981\n",
      "\n",
      "Phase: val\n",
      "Iterations completed\n",
      "val Loss: 1.2082 Acc: 0.6788\n",
      "\n",
      "----------\n",
      "\n",
      "Epoch: 2/20\n",
      "Phase: train\n",
      "Iterations completed\n",
      "train Loss: 0.6517 Acc: 0.7767\n",
      "\n",
      "Phase: val\n",
      "Iterations completed\n",
      "val Loss: 0.4599 Acc: 0.8653\n",
      "\n",
      "----------\n",
      "\n",
      "Epoch: 3/20\n",
      "Phase: train\n",
      "Iterations completed\n",
      "train Loss: 0.4889 Acc: 0.8231\n",
      "\n",
      "Phase: val\n",
      "Iterations completed\n",
      "val Loss: 0.3957 Acc: 0.8653\n",
      "\n",
      "----------\n",
      "\n",
      "Epoch: 4/20\n",
      "Phase: train\n",
      "Iterations completed\n",
      "train Loss: 0.4297 Acc: 0.8459\n",
      "\n",
      "Phase: val\n",
      "Iterations completed\n",
      "val Loss: 0.3774 Acc: 0.8756\n",
      "\n",
      "----------\n",
      "\n",
      "Epoch: 5/20\n",
      "Phase: train\n",
      "Iterations completed\n",
      "train Loss: 0.3916 Acc: 0.8557\n",
      "\n",
      "Phase: val\n",
      "Iterations completed\n",
      "val Loss: 0.3104 Acc: 0.8964\n",
      "\n",
      "----------\n",
      "\n",
      "Epoch: 6/20\n",
      "Phase: train\n",
      "Iterations completed\n",
      "train Loss: 0.3692 Acc: 0.8617\n",
      "\n",
      "Phase: val\n",
      "Iterations completed\n",
      "val Loss: 0.3551 Acc: 0.8756\n",
      "\n",
      "----------\n",
      "\n",
      "Epoch: 7/20\n",
      "Phase: train\n",
      "Iterations completed\n",
      "train Loss: 0.3468 Acc: 0.8718\n",
      "\n",
      "Phase: val\n",
      "Iterations completed\n",
      "val Loss: 0.4161 Acc: 0.8601\n",
      "\n",
      "----------\n",
      "\n",
      "Epoch: 8/20\n",
      "Phase: train\n",
      "Iterations completed\n",
      "train Loss: 0.3380 Acc: 0.8773\n",
      "\n",
      "Phase: val\n",
      "Iterations completed\n",
      "val Loss: 0.3427 Acc: 0.8808\n",
      "\n",
      "----------\n",
      "\n",
      "Epoch: 9/20\n",
      "Phase: train\n",
      "Iterations completed\n",
      "train Loss: 0.3283 Acc: 0.8777\n",
      "\n",
      "Phase: val\n",
      "Iterations completed\n",
      "val Loss: 0.3940 Acc: 0.8808\n",
      "\n",
      "----------\n",
      "\n",
      "Epoch: 10/20\n",
      "Phase: train\n",
      "Iterations completed\n",
      "train Loss: 0.3301 Acc: 0.8785\n",
      "\n",
      "Phase: val\n",
      "Iterations completed\n",
      "val Loss: 0.4093 Acc: 0.8601\n",
      "\n",
      "----------\n",
      "\n",
      "Epoch: 11/20\n",
      "Phase: train\n",
      "Iterations completed\n",
      "train Loss: 0.3161 Acc: 0.8812\n",
      "\n",
      "Phase: val\n",
      "Iterations completed\n",
      "val Loss: 0.3962 Acc: 0.8705\n",
      "\n",
      "----------\n",
      "\n",
      "Epoch: 12/20\n",
      "Phase: train\n",
      "Iterations completed\n",
      "train Loss: 0.2766 Acc: 0.8986\n",
      "\n",
      "Phase: val\n",
      "Iterations completed\n",
      "val Loss: 0.4900 Acc: 0.8290\n",
      "\n",
      "----------\n",
      "\n",
      "Epoch: 13/20\n",
      "Phase: train\n",
      "Iterations completed\n",
      "train Loss: 0.2383 Acc: 0.9144\n",
      "\n",
      "Phase: val\n",
      "Iterations completed\n",
      "val Loss: 0.3435 Acc: 0.8653\n",
      "\n",
      "----------\n",
      "\n",
      "Epoch: 14/20\n",
      "Phase: train\n",
      "Iterations completed\n",
      "train Loss: 0.2128 Acc: 0.9262\n",
      "\n",
      "Phase: val\n",
      "Iterations completed\n",
      "val Loss: 0.4780 Acc: 0.8549\n",
      "\n",
      "----------\n",
      "\n",
      "Epoch: 15/20\n",
      "Phase: train\n",
      "Iterations completed\n",
      "train Loss: 0.1816 Acc: 0.9310\n",
      "\n",
      "Phase: val\n",
      "Iterations completed\n",
      "val Loss: 0.4578 Acc: 0.8756\n",
      "\n",
      "----------\n",
      "\n",
      "Epoch: 16/20\n",
      "Phase: train\n",
      "Iterations completed\n",
      "train Loss: 0.1412 Acc: 0.9467\n",
      "\n",
      "Phase: val\n",
      "Iterations completed\n",
      "val Loss: 0.4978 Acc: 0.8756\n",
      "\n",
      "----------\n",
      "\n",
      "Epoch: 17/20\n",
      "Phase: train\n",
      "Iterations completed\n",
      "train Loss: 0.1068 Acc: 0.9595\n",
      "\n",
      "Phase: val\n",
      "Iterations completed\n",
      "val Loss: 0.3953 Acc: 0.8912\n",
      "\n",
      "----------\n",
      "\n",
      "Epoch: 18/20\n",
      "Phase: train\n",
      "Iterations completed\n",
      "train Loss: 0.0848 Acc: 0.9690\n",
      "\n",
      "Phase: val\n",
      "Iterations completed\n",
      "val Loss: 0.4146 Acc: 0.8912\n",
      "\n",
      "----------\n",
      "\n",
      "Epoch: 19/20\n",
      "Phase: train\n",
      "Iterations completed\n",
      "train Loss: 0.0592 Acc: 0.9799\n",
      "\n",
      "Phase: val\n",
      "Iterations completed\n",
      "val Loss: 0.4096 Acc: 0.9016\n",
      "\n",
      "----------\n",
      "\n",
      "Epoch: 20/20\n",
      "Phase: train\n",
      "Iterations completed\n",
      "train Loss: 0.0419 Acc: 0.9852\n",
      "\n",
      "Phase: val\n",
      "Iterations completed\n",
      "val Loss: 0.4397 Acc: 0.9119\n",
      "\n",
      "----------\n",
      "\n",
      "Training complete in 15m 50s\n",
      "Best val Acc: 0.9119\n"
     ]
    },
    {
     "name": "stderr",
     "output_type": "stream",
     "text": [
      "Widget Javascript not detected.  It may not be installed or enabled properly. Reconnecting the current kernel may help.\n"
     ]
    },
    {
     "data": {
      "application/vnd.jupyter.widget-view+json": {
       "model_id": "d651d1a125c54133a7ddfa8ed5e46b78"
      }
     },
     "metadata": {},
     "output_type": "display_data"
    },
    {
     "data": {
      "text/html": [
       "<style>\n",
       "    table.wandb td:nth-child(1) { padding: 0 10px; text-align: left ; width: auto;} td:nth-child(2) {text-align: left ; width: 100%}\n",
       "    .wandb-row { display: flex; flex-direction: row; flex-wrap: wrap; justify-content: flex-start; width: 100% }\n",
       "    .wandb-col { display: flex; flex-direction: column; flex-basis: 100%; flex: 1; padding: 10px; }\n",
       "    </style>\n",
       "<div class=\"wandb-row\"><div class=\"wandb-col\"><h3>Run history:</h3><br/><table class=\"wandb\"><tr><td>train_batch_acc</td><td>▁▄▃▅▅▇▆▇▆▇▇▃▇▅▅▅▇▆▆▅▇▇▇▇▆▇▇▆▇█▇▇▇▇▇█▇██▇</td></tr><tr><td>train_batch_loss</td><td>█▆▅▃▃▂▂▂▂▂▂▄▂▃▃▂▂▂▂▃▂▂▂▂▂▂▂▂▂▁▂▁▁▂▁▁▁▁▁▁</td></tr><tr><td>val_acc</td><td>▁▇▇▇█▇▆▇▇▆▇▆▇▆▇▇▇▇██</td></tr><tr><td>val_loss</td><td>█▂▂▂▁▁▂▁▂▂▂▂▁▂▂▂▂▂▂▂</td></tr></table><br/></div><div class=\"wandb-col\"><h3>Run summary:</h3><br/><table class=\"wandb\"><tr><td>train_batch_acc</td><td>0.96774</td></tr><tr><td>train_batch_loss</td><td>0.08312</td></tr><tr><td>val_acc</td><td>0.91192</td></tr><tr><td>val_loss</td><td>0.43972</td></tr></table><br/></div></div>"
      ],
      "text/plain": [
       "<IPython.core.display.HTML object>"
      ]
     },
     "metadata": {},
     "output_type": "display_data"
    },
    {
     "data": {
      "text/html": [
       " View run <strong style=\"color:#cdcd00\">denim-eon-31</strong> at: <a href='https://wandb.ai/dsaperov-organization/mediscan-efficient-net-b0/runs/10x5rv6j' target=\"_blank\">https://wandb.ai/dsaperov-organization/mediscan-efficient-net-b0/runs/10x5rv6j</a><br/> View project at: <a href='https://wandb.ai/dsaperov-organization/mediscan-efficient-net-b0' target=\"_blank\">https://wandb.ai/dsaperov-organization/mediscan-efficient-net-b0</a><br/>Synced 5 W&B file(s), 0 media file(s), 0 artifact file(s) and 0 other file(s)"
      ],
      "text/plain": [
       "<IPython.core.display.HTML object>"
      ]
     },
     "metadata": {},
     "output_type": "display_data"
    },
    {
     "data": {
      "text/html": [
       "Find logs at: <code>./wandb/run-20240605_045849-10x5rv6j/logs</code>"
      ],
      "text/plain": [
       "<IPython.core.display.HTML object>"
      ]
     },
     "metadata": {},
     "output_type": "display_data"
    },
    {
     "name": "stdout",
     "output_type": "stream",
     "text": [
      "\n",
      "step_size_up: 5\n"
     ]
    },
    {
     "name": "stderr",
     "output_type": "stream",
     "text": [
      "Widget Javascript not detected.  It may not be installed or enabled properly. Reconnecting the current kernel may help.\n"
     ]
    },
    {
     "data": {
      "application/vnd.jupyter.widget-view+json": {
       "model_id": "555d9ff8aaef4878be5268652e8c8c5e"
      }
     },
     "metadata": {},
     "output_type": "display_data"
    },
    {
     "data": {
      "text/html": [
       "Tracking run with wandb version 0.17.0"
      ],
      "text/plain": [
       "<IPython.core.display.HTML object>"
      ]
     },
     "metadata": {},
     "output_type": "display_data"
    },
    {
     "data": {
      "text/html": [
       "Run data is saved locally in <code>/home/user/Downloads/ISIC2018/wandb/run-20240605_051447-tndcifqq</code>"
      ],
      "text/plain": [
       "<IPython.core.display.HTML object>"
      ]
     },
     "metadata": {},
     "output_type": "display_data"
    },
    {
     "data": {
      "text/html": [
       "Syncing run <strong><a href='https://wandb.ai/dsaperov-organization/mediscan-efficient-net-b0/runs/tndcifqq' target=\"_blank\">earthy-dream-32</a></strong> to <a href='https://wandb.ai/dsaperov-organization/mediscan-efficient-net-b0' target=\"_blank\">Weights & Biases</a> (<a href='https://wandb.me/run' target=\"_blank\">docs</a>)<br/>"
      ],
      "text/plain": [
       "<IPython.core.display.HTML object>"
      ]
     },
     "metadata": {},
     "output_type": "display_data"
    },
    {
     "data": {
      "text/html": [
       " View project at <a href='https://wandb.ai/dsaperov-organization/mediscan-efficient-net-b0' target=\"_blank\">https://wandb.ai/dsaperov-organization/mediscan-efficient-net-b0</a>"
      ],
      "text/plain": [
       "<IPython.core.display.HTML object>"
      ]
     },
     "metadata": {},
     "output_type": "display_data"
    },
    {
     "data": {
      "text/html": [
       " View run at <a href='https://wandb.ai/dsaperov-organization/mediscan-efficient-net-b0/runs/tndcifqq' target=\"_blank\">https://wandb.ai/dsaperov-organization/mediscan-efficient-net-b0/runs/tndcifqq</a>"
      ],
      "text/plain": [
       "<IPython.core.display.HTML object>"
      ]
     },
     "metadata": {},
     "output_type": "display_data"
    },
    {
     "name": "stdout",
     "output_type": "stream",
     "text": [
      "Epoch: 1/20\n",
      "Phase: train\n",
      "Iterations completed\n",
      "train Loss: 1.4659 Acc: 0.5981\n",
      "\n",
      "Phase: val\n",
      "Iterations completed\n",
      "val Loss: 1.2082 Acc: 0.6788\n",
      "\n",
      "----------\n",
      "\n",
      "Epoch: 2/20\n",
      "Phase: train\n",
      "Iterations completed\n",
      "train Loss: 0.6160 Acc: 0.7842\n",
      "\n",
      "Phase: val\n",
      "Iterations completed\n",
      "val Loss: 0.4340 Acc: 0.8549\n",
      "\n",
      "----------\n",
      "\n",
      "Epoch: 3/20\n",
      "Phase: train\n",
      "Iterations completed\n",
      "train Loss: 0.4949 Acc: 0.8224\n",
      "\n",
      "Phase: val\n",
      "Iterations completed\n",
      "val Loss: 0.4238 Acc: 0.8549\n",
      "\n",
      "----------\n",
      "\n",
      "Epoch: 4/20\n",
      "Phase: train\n",
      "Iterations completed\n",
      "train Loss: 0.4596 Acc: 0.8353\n",
      "\n",
      "Phase: val\n",
      "Iterations completed\n",
      "val Loss: 0.4446 Acc: 0.8031\n",
      "\n",
      "----------\n",
      "\n",
      "Epoch: 5/20\n",
      "Phase: train\n",
      "Iterations completed\n",
      "train Loss: 0.4396 Acc: 0.8358\n",
      "\n",
      "Phase: val\n",
      "Iterations completed\n",
      "val Loss: 0.4390 Acc: 0.8394\n",
      "\n",
      "----------\n",
      "\n",
      "Epoch: 6/20\n",
      "Phase: train\n",
      "Iterations completed\n",
      "train Loss: 0.4313 Acc: 0.8462\n",
      "\n",
      "Phase: val\n",
      "Iterations completed\n",
      "val Loss: 0.4228 Acc: 0.8446\n",
      "\n",
      "----------\n",
      "\n",
      "Epoch: 7/20\n",
      "Phase: train\n",
      "Iterations completed\n",
      "train Loss: 0.3429 Acc: 0.8746\n",
      "\n",
      "Phase: val\n",
      "Iterations completed\n",
      "val Loss: 0.4463 Acc: 0.8446\n",
      "\n",
      "----------\n",
      "\n",
      "Epoch: 8/20\n",
      "Phase: train\n",
      "Iterations completed\n",
      "train Loss: 0.2818 Acc: 0.8951\n",
      "\n",
      "Phase: val\n",
      "Iterations completed\n",
      "val Loss: 0.4247 Acc: 0.8601\n",
      "\n",
      "----------\n",
      "\n",
      "Epoch: 9/20\n",
      "Phase: train\n",
      "Iterations completed\n",
      "train Loss: 0.2174 Acc: 0.9196\n",
      "\n",
      "Phase: val\n",
      "Iterations completed\n",
      "val Loss: 0.3453 Acc: 0.8808\n",
      "\n",
      "----------\n",
      "\n",
      "Epoch: 10/20\n",
      "Phase: train\n",
      "Iterations completed\n",
      "train Loss: 0.1554 Acc: 0.9418\n",
      "\n",
      "Phase: val\n",
      "Iterations completed\n",
      "val Loss: 0.3654 Acc: 0.8653\n",
      "\n",
      "----------\n",
      "\n",
      "Epoch: 11/20\n",
      "Phase: train\n",
      "Iterations completed\n",
      "train Loss: 0.1218 Acc: 0.9545\n",
      "\n",
      "Phase: val\n",
      "Iterations completed\n",
      "val Loss: 0.3563 Acc: 0.8756\n",
      "\n",
      "----------\n",
      "\n",
      "Epoch: 12/20\n",
      "Phase: train\n",
      "Iterations completed\n",
      "train Loss: 0.1141 Acc: 0.9577\n",
      "\n",
      "Phase: val\n",
      "Iterations completed\n",
      "val Loss: 0.3832 Acc: 0.8653\n",
      "\n",
      "----------\n",
      "\n",
      "Epoch: 13/20\n",
      "Phase: train\n",
      "Iterations completed\n",
      "train Loss: 0.1266 Acc: 0.9550\n",
      "\n",
      "Phase: val\n",
      "Iterations completed\n",
      "val Loss: 0.3824 Acc: 0.8808\n",
      "\n",
      "----------\n",
      "\n",
      "Epoch: 14/20\n",
      "Phase: train\n",
      "Iterations completed\n",
      "train Loss: 0.1429 Acc: 0.9488\n",
      "\n",
      "Phase: val\n",
      "Iterations completed\n",
      "val Loss: 0.4248 Acc: 0.8549\n",
      "\n",
      "----------\n",
      "\n",
      "Epoch: 15/20\n",
      "Phase: train\n",
      "Iterations completed\n",
      "train Loss: 0.1608 Acc: 0.9406\n",
      "\n",
      "Phase: val\n",
      "Iterations completed\n",
      "val Loss: 0.3493 Acc: 0.8860\n",
      "\n",
      "----------\n",
      "\n",
      "Epoch: 16/20\n",
      "Phase: train\n",
      "Iterations completed\n",
      "train Loss: 0.1860 Acc: 0.9316\n",
      "\n",
      "Phase: val\n",
      "Iterations completed\n",
      "val Loss: 0.4188 Acc: 0.8756\n",
      "\n",
      "----------\n",
      "\n",
      "Epoch: 17/20\n",
      "Phase: train\n",
      "Iterations completed\n",
      "train Loss: 0.1373 Acc: 0.9502\n",
      "\n",
      "Phase: val\n",
      "Iterations completed\n",
      "val Loss: 0.4061 Acc: 0.8705\n",
      "\n",
      "----------\n",
      "\n",
      "Epoch: 18/20\n",
      "Phase: train\n",
      "Iterations completed\n",
      "train Loss: 0.1080 Acc: 0.9603\n",
      "\n",
      "Phase: val\n",
      "Iterations completed\n",
      "val Loss: 0.4145 Acc: 0.8756\n",
      "\n",
      "----------\n",
      "\n",
      "Epoch: 19/20\n",
      "Phase: train\n",
      "Iterations completed\n",
      "train Loss: 0.0729 Acc: 0.9731\n",
      "\n",
      "Phase: val\n",
      "Iterations completed\n",
      "val Loss: 0.3929 Acc: 0.8912\n",
      "\n",
      "----------\n",
      "\n",
      "Epoch: 20/20\n",
      "Phase: train\n",
      "Iterations completed\n",
      "train Loss: 0.0484 Acc: 0.9829\n",
      "\n",
      "Phase: val\n",
      "Iterations completed\n",
      "val Loss: 0.4169 Acc: 0.9016\n",
      "\n",
      "----------\n",
      "\n",
      "Training complete in 16m 1s\n",
      "Best val Acc: 0.9016\n"
     ]
    },
    {
     "name": "stderr",
     "output_type": "stream",
     "text": [
      "Widget Javascript not detected.  It may not be installed or enabled properly. Reconnecting the current kernel may help.\n"
     ]
    },
    {
     "data": {
      "application/vnd.jupyter.widget-view+json": {
       "model_id": "915aef500e404782b83a26d361436455"
      }
     },
     "metadata": {},
     "output_type": "display_data"
    },
    {
     "data": {
      "text/html": [
       "<style>\n",
       "    table.wandb td:nth-child(1) { padding: 0 10px; text-align: left ; width: auto;} td:nth-child(2) {text-align: left ; width: 100%}\n",
       "    .wandb-row { display: flex; flex-direction: row; flex-wrap: wrap; justify-content: flex-start; width: 100% }\n",
       "    .wandb-col { display: flex; flex-direction: column; flex-basis: 100%; flex: 1; padding: 10px; }\n",
       "    </style>\n",
       "<div class=\"wandb-row\"><div class=\"wandb-col\"><h3>Run history:</h3><br/><table class=\"wandb\"><tr><td>train_batch_acc</td><td>▁▄▃▅▅▆▇▅▅▇▅▅▇▅▆▇▇▇█▆▇▇▇▇▇▇▆▅▇▇▇▇██▇███▇▇</td></tr><tr><td>train_batch_loss</td><td>█▆▅▃▃▂▂▃▂▂▂▃▂▃▂▂▁▂▁▃▁▁▁▂▂▁▂▂▂▁▁▁▁▁▁▁▁▁▁▁</td></tr><tr><td>val_acc</td><td>▁▇▇▅▆▆▆▇▇▇▇▇▇▇█▇▇▇██</td></tr><tr><td>val_loss</td><td>█▂▂▂▂▂▂▂▁▁▁▁▁▂▁▂▁▂▁▂</td></tr></table><br/></div><div class=\"wandb-col\"><h3>Run summary:</h3><br/><table class=\"wandb\"><tr><td>train_batch_acc</td><td>1.0</td></tr><tr><td>train_batch_loss</td><td>0.01354</td></tr><tr><td>val_acc</td><td>0.90155</td></tr><tr><td>val_loss</td><td>0.41689</td></tr></table><br/></div></div>"
      ],
      "text/plain": [
       "<IPython.core.display.HTML object>"
      ]
     },
     "metadata": {},
     "output_type": "display_data"
    },
    {
     "data": {
      "text/html": [
       " View run <strong style=\"color:#cdcd00\">earthy-dream-32</strong> at: <a href='https://wandb.ai/dsaperov-organization/mediscan-efficient-net-b0/runs/tndcifqq' target=\"_blank\">https://wandb.ai/dsaperov-organization/mediscan-efficient-net-b0/runs/tndcifqq</a><br/> View project at: <a href='https://wandb.ai/dsaperov-organization/mediscan-efficient-net-b0' target=\"_blank\">https://wandb.ai/dsaperov-organization/mediscan-efficient-net-b0</a><br/>Synced 5 W&B file(s), 0 media file(s), 0 artifact file(s) and 0 other file(s)"
      ],
      "text/plain": [
       "<IPython.core.display.HTML object>"
      ]
     },
     "metadata": {},
     "output_type": "display_data"
    },
    {
     "data": {
      "text/html": [
       "Find logs at: <code>./wandb/run-20240605_051447-tndcifqq/logs</code>"
      ],
      "text/plain": [
       "<IPython.core.display.HTML object>"
      ]
     },
     "metadata": {},
     "output_type": "display_data"
    },
    {
     "name": "stdout",
     "output_type": "stream",
     "text": [
      "\n",
      "Лучшая ранее достигнутая точность: 0.922279792746114\n",
      "Лучшая точность в текущем эксперименте: 0.9119170984455959\n",
      "Точность НЕ улучшилась\n",
      "Разница между значениями: 0.0104\n"
     ]
    }
   ],
   "source": [
    "param_name = 'step_size_up'\n",
    "config, best_acc, _ = run_experiment(config, SCHEDULER, sheduler_class, dataloaders, best_acc, param_name, STEP_SIZE_UP, component_params=params)"
   ]
  },
  {
   "cell_type": "markdown",
   "id": "62523628-525a-49db-932d-c3a1a540a0e7",
   "metadata": {},
   "source": [
    "### `CosineAnnealingLR`"
   ]
  },
  {
   "cell_type": "code",
   "execution_count": 132,
   "id": "e80b3725-ddea-4463-ae49-e15c8872f15c",
   "metadata": {},
   "outputs": [],
   "source": [
    "sheduler_class = 'CosineAnnealingLR'"
   ]
  },
  {
   "cell_type": "markdown",
   "id": "706f1d5d-4913-4310-98f7-81a40b85c26b",
   "metadata": {},
   "source": [
    "#### Параметр `T_max`"
   ]
  },
  {
   "cell_type": "code",
   "execution_count": 133,
   "id": "f1ddd904-dbac-45e1-8ae6-572a211b8cb7",
   "metadata": {},
   "outputs": [],
   "source": [
    "T_MAXS = [NUM_EPOCHS // 2, NUM_EPOCHS // 4]"
   ]
  },
  {
   "cell_type": "code",
   "execution_count": 134,
   "id": "4c2e5d7a-135b-4f52-9268-733d37c350ea",
   "metadata": {},
   "outputs": [],
   "source": [
    "eta_min = 1e-6"
   ]
  },
  {
   "cell_type": "code",
   "execution_count": 135,
   "id": "91c7a912-4535-4184-8b1c-596b73f96d7e",
   "metadata": {},
   "outputs": [],
   "source": [
    "params = {'eta_min': eta_min}"
   ]
  },
  {
   "cell_type": "code",
   "execution_count": 136,
   "id": "b61776b5-9170-47a5-a655-8e5d0ad58adc",
   "metadata": {},
   "outputs": [
    {
     "name": "stdout",
     "output_type": "stream",
     "text": [
      "\n",
      "T_max: 10\n"
     ]
    },
    {
     "data": {
      "text/html": [
       "Tracking run with wandb version 0.17.0"
      ],
      "text/plain": [
       "<IPython.core.display.HTML object>"
      ]
     },
     "metadata": {},
     "output_type": "display_data"
    },
    {
     "data": {
      "text/html": [
       "Run data is saved locally in <code>/home/user/Downloads/ISIC2018/wandb/run-20240605_053118-kohi64em</code>"
      ],
      "text/plain": [
       "<IPython.core.display.HTML object>"
      ]
     },
     "metadata": {},
     "output_type": "display_data"
    },
    {
     "data": {
      "text/html": [
       "Syncing run <strong><a href='https://wandb.ai/dsaperov-organization/mediscan-efficient-net-b0/runs/kohi64em' target=\"_blank\">helpful-firebrand-33</a></strong> to <a href='https://wandb.ai/dsaperov-organization/mediscan-efficient-net-b0' target=\"_blank\">Weights & Biases</a> (<a href='https://wandb.me/run' target=\"_blank\">docs</a>)<br/>"
      ],
      "text/plain": [
       "<IPython.core.display.HTML object>"
      ]
     },
     "metadata": {},
     "output_type": "display_data"
    },
    {
     "data": {
      "text/html": [
       " View project at <a href='https://wandb.ai/dsaperov-organization/mediscan-efficient-net-b0' target=\"_blank\">https://wandb.ai/dsaperov-organization/mediscan-efficient-net-b0</a>"
      ],
      "text/plain": [
       "<IPython.core.display.HTML object>"
      ]
     },
     "metadata": {},
     "output_type": "display_data"
    },
    {
     "data": {
      "text/html": [
       " View run at <a href='https://wandb.ai/dsaperov-organization/mediscan-efficient-net-b0/runs/kohi64em' target=\"_blank\">https://wandb.ai/dsaperov-organization/mediscan-efficient-net-b0/runs/kohi64em</a>"
      ],
      "text/plain": [
       "<IPython.core.display.HTML object>"
      ]
     },
     "metadata": {},
     "output_type": "display_data"
    },
    {
     "name": "stdout",
     "output_type": "stream",
     "text": [
      "Epoch: 1/20\n",
      "Phase: train\n",
      "Iterations completed\n",
      "train Loss: 0.6785 Acc: 0.7575\n",
      "\n",
      "Phase: val\n",
      "Iterations completed\n",
      "val Loss: 0.5585 Acc: 0.7927\n",
      "\n",
      "----------\n",
      "\n",
      "Epoch: 2/20\n",
      "Phase: train\n",
      "Iterations completed\n",
      "train Loss: 0.5241 Acc: 0.8112\n",
      "\n",
      "Phase: val\n",
      "Iterations completed\n",
      "val Loss: 0.4893 Acc: 0.8342\n",
      "\n",
      "----------\n",
      "\n",
      "Epoch: 3/20\n",
      "Phase: train\n",
      "Iterations completed\n",
      "train Loss: 0.4622 Acc: 0.8293\n",
      "\n",
      "Phase: val\n",
      "Iterations completed\n",
      "val Loss: 0.4095 Acc: 0.8394\n",
      "\n",
      "----------\n",
      "\n",
      "Epoch: 4/20\n",
      "Phase: train\n",
      "Iterations completed\n",
      "train Loss: 0.4084 Acc: 0.8496\n",
      "\n",
      "Phase: val\n",
      "Iterations completed\n",
      "val Loss: 0.3770 Acc: 0.8653\n",
      "\n",
      "----------\n",
      "\n",
      "Epoch: 5/20\n",
      "Phase: train\n",
      "Iterations completed\n",
      "train Loss: 0.3586 Acc: 0.8667\n",
      "\n",
      "Phase: val\n",
      "Iterations completed\n",
      "val Loss: 0.3144 Acc: 0.8964\n",
      "\n",
      "----------\n",
      "\n",
      "Epoch: 6/20\n",
      "Phase: train\n",
      "Iterations completed\n",
      "train Loss: 0.2918 Acc: 0.8921\n",
      "\n",
      "Phase: val\n",
      "Iterations completed\n",
      "val Loss: 0.3435 Acc: 0.8705\n",
      "\n",
      "----------\n",
      "\n",
      "Epoch: 7/20\n",
      "Phase: train\n",
      "Iterations completed\n",
      "train Loss: 0.2317 Acc: 0.9103\n",
      "\n",
      "Phase: val\n",
      "Iterations completed\n",
      "val Loss: 0.3784 Acc: 0.8653\n",
      "\n",
      "----------\n",
      "\n",
      "Epoch: 8/20\n",
      "Phase: train\n",
      "Iterations completed\n",
      "train Loss: 0.1906 Acc: 0.9289\n",
      "\n",
      "Phase: val\n",
      "Iterations completed\n",
      "val Loss: 0.2976 Acc: 0.8705\n",
      "\n",
      "----------\n",
      "\n",
      "Epoch: 9/20\n",
      "Phase: train\n",
      "Iterations completed\n",
      "train Loss: 0.1493 Acc: 0.9441\n",
      "\n",
      "Phase: val\n",
      "Iterations completed\n",
      "val Loss: 0.3090 Acc: 0.8912\n",
      "\n",
      "----------\n",
      "\n",
      "Epoch: 10/20\n",
      "Phase: train\n",
      "Iterations completed\n",
      "train Loss: 0.1260 Acc: 0.9545\n",
      "\n",
      "Phase: val\n",
      "Iterations completed\n",
      "val Loss: 0.2982 Acc: 0.9067\n",
      "\n",
      "----------\n",
      "\n",
      "Epoch: 11/20\n",
      "Phase: train\n",
      "Iterations completed\n",
      "train Loss: 0.1187 Acc: 0.9570\n",
      "\n",
      "Phase: val\n",
      "Iterations completed\n",
      "val Loss: 0.3110 Acc: 0.9016\n",
      "\n",
      "----------\n",
      "\n",
      "Epoch: 12/20\n",
      "Phase: train\n",
      "Iterations completed\n",
      "train Loss: 0.1218 Acc: 0.9556\n",
      "\n",
      "Phase: val\n",
      "Iterations completed\n",
      "val Loss: 0.3061 Acc: 0.9171\n",
      "\n",
      "----------\n",
      "\n",
      "Epoch: 13/20\n",
      "Phase: train\n",
      "Iterations completed\n",
      "train Loss: 0.1280 Acc: 0.9525\n",
      "\n",
      "Phase: val\n",
      "Iterations completed\n",
      "val Loss: 0.2851 Acc: 0.9119\n",
      "\n",
      "----------\n",
      "\n",
      "Epoch: 14/20\n",
      "Phase: train\n",
      "Iterations completed\n",
      "train Loss: 0.1482 Acc: 0.9440\n",
      "\n",
      "Phase: val\n",
      "Iterations completed\n",
      "val Loss: 0.3514 Acc: 0.8912\n",
      "\n",
      "----------\n",
      "\n",
      "Epoch: 15/20\n",
      "Phase: train\n",
      "Iterations completed\n",
      "train Loss: 0.1737 Acc: 0.9355\n",
      "\n",
      "Phase: val\n",
      "Iterations completed\n",
      "val Loss: 0.3290 Acc: 0.8860\n",
      "\n",
      "----------\n",
      "\n",
      "Epoch: 16/20\n",
      "Phase: train\n",
      "Iterations completed\n",
      "train Loss: 0.2090 Acc: 0.9224\n",
      "\n",
      "Phase: val\n",
      "Iterations completed\n",
      "val Loss: 0.3628 Acc: 0.8860\n",
      "\n",
      "----------\n",
      "\n",
      "Epoch: 17/20\n",
      "Phase: train\n",
      "Iterations completed\n",
      "train Loss: 0.2348 Acc: 0.9132\n",
      "\n",
      "Phase: val\n",
      "Iterations completed\n",
      "val Loss: 0.4655 Acc: 0.8653\n",
      "\n",
      "----------\n",
      "\n",
      "Epoch: 18/20\n",
      "Phase: train\n",
      "Iterations completed\n",
      "train Loss: 0.2450 Acc: 0.9110\n",
      "\n",
      "Phase: val\n",
      "Iterations completed\n",
      "val Loss: 0.4574 Acc: 0.8705\n",
      "\n",
      "----------\n",
      "\n",
      "Epoch: 19/20\n",
      "Phase: train\n",
      "Iterations completed\n",
      "train Loss: 0.2499 Acc: 0.9105\n",
      "\n",
      "Phase: val\n",
      "Iterations completed\n",
      "val Loss: 0.3266 Acc: 0.8912\n",
      "\n",
      "----------\n",
      "\n",
      "Epoch: 20/20\n",
      "Phase: train\n",
      "Iterations completed\n",
      "train Loss: 0.2566 Acc: 0.9077\n",
      "\n",
      "Phase: val\n",
      "Iterations completed\n",
      "val Loss: 0.4501 Acc: 0.8549\n",
      "\n",
      "----------\n",
      "\n",
      "Training complete in 16m 10s\n",
      "Best val Acc: 0.9171\n"
     ]
    },
    {
     "name": "stderr",
     "output_type": "stream",
     "text": [
      "Widget Javascript not detected.  It may not be installed or enabled properly. Reconnecting the current kernel may help.\n"
     ]
    },
    {
     "data": {
      "application/vnd.jupyter.widget-view+json": {
       "model_id": "864fc068ff934f559efa0ca144804d1a"
      }
     },
     "metadata": {},
     "output_type": "display_data"
    },
    {
     "data": {
      "text/html": [
       "<style>\n",
       "    table.wandb td:nth-child(1) { padding: 0 10px; text-align: left ; width: auto;} td:nth-child(2) {text-align: left ; width: 100%}\n",
       "    .wandb-row { display: flex; flex-direction: row; flex-wrap: wrap; justify-content: flex-start; width: 100% }\n",
       "    .wandb-col { display: flex; flex-direction: column; flex-basis: 100%; flex: 1; padding: 10px; }\n",
       "    </style>\n",
       "<div class=\"wandb-row\"><div class=\"wandb-col\"><h3>Run history:</h3><br/><table class=\"wandb\"><tr><td>train_batch_acc</td><td>▁▄▃▅▃▆▆▅▅▆▇▄▆▅▆▄▇▆█▆█▆▆▇▆▇█▅▇▇▆▆▇▆▆▆▆▆▆▆</td></tr><tr><td>train_batch_loss</td><td>█▆▇▄▅▃▆▅▄▃▂▄▂▄▃▃▂▂▂▄▁▂▂▂▂▂▁▅▂▂▃▃▂▃▃▄▃▃▅▄</td></tr><tr><td>val_acc</td><td>▁▃▄▅▇▅▅▅▇▇▇██▇▆▆▅▅▇▅</td></tr><tr><td>val_loss</td><td>█▆▄▃▂▂▃▁▂▁▂▂▁▃▂▃▆▅▂▅</td></tr></table><br/></div><div class=\"wandb-col\"><h3>Run summary:</h3><br/><table class=\"wandb\"><tr><td>train_batch_acc</td><td>0.93548</td></tr><tr><td>train_batch_loss</td><td>0.30278</td></tr><tr><td>val_acc</td><td>0.85492</td></tr><tr><td>val_loss</td><td>0.45008</td></tr></table><br/></div></div>"
      ],
      "text/plain": [
       "<IPython.core.display.HTML object>"
      ]
     },
     "metadata": {},
     "output_type": "display_data"
    },
    {
     "data": {
      "text/html": [
       " View run <strong style=\"color:#cdcd00\">helpful-firebrand-33</strong> at: <a href='https://wandb.ai/dsaperov-organization/mediscan-efficient-net-b0/runs/kohi64em' target=\"_blank\">https://wandb.ai/dsaperov-organization/mediscan-efficient-net-b0/runs/kohi64em</a><br/> View project at: <a href='https://wandb.ai/dsaperov-organization/mediscan-efficient-net-b0' target=\"_blank\">https://wandb.ai/dsaperov-organization/mediscan-efficient-net-b0</a><br/>Synced 5 W&B file(s), 0 media file(s), 0 artifact file(s) and 0 other file(s)"
      ],
      "text/plain": [
       "<IPython.core.display.HTML object>"
      ]
     },
     "metadata": {},
     "output_type": "display_data"
    },
    {
     "data": {
      "text/html": [
       "Find logs at: <code>./wandb/run-20240605_053118-kohi64em/logs</code>"
      ],
      "text/plain": [
       "<IPython.core.display.HTML object>"
      ]
     },
     "metadata": {},
     "output_type": "display_data"
    },
    {
     "name": "stdout",
     "output_type": "stream",
     "text": [
      "\n",
      "T_max: 5\n"
     ]
    },
    {
     "name": "stderr",
     "output_type": "stream",
     "text": [
      "Widget Javascript not detected.  It may not be installed or enabled properly. Reconnecting the current kernel may help.\n"
     ]
    },
    {
     "data": {
      "application/vnd.jupyter.widget-view+json": {
       "model_id": "e107713233054fd58f7a077178e42bf0"
      }
     },
     "metadata": {},
     "output_type": "display_data"
    },
    {
     "data": {
      "text/html": [
       "Tracking run with wandb version 0.17.0"
      ],
      "text/plain": [
       "<IPython.core.display.HTML object>"
      ]
     },
     "metadata": {},
     "output_type": "display_data"
    },
    {
     "data": {
      "text/html": [
       "Run data is saved locally in <code>/home/user/Downloads/ISIC2018/wandb/run-20240605_054735-7hp3l8va</code>"
      ],
      "text/plain": [
       "<IPython.core.display.HTML object>"
      ]
     },
     "metadata": {},
     "output_type": "display_data"
    },
    {
     "data": {
      "text/html": [
       "Syncing run <strong><a href='https://wandb.ai/dsaperov-organization/mediscan-efficient-net-b0/runs/7hp3l8va' target=\"_blank\">flowing-plant-34</a></strong> to <a href='https://wandb.ai/dsaperov-organization/mediscan-efficient-net-b0' target=\"_blank\">Weights & Biases</a> (<a href='https://wandb.me/run' target=\"_blank\">docs</a>)<br/>"
      ],
      "text/plain": [
       "<IPython.core.display.HTML object>"
      ]
     },
     "metadata": {},
     "output_type": "display_data"
    },
    {
     "data": {
      "text/html": [
       " View project at <a href='https://wandb.ai/dsaperov-organization/mediscan-efficient-net-b0' target=\"_blank\">https://wandb.ai/dsaperov-organization/mediscan-efficient-net-b0</a>"
      ],
      "text/plain": [
       "<IPython.core.display.HTML object>"
      ]
     },
     "metadata": {},
     "output_type": "display_data"
    },
    {
     "data": {
      "text/html": [
       " View run at <a href='https://wandb.ai/dsaperov-organization/mediscan-efficient-net-b0/runs/7hp3l8va' target=\"_blank\">https://wandb.ai/dsaperov-organization/mediscan-efficient-net-b0/runs/7hp3l8va</a>"
      ],
      "text/plain": [
       "<IPython.core.display.HTML object>"
      ]
     },
     "metadata": {},
     "output_type": "display_data"
    },
    {
     "name": "stdout",
     "output_type": "stream",
     "text": [
      "Epoch: 1/20\n",
      "Phase: train\n",
      "Iterations completed\n",
      "train Loss: 0.6785 Acc: 0.7575\n",
      "\n",
      "Phase: val\n",
      "Iterations completed\n",
      "val Loss: 0.5585 Acc: 0.7927\n",
      "\n",
      "----------\n",
      "\n",
      "Epoch: 2/20\n",
      "Phase: train\n",
      "Iterations completed\n",
      "train Loss: 0.5131 Acc: 0.8131\n",
      "\n",
      "Phase: val\n",
      "Iterations completed\n",
      "val Loss: 0.4732 Acc: 0.8342\n",
      "\n",
      "----------\n",
      "\n",
      "Epoch: 3/20\n",
      "Phase: train\n",
      "Iterations completed\n",
      "train Loss: 0.4249 Acc: 0.8465\n",
      "\n",
      "Phase: val\n",
      "Iterations completed\n",
      "val Loss: 0.3464 Acc: 0.8860\n",
      "\n",
      "----------\n",
      "\n",
      "Epoch: 4/20\n",
      "Phase: train\n",
      "Iterations completed\n",
      "train Loss: 0.3428 Acc: 0.8725\n",
      "\n",
      "Phase: val\n",
      "Iterations completed\n",
      "val Loss: 0.3336 Acc: 0.8705\n",
      "\n",
      "----------\n",
      "\n",
      "Epoch: 5/20\n",
      "Phase: train\n",
      "Iterations completed\n",
      "train Loss: 0.2568 Acc: 0.9015\n",
      "\n",
      "Phase: val\n",
      "Iterations completed\n",
      "val Loss: 0.2833 Acc: 0.8860\n",
      "\n",
      "----------\n",
      "\n",
      "Epoch: 6/20\n",
      "Phase: train\n",
      "Iterations completed\n",
      "train Loss: 0.2258 Acc: 0.9167\n",
      "\n",
      "Phase: val\n",
      "Iterations completed\n",
      "val Loss: 0.2769 Acc: 0.9067\n",
      "\n",
      "----------\n",
      "\n",
      "Epoch: 7/20\n",
      "Phase: train\n",
      "Iterations completed\n",
      "train Loss: 0.2251 Acc: 0.9158\n",
      "\n",
      "Phase: val\n",
      "Iterations completed\n",
      "val Loss: 0.2940 Acc: 0.8964\n",
      "\n",
      "----------\n",
      "\n",
      "Epoch: 8/20\n",
      "Phase: train\n",
      "Iterations completed\n",
      "train Loss: 0.2792 Acc: 0.8974\n",
      "\n",
      "Phase: val\n",
      "Iterations completed\n",
      "val Loss: 0.3311 Acc: 0.8705\n",
      "\n",
      "----------\n",
      "\n",
      "Epoch: 9/20\n",
      "Phase: train\n",
      "Iterations completed\n",
      "train Loss: 0.3274 Acc: 0.8808\n",
      "\n",
      "Phase: val\n",
      "Iterations completed\n",
      "val Loss: 0.4230 Acc: 0.8446\n",
      "\n",
      "----------\n",
      "\n",
      "Epoch: 10/20\n",
      "Phase: train\n",
      "Iterations completed\n",
      "train Loss: 0.3687 Acc: 0.8628\n",
      "\n",
      "Phase: val\n",
      "Iterations completed\n",
      "val Loss: 0.3273 Acc: 0.8912\n",
      "\n",
      "----------\n",
      "\n",
      "Epoch: 11/20\n",
      "Phase: train\n",
      "Iterations completed\n",
      "train Loss: 0.3448 Acc: 0.8729\n",
      "\n",
      "Phase: val\n",
      "Iterations completed\n",
      "val Loss: 0.3250 Acc: 0.8860\n",
      "\n",
      "----------\n",
      "\n",
      "Epoch: 12/20\n",
      "Phase: train\n",
      "Iterations completed\n",
      "train Loss: 0.3089 Acc: 0.8814\n",
      "\n",
      "Phase: val\n",
      "Iterations completed\n",
      "val Loss: 0.4419 Acc: 0.8187\n",
      "\n",
      "----------\n",
      "\n",
      "Epoch: 13/20\n",
      "Phase: train\n",
      "Iterations completed\n",
      "train Loss: 0.2486 Acc: 0.9125\n",
      "\n",
      "Phase: val\n",
      "Iterations completed\n",
      "val Loss: 0.3880 Acc: 0.8860\n",
      "\n",
      "----------\n",
      "\n",
      "Epoch: 14/20\n",
      "Phase: train\n",
      "Iterations completed\n",
      "train Loss: 0.1772 Acc: 0.9354\n",
      "\n",
      "Phase: val\n",
      "Iterations completed\n",
      "val Loss: 0.3373 Acc: 0.9016\n",
      "\n",
      "----------\n",
      "\n",
      "Epoch: 15/20\n",
      "Phase: train\n",
      "Iterations completed\n",
      "train Loss: 0.1245 Acc: 0.9543\n",
      "\n",
      "Phase: val\n",
      "Iterations completed\n",
      "val Loss: 0.3381 Acc: 0.8860\n",
      "\n",
      "----------\n",
      "\n",
      "Epoch: 16/20\n",
      "Phase: train\n",
      "Iterations completed\n",
      "train Loss: 0.1026 Acc: 0.9614\n",
      "\n",
      "Phase: val\n",
      "Iterations completed\n",
      "val Loss: 0.3476 Acc: 0.8860\n",
      "\n",
      "----------\n",
      "\n",
      "Epoch: 17/20\n",
      "Phase: train\n",
      "Iterations completed\n",
      "train Loss: 0.1041 Acc: 0.9598\n",
      "\n",
      "Phase: val\n",
      "Iterations completed\n",
      "val Loss: 0.3521 Acc: 0.8808\n",
      "\n",
      "----------\n",
      "\n",
      "Epoch: 18/20\n",
      "Phase: train\n",
      "Iterations completed\n",
      "train Loss: 0.1382 Acc: 0.9483\n",
      "\n",
      "Phase: val\n",
      "Iterations completed\n",
      "val Loss: 0.4118 Acc: 0.9016\n",
      "\n",
      "----------\n",
      "\n",
      "Epoch: 19/20\n",
      "Phase: train\n",
      "Iterations completed\n",
      "train Loss: 0.2044 Acc: 0.9215\n",
      "\n",
      "Phase: val\n",
      "Iterations completed\n",
      "val Loss: 0.3800 Acc: 0.8912\n",
      "\n",
      "----------\n",
      "\n",
      "Epoch: 20/20\n",
      "Phase: train\n",
      "Iterations completed\n",
      "train Loss: 0.2606 Acc: 0.9080\n",
      "\n",
      "Phase: val\n",
      "Iterations completed\n",
      "val Loss: 0.4634 Acc: 0.8653\n",
      "\n",
      "----------\n",
      "\n",
      "Training complete in 16m 13s\n",
      "Best val Acc: 0.9067\n"
     ]
    },
    {
     "name": "stderr",
     "output_type": "stream",
     "text": [
      "Widget Javascript not detected.  It may not be installed or enabled properly. Reconnecting the current kernel may help.\n"
     ]
    },
    {
     "data": {
      "application/vnd.jupyter.widget-view+json": {
       "model_id": "3889c22f9f3847b8a24e640735f7c38b"
      }
     },
     "metadata": {},
     "output_type": "display_data"
    },
    {
     "data": {
      "text/html": [
       "<style>\n",
       "    table.wandb td:nth-child(1) { padding: 0 10px; text-align: left ; width: auto;} td:nth-child(2) {text-align: left ; width: 100%}\n",
       "    .wandb-row { display: flex; flex-direction: row; flex-wrap: wrap; justify-content: flex-start; width: 100% }\n",
       "    .wandb-col { display: flex; flex-direction: column; flex-basis: 100%; flex: 1; padding: 10px; }\n",
       "    </style>\n",
       "<div class=\"wandb-row\"><div class=\"wandb-col\"><h3>Run history:</h3><br/><table class=\"wandb\"><tr><td>train_batch_acc</td><td>▁▅▃▅▅▆▅▅▅██▅▇▆▆▅▅▅▆▄▇▅▆▇▇█▆▆▅██▇███▆█▆▅▇</td></tr><tr><td>train_batch_loss</td><td>█▆▇▄▄▃▆▄▃▂▂▄▂▃▃▄▃▄▄▆▃▄▃▃▃▂▂▃▄▁▁▂▁▂▁▁▂▄▅▃</td></tr><tr><td>val_acc</td><td>▁▄▇▆▇█▇▆▄▇▇▃▇█▇▇▆█▇▅</td></tr><tr><td>val_loss</td><td>█▆▃▂▁▁▁▂▅▂▂▅▄▃▃▃▃▄▄▆</td></tr></table><br/></div><div class=\"wandb-col\"><h3>Run summary:</h3><br/><table class=\"wandb\"><tr><td>train_batch_acc</td><td>0.90323</td></tr><tr><td>train_batch_loss</td><td>0.23927</td></tr><tr><td>val_acc</td><td>0.86528</td></tr><tr><td>val_loss</td><td>0.46341</td></tr></table><br/></div></div>"
      ],
      "text/plain": [
       "<IPython.core.display.HTML object>"
      ]
     },
     "metadata": {},
     "output_type": "display_data"
    },
    {
     "data": {
      "text/html": [
       " View run <strong style=\"color:#cdcd00\">flowing-plant-34</strong> at: <a href='https://wandb.ai/dsaperov-organization/mediscan-efficient-net-b0/runs/7hp3l8va' target=\"_blank\">https://wandb.ai/dsaperov-organization/mediscan-efficient-net-b0/runs/7hp3l8va</a><br/> View project at: <a href='https://wandb.ai/dsaperov-organization/mediscan-efficient-net-b0' target=\"_blank\">https://wandb.ai/dsaperov-organization/mediscan-efficient-net-b0</a><br/>Synced 5 W&B file(s), 0 media file(s), 0 artifact file(s) and 0 other file(s)"
      ],
      "text/plain": [
       "<IPython.core.display.HTML object>"
      ]
     },
     "metadata": {},
     "output_type": "display_data"
    },
    {
     "data": {
      "text/html": [
       "Find logs at: <code>./wandb/run-20240605_054735-7hp3l8va/logs</code>"
      ],
      "text/plain": [
       "<IPython.core.display.HTML object>"
      ]
     },
     "metadata": {},
     "output_type": "display_data"
    },
    {
     "name": "stdout",
     "output_type": "stream",
     "text": [
      "\n",
      "Лучшая ранее достигнутая точность: 0.922279792746114\n",
      "Лучшая точность в текущем эксперименте: 0.917098445595855\n",
      "Точность НЕ улучшилась\n",
      "Разница между значениями: 0.0052\n"
     ]
    }
   ],
   "source": [
    "param_name = 'T_max'\n",
    "config, best_acc, _ = run_experiment(config, SCHEDULER, sheduler_class, dataloaders, best_acc, param_name, T_MAXS, component_params=params)"
   ]
  },
  {
   "cell_type": "markdown",
   "id": "13bc6065-9d55-42ba-ac83-113ae628a6fc",
   "metadata": {},
   "source": [
    "---"
   ]
  },
  {
   "cell_type": "markdown",
   "id": "b90b9f35-07f2-4f3b-985d-6c65b94d4129",
   "metadata": {},
   "source": [
    "## Лучшая модель\n",
    "Обучим модель, показавшую наилучшее качество на валидационных данных, на 50 эпохах"
   ]
  },
  {
   "cell_type": "code",
   "execution_count": 137,
   "id": "286d773c-118a-4663-b5a1-2ed2b8316229",
   "metadata": {},
   "outputs": [
    {
     "data": {
      "text/plain": [
       "{'criterion': {'class': 'CrossEntropyLoss'},\n",
       " 'optimizer': {'class': 'Adam', 'lr': 0.001},\n",
       " 'scheduler': {'class': 'StepLR', 'step_size': 5, 'gamma': 0.1},\n",
       " 'transformations': {'RandomRotation': True}}"
      ]
     },
     "execution_count": 137,
     "metadata": {},
     "output_type": "execute_result"
    }
   ],
   "source": [
    "config"
   ]
  },
  {
   "cell_type": "code",
   "execution_count": 147,
   "id": "34c48f98-08a7-4261-b3cb-863a68773725",
   "metadata": {},
   "outputs": [],
   "source": [
    "NUM_EPOCHS = 50\n",
    "WANDB_BASE_CONFIG['epochs'] = NUM_EPOCHS\n",
    "\n",
    "SCHEDULER_STEP_SIZE = 12  # Увеличиваем пропорционально количеству эпох\n",
    "config[SCHEDULER]['step_size'] = SCHEDULER_STEP_SIZE"
   ]
  },
  {
   "cell_type": "code",
   "execution_count": 151,
   "id": "1ca42520-1d6f-46f4-9afc-b4ce9decd895",
   "metadata": {},
   "outputs": [
    {
     "data": {
      "text/html": [
       "Tracking run with wandb version 0.17.0"
      ],
      "text/plain": [
       "<IPython.core.display.HTML object>"
      ]
     },
     "metadata": {},
     "output_type": "display_data"
    },
    {
     "data": {
      "text/html": [
       "Run data is saved locally in <code>/home/user/Downloads/ISIC2018/wandb/run-20240605_062707-zu6hi0tq</code>"
      ],
      "text/plain": [
       "<IPython.core.display.HTML object>"
      ]
     },
     "metadata": {},
     "output_type": "display_data"
    },
    {
     "data": {
      "text/html": [
       "Syncing run <strong><a href='https://wandb.ai/dsaperov-organization/mediscan-efficient-net-b0/runs/zu6hi0tq' target=\"_blank\">sparkling-microwave-37</a></strong> to <a href='https://wandb.ai/dsaperov-organization/mediscan-efficient-net-b0' target=\"_blank\">Weights & Biases</a> (<a href='https://wandb.me/run' target=\"_blank\">docs</a>)<br/>"
      ],
      "text/plain": [
       "<IPython.core.display.HTML object>"
      ]
     },
     "metadata": {},
     "output_type": "display_data"
    },
    {
     "data": {
      "text/html": [
       " View project at <a href='https://wandb.ai/dsaperov-organization/mediscan-efficient-net-b0' target=\"_blank\">https://wandb.ai/dsaperov-organization/mediscan-efficient-net-b0</a>"
      ],
      "text/plain": [
       "<IPython.core.display.HTML object>"
      ]
     },
     "metadata": {},
     "output_type": "display_data"
    },
    {
     "data": {
      "text/html": [
       " View run at <a href='https://wandb.ai/dsaperov-organization/mediscan-efficient-net-b0/runs/zu6hi0tq' target=\"_blank\">https://wandb.ai/dsaperov-organization/mediscan-efficient-net-b0/runs/zu6hi0tq</a>"
      ],
      "text/plain": [
       "<IPython.core.display.HTML object>"
      ]
     },
     "metadata": {},
     "output_type": "display_data"
    },
    {
     "name": "stdout",
     "output_type": "stream",
     "text": [
      "Epoch: 1/50\n",
      "Phase: train\n",
      "Iterations completed\n",
      "train Loss: 0.6785 Acc: 0.7575\n",
      "\n",
      "Phase: val\n",
      "Iterations completed\n",
      "val Loss: 0.5585 Acc: 0.7927\n",
      "\n",
      "----------\n",
      "\n",
      "Epoch: 2/50\n",
      "Phase: train\n",
      "Iterations completed\n",
      "train Loss: 0.5261 Acc: 0.8082\n",
      "\n",
      "Phase: val\n",
      "Iterations completed\n",
      "val Loss: 0.4585 Acc: 0.8446\n",
      "\n",
      "----------\n",
      "\n",
      "Epoch: 3/50\n",
      "Phase: train\n",
      "Iterations completed\n",
      "train Loss: 0.4753 Acc: 0.8253\n",
      "\n",
      "Phase: val\n",
      "Iterations completed\n",
      "val Loss: 0.4254 Acc: 0.8187\n",
      "\n",
      "----------\n",
      "\n",
      "Epoch: 4/50\n",
      "Phase: train\n",
      "Iterations completed\n",
      "train Loss: 0.4398 Acc: 0.8397\n",
      "\n",
      "Phase: val\n",
      "Iterations completed\n",
      "val Loss: 0.4233 Acc: 0.8601\n",
      "\n",
      "----------\n",
      "\n",
      "Epoch: 5/50\n",
      "Phase: train\n",
      "Iterations completed\n",
      "train Loss: 0.3979 Acc: 0.8521\n",
      "\n",
      "Phase: val\n",
      "Iterations completed\n",
      "val Loss: 0.3589 Acc: 0.8549\n",
      "\n",
      "----------\n",
      "\n",
      "Epoch: 6/50\n",
      "Phase: train\n",
      "Iterations completed\n",
      "train Loss: 0.3751 Acc: 0.8609\n",
      "\n",
      "Phase: val\n",
      "Iterations completed\n",
      "val Loss: 0.4543 Acc: 0.8394\n",
      "\n",
      "----------\n",
      "\n",
      "Epoch: 7/50\n",
      "Phase: train\n",
      "Iterations completed\n",
      "train Loss: 0.3502 Acc: 0.8694\n",
      "\n",
      "Phase: val\n",
      "Iterations completed\n",
      "val Loss: 0.3684 Acc: 0.8860\n",
      "\n",
      "----------\n",
      "\n",
      "Epoch: 8/50\n",
      "Phase: train\n",
      "Iterations completed\n",
      "train Loss: 0.3268 Acc: 0.8772\n",
      "\n",
      "Phase: val\n",
      "Iterations completed\n",
      "val Loss: 0.4897 Acc: 0.8238\n",
      "\n",
      "----------\n",
      "\n",
      "Epoch: 9/50\n",
      "Phase: train\n",
      "Iterations completed\n",
      "train Loss: 0.3020 Acc: 0.8883\n",
      "\n",
      "Phase: val\n",
      "Iterations completed\n",
      "val Loss: 0.4158 Acc: 0.8964\n",
      "\n",
      "----------\n",
      "\n",
      "Epoch: 10/50\n",
      "Phase: train\n",
      "Iterations completed\n",
      "train Loss: 0.2907 Acc: 0.8917\n",
      "\n",
      "Phase: val\n",
      "Iterations completed\n",
      "val Loss: 0.3724 Acc: 0.8912\n",
      "\n",
      "----------\n",
      "\n",
      "Epoch: 11/50\n",
      "Phase: train\n",
      "Iterations completed\n",
      "train Loss: 0.2665 Acc: 0.9017\n",
      "\n",
      "Phase: val\n",
      "Iterations completed\n",
      "val Loss: 0.3341 Acc: 0.8964\n",
      "\n",
      "----------\n",
      "\n",
      "Epoch: 12/50\n",
      "Phase: train\n",
      "Iterations completed\n",
      "train Loss: 0.2706 Acc: 0.9005\n",
      "\n",
      "Phase: val\n",
      "Iterations completed\n",
      "val Loss: 0.4149 Acc: 0.8705\n",
      "\n",
      "----------\n",
      "\n",
      "Epoch: 13/50\n",
      "Phase: train\n",
      "Iterations completed\n",
      "train Loss: 0.1759 Acc: 0.9374\n",
      "\n",
      "Phase: val\n",
      "Iterations completed\n",
      "val Loss: 0.2786 Acc: 0.9067\n",
      "\n",
      "----------\n",
      "\n",
      "Epoch: 14/50\n",
      "Phase: train\n",
      "Iterations completed\n",
      "train Loss: 0.1392 Acc: 0.9476\n",
      "\n",
      "Phase: val\n",
      "Iterations completed\n",
      "val Loss: 0.3098 Acc: 0.9067\n",
      "\n",
      "----------\n",
      "\n",
      "Epoch: 15/50\n",
      "Phase: train\n",
      "Iterations completed\n",
      "train Loss: 0.1245 Acc: 0.9544\n",
      "\n",
      "Phase: val\n",
      "Iterations completed\n",
      "val Loss: 0.2870 Acc: 0.9119\n",
      "\n",
      "----------\n",
      "\n",
      "Epoch: 16/50\n",
      "Phase: train\n",
      "Iterations completed\n",
      "train Loss: 0.1121 Acc: 0.9602\n",
      "\n",
      "Phase: val\n",
      "Iterations completed\n",
      "val Loss: 0.3476 Acc: 0.8964\n",
      "\n",
      "----------\n",
      "\n",
      "Epoch: 17/50\n",
      "Phase: train\n",
      "Iterations completed\n",
      "train Loss: 0.1027 Acc: 0.9617\n",
      "\n",
      "Phase: val\n",
      "Iterations completed\n",
      "val Loss: 0.3059 Acc: 0.9275\n",
      "\n",
      "----------\n",
      "\n",
      "Epoch: 18/50\n",
      "Phase: train\n",
      "Iterations completed\n",
      "train Loss: 0.0974 Acc: 0.9655\n",
      "\n",
      "Phase: val\n",
      "Iterations completed\n",
      "val Loss: 0.3276 Acc: 0.8860\n",
      "\n",
      "----------\n",
      "\n",
      "Epoch: 19/50\n",
      "Phase: train\n",
      "Iterations completed\n",
      "train Loss: 0.0826 Acc: 0.9699\n",
      "\n",
      "Phase: val\n",
      "Iterations completed\n",
      "val Loss: 0.3631 Acc: 0.8912\n",
      "\n",
      "----------\n",
      "\n",
      "Epoch: 20/50\n",
      "Phase: train\n",
      "Iterations completed\n",
      "train Loss: 0.0818 Acc: 0.9709\n",
      "\n",
      "Phase: val\n",
      "Iterations completed\n",
      "val Loss: 0.3731 Acc: 0.8912\n",
      "\n",
      "----------\n",
      "\n",
      "Epoch: 21/50\n",
      "Phase: train\n",
      "Iterations completed\n",
      "train Loss: 0.0754 Acc: 0.9718\n",
      "\n",
      "Phase: val\n",
      "Iterations completed\n",
      "val Loss: 0.3708 Acc: 0.8860\n",
      "\n",
      "----------\n",
      "\n",
      "Epoch: 22/50\n",
      "Phase: train\n",
      "Iterations completed\n",
      "train Loss: 0.0728 Acc: 0.9725\n",
      "\n",
      "Phase: val\n",
      "Iterations completed\n",
      "val Loss: 0.4147 Acc: 0.9067\n",
      "\n",
      "----------\n",
      "\n",
      "Epoch: 23/50\n",
      "Phase: train\n",
      "Iterations completed\n",
      "train Loss: 0.0690 Acc: 0.9765\n",
      "\n",
      "Phase: val\n",
      "Iterations completed\n",
      "val Loss: 0.4174 Acc: 0.8912\n",
      "\n",
      "----------\n",
      "\n",
      "Epoch: 24/50\n",
      "Phase: train\n",
      "Iterations completed\n",
      "train Loss: 0.0628 Acc: 0.9761\n",
      "\n",
      "Phase: val\n",
      "Iterations completed\n",
      "val Loss: 0.4161 Acc: 0.8808\n",
      "\n",
      "----------\n",
      "\n",
      "Epoch: 25/50\n",
      "Phase: train\n",
      "Iterations completed\n",
      "train Loss: 0.0533 Acc: 0.9812\n",
      "\n",
      "Phase: val\n",
      "Iterations completed\n",
      "val Loss: 0.4480 Acc: 0.8964\n",
      "\n",
      "----------\n",
      "\n",
      "Epoch: 26/50\n",
      "Phase: train\n",
      "Iterations completed\n",
      "train Loss: 0.0523 Acc: 0.9819\n",
      "\n",
      "Phase: val\n",
      "Iterations completed\n",
      "val Loss: 0.4376 Acc: 0.8912\n",
      "\n",
      "----------\n",
      "\n",
      "Epoch: 27/50\n",
      "Phase: train\n",
      "Iterations completed\n",
      "train Loss: 0.0504 Acc: 0.9813\n",
      "\n",
      "Phase: val\n",
      "Iterations completed\n",
      "val Loss: 0.4480 Acc: 0.8912\n",
      "\n",
      "----------\n",
      "\n",
      "Epoch: 28/50\n",
      "Phase: train\n",
      "Iterations completed\n",
      "train Loss: 0.0482 Acc: 0.9834\n",
      "\n",
      "Phase: val\n",
      "Iterations completed\n",
      "val Loss: 0.4525 Acc: 0.8964\n",
      "\n",
      "----------\n",
      "\n",
      "Epoch: 29/50\n",
      "Phase: train\n",
      "Iterations completed\n",
      "train Loss: 0.0483 Acc: 0.9827\n",
      "\n",
      "Phase: val\n",
      "Iterations completed\n",
      "val Loss: 0.4408 Acc: 0.8964\n",
      "\n",
      "----------\n",
      "\n",
      "Epoch: 30/50\n",
      "Phase: train\n",
      "Iterations completed\n",
      "train Loss: 0.0407 Acc: 0.9865\n",
      "\n",
      "Phase: val\n",
      "Iterations completed\n",
      "val Loss: 0.4159 Acc: 0.8964\n",
      "\n",
      "----------\n",
      "\n",
      "Epoch: 31/50\n",
      "Phase: train\n",
      "Iterations completed\n",
      "train Loss: 0.0438 Acc: 0.9843\n",
      "\n",
      "Phase: val\n",
      "Iterations completed\n",
      "val Loss: 0.4284 Acc: 0.9016\n",
      "\n",
      "----------\n",
      "\n",
      "Epoch: 32/50\n",
      "Phase: train\n",
      "Iterations completed\n",
      "train Loss: 0.0487 Acc: 0.9813\n",
      "\n",
      "Phase: val\n",
      "Iterations completed\n",
      "val Loss: 0.4134 Acc: 0.8964\n",
      "\n",
      "----------\n",
      "\n",
      "Epoch: 33/50\n",
      "Phase: train\n",
      "Iterations completed\n",
      "train Loss: 0.0439 Acc: 0.9843\n",
      "\n",
      "Phase: val\n",
      "Iterations completed\n",
      "val Loss: 0.4205 Acc: 0.9067\n",
      "\n",
      "----------\n",
      "\n",
      "Epoch: 34/50\n",
      "Phase: train\n",
      "Iterations completed\n",
      "train Loss: 0.0470 Acc: 0.9829\n",
      "\n",
      "Phase: val\n",
      "Iterations completed\n",
      "val Loss: 0.4179 Acc: 0.9016\n",
      "\n",
      "----------\n",
      "\n",
      "Epoch: 35/50\n",
      "Phase: train\n",
      "Iterations completed\n",
      "train Loss: 0.0450 Acc: 0.9848\n",
      "\n",
      "Phase: val\n",
      "Iterations completed\n",
      "val Loss: 0.4106 Acc: 0.9016\n",
      "\n",
      "----------\n",
      "\n",
      "Epoch: 36/50\n",
      "Phase: train\n",
      "Iterations completed\n",
      "train Loss: 0.0418 Acc: 0.9854\n",
      "\n",
      "Phase: val\n",
      "Iterations completed\n",
      "val Loss: 0.4388 Acc: 0.8808\n",
      "\n",
      "----------\n",
      "\n",
      "Epoch: 37/50\n",
      "Phase: train\n",
      "Iterations completed\n",
      "train Loss: 0.0421 Acc: 0.9847\n",
      "\n",
      "Phase: val\n",
      "Iterations completed\n",
      "val Loss: 0.4432 Acc: 0.8964\n",
      "\n",
      "----------\n",
      "\n",
      "Epoch: 38/50\n",
      "Phase: train\n",
      "Iterations completed\n",
      "train Loss: 0.0453 Acc: 0.9832\n",
      "\n",
      "Phase: val\n",
      "Iterations completed\n",
      "val Loss: 0.4320 Acc: 0.8964\n",
      "\n",
      "----------\n",
      "\n",
      "Epoch: 39/50\n",
      "Phase: train\n",
      "Iterations completed\n",
      "train Loss: 0.0392 Acc: 0.9873\n",
      "\n",
      "Phase: val\n",
      "Iterations completed\n",
      "val Loss: 0.4201 Acc: 0.8964\n",
      "\n",
      "----------\n",
      "\n",
      "Epoch: 40/50\n",
      "Phase: train\n",
      "Iterations completed\n",
      "train Loss: 0.0427 Acc: 0.9843\n",
      "\n",
      "Phase: val\n",
      "Iterations completed\n",
      "val Loss: 0.4271 Acc: 0.9016\n",
      "\n",
      "----------\n",
      "\n",
      "Epoch: 41/50\n",
      "Phase: train\n",
      "Iterations completed\n",
      "train Loss: 0.0426 Acc: 0.9850\n",
      "\n",
      "Phase: val\n",
      "Iterations completed\n",
      "val Loss: 0.4368 Acc: 0.8808\n",
      "\n",
      "----------\n",
      "\n",
      "Epoch: 42/50\n",
      "Phase: train\n",
      "Iterations completed\n",
      "train Loss: 0.0421 Acc: 0.9855\n",
      "\n",
      "Phase: val\n",
      "Iterations completed\n",
      "val Loss: 0.4068 Acc: 0.8964\n",
      "\n",
      "----------\n",
      "\n",
      "Epoch: 43/50\n",
      "Phase: train\n",
      "Iterations completed\n",
      "train Loss: 0.0407 Acc: 0.9844\n",
      "\n",
      "Phase: val\n",
      "Iterations completed\n",
      "val Loss: 0.4184 Acc: 0.8912\n",
      "\n",
      "----------\n",
      "\n",
      "Epoch: 44/50\n",
      "Phase: train\n",
      "Iterations completed\n",
      "train Loss: 0.0432 Acc: 0.9836\n",
      "\n",
      "Phase: val\n",
      "Iterations completed\n",
      "val Loss: 0.4286 Acc: 0.8964\n",
      "\n",
      "----------\n",
      "\n",
      "Epoch: 45/50\n",
      "Phase: train\n",
      "Iterations completed\n",
      "train Loss: 0.0420 Acc: 0.9864\n",
      "\n",
      "Phase: val\n",
      "Iterations completed\n",
      "val Loss: 0.4283 Acc: 0.9016\n",
      "\n",
      "----------\n",
      "\n",
      "Epoch: 46/50\n",
      "Phase: train\n",
      "Iterations completed\n",
      "train Loss: 0.0416 Acc: 0.9860\n",
      "\n",
      "Phase: val\n",
      "Iterations completed\n",
      "val Loss: 0.4068 Acc: 0.9067\n",
      "\n",
      "----------\n",
      "\n",
      "Epoch: 47/50\n",
      "Phase: train\n",
      "Iterations completed\n",
      "train Loss: 0.0404 Acc: 0.9871\n",
      "\n",
      "Phase: val\n",
      "Iterations completed\n",
      "val Loss: 0.4350 Acc: 0.9016\n",
      "\n",
      "----------\n",
      "\n",
      "Epoch: 48/50\n",
      "Phase: train\n",
      "Iterations completed\n",
      "train Loss: 0.0413 Acc: 0.9848\n",
      "\n",
      "Phase: val\n",
      "Iterations completed\n",
      "val Loss: 0.4215 Acc: 0.8912\n",
      "\n",
      "----------\n",
      "\n",
      "Epoch: 49/50\n",
      "Phase: train\n",
      "Iterations completed\n",
      "train Loss: 0.0401 Acc: 0.9858\n",
      "\n",
      "Phase: val\n",
      "Iterations completed\n",
      "val Loss: 0.4062 Acc: 0.9016\n",
      "\n",
      "----------\n",
      "\n",
      "Epoch: 50/50\n",
      "Phase: train\n",
      "Iterations completed\n",
      "train Loss: 0.0415 Acc: 0.9846\n",
      "\n",
      "Phase: val\n",
      "Iterations completed\n",
      "val Loss: 0.4092 Acc: 0.8964\n",
      "\n",
      "----------\n",
      "\n",
      "Training complete in 40m 42s\n",
      "Best val Acc: 0.9275\n"
     ]
    },
    {
     "name": "stderr",
     "output_type": "stream",
     "text": [
      "Widget Javascript not detected.  It may not be installed or enabled properly. Reconnecting the current kernel may help.\n"
     ]
    },
    {
     "data": {
      "application/vnd.jupyter.widget-view+json": {
       "model_id": "afb5e21e344247f6a1aa55743e6d2a4b"
      }
     },
     "metadata": {},
     "output_type": "display_data"
    },
    {
     "data": {
      "text/html": [
       "<style>\n",
       "    table.wandb td:nth-child(1) { padding: 0 10px; text-align: left ; width: auto;} td:nth-child(2) {text-align: left ; width: 100%}\n",
       "    .wandb-row { display: flex; flex-direction: row; flex-wrap: wrap; justify-content: flex-start; width: 100% }\n",
       "    .wandb-col { display: flex; flex-direction: column; flex-basis: 100%; flex: 1; padding: 10px; }\n",
       "    </style>\n",
       "<div class=\"wandb-row\"><div class=\"wandb-col\"><h3>Run history:</h3><br/><table class=\"wandb\"><tr><td>train_batch_acc</td><td>▁▅▅▅▄▇▅▇▇▅▇██▇█▇█▇▇██▇████▆██▇▇█████▇██▇</td></tr><tr><td>train_batch_loss</td><td>█▃▃▃▅▃▃▂▃▃▂▁▁▂▁▁▁▂▁▁▁▁▁▁▁▁▂▁▁▂▁▁▁▁▁▁▂▁▁▁</td></tr><tr><td>val_acc</td><td>▁▄▂▄▃▆▃▆▆▅▇▇▆█▆▆▆▇▆▆▆▆▆▆▇▆▇▇▆▆▆▆▆▆▆▆▇▇▆▆</td></tr><tr><td>val_loss</td><td>█▅▅▅▅▃▆▄▂▄▁▂▃▂▂▃▃▄▄▄▅▅▅▅▅▄▅▄▅▅▅▅▅▄▄▅▄▅▅▄</td></tr></table><br/></div><div class=\"wandb-col\"><h3>Run summary:</h3><br/><table class=\"wandb\"><tr><td>train_batch_acc</td><td>1.0</td></tr><tr><td>train_batch_loss</td><td>0.01399</td></tr><tr><td>val_acc</td><td>0.89637</td></tr><tr><td>val_loss</td><td>0.40915</td></tr></table><br/></div></div>"
      ],
      "text/plain": [
       "<IPython.core.display.HTML object>"
      ]
     },
     "metadata": {},
     "output_type": "display_data"
    },
    {
     "data": {
      "text/html": [
       " View run <strong style=\"color:#cdcd00\">sparkling-microwave-37</strong> at: <a href='https://wandb.ai/dsaperov-organization/mediscan-efficient-net-b0/runs/zu6hi0tq' target=\"_blank\">https://wandb.ai/dsaperov-organization/mediscan-efficient-net-b0/runs/zu6hi0tq</a><br/> View project at: <a href='https://wandb.ai/dsaperov-organization/mediscan-efficient-net-b0' target=\"_blank\">https://wandb.ai/dsaperov-organization/mediscan-efficient-net-b0</a><br/>Synced 5 W&B file(s), 0 media file(s), 0 artifact file(s) and 0 other file(s)"
      ],
      "text/plain": [
       "<IPython.core.display.HTML object>"
      ]
     },
     "metadata": {},
     "output_type": "display_data"
    },
    {
     "data": {
      "text/html": [
       "Find logs at: <code>./wandb/run-20240605_062707-zu6hi0tq/logs</code>"
      ],
      "text/plain": [
       "<IPython.core.display.HTML object>"
      ]
     },
     "metadata": {},
     "output_type": "display_data"
    }
   ],
   "source": [
    "best_model_50, best_model_50_best_acc = run_training(config, dataloaders, return_model=True)"
   ]
  },
  {
   "cell_type": "code",
   "execution_count": 152,
   "id": "e6e835db-722f-402a-bec7-568af9095bdc",
   "metadata": {},
   "outputs": [
    {
     "name": "stdout",
     "output_type": "stream",
     "text": [
      "Лучшее качество на валидационной выборке: 0.9274611398963731\n"
     ]
    }
   ],
   "source": [
    "print(f'Лучшее качество на валидационной выборке: {best_model_50_best_acc}')"
   ]
  },
  {
   "cell_type": "code",
   "execution_count": 153,
   "id": "5c96dfb3-b97a-4097-9260-2517ccef3854",
   "metadata": {},
   "outputs": [
    {
     "name": "stdout",
     "output_type": "stream",
     "text": [
      "Accuracy: 83.93%\n",
      "              precision    recall  f1-score   support\n",
      "\n",
      "         MEL       0.68      0.63      0.65       171\n",
      "          NV       0.89      0.94      0.91       909\n",
      "         BCC       0.81      0.82      0.81        93\n",
      "       AKIEC       0.52      0.74      0.61        43\n",
      "         BKL       0.81      0.67      0.73       217\n",
      "          DF       0.87      0.61      0.72        44\n",
      "        VASC       0.88      0.80      0.84        35\n",
      "\n",
      "    accuracy                           0.84      1512\n",
      "   macro avg       0.78      0.74      0.75      1512\n",
      "weighted avg       0.84      0.84      0.84      1512\n",
      "\n",
      "ROC-AUC: 0.9675\n",
      "PR-AUC: 0.8287\n"
     ]
    }
   ],
   "source": [
    "evaluate_model(best_model_50, dataloaders[TEST])"
   ]
  },
  {
   "cell_type": "code",
   "execution_count": 154,
   "id": "1ff0481f-1f22-444d-90f1-251feb868cad",
   "metadata": {},
   "outputs": [],
   "source": [
    "torch.save(best_model_50, 'best_model_50.pth')"
   ]
  },
  {
   "cell_type": "markdown",
   "id": "ae210886-7fac-49a0-90ad-d7f224ec6af2",
   "metadata": {},
   "source": [
    "## P.S.\n",
    "Все же обучим на 50 эпохах еще 3 модели:\n",
    "1. Модель с оверсэмплингом, от которой мы отказались после этапа подбора аугментаций\n",
    "2. Текущую лучшую модель с использованием `FocalLoss` в качестве функции потерь\n",
    "\n",
    "Поскольку именно от этих моделей (в силу их способности решать проблему дисбаланса классов) ожидался лучший перфоманс. Возможно, их сила в полной мере проявляется при большем времени обучении по сравнению с тем, что мы использовали на этапе тестирования.\n",
    "\n",
    "3. Текущую лучшую модель с использованием `FocalLoss(alpha=None)` в качестве функции потерь. Этот вариант использования хорошо показал себя на первом этапе нашего тестирования. Хочется оценить его потенциал на более длинном временном отрезке."
   ]
  },
  {
   "cell_type": "markdown",
   "id": "fdc9814b-4b32-4589-ba35-debcabb16004",
   "metadata": {},
   "source": [
    "### Базовая модель с оверсэмплингом"
   ]
  },
  {
   "cell_type": "code",
   "execution_count": 138,
   "id": "c2b0b52b-5371-49aa-a161-bc96ae262062",
   "metadata": {},
   "outputs": [
    {
     "data": {
      "text/plain": [
       "{'criterion': {'class': 'CrossEntropyLoss'},\n",
       " 'optimizer': {'class': 'Adam', 'lr': 0.001},\n",
       " 'scheduler': {'class': 'StepLR', 'step_size': 5, 'gamma': 0.1},\n",
       " 'transformations': {'CenterCrop': True}}"
      ]
     },
     "execution_count": 138,
     "metadata": {},
     "output_type": "execute_result"
    }
   ],
   "source": [
    "config_oversampling"
   ]
  },
  {
   "cell_type": "code",
   "execution_count": 155,
   "id": "ca37ef4b-6c9a-4983-8b6c-f6e34a90ccec",
   "metadata": {},
   "outputs": [],
   "source": [
    "config_oversampling[SCHEDULER]['step_size'] = SCHEDULER_STEP_SIZE"
   ]
  },
  {
   "cell_type": "code",
   "execution_count": 156,
   "id": "8bbc983d-3f5f-4985-abfc-dbe046ec13a7",
   "metadata": {},
   "outputs": [],
   "source": [
    "data_transforms_train = [transforms.CenterCrop(IMAGE_MIN_SIZE),\n",
    "                         transforms.Resize(INPUT_SIZE),\n",
    "                         transforms.RandomHorizontalFlip(),\n",
    "                         transforms.ToTensor(),\n",
    "                         transforms.Normalize(NORMALIZATION_MEAN, NORMALIZATION_STD)]\n",
    "\n",
    "data_transforms_eval = [transforms.CenterCrop(IMAGE_MIN_SIZE),\n",
    "                        transforms.Resize(INPUT_SIZE),\n",
    "                        transforms.ToTensor(),\n",
    "                        transforms.Normalize(NORMALIZATION_MEAN, NORMALIZATION_STD)]"
   ]
  },
  {
   "cell_type": "code",
   "execution_count": 157,
   "id": "34844ad7-cf52-4399-b352-4ab789e9289e",
   "metadata": {},
   "outputs": [],
   "source": [
    "image_datasets_over, dataloaders_over = load_data(data_transforms_train, data_transforms_eval)"
   ]
  },
  {
   "cell_type": "code",
   "execution_count": 158,
   "id": "f17574c0-6360-48f0-b93c-4aa23c4b4ed4",
   "metadata": {},
   "outputs": [],
   "source": [
    "dataloaders_over[TRAIN] = DataLoader(image_datasets_over[TRAIN], batch_size=BATCH_SIZE,\n",
    "                                     sampler=sampler, num_workers=NUM_WORKERS)"
   ]
  },
  {
   "cell_type": "code",
   "execution_count": 159,
   "id": "a6b54c22-4aca-4a17-b42c-c954e15bc0b4",
   "metadata": {},
   "outputs": [
    {
     "data": {
      "text/html": [
       "Tracking run with wandb version 0.17.0"
      ],
      "text/plain": [
       "<IPython.core.display.HTML object>"
      ]
     },
     "metadata": {},
     "output_type": "display_data"
    },
    {
     "data": {
      "text/html": [
       "Run data is saved locally in <code>/home/user/Downloads/ISIC2018/wandb/run-20240605_070803-3d32sgm3</code>"
      ],
      "text/plain": [
       "<IPython.core.display.HTML object>"
      ]
     },
     "metadata": {},
     "output_type": "display_data"
    },
    {
     "data": {
      "text/html": [
       "Syncing run <strong><a href='https://wandb.ai/dsaperov-organization/mediscan-efficient-net-b0/runs/3d32sgm3' target=\"_blank\">likely-brook-38</a></strong> to <a href='https://wandb.ai/dsaperov-organization/mediscan-efficient-net-b0' target=\"_blank\">Weights & Biases</a> (<a href='https://wandb.me/run' target=\"_blank\">docs</a>)<br/>"
      ],
      "text/plain": [
       "<IPython.core.display.HTML object>"
      ]
     },
     "metadata": {},
     "output_type": "display_data"
    },
    {
     "data": {
      "text/html": [
       " View project at <a href='https://wandb.ai/dsaperov-organization/mediscan-efficient-net-b0' target=\"_blank\">https://wandb.ai/dsaperov-organization/mediscan-efficient-net-b0</a>"
      ],
      "text/plain": [
       "<IPython.core.display.HTML object>"
      ]
     },
     "metadata": {},
     "output_type": "display_data"
    },
    {
     "data": {
      "text/html": [
       " View run at <a href='https://wandb.ai/dsaperov-organization/mediscan-efficient-net-b0/runs/3d32sgm3' target=\"_blank\">https://wandb.ai/dsaperov-organization/mediscan-efficient-net-b0/runs/3d32sgm3</a>"
      ],
      "text/plain": [
       "<IPython.core.display.HTML object>"
      ]
     },
     "metadata": {},
     "output_type": "display_data"
    },
    {
     "name": "stdout",
     "output_type": "stream",
     "text": [
      "Epoch: 1/50\n",
      "Phase: train\n",
      "Iterations completed\n",
      "train Loss: 0.6558 Acc: 0.7612\n",
      "\n",
      "Phase: val\n",
      "Iterations completed\n",
      "val Loss: 0.5900 Acc: 0.8083\n",
      "\n",
      "----------\n",
      "\n",
      "Epoch: 2/50\n",
      "Phase: train\n",
      "Iterations completed\n",
      "train Loss: 0.3844 Acc: 0.8605\n",
      "\n",
      "Phase: val\n",
      "Iterations completed\n",
      "val Loss: 0.6370 Acc: 0.8135\n",
      "\n",
      "----------\n",
      "\n",
      "Epoch: 3/50\n",
      "Phase: train\n",
      "Iterations completed\n",
      "train Loss: 0.3199 Acc: 0.8852\n",
      "\n",
      "Phase: val\n",
      "Iterations completed\n",
      "val Loss: 0.5081 Acc: 0.8238\n",
      "\n",
      "----------\n",
      "\n",
      "Epoch: 4/50\n",
      "Phase: train\n",
      "Iterations completed\n",
      "train Loss: 0.2498 Acc: 0.9109\n",
      "\n",
      "Phase: val\n",
      "Iterations completed\n",
      "val Loss: 0.4936 Acc: 0.8394\n",
      "\n",
      "----------\n",
      "\n",
      "Epoch: 5/50\n",
      "Phase: train\n",
      "Iterations completed\n",
      "train Loss: 0.2023 Acc: 0.9306\n",
      "\n",
      "Phase: val\n",
      "Iterations completed\n",
      "val Loss: 0.6615 Acc: 0.7720\n",
      "\n",
      "----------\n",
      "\n",
      "Epoch: 6/50\n",
      "Phase: train\n",
      "Iterations completed\n",
      "train Loss: 0.1832 Acc: 0.9354\n",
      "\n",
      "Phase: val\n",
      "Iterations completed\n",
      "val Loss: 0.6747 Acc: 0.8031\n",
      "\n",
      "----------\n",
      "\n",
      "Epoch: 7/50\n",
      "Phase: train\n",
      "Iterations completed\n",
      "train Loss: 0.1782 Acc: 0.9368\n",
      "\n",
      "Phase: val\n",
      "Iterations completed\n",
      "val Loss: 0.4685 Acc: 0.8653\n",
      "\n",
      "----------\n",
      "\n",
      "Epoch: 8/50\n",
      "Phase: train\n",
      "Iterations completed\n",
      "train Loss: 0.1470 Acc: 0.9494\n",
      "\n",
      "Phase: val\n",
      "Iterations completed\n",
      "val Loss: 0.6006 Acc: 0.8290\n",
      "\n",
      "----------\n",
      "\n",
      "Epoch: 9/50\n",
      "Phase: train\n",
      "Iterations completed\n",
      "train Loss: 0.1424 Acc: 0.9486\n",
      "\n",
      "Phase: val\n",
      "Iterations completed\n",
      "val Loss: 0.5681 Acc: 0.8394\n",
      "\n",
      "----------\n",
      "\n",
      "Epoch: 10/50\n",
      "Phase: train\n",
      "Iterations completed\n",
      "train Loss: 0.1372 Acc: 0.9517\n",
      "\n",
      "Phase: val\n",
      "Iterations completed\n",
      "val Loss: 0.5463 Acc: 0.8446\n",
      "\n",
      "----------\n",
      "\n",
      "Epoch: 11/50\n",
      "Phase: train\n",
      "Iterations completed\n",
      "train Loss: 0.1185 Acc: 0.9589\n",
      "\n",
      "Phase: val\n",
      "Iterations completed\n",
      "val Loss: 0.5337 Acc: 0.8394\n",
      "\n",
      "----------\n",
      "\n",
      "Epoch: 12/50\n",
      "Phase: train\n",
      "Iterations completed\n",
      "train Loss: 0.1231 Acc: 0.9565\n",
      "\n",
      "Phase: val\n",
      "Iterations completed\n",
      "val Loss: 0.6184 Acc: 0.8394\n",
      "\n",
      "----------\n",
      "\n",
      "Epoch: 13/50\n",
      "Phase: train\n",
      "Iterations completed\n",
      "train Loss: 0.0699 Acc: 0.9764\n",
      "\n",
      "Phase: val\n",
      "Iterations completed\n",
      "val Loss: 0.4251 Acc: 0.8860\n",
      "\n",
      "----------\n",
      "\n",
      "Epoch: 14/50\n",
      "Phase: train\n",
      "Iterations completed\n",
      "train Loss: 0.0479 Acc: 0.9846\n",
      "\n",
      "Phase: val\n",
      "Iterations completed\n",
      "val Loss: 0.4511 Acc: 0.8964\n",
      "\n",
      "----------\n",
      "\n",
      "Epoch: 15/50\n",
      "Phase: train\n",
      "Iterations completed\n",
      "train Loss: 0.0371 Acc: 0.9887\n",
      "\n",
      "Phase: val\n",
      "Iterations completed\n",
      "val Loss: 0.4424 Acc: 0.9016\n",
      "\n",
      "----------\n",
      "\n",
      "Epoch: 16/50\n",
      "Phase: train\n",
      "Iterations completed\n",
      "train Loss: 0.0307 Acc: 0.9908\n",
      "\n",
      "Phase: val\n",
      "Iterations completed\n",
      "val Loss: 0.4715 Acc: 0.8912\n",
      "\n",
      "----------\n",
      "\n",
      "Epoch: 17/50\n",
      "Phase: train\n",
      "Iterations completed\n",
      "train Loss: 0.0249 Acc: 0.9912\n",
      "\n",
      "Phase: val\n",
      "Iterations completed\n",
      "val Loss: 0.4558 Acc: 0.9119\n",
      "\n",
      "----------\n",
      "\n",
      "Epoch: 18/50\n",
      "Phase: train\n",
      "Iterations completed\n",
      "train Loss: 0.0240 Acc: 0.9910\n",
      "\n",
      "Phase: val\n",
      "Iterations completed\n",
      "val Loss: 0.4680 Acc: 0.9067\n",
      "\n",
      "----------\n",
      "\n",
      "Epoch: 19/50\n",
      "Phase: train\n",
      "Iterations completed\n",
      "train Loss: 0.0220 Acc: 0.9919\n",
      "\n",
      "Phase: val\n",
      "Iterations completed\n",
      "val Loss: 0.4675 Acc: 0.9067\n",
      "\n",
      "----------\n",
      "\n",
      "Epoch: 20/50\n",
      "Phase: train\n",
      "Iterations completed\n",
      "train Loss: 0.0185 Acc: 0.9942\n",
      "\n",
      "Phase: val\n",
      "Iterations completed\n",
      "val Loss: 0.5101 Acc: 0.8860\n",
      "\n",
      "----------\n",
      "\n",
      "Epoch: 21/50\n",
      "Phase: train\n",
      "Iterations completed\n",
      "train Loss: 0.0157 Acc: 0.9947\n",
      "\n",
      "Phase: val\n",
      "Iterations completed\n",
      "val Loss: 0.5402 Acc: 0.8912\n",
      "\n",
      "----------\n",
      "\n",
      "Epoch: 22/50\n",
      "Phase: train\n",
      "Iterations completed\n",
      "train Loss: 0.0145 Acc: 0.9944\n",
      "\n",
      "Phase: val\n",
      "Iterations completed\n",
      "val Loss: 0.5144 Acc: 0.9016\n",
      "\n",
      "----------\n",
      "\n",
      "Epoch: 23/50\n",
      "Phase: train\n",
      "Iterations completed\n",
      "train Loss: 0.0139 Acc: 0.9955\n",
      "\n",
      "Phase: val\n",
      "Iterations completed\n",
      "val Loss: 0.6081 Acc: 0.8912\n",
      "\n",
      "----------\n",
      "\n",
      "Epoch: 24/50\n",
      "Phase: train\n",
      "Iterations completed\n",
      "train Loss: 0.0132 Acc: 0.9959\n",
      "\n",
      "Phase: val\n",
      "Iterations completed\n",
      "val Loss: 0.5879 Acc: 0.8860\n",
      "\n",
      "----------\n",
      "\n",
      "Epoch: 25/50\n",
      "Phase: train\n",
      "Iterations completed\n",
      "train Loss: 0.0116 Acc: 0.9966\n",
      "\n",
      "Phase: val\n",
      "Iterations completed\n",
      "val Loss: 0.5996 Acc: 0.8860\n",
      "\n",
      "----------\n",
      "\n",
      "Epoch: 26/50\n",
      "Phase: train\n",
      "Iterations completed\n",
      "train Loss: 0.0109 Acc: 0.9964\n",
      "\n",
      "Phase: val\n",
      "Iterations completed\n",
      "val Loss: 0.5973 Acc: 0.8912\n",
      "\n",
      "----------\n",
      "\n",
      "Epoch: 27/50\n",
      "Phase: train\n",
      "Iterations completed\n",
      "train Loss: 0.0112 Acc: 0.9967\n",
      "\n",
      "Phase: val\n",
      "Iterations completed\n",
      "val Loss: 0.6029 Acc: 0.8912\n",
      "\n",
      "----------\n",
      "\n",
      "Epoch: 28/50\n",
      "Phase: train\n",
      "Iterations completed\n",
      "train Loss: 0.0090 Acc: 0.9971\n",
      "\n",
      "Phase: val\n",
      "Iterations completed\n",
      "val Loss: 0.5803 Acc: 0.8964\n",
      "\n",
      "----------\n",
      "\n",
      "Epoch: 29/50\n",
      "Phase: train\n",
      "Iterations completed\n",
      "train Loss: 0.0067 Acc: 0.9981\n",
      "\n",
      "Phase: val\n",
      "Iterations completed\n",
      "val Loss: 0.5821 Acc: 0.8860\n",
      "\n",
      "----------\n",
      "\n",
      "Epoch: 30/50\n",
      "Phase: train\n",
      "Iterations completed\n",
      "train Loss: 0.0081 Acc: 0.9973\n",
      "\n",
      "Phase: val\n",
      "Iterations completed\n",
      "val Loss: 0.5882 Acc: 0.8860\n",
      "\n",
      "----------\n",
      "\n",
      "Epoch: 31/50\n",
      "Phase: train\n",
      "Iterations completed\n",
      "train Loss: 0.0073 Acc: 0.9978\n",
      "\n",
      "Phase: val\n",
      "Iterations completed\n",
      "val Loss: 0.6063 Acc: 0.8705\n",
      "\n",
      "----------\n",
      "\n",
      "Epoch: 32/50\n",
      "Phase: train\n",
      "Iterations completed\n",
      "train Loss: 0.0074 Acc: 0.9980\n",
      "\n",
      "Phase: val\n",
      "Iterations completed\n",
      "val Loss: 0.6208 Acc: 0.8808\n",
      "\n",
      "----------\n",
      "\n",
      "Epoch: 33/50\n",
      "Phase: train\n",
      "Iterations completed\n",
      "train Loss: 0.0065 Acc: 0.9980\n",
      "\n",
      "Phase: val\n",
      "Iterations completed\n",
      "val Loss: 0.6139 Acc: 0.8808\n",
      "\n",
      "----------\n",
      "\n",
      "Epoch: 34/50\n",
      "Phase: train\n",
      "Iterations completed\n",
      "train Loss: 0.0072 Acc: 0.9981\n",
      "\n",
      "Phase: val\n",
      "Iterations completed\n",
      "val Loss: 0.6173 Acc: 0.9016\n",
      "\n",
      "----------\n",
      "\n",
      "Epoch: 35/50\n",
      "Phase: train\n",
      "Iterations completed\n",
      "train Loss: 0.0076 Acc: 0.9978\n",
      "\n",
      "Phase: val\n",
      "Iterations completed\n",
      "val Loss: 0.6379 Acc: 0.8860\n",
      "\n",
      "----------\n",
      "\n",
      "Epoch: 36/50\n",
      "Phase: train\n",
      "Iterations completed\n",
      "train Loss: 0.0054 Acc: 0.9982\n",
      "\n",
      "Phase: val\n",
      "Iterations completed\n",
      "val Loss: 0.6102 Acc: 0.8912\n",
      "\n",
      "----------\n",
      "\n",
      "Epoch: 37/50\n",
      "Phase: train\n",
      "Iterations completed\n",
      "train Loss: 0.0070 Acc: 0.9975\n",
      "\n",
      "Phase: val\n",
      "Iterations completed\n",
      "val Loss: 0.6471 Acc: 0.8756\n",
      "\n",
      "----------\n",
      "\n",
      "Epoch: 38/50\n",
      "Phase: train\n",
      "Iterations completed\n",
      "train Loss: 0.0080 Acc: 0.9976\n",
      "\n",
      "Phase: val\n",
      "Iterations completed\n",
      "val Loss: 0.6365 Acc: 0.8860\n",
      "\n",
      "----------\n",
      "\n",
      "Epoch: 39/50\n",
      "Phase: train\n",
      "Iterations completed\n",
      "train Loss: 0.0069 Acc: 0.9978\n",
      "\n",
      "Phase: val\n",
      "Iterations completed\n",
      "val Loss: 0.6447 Acc: 0.8860\n",
      "\n",
      "----------\n",
      "\n",
      "Epoch: 40/50\n",
      "Phase: train\n",
      "Iterations completed\n",
      "train Loss: 0.0067 Acc: 0.9982\n",
      "\n",
      "Phase: val\n",
      "Iterations completed\n",
      "val Loss: 0.6409 Acc: 0.8808\n",
      "\n",
      "----------\n",
      "\n",
      "Epoch: 41/50\n",
      "Phase: train\n",
      "Iterations completed\n",
      "train Loss: 0.0075 Acc: 0.9980\n",
      "\n",
      "Phase: val\n",
      "Iterations completed\n",
      "val Loss: 0.6342 Acc: 0.8860\n",
      "\n",
      "----------\n",
      "\n",
      "Epoch: 42/50\n",
      "Phase: train\n",
      "Iterations completed\n",
      "train Loss: 0.0063 Acc: 0.9983\n",
      "\n",
      "Phase: val\n",
      "Iterations completed\n",
      "val Loss: 0.6288 Acc: 0.8964\n",
      "\n",
      "----------\n",
      "\n",
      "Epoch: 43/50\n",
      "Phase: train\n",
      "Iterations completed\n",
      "train Loss: 0.0091 Acc: 0.9977\n",
      "\n",
      "Phase: val\n",
      "Iterations completed\n",
      "val Loss: 0.6435 Acc: 0.8808\n",
      "\n",
      "----------\n",
      "\n",
      "Epoch: 44/50\n",
      "Phase: train\n",
      "Iterations completed\n",
      "train Loss: 0.0064 Acc: 0.9980\n",
      "\n",
      "Phase: val\n",
      "Iterations completed\n",
      "val Loss: 0.6228 Acc: 0.8964\n",
      "\n",
      "----------\n",
      "\n",
      "Epoch: 45/50\n",
      "Phase: train\n",
      "Iterations completed\n",
      "train Loss: 0.0057 Acc: 0.9985\n",
      "\n",
      "Phase: val\n",
      "Iterations completed\n",
      "val Loss: 0.6260 Acc: 0.8860\n",
      "\n",
      "----------\n",
      "\n",
      "Epoch: 46/50\n",
      "Phase: train\n",
      "Iterations completed\n",
      "train Loss: 0.0052 Acc: 0.9981\n",
      "\n",
      "Phase: val\n",
      "Iterations completed\n",
      "val Loss: 0.6375 Acc: 0.8860\n",
      "\n",
      "----------\n",
      "\n",
      "Epoch: 47/50\n",
      "Phase: train\n",
      "Iterations completed\n",
      "train Loss: 0.0064 Acc: 0.9984\n",
      "\n",
      "Phase: val\n",
      "Iterations completed\n",
      "val Loss: 0.6496 Acc: 0.8912\n",
      "\n",
      "----------\n",
      "\n",
      "Epoch: 48/50\n",
      "Phase: train\n",
      "Iterations completed\n",
      "train Loss: 0.0060 Acc: 0.9981\n",
      "\n",
      "Phase: val\n",
      "Iterations completed\n",
      "val Loss: 0.6400 Acc: 0.8964\n",
      "\n",
      "----------\n",
      "\n",
      "Epoch: 49/50\n",
      "Phase: train\n",
      "Iterations completed\n",
      "train Loss: 0.0082 Acc: 0.9981\n",
      "\n",
      "Phase: val\n",
      "Iterations completed\n",
      "val Loss: 0.6360 Acc: 0.9016\n",
      "\n",
      "----------\n",
      "\n",
      "Epoch: 50/50\n",
      "Phase: train\n",
      "Iterations completed\n",
      "train Loss: 0.0077 Acc: 0.9980\n",
      "\n",
      "Phase: val\n",
      "Iterations completed\n",
      "val Loss: 0.6345 Acc: 0.8860\n",
      "\n",
      "----------\n",
      "\n",
      "Training complete in 36m 6s\n",
      "Best val Acc: 0.9119\n"
     ]
    },
    {
     "name": "stderr",
     "output_type": "stream",
     "text": [
      "Widget Javascript not detected.  It may not be installed or enabled properly. Reconnecting the current kernel may help.\n"
     ]
    },
    {
     "data": {
      "application/vnd.jupyter.widget-view+json": {
       "model_id": "0140129fc9184806b7b411821314bf91"
      }
     },
     "metadata": {},
     "output_type": "display_data"
    },
    {
     "data": {
      "text/html": [
       "<style>\n",
       "    table.wandb td:nth-child(1) { padding: 0 10px; text-align: left ; width: auto;} td:nth-child(2) {text-align: left ; width: 100%}\n",
       "    .wandb-row { display: flex; flex-direction: row; flex-wrap: wrap; justify-content: flex-start; width: 100% }\n",
       "    .wandb-col { display: flex; flex-direction: column; flex-basis: 100%; flex: 1; padding: 10px; }\n",
       "    </style>\n",
       "<div class=\"wandb-row\"><div class=\"wandb-col\"><h3>Run history:</h3><br/><table class=\"wandb\"><tr><td>train_batch_acc</td><td>▁▄▅▆▆▆▅██▇██▇█▇██▇█████▇█████████████▇██</td></tr><tr><td>train_batch_loss</td><td>█▆▅▄▄▃▅▁▂▂▁▁▂▁▂▁▁▂▁▁▁▁▁▂▁▁▁▁▁▁▁▁▁▁▁▁▁▁▁▁</td></tr><tr><td>val_acc</td><td>▁▂▂▃▁▅▃▃▃▃▆▇▇███▇▇▇▆▇▇▇▆▅▆▆▇▇▆▆▆▆▇▆▇▆▇▇▆</td></tr><tr><td>val_loss</td><td>▆▇▃▃█▂▆▅▄▆▁▂▂▂▂▂▄▄▆▆▆▆▅▅▆▆▆▆▆▇▇▇▇▇▇▇▇▇▇▇</td></tr></table><br/></div><div class=\"wandb-col\"><h3>Run summary:</h3><br/><table class=\"wandb\"><tr><td>train_batch_acc</td><td>1.0</td></tr><tr><td>train_batch_loss</td><td>0.00329</td></tr><tr><td>val_acc</td><td>0.88601</td></tr><tr><td>val_loss</td><td>0.63453</td></tr></table><br/></div></div>"
      ],
      "text/plain": [
       "<IPython.core.display.HTML object>"
      ]
     },
     "metadata": {},
     "output_type": "display_data"
    },
    {
     "data": {
      "text/html": [
       " View run <strong style=\"color:#cdcd00\">likely-brook-38</strong> at: <a href='https://wandb.ai/dsaperov-organization/mediscan-efficient-net-b0/runs/3d32sgm3' target=\"_blank\">https://wandb.ai/dsaperov-organization/mediscan-efficient-net-b0/runs/3d32sgm3</a><br/> View project at: <a href='https://wandb.ai/dsaperov-organization/mediscan-efficient-net-b0' target=\"_blank\">https://wandb.ai/dsaperov-organization/mediscan-efficient-net-b0</a><br/>Synced 5 W&B file(s), 0 media file(s), 0 artifact file(s) and 0 other file(s)"
      ],
      "text/plain": [
       "<IPython.core.display.HTML object>"
      ]
     },
     "metadata": {},
     "output_type": "display_data"
    },
    {
     "data": {
      "text/html": [
       "Find logs at: <code>./wandb/run-20240605_070803-3d32sgm3/logs</code>"
      ],
      "text/plain": [
       "<IPython.core.display.HTML object>"
      ]
     },
     "metadata": {},
     "output_type": "display_data"
    }
   ],
   "source": [
    "model_oversampling, model_oversampling_best_acc = run_training(config_oversampling, dataloaders_over,\n",
    "                                                               return_model=True)"
   ]
  },
  {
   "cell_type": "code",
   "execution_count": 160,
   "id": "a1062cd9-2bad-48f5-aca1-33f8f6e22fa8",
   "metadata": {},
   "outputs": [
    {
     "name": "stdout",
     "output_type": "stream",
     "text": [
      "Лучшее качество на валидационной выборке: 0.9119170984455959\n"
     ]
    }
   ],
   "source": [
    "print(f'Лучшее качество на валидационной выборке: {model_oversampling_best_acc}')"
   ]
  },
  {
   "cell_type": "code",
   "execution_count": 161,
   "id": "d5ecebd0-96a3-475f-bfdd-49b1f55cdf6f",
   "metadata": {},
   "outputs": [
    {
     "name": "stdout",
     "output_type": "stream",
     "text": [
      "Accuracy: 82.74%\n",
      "              precision    recall  f1-score   support\n",
      "\n",
      "         MEL       0.73      0.49      0.58       171\n",
      "          NV       0.87      0.95      0.91       909\n",
      "         BCC       0.78      0.67      0.72        93\n",
      "       AKIEC       0.60      0.74      0.67        43\n",
      "         BKL       0.73      0.76      0.74       217\n",
      "          DF       0.93      0.57      0.70        44\n",
      "        VASC       0.90      0.54      0.68        35\n",
      "\n",
      "    accuracy                           0.83      1512\n",
      "   macro avg       0.79      0.67      0.71      1512\n",
      "weighted avg       0.82      0.83      0.82      1512\n",
      "\n",
      "ROC-AUC: 0.9589\n",
      "PR-AUC: 0.8139\n"
     ]
    }
   ],
   "source": [
    "evaluate_model(model_oversampling, dataloaders[TEST])"
   ]
  },
  {
   "cell_type": "markdown",
   "id": "ef3d4195-b8ca-4830-991f-84675bb15ab3",
   "metadata": {},
   "source": [
    "### `FocalLoss` с `alpha`"
   ]
  },
  {
   "cell_type": "code",
   "execution_count": 163,
   "id": "77222491-9958-483a-bc4d-a57804e05c25",
   "metadata": {},
   "outputs": [],
   "source": [
    "config[CRITERION] = {CL: 'FocalLoss', 'alpha': class_weights}"
   ]
  },
  {
   "cell_type": "code",
   "execution_count": 164,
   "id": "0f50845c-f7c4-4452-b720-0dfd209bf201",
   "metadata": {},
   "outputs": [
    {
     "data": {
      "text/html": [
       "Tracking run with wandb version 0.17.0"
      ],
      "text/plain": [
       "<IPython.core.display.HTML object>"
      ]
     },
     "metadata": {},
     "output_type": "display_data"
    },
    {
     "data": {
      "text/html": [
       "Run data is saved locally in <code>/home/user/Downloads/ISIC2018/wandb/run-20240605_074422-9i3fcn3u</code>"
      ],
      "text/plain": [
       "<IPython.core.display.HTML object>"
      ]
     },
     "metadata": {},
     "output_type": "display_data"
    },
    {
     "data": {
      "text/html": [
       "Syncing run <strong><a href='https://wandb.ai/dsaperov-organization/mediscan-efficient-net-b0/runs/9i3fcn3u' target=\"_blank\">dainty-monkey-39</a></strong> to <a href='https://wandb.ai/dsaperov-organization/mediscan-efficient-net-b0' target=\"_blank\">Weights & Biases</a> (<a href='https://wandb.me/run' target=\"_blank\">docs</a>)<br/>"
      ],
      "text/plain": [
       "<IPython.core.display.HTML object>"
      ]
     },
     "metadata": {},
     "output_type": "display_data"
    },
    {
     "data": {
      "text/html": [
       " View project at <a href='https://wandb.ai/dsaperov-organization/mediscan-efficient-net-b0' target=\"_blank\">https://wandb.ai/dsaperov-organization/mediscan-efficient-net-b0</a>"
      ],
      "text/plain": [
       "<IPython.core.display.HTML object>"
      ]
     },
     "metadata": {},
     "output_type": "display_data"
    },
    {
     "data": {
      "text/html": [
       " View run at <a href='https://wandb.ai/dsaperov-organization/mediscan-efficient-net-b0/runs/9i3fcn3u' target=\"_blank\">https://wandb.ai/dsaperov-organization/mediscan-efficient-net-b0/runs/9i3fcn3u</a>"
      ],
      "text/plain": [
       "<IPython.core.display.HTML object>"
      ]
     },
     "metadata": {},
     "output_type": "display_data"
    },
    {
     "name": "stdout",
     "output_type": "stream",
     "text": [
      "Epoch: 1/50\n",
      "Phase: train\n",
      "Iterations completed\n",
      "train Loss: 0.0000 Acc: 0.5601\n",
      "\n",
      "Phase: val\n",
      "Iterations completed\n",
      "val Loss: 0.0000 Acc: 0.5596\n",
      "\n",
      "----------\n",
      "\n",
      "Epoch: 2/50\n",
      "Phase: train\n",
      "Iterations completed\n",
      "train Loss: 0.0000 Acc: 0.6389\n",
      "\n",
      "Phase: val\n",
      "Iterations completed\n",
      "val Loss: 0.0000 Acc: 0.7098\n",
      "\n",
      "----------\n",
      "\n",
      "Epoch: 3/50\n",
      "Phase: train\n",
      "Iterations completed\n",
      "train Loss: 0.0000 Acc: 0.6330\n",
      "\n",
      "Phase: val\n",
      "Iterations completed\n",
      "val Loss: 0.0000 Acc: 0.6580\n",
      "\n",
      "----------\n",
      "\n",
      "Epoch: 4/50\n",
      "Phase: train\n",
      "Iterations completed\n",
      "train Loss: 0.0000 Acc: 0.6756\n",
      "\n",
      "Phase: val\n",
      "Iterations completed\n",
      "val Loss: 0.0000 Acc: 0.5544\n",
      "\n",
      "----------\n",
      "\n",
      "Epoch: 5/50\n",
      "Phase: train\n",
      "Iterations completed\n",
      "train Loss: 0.0000 Acc: 0.6845\n",
      "\n",
      "Phase: val\n",
      "Iterations completed\n",
      "val Loss: 0.0000 Acc: 0.6321\n",
      "\n",
      "----------\n",
      "\n",
      "Epoch: 6/50\n",
      "Phase: train\n",
      "Iterations completed\n",
      "train Loss: 0.0000 Acc: 0.7083\n",
      "\n",
      "Phase: val\n",
      "Iterations completed\n",
      "val Loss: 0.0000 Acc: 0.7202\n",
      "\n",
      "----------\n",
      "\n",
      "Epoch: 7/50\n",
      "Phase: train\n",
      "Iterations completed\n",
      "train Loss: 0.0000 Acc: 0.7279\n",
      "\n",
      "Phase: val\n",
      "Iterations completed\n",
      "val Loss: 0.0000 Acc: 0.7150\n",
      "\n",
      "----------\n",
      "\n",
      "Epoch: 8/50\n",
      "Phase: train\n",
      "Iterations completed\n",
      "train Loss: 0.0000 Acc: 0.7357\n",
      "\n",
      "Phase: val\n",
      "Iterations completed\n",
      "val Loss: 0.0000 Acc: 0.7565\n",
      "\n",
      "----------\n",
      "\n",
      "Epoch: 9/50\n",
      "Phase: train\n",
      "Iterations completed\n",
      "train Loss: 0.0000 Acc: 0.7414\n",
      "\n",
      "Phase: val\n",
      "Iterations completed\n",
      "val Loss: 0.0000 Acc: 0.7565\n",
      "\n",
      "----------\n",
      "\n",
      "Epoch: 10/50\n",
      "Phase: train\n",
      "Iterations completed\n",
      "train Loss: 0.0000 Acc: 0.7530\n",
      "\n",
      "Phase: val\n",
      "Iterations completed\n",
      "val Loss: 0.0000 Acc: 0.7979\n",
      "\n",
      "----------\n",
      "\n",
      "Epoch: 11/50\n",
      "Phase: train\n",
      "Iterations completed\n",
      "train Loss: 0.0000 Acc: 0.7839\n",
      "\n",
      "Phase: val\n",
      "Iterations completed\n",
      "val Loss: 0.0000 Acc: 0.8135\n",
      "\n",
      "----------\n",
      "\n",
      "Epoch: 12/50\n",
      "Phase: train\n",
      "Iterations completed\n",
      "train Loss: 0.0000 Acc: 0.7555\n",
      "\n",
      "Phase: val\n",
      "Iterations completed\n",
      "val Loss: 0.0000 Acc: 0.7772\n",
      "\n",
      "----------\n",
      "\n",
      "Epoch: 13/50\n",
      "Phase: train\n",
      "Iterations completed\n",
      "train Loss: 0.0000 Acc: 0.8103\n",
      "\n",
      "Phase: val\n",
      "Iterations completed\n",
      "val Loss: 0.0000 Acc: 0.8187\n",
      "\n",
      "----------\n",
      "\n",
      "Epoch: 14/50\n",
      "Phase: train\n",
      "Iterations completed\n",
      "train Loss: 0.0000 Acc: 0.8340\n",
      "\n",
      "Phase: val\n",
      "Iterations completed\n",
      "val Loss: 0.0000 Acc: 0.8394\n",
      "\n",
      "----------\n",
      "\n",
      "Epoch: 15/50\n",
      "Phase: train\n",
      "Iterations completed\n",
      "train Loss: 0.0000 Acc: 0.8385\n",
      "\n",
      "Phase: val\n",
      "Iterations completed\n",
      "val Loss: 0.0000 Acc: 0.8394\n",
      "\n",
      "----------\n",
      "\n",
      "Epoch: 16/50\n",
      "Phase: train\n",
      "Iterations completed\n",
      "train Loss: 0.0000 Acc: 0.8418\n",
      "\n",
      "Phase: val\n",
      "Iterations completed\n",
      "val Loss: 0.0000 Acc: 0.8290\n",
      "\n",
      "----------\n",
      "\n",
      "Epoch: 17/50\n",
      "Phase: train\n",
      "Iterations completed\n",
      "train Loss: 0.0000 Acc: 0.8533\n",
      "\n",
      "Phase: val\n",
      "Iterations completed\n",
      "val Loss: 0.0000 Acc: 0.8342\n",
      "\n",
      "----------\n",
      "\n",
      "Epoch: 18/50\n",
      "Phase: train\n",
      "Iterations completed\n",
      "train Loss: 0.0000 Acc: 0.8603\n",
      "\n",
      "Phase: val\n",
      "Iterations completed\n",
      "val Loss: 0.0000 Acc: 0.8394\n",
      "\n",
      "----------\n",
      "\n",
      "Epoch: 19/50\n",
      "Phase: train\n",
      "Iterations completed\n",
      "train Loss: 0.0000 Acc: 0.8602\n",
      "\n",
      "Phase: val\n",
      "Iterations completed\n",
      "val Loss: 0.0000 Acc: 0.8549\n",
      "\n",
      "----------\n",
      "\n",
      "Epoch: 20/50\n",
      "Phase: train\n",
      "Iterations completed\n",
      "train Loss: 0.0000 Acc: 0.8620\n",
      "\n",
      "Phase: val\n",
      "Iterations completed\n",
      "val Loss: 0.0000 Acc: 0.8394\n",
      "\n",
      "----------\n",
      "\n",
      "Epoch: 21/50\n",
      "Phase: train\n",
      "Iterations completed\n",
      "train Loss: 0.0000 Acc: 0.8608\n",
      "\n",
      "Phase: val\n",
      "Iterations completed\n",
      "val Loss: 0.0000 Acc: 0.8394\n",
      "\n",
      "----------\n",
      "\n",
      "Epoch: 22/50\n",
      "Phase: train\n",
      "Iterations completed\n",
      "train Loss: 0.0000 Acc: 0.8641\n",
      "\n",
      "Phase: val\n",
      "Iterations completed\n",
      "val Loss: 0.0000 Acc: 0.8446\n",
      "\n",
      "----------\n",
      "\n",
      "Epoch: 23/50\n",
      "Phase: train\n",
      "Iterations completed\n",
      "train Loss: 0.0000 Acc: 0.8690\n",
      "\n",
      "Phase: val\n",
      "Iterations completed\n",
      "val Loss: 0.0000 Acc: 0.8497\n",
      "\n",
      "----------\n",
      "\n",
      "Epoch: 24/50\n",
      "Phase: train\n",
      "Iterations completed\n",
      "train Loss: 0.0000 Acc: 0.8726\n",
      "\n",
      "Phase: val\n",
      "Iterations completed\n",
      "val Loss: 0.0000 Acc: 0.8601\n",
      "\n",
      "----------\n",
      "\n",
      "Epoch: 25/50\n",
      "Phase: train\n",
      "Iterations completed\n",
      "train Loss: 0.0000 Acc: 0.8761\n",
      "\n",
      "Phase: val\n",
      "Iterations completed\n",
      "val Loss: 0.0000 Acc: 0.8601\n",
      "\n",
      "----------\n",
      "\n",
      "Epoch: 26/50\n",
      "Phase: train\n",
      "Iterations completed\n",
      "train Loss: 0.0000 Acc: 0.8763\n",
      "\n",
      "Phase: val\n",
      "Iterations completed\n",
      "val Loss: 0.0000 Acc: 0.8549\n",
      "\n",
      "----------\n",
      "\n",
      "Epoch: 27/50\n",
      "Phase: train\n",
      "Iterations completed\n",
      "train Loss: 0.0000 Acc: 0.8743\n",
      "\n",
      "Phase: val\n",
      "Iterations completed\n",
      "val Loss: 0.0000 Acc: 0.8601\n",
      "\n",
      "----------\n",
      "\n",
      "Epoch: 28/50\n",
      "Phase: train\n",
      "Iterations completed\n",
      "train Loss: 0.0000 Acc: 0.8759\n",
      "\n",
      "Phase: val\n",
      "Iterations completed\n",
      "val Loss: 0.0000 Acc: 0.8601\n",
      "\n",
      "----------\n",
      "\n",
      "Epoch: 29/50\n",
      "Phase: train\n",
      "Iterations completed\n",
      "train Loss: 0.0000 Acc: 0.8764\n",
      "\n",
      "Phase: val\n",
      "Iterations completed\n",
      "val Loss: 0.0000 Acc: 0.8497\n",
      "\n",
      "----------\n",
      "\n",
      "Epoch: 30/50\n",
      "Phase: train\n",
      "Iterations completed\n",
      "train Loss: 0.0000 Acc: 0.8769\n",
      "\n",
      "Phase: val\n",
      "Iterations completed\n",
      "val Loss: 0.0000 Acc: 0.8549\n",
      "\n",
      "----------\n",
      "\n",
      "Epoch: 31/50\n",
      "Phase: train\n",
      "Iterations completed\n",
      "train Loss: 0.0000 Acc: 0.8776\n",
      "\n",
      "Phase: val\n",
      "Iterations completed\n",
      "val Loss: 0.0000 Acc: 0.8549\n",
      "\n",
      "----------\n",
      "\n",
      "Epoch: 32/50\n",
      "Phase: train\n",
      "Iterations completed\n",
      "train Loss: 0.0000 Acc: 0.8784\n",
      "\n",
      "Phase: val\n",
      "Iterations completed\n",
      "val Loss: 0.0000 Acc: 0.8549\n",
      "\n",
      "----------\n",
      "\n",
      "Epoch: 33/50\n",
      "Phase: train\n",
      "Iterations completed\n",
      "train Loss: 0.0000 Acc: 0.8764\n",
      "\n",
      "Phase: val\n",
      "Iterations completed\n",
      "val Loss: 0.0000 Acc: 0.8549\n",
      "\n",
      "----------\n",
      "\n",
      "Epoch: 34/50\n",
      "Phase: train\n",
      "Iterations completed\n",
      "train Loss: 0.0000 Acc: 0.8791\n",
      "\n",
      "Phase: val\n",
      "Iterations completed\n",
      "val Loss: 0.0000 Acc: 0.8549\n",
      "\n",
      "----------\n",
      "\n",
      "Epoch: 35/50\n",
      "Phase: train\n",
      "Iterations completed\n",
      "train Loss: 0.0000 Acc: 0.8798\n",
      "\n",
      "Phase: val\n",
      "Iterations completed\n",
      "val Loss: 0.0000 Acc: 0.8497\n",
      "\n",
      "----------\n",
      "\n",
      "Epoch: 36/50\n",
      "Phase: train\n",
      "Iterations completed\n",
      "train Loss: 0.0000 Acc: 0.8768\n",
      "\n",
      "Phase: val\n",
      "Iterations completed\n",
      "val Loss: 0.0000 Acc: 0.8601\n",
      "\n",
      "----------\n",
      "\n",
      "Epoch: 37/50\n",
      "Phase: train\n",
      "Iterations completed\n",
      "train Loss: 0.0000 Acc: 0.8772\n",
      "\n",
      "Phase: val\n",
      "Iterations completed\n",
      "val Loss: 0.0000 Acc: 0.8601\n",
      "\n",
      "----------\n",
      "\n",
      "Epoch: 38/50\n",
      "Phase: train\n",
      "Iterations completed\n",
      "train Loss: 0.0000 Acc: 0.8801\n",
      "\n",
      "Phase: val\n",
      "Iterations completed\n",
      "val Loss: 0.0000 Acc: 0.8653\n",
      "\n",
      "----------\n",
      "\n",
      "Epoch: 39/50\n",
      "Phase: train\n",
      "Iterations completed\n",
      "train Loss: 0.0000 Acc: 0.8832\n",
      "\n",
      "Phase: val\n",
      "Iterations completed\n",
      "val Loss: 0.0000 Acc: 0.8549\n",
      "\n",
      "----------\n",
      "\n",
      "Epoch: 40/50\n",
      "Phase: train\n",
      "Iterations completed\n",
      "train Loss: 0.0000 Acc: 0.8817\n",
      "\n",
      "Phase: val\n",
      "Iterations completed\n",
      "val Loss: 0.0000 Acc: 0.8549\n",
      "\n",
      "----------\n",
      "\n",
      "Epoch: 41/50\n",
      "Phase: train\n",
      "Iterations completed\n",
      "train Loss: 0.0000 Acc: 0.8806\n",
      "\n",
      "Phase: val\n",
      "Iterations completed\n",
      "val Loss: 0.0000 Acc: 0.8601\n",
      "\n",
      "----------\n",
      "\n",
      "Epoch: 42/50\n",
      "Phase: train\n",
      "Iterations completed\n",
      "train Loss: 0.0000 Acc: 0.8800\n",
      "\n",
      "Phase: val\n",
      "Iterations completed\n",
      "val Loss: 0.0000 Acc: 0.8549\n",
      "\n",
      "----------\n",
      "\n",
      "Epoch: 43/50\n",
      "Phase: train\n",
      "Iterations completed\n",
      "train Loss: 0.0000 Acc: 0.8847\n",
      "\n",
      "Phase: val\n",
      "Iterations completed\n",
      "val Loss: 0.0000 Acc: 0.8653\n",
      "\n",
      "----------\n",
      "\n",
      "Epoch: 44/50\n",
      "Phase: train\n",
      "Iterations completed\n",
      "train Loss: 0.0000 Acc: 0.8785\n",
      "\n",
      "Phase: val\n",
      "Iterations completed\n",
      "val Loss: 0.0000 Acc: 0.8497\n",
      "\n",
      "----------\n",
      "\n",
      "Epoch: 45/50\n",
      "Phase: train\n",
      "Iterations completed\n",
      "train Loss: 0.0000 Acc: 0.8795\n",
      "\n",
      "Phase: val\n",
      "Iterations completed\n",
      "val Loss: 0.0000 Acc: 0.8601\n",
      "\n",
      "----------\n",
      "\n",
      "Epoch: 46/50\n",
      "Phase: train\n",
      "Iterations completed\n",
      "train Loss: 0.0000 Acc: 0.8803\n",
      "\n",
      "Phase: val\n",
      "Iterations completed\n",
      "val Loss: 0.0000 Acc: 0.8549\n",
      "\n",
      "----------\n",
      "\n",
      "Epoch: 47/50\n",
      "Phase: train\n",
      "Iterations completed\n",
      "train Loss: 0.0000 Acc: 0.8848\n",
      "\n",
      "Phase: val\n",
      "Iterations completed\n",
      "val Loss: 0.0000 Acc: 0.8497\n",
      "\n",
      "----------\n",
      "\n",
      "Epoch: 48/50\n",
      "Phase: train\n",
      "Iterations completed\n",
      "train Loss: 0.0000 Acc: 0.8840\n",
      "\n",
      "Phase: val\n",
      "Iterations completed\n",
      "val Loss: 0.0000 Acc: 0.8549\n",
      "\n",
      "----------\n",
      "\n",
      "Epoch: 49/50\n",
      "Phase: train\n",
      "Iterations completed\n",
      "train Loss: 0.0000 Acc: 0.8806\n",
      "\n",
      "Phase: val\n",
      "Iterations completed\n",
      "val Loss: 0.0000 Acc: 0.8601\n",
      "\n",
      "----------\n",
      "\n",
      "Epoch: 50/50\n",
      "Phase: train\n",
      "Iterations completed\n",
      "train Loss: 0.0000 Acc: 0.8840\n",
      "\n",
      "Phase: val\n",
      "Iterations completed\n",
      "val Loss: 0.0000 Acc: 0.8549\n",
      "\n",
      "----------\n",
      "\n",
      "Training complete in 41m 41s\n",
      "Best val Acc: 0.8653\n"
     ]
    },
    {
     "name": "stderr",
     "output_type": "stream",
     "text": [
      "Widget Javascript not detected.  It may not be installed or enabled properly. Reconnecting the current kernel may help.\n"
     ]
    },
    {
     "data": {
      "application/vnd.jupyter.widget-view+json": {
       "model_id": "c0b77eed598348f19813322d62b1c560"
      }
     },
     "metadata": {},
     "output_type": "display_data"
    },
    {
     "data": {
      "text/html": [
       "<style>\n",
       "    table.wandb td:nth-child(1) { padding: 0 10px; text-align: left ; width: auto;} td:nth-child(2) {text-align: left ; width: 100%}\n",
       "    .wandb-row { display: flex; flex-direction: row; flex-wrap: wrap; justify-content: flex-start; width: 100% }\n",
       "    .wandb-col { display: flex; flex-direction: column; flex-basis: 100%; flex: 1; padding: 10px; }\n",
       "    </style>\n",
       "<div class=\"wandb-row\"><div class=\"wandb-col\"><h3>Run history:</h3><br/><table class=\"wandb\"><tr><td>train_batch_acc</td><td>▁▃▃▅▃▄▄▄▅▃▇▇▇▇▇▅▅▇▇▇▇▇▅▅▇▇▇▇▇▇▅▇▇▇▇█▇█▅▆</td></tr><tr><td>train_batch_loss</td><td>█▃▄▃▅▇▃▆▃▄▂▂▂▁▁▂▃▁▁▁▁▁▂▂▁▂▁▁▁▁▁▁▁▁▁▁▂▁▁▁</td></tr><tr><td>val_acc</td><td>▁▅▃▁▅▅▆▆▇▆▇▇▇▇▇█▇███████████████████████</td></tr><tr><td>val_loss</td><td>█▃▅▆▇▄▂▂▂▂▁▁▁▁▁▁▁▁▂▂▁▂▂▁▂▁▁▁▂▂▁▂▂▁▁▂▁▁▁▁</td></tr></table><br/></div><div class=\"wandb-col\"><h3>Run summary:</h3><br/><table class=\"wandb\"><tr><td>train_batch_acc</td><td>0.93548</td></tr><tr><td>train_batch_loss</td><td>0.0</td></tr><tr><td>val_acc</td><td>0.85492</td></tr><tr><td>val_loss</td><td>0.0</td></tr></table><br/></div></div>"
      ],
      "text/plain": [
       "<IPython.core.display.HTML object>"
      ]
     },
     "metadata": {},
     "output_type": "display_data"
    },
    {
     "data": {
      "text/html": [
       " View run <strong style=\"color:#cdcd00\">dainty-monkey-39</strong> at: <a href='https://wandb.ai/dsaperov-organization/mediscan-efficient-net-b0/runs/9i3fcn3u' target=\"_blank\">https://wandb.ai/dsaperov-organization/mediscan-efficient-net-b0/runs/9i3fcn3u</a><br/> View project at: <a href='https://wandb.ai/dsaperov-organization/mediscan-efficient-net-b0' target=\"_blank\">https://wandb.ai/dsaperov-organization/mediscan-efficient-net-b0</a><br/>Synced 5 W&B file(s), 0 media file(s), 0 artifact file(s) and 0 other file(s)"
      ],
      "text/plain": [
       "<IPython.core.display.HTML object>"
      ]
     },
     "metadata": {},
     "output_type": "display_data"
    },
    {
     "data": {
      "text/html": [
       "Find logs at: <code>./wandb/run-20240605_074422-9i3fcn3u/logs</code>"
      ],
      "text/plain": [
       "<IPython.core.display.HTML object>"
      ]
     },
     "metadata": {},
     "output_type": "display_data"
    }
   ],
   "source": [
    "model_focal_alpha, model_focal_alpha_best_acc = run_training(config, dataloaders, return_model=True)"
   ]
  },
  {
   "cell_type": "code",
   "execution_count": 165,
   "id": "ebfd01af-b5b4-4b52-b97b-1daacc1d21a1",
   "metadata": {},
   "outputs": [
    {
     "name": "stdout",
     "output_type": "stream",
     "text": [
      "Лучшее качество на валидационной выборке: 0.8652849740932643\n"
     ]
    }
   ],
   "source": [
    "print(f'Лучшее качество на валидационной выборке: {model_focal_alpha_best_acc}')"
   ]
  },
  {
   "cell_type": "code",
   "execution_count": 166,
   "id": "e842c5ef-5b3d-45ea-b170-e09b9af4b975",
   "metadata": {},
   "outputs": [
    {
     "name": "stdout",
     "output_type": "stream",
     "text": [
      "Accuracy: 80.42%\n",
      "              precision    recall  f1-score   support\n",
      "\n",
      "         MEL       0.50      0.73      0.59       171\n",
      "          NV       0.93      0.85      0.89       909\n",
      "         BCC       0.72      0.82      0.77        93\n",
      "       AKIEC       0.56      0.67      0.61        43\n",
      "         BKL       0.75      0.71      0.73       217\n",
      "          DF       0.81      0.68      0.74        44\n",
      "        VASC       0.89      0.89      0.89        35\n",
      "\n",
      "    accuracy                           0.80      1512\n",
      "   macro avg       0.74      0.76      0.75      1512\n",
      "weighted avg       0.83      0.80      0.81      1512\n",
      "\n",
      "ROC-AUC: 0.9643\n",
      "PR-AUC: 0.8187\n"
     ]
    }
   ],
   "source": [
    "evaluate_model(model_focal_alpha, dataloaders[TEST])"
   ]
  },
  {
   "cell_type": "markdown",
   "id": "81b41504-b627-4593-8fe0-248be8878511",
   "metadata": {},
   "source": [
    "### `FocalLoss(alpha=None)`"
   ]
  },
  {
   "cell_type": "code",
   "execution_count": 168,
   "id": "b919aa03-3623-4586-b969-150263911b9f",
   "metadata": {},
   "outputs": [],
   "source": [
    "del config[CRITERION]['alpha']"
   ]
  },
  {
   "cell_type": "code",
   "execution_count": 169,
   "id": "df27ce27-62ab-4ec2-8a45-aeb97d748b78",
   "metadata": {},
   "outputs": [
    {
     "data": {
      "text/html": [
       "Tracking run with wandb version 0.17.0"
      ],
      "text/plain": [
       "<IPython.core.display.HTML object>"
      ]
     },
     "metadata": {},
     "output_type": "display_data"
    },
    {
     "data": {
      "text/html": [
       "Run data is saved locally in <code>/home/user/Downloads/ISIC2018/wandb/run-20240605_082619-qq1uz2x7</code>"
      ],
      "text/plain": [
       "<IPython.core.display.HTML object>"
      ]
     },
     "metadata": {},
     "output_type": "display_data"
    },
    {
     "data": {
      "text/html": [
       "Syncing run <strong><a href='https://wandb.ai/dsaperov-organization/mediscan-efficient-net-b0/runs/qq1uz2x7' target=\"_blank\">magic-disco-40</a></strong> to <a href='https://wandb.ai/dsaperov-organization/mediscan-efficient-net-b0' target=\"_blank\">Weights & Biases</a> (<a href='https://wandb.me/run' target=\"_blank\">docs</a>)<br/>"
      ],
      "text/plain": [
       "<IPython.core.display.HTML object>"
      ]
     },
     "metadata": {},
     "output_type": "display_data"
    },
    {
     "data": {
      "text/html": [
       " View project at <a href='https://wandb.ai/dsaperov-organization/mediscan-efficient-net-b0' target=\"_blank\">https://wandb.ai/dsaperov-organization/mediscan-efficient-net-b0</a>"
      ],
      "text/plain": [
       "<IPython.core.display.HTML object>"
      ]
     },
     "metadata": {},
     "output_type": "display_data"
    },
    {
     "data": {
      "text/html": [
       " View run at <a href='https://wandb.ai/dsaperov-organization/mediscan-efficient-net-b0/runs/qq1uz2x7' target=\"_blank\">https://wandb.ai/dsaperov-organization/mediscan-efficient-net-b0/runs/qq1uz2x7</a>"
      ],
      "text/plain": [
       "<IPython.core.display.HTML object>"
      ]
     },
     "metadata": {},
     "output_type": "display_data"
    },
    {
     "name": "stdout",
     "output_type": "stream",
     "text": [
      "Epoch: 1/50\n",
      "Phase: train\n",
      "Iterations completed\n",
      "train Loss: 0.3752 Acc: 0.7528\n",
      "\n",
      "Phase: val\n",
      "Iterations completed\n",
      "val Loss: 0.3268 Acc: 0.7150\n",
      "\n",
      "----------\n",
      "\n",
      "Epoch: 2/50\n",
      "Phase: train\n",
      "Iterations completed\n",
      "train Loss: 0.2686 Acc: 0.7974\n",
      "\n",
      "Phase: val\n",
      "Iterations completed\n",
      "val Loss: 0.1995 Acc: 0.8394\n",
      "\n",
      "----------\n",
      "\n",
      "Epoch: 3/50\n",
      "Phase: train\n",
      "Iterations completed\n",
      "train Loss: 0.2356 Acc: 0.8193\n",
      "\n",
      "Phase: val\n",
      "Iterations completed\n",
      "val Loss: 0.2013 Acc: 0.7979\n",
      "\n",
      "----------\n",
      "\n",
      "Epoch: 4/50\n",
      "Phase: train\n",
      "Iterations completed\n",
      "train Loss: 0.2096 Acc: 0.8319\n",
      "\n",
      "Phase: val\n",
      "Iterations completed\n",
      "val Loss: 0.2319 Acc: 0.8342\n",
      "\n",
      "----------\n",
      "\n",
      "Epoch: 5/50\n",
      "Phase: train\n",
      "Iterations completed\n",
      "train Loss: 0.1867 Acc: 0.8399\n",
      "\n",
      "Phase: val\n",
      "Iterations completed\n",
      "val Loss: 0.1449 Acc: 0.8549\n",
      "\n",
      "----------\n",
      "\n",
      "Epoch: 6/50\n",
      "Phase: train\n",
      "Iterations completed\n",
      "train Loss: 0.1766 Acc: 0.8476\n",
      "\n",
      "Phase: val\n",
      "Iterations completed\n",
      "val Loss: 0.1625 Acc: 0.8653\n",
      "\n",
      "----------\n",
      "\n",
      "Epoch: 7/50\n",
      "Phase: train\n",
      "Iterations completed\n",
      "train Loss: 0.1535 Acc: 0.8627\n",
      "\n",
      "Phase: val\n",
      "Iterations completed\n",
      "val Loss: 0.1546 Acc: 0.8756\n",
      "\n",
      "----------\n",
      "\n",
      "Epoch: 8/50\n",
      "Phase: train\n",
      "Iterations completed\n",
      "train Loss: 0.1482 Acc: 0.8656\n",
      "\n",
      "Phase: val\n",
      "Iterations completed\n",
      "val Loss: 0.1437 Acc: 0.8705\n",
      "\n",
      "----------\n",
      "\n",
      "Epoch: 9/50\n",
      "Phase: train\n",
      "Iterations completed\n",
      "train Loss: 0.1373 Acc: 0.8700\n",
      "\n",
      "Phase: val\n",
      "Iterations completed\n",
      "val Loss: 0.1876 Acc: 0.8964\n",
      "\n",
      "----------\n",
      "\n",
      "Epoch: 10/50\n",
      "Phase: train\n",
      "Iterations completed\n",
      "train Loss: 0.1351 Acc: 0.8749\n",
      "\n",
      "Phase: val\n",
      "Iterations completed\n",
      "val Loss: 0.1533 Acc: 0.8860\n",
      "\n",
      "----------\n",
      "\n",
      "Epoch: 11/50\n",
      "Phase: train\n",
      "Iterations completed\n",
      "train Loss: 0.1163 Acc: 0.8865\n",
      "\n",
      "Phase: val\n",
      "Iterations completed\n",
      "val Loss: 0.1319 Acc: 0.9067\n",
      "\n",
      "----------\n",
      "\n",
      "Epoch: 12/50\n",
      "Phase: train\n",
      "Iterations completed\n",
      "train Loss: 0.1191 Acc: 0.8826\n",
      "\n",
      "Phase: val\n",
      "Iterations completed\n",
      "val Loss: 0.1942 Acc: 0.8705\n",
      "\n",
      "----------\n",
      "\n",
      "Epoch: 13/50\n",
      "Phase: train\n",
      "Iterations completed\n",
      "train Loss: 0.0754 Acc: 0.9219\n",
      "\n",
      "Phase: val\n",
      "Iterations completed\n",
      "val Loss: 0.1452 Acc: 0.9016\n",
      "\n",
      "----------\n",
      "\n",
      "Epoch: 14/50\n",
      "Phase: train\n",
      "Iterations completed\n",
      "train Loss: 0.0579 Acc: 0.9340\n",
      "\n",
      "Phase: val\n",
      "Iterations completed\n",
      "val Loss: 0.1490 Acc: 0.9067\n",
      "\n",
      "----------\n",
      "\n",
      "Epoch: 15/50\n",
      "Phase: train\n",
      "Iterations completed\n",
      "train Loss: 0.0520 Acc: 0.9360\n",
      "\n",
      "Phase: val\n",
      "Iterations completed\n",
      "val Loss: 0.1347 Acc: 0.8964\n",
      "\n",
      "----------\n",
      "\n",
      "Epoch: 16/50\n",
      "Phase: train\n",
      "Iterations completed\n",
      "train Loss: 0.0453 Acc: 0.9477\n",
      "\n",
      "Phase: val\n",
      "Iterations completed\n",
      "val Loss: 0.1234 Acc: 0.9119\n",
      "\n",
      "----------\n",
      "\n",
      "Epoch: 17/50\n",
      "Phase: train\n",
      "Iterations completed\n",
      "train Loss: 0.0419 Acc: 0.9493\n",
      "\n",
      "Phase: val\n",
      "Iterations completed\n",
      "val Loss: 0.1347 Acc: 0.9016\n",
      "\n",
      "----------\n",
      "\n",
      "Epoch: 18/50\n",
      "Phase: train\n",
      "Iterations completed\n",
      "train Loss: 0.0374 Acc: 0.9530\n",
      "\n",
      "Phase: val\n",
      "Iterations completed\n",
      "val Loss: 0.1350 Acc: 0.8912\n",
      "\n",
      "----------\n",
      "\n",
      "Epoch: 19/50\n",
      "Phase: train\n",
      "Iterations completed\n",
      "train Loss: 0.0333 Acc: 0.9574\n",
      "\n",
      "Phase: val\n",
      "Iterations completed\n",
      "val Loss: 0.1340 Acc: 0.8860\n",
      "\n",
      "----------\n",
      "\n",
      "Epoch: 20/50\n",
      "Phase: train\n",
      "Iterations completed\n",
      "train Loss: 0.0308 Acc: 0.9598\n",
      "\n",
      "Phase: val\n",
      "Iterations completed\n",
      "val Loss: 0.1536 Acc: 0.8756\n",
      "\n",
      "----------\n",
      "\n",
      "Epoch: 21/50\n",
      "Phase: train\n",
      "Iterations completed\n",
      "train Loss: 0.0291 Acc: 0.9621\n",
      "\n",
      "Phase: val\n",
      "Iterations completed\n",
      "val Loss: 0.1366 Acc: 0.8756\n",
      "\n",
      "----------\n",
      "\n",
      "Epoch: 22/50\n",
      "Phase: train\n",
      "Iterations completed\n",
      "train Loss: 0.0288 Acc: 0.9630\n",
      "\n",
      "Phase: val\n",
      "Iterations completed\n",
      "val Loss: 0.1578 Acc: 0.8808\n",
      "\n",
      "----------\n",
      "\n",
      "Epoch: 23/50\n",
      "Phase: train\n",
      "Iterations completed\n",
      "train Loss: 0.0253 Acc: 0.9661\n",
      "\n",
      "Phase: val\n",
      "Iterations completed\n",
      "val Loss: 0.1550 Acc: 0.8912\n",
      "\n",
      "----------\n",
      "\n",
      "Epoch: 24/50\n",
      "Phase: train\n",
      "Iterations completed\n",
      "train Loss: 0.0260 Acc: 0.9657\n",
      "\n",
      "Phase: val\n",
      "Iterations completed\n",
      "val Loss: 0.1327 Acc: 0.8808\n",
      "\n",
      "----------\n",
      "\n",
      "Epoch: 25/50\n",
      "Phase: train\n",
      "Iterations completed\n",
      "train Loss: 0.0232 Acc: 0.9700\n",
      "\n",
      "Phase: val\n",
      "Iterations completed\n",
      "val Loss: 0.1408 Acc: 0.8912\n",
      "\n",
      "----------\n",
      "\n",
      "Epoch: 26/50\n",
      "Phase: train\n",
      "Iterations completed\n",
      "train Loss: 0.0217 Acc: 0.9727\n",
      "\n",
      "Phase: val\n",
      "Iterations completed\n",
      "val Loss: 0.1454 Acc: 0.8860\n",
      "\n",
      "----------\n",
      "\n",
      "Epoch: 27/50\n",
      "Phase: train\n",
      "Iterations completed\n",
      "train Loss: 0.0206 Acc: 0.9728\n",
      "\n",
      "Phase: val\n",
      "Iterations completed\n",
      "val Loss: 0.1415 Acc: 0.8808\n",
      "\n",
      "----------\n",
      "\n",
      "Epoch: 28/50\n",
      "Phase: train\n",
      "Iterations completed\n",
      "train Loss: 0.0195 Acc: 0.9755\n",
      "\n",
      "Phase: val\n",
      "Iterations completed\n",
      "val Loss: 0.1446 Acc: 0.8912\n",
      "\n",
      "----------\n",
      "\n",
      "Epoch: 29/50\n",
      "Phase: train\n",
      "Iterations completed\n",
      "train Loss: 0.0191 Acc: 0.9733\n",
      "\n",
      "Phase: val\n",
      "Iterations completed\n",
      "val Loss: 0.1446 Acc: 0.8912\n",
      "\n",
      "----------\n",
      "\n",
      "Epoch: 30/50\n",
      "Phase: train\n",
      "Iterations completed\n",
      "train Loss: 0.0189 Acc: 0.9757\n",
      "\n",
      "Phase: val\n",
      "Iterations completed\n",
      "val Loss: 0.1411 Acc: 0.9016\n",
      "\n",
      "----------\n",
      "\n",
      "Epoch: 31/50\n",
      "Phase: train\n",
      "Iterations completed\n",
      "train Loss: 0.0176 Acc: 0.9755\n",
      "\n",
      "Phase: val\n",
      "Iterations completed\n",
      "val Loss: 0.1445 Acc: 0.8964\n",
      "\n",
      "----------\n",
      "\n",
      "Epoch: 32/50\n",
      "Phase: train\n",
      "Iterations completed\n",
      "train Loss: 0.0201 Acc: 0.9720\n",
      "\n",
      "Phase: val\n",
      "Iterations completed\n",
      "val Loss: 0.1507 Acc: 0.8912\n",
      "\n",
      "----------\n",
      "\n",
      "Epoch: 33/50\n",
      "Phase: train\n",
      "Iterations completed\n",
      "train Loss: 0.0179 Acc: 0.9785\n",
      "\n",
      "Phase: val\n",
      "Iterations completed\n",
      "val Loss: 0.1595 Acc: 0.8808\n",
      "\n",
      "----------\n",
      "\n",
      "Epoch: 34/50\n",
      "Phase: train\n",
      "Iterations completed\n",
      "train Loss: 0.0200 Acc: 0.9741\n",
      "\n",
      "Phase: val\n",
      "Iterations completed\n",
      "val Loss: 0.1440 Acc: 0.8912\n",
      "\n",
      "----------\n",
      "\n",
      "Epoch: 35/50\n",
      "Phase: train\n",
      "Iterations completed\n",
      "train Loss: 0.0176 Acc: 0.9765\n",
      "\n",
      "Phase: val\n",
      "Iterations completed\n",
      "val Loss: 0.1575 Acc: 0.8912\n",
      "\n",
      "----------\n",
      "\n",
      "Epoch: 36/50\n",
      "Phase: train\n",
      "Iterations completed\n",
      "train Loss: 0.0189 Acc: 0.9764\n",
      "\n",
      "Phase: val\n",
      "Iterations completed\n",
      "val Loss: 0.1543 Acc: 0.8964\n",
      "\n",
      "----------\n",
      "\n",
      "Epoch: 37/50\n",
      "Phase: train\n",
      "Iterations completed\n",
      "train Loss: 0.0176 Acc: 0.9784\n",
      "\n",
      "Phase: val\n",
      "Iterations completed\n",
      "val Loss: 0.1489 Acc: 0.8912\n",
      "\n",
      "----------\n",
      "\n",
      "Epoch: 38/50\n",
      "Phase: train\n",
      "Iterations completed\n",
      "train Loss: 0.0189 Acc: 0.9755\n",
      "\n",
      "Phase: val\n",
      "Iterations completed\n",
      "val Loss: 0.1551 Acc: 0.8860\n",
      "\n",
      "----------\n",
      "\n",
      "Epoch: 39/50\n",
      "Phase: train\n",
      "Iterations completed\n",
      "train Loss: 0.0182 Acc: 0.9754\n",
      "\n",
      "Phase: val\n",
      "Iterations completed\n",
      "val Loss: 0.1579 Acc: 0.8964\n",
      "\n",
      "----------\n",
      "\n",
      "Epoch: 40/50\n",
      "Phase: train\n",
      "Iterations completed\n",
      "train Loss: 0.0169 Acc: 0.9776\n",
      "\n",
      "Phase: val\n",
      "Iterations completed\n",
      "val Loss: 0.1511 Acc: 0.8912\n",
      "\n",
      "----------\n",
      "\n",
      "Epoch: 41/50\n",
      "Phase: train\n",
      "Iterations completed\n",
      "train Loss: 0.0174 Acc: 0.9780\n",
      "\n",
      "Phase: val\n",
      "Iterations completed\n",
      "val Loss: 0.1696 Acc: 0.8964\n",
      "\n",
      "----------\n",
      "\n",
      "Epoch: 42/50\n",
      "Phase: train\n",
      "Iterations completed\n",
      "train Loss: 0.0163 Acc: 0.9793\n",
      "\n",
      "Phase: val\n",
      "Iterations completed\n",
      "val Loss: 0.1622 Acc: 0.8860\n",
      "\n",
      "----------\n",
      "\n",
      "Epoch: 43/50\n",
      "Phase: train\n",
      "Iterations completed\n",
      "train Loss: 0.0172 Acc: 0.9770\n",
      "\n",
      "Phase: val\n",
      "Iterations completed\n",
      "val Loss: 0.1527 Acc: 0.8808\n",
      "\n",
      "----------\n",
      "\n",
      "Epoch: 44/50\n",
      "Phase: train\n",
      "Iterations completed\n",
      "train Loss: 0.0171 Acc: 0.9781\n",
      "\n",
      "Phase: val\n",
      "Iterations completed\n",
      "val Loss: 0.1549 Acc: 0.8964\n",
      "\n",
      "----------\n",
      "\n",
      "Epoch: 45/50\n",
      "Phase: train\n",
      "Iterations completed\n",
      "train Loss: 0.0168 Acc: 0.9791\n",
      "\n",
      "Phase: val\n",
      "Iterations completed\n",
      "val Loss: 0.1541 Acc: 0.8912\n",
      "\n",
      "----------\n",
      "\n",
      "Epoch: 46/50\n",
      "Phase: train\n",
      "Iterations completed\n",
      "train Loss: 0.0175 Acc: 0.9782\n",
      "\n",
      "Phase: val\n",
      "Iterations completed\n",
      "val Loss: 0.1549 Acc: 0.8912\n",
      "\n",
      "----------\n",
      "\n",
      "Epoch: 47/50\n",
      "Phase: train\n",
      "Iterations completed\n",
      "train Loss: 0.0162 Acc: 0.9780\n",
      "\n",
      "Phase: val\n",
      "Iterations completed\n",
      "val Loss: 0.1555 Acc: 0.8860\n",
      "\n",
      "----------\n",
      "\n",
      "Epoch: 48/50\n",
      "Phase: train\n",
      "Iterations completed\n",
      "train Loss: 0.0166 Acc: 0.9783\n",
      "\n",
      "Phase: val\n",
      "Iterations completed\n",
      "val Loss: 0.1635 Acc: 0.8912\n",
      "\n",
      "----------\n",
      "\n",
      "Epoch: 49/50\n",
      "Phase: train\n",
      "Iterations completed\n",
      "train Loss: 0.0166 Acc: 0.9795\n",
      "\n",
      "Phase: val\n",
      "Iterations completed\n",
      "val Loss: 0.1485 Acc: 0.8912\n",
      "\n",
      "----------\n",
      "\n",
      "Epoch: 50/50\n",
      "Phase: train\n",
      "Iterations completed\n",
      "train Loss: 0.0162 Acc: 0.9801\n",
      "\n",
      "Phase: val\n",
      "Iterations completed\n",
      "val Loss: 0.1565 Acc: 0.8964\n",
      "\n",
      "----------\n",
      "\n",
      "Training complete in 47m 18s\n",
      "Best val Acc: 0.9119\n"
     ]
    },
    {
     "name": "stderr",
     "output_type": "stream",
     "text": [
      "Widget Javascript not detected.  It may not be installed or enabled properly. Reconnecting the current kernel may help.\n"
     ]
    },
    {
     "data": {
      "application/vnd.jupyter.widget-view+json": {
       "model_id": "4ff802a5bf5a4a9d84e81147d52135c2"
      }
     },
     "metadata": {},
     "output_type": "display_data"
    },
    {
     "data": {
      "text/html": [
       "<style>\n",
       "    table.wandb td:nth-child(1) { padding: 0 10px; text-align: left ; width: auto;} td:nth-child(2) {text-align: left ; width: 100%}\n",
       "    .wandb-row { display: flex; flex-direction: row; flex-wrap: wrap; justify-content: flex-start; width: 100% }\n",
       "    .wandb-col { display: flex; flex-direction: column; flex-basis: 100%; flex: 1; padding: 10px; }\n",
       "    </style>\n",
       "<div class=\"wandb-row\"><div class=\"wandb-col\"><h3>Run history:</h3><br/><table class=\"wandb\"><tr><td>train_batch_acc</td><td>▁▆▅▅▃▇▅▇▆▅▇██▇█▇▆▇▇██▇▇█▇█▇▇▇▇████▇█▇▇▇█</td></tr><tr><td>train_batch_loss</td><td>█▅▄▄▆▃▄▃▂▄▂▁▁▂▁▂▂▂▁▁▁▂▁▁▁▁▁▁▁▁▁▁▁▁▂▁▂▁▂▁</td></tr><tr><td>val_acc</td><td>▁▅▄▅▆▇▇▇█▇████▇▇▇▇▇▇▇▇▇▇▇▇▇▇▇▇▇▇▇▇▇▇▇▇▇▇</td></tr><tr><td>val_loss</td><td>█▄▄▅▂▂▂▃▁▃▂▂▁▁▁▁▁▂▂▁▂▂▂▂▂▂▂▂▂▂▂▂▃▂▂▂▂▂▂▂</td></tr></table><br/></div><div class=\"wandb-col\"><h3>Run summary:</h3><br/><table class=\"wandb\"><tr><td>train_batch_acc</td><td>1.0</td></tr><tr><td>train_batch_loss</td><td>0.00336</td></tr><tr><td>val_acc</td><td>0.89637</td></tr><tr><td>val_loss</td><td>0.15645</td></tr></table><br/></div></div>"
      ],
      "text/plain": [
       "<IPython.core.display.HTML object>"
      ]
     },
     "metadata": {},
     "output_type": "display_data"
    },
    {
     "data": {
      "text/html": [
       " View run <strong style=\"color:#cdcd00\">magic-disco-40</strong> at: <a href='https://wandb.ai/dsaperov-organization/mediscan-efficient-net-b0/runs/qq1uz2x7' target=\"_blank\">https://wandb.ai/dsaperov-organization/mediscan-efficient-net-b0/runs/qq1uz2x7</a><br/> View project at: <a href='https://wandb.ai/dsaperov-organization/mediscan-efficient-net-b0' target=\"_blank\">https://wandb.ai/dsaperov-organization/mediscan-efficient-net-b0</a><br/>Synced 5 W&B file(s), 0 media file(s), 0 artifact file(s) and 0 other file(s)"
      ],
      "text/plain": [
       "<IPython.core.display.HTML object>"
      ]
     },
     "metadata": {},
     "output_type": "display_data"
    },
    {
     "data": {
      "text/html": [
       "Find logs at: <code>./wandb/run-20240605_082619-qq1uz2x7/logs</code>"
      ],
      "text/plain": [
       "<IPython.core.display.HTML object>"
      ]
     },
     "metadata": {},
     "output_type": "display_data"
    }
   ],
   "source": [
    "model_focal, model_focal_best_acc = run_training(config, dataloaders, return_model=True)"
   ]
  },
  {
   "cell_type": "code",
   "execution_count": 170,
   "id": "2a6f1632-cae4-4b31-bf81-19b40a438906",
   "metadata": {},
   "outputs": [
    {
     "name": "stdout",
     "output_type": "stream",
     "text": [
      "Лучшее качество на валидационной выборке: 0.9119170984455959\n"
     ]
    }
   ],
   "source": [
    "print(f'Лучшее качество на валидационной выборке: {model_focal_best_acc}')"
   ]
  },
  {
   "cell_type": "code",
   "execution_count": 171,
   "id": "d35853a6-53ea-4a32-9b7c-a6e4d42096b3",
   "metadata": {},
   "outputs": [
    {
     "name": "stdout",
     "output_type": "stream",
     "text": [
      "Accuracy: 83.60%\n",
      "              precision    recall  f1-score   support\n",
      "\n",
      "         MEL       0.71      0.62      0.66       171\n",
      "          NV       0.88      0.94      0.91       909\n",
      "         BCC       0.81      0.70      0.75        93\n",
      "       AKIEC       0.56      0.67      0.61        43\n",
      "         BKL       0.76      0.75      0.76       217\n",
      "          DF       0.96      0.55      0.70        44\n",
      "        VASC       0.90      0.77      0.83        35\n",
      "\n",
      "    accuracy                           0.84      1512\n",
      "   macro avg       0.80      0.71      0.74      1512\n",
      "weighted avg       0.84      0.84      0.83      1512\n",
      "\n",
      "ROC-AUC: 0.9685\n",
      "PR-AUC: 0.8327\n"
     ]
    }
   ],
   "source": [
    "evaluate_model(model_focal, dataloaders[TEST])"
   ]
  },
  {
   "cell_type": "code",
   "execution_count": 172,
   "id": "3a44933d-1954-4f1c-8c6a-3a387de5c5f0",
   "metadata": {},
   "outputs": [],
   "source": [
    "torch.save(model_focal, 'model_focal.pth')"
   ]
  },
  {
   "cell_type": "markdown",
   "id": "9a43dd3a",
   "metadata": {},
   "source": [
    "### Вывод\n",
    "И оверсэмплинг, и использование `FocalLoss` с параметром `alpha` только ухудшили значения метрик на тестовой выборке (также как это было в экспериментах на валидационной выборке). Таким образом, увеличение длительности обучения не помогло.\n",
    "\n",
    "С другой стороны, использование `FocalLoss` без параметра `alpha` хоть и несколько понизило точность, но слегка увеличило `PR-AUC`, однако эти изменения в пределах погрешности\n",
    "\n",
    "**Общий вывод** такой: использование простых и незамысловатых значений параметров сработало лучше, чем более нестандартные подходы. В реальной практике это бы еще и сэкономило много времени. Не смотря на то, что были опробованы различные *функции потерь* и *щедулеры*, лучше других себя показали те, которые и были выбраны изначально - `CrossEntropyLoss` и `StepLR`, соответственно. Из примененных аугментаций только `RandomRotation` и `CenterCrop` способстовали росту качества, при этом последняя - только для модели, использующей оверсэмплинг.\n",
    "\n",
    "Таким образом, манипуляциями с данными и подбором параметров не удалось значительно улучшить качество модели. Возможно, для дальнейшего роста точности предсказаний требуется более сложная модель, либо применение более изощренных подходов.\n",
    "\n",
    "Посмотреть графики лоссов и точности, формировавшиеся во время обучения и валидации при каждом эксперименте, можно на [wandb](https://wandb.ai/dsaperov-organization/mediscan-efficient-net-b0?nw=nwuserdsaperov)."
   ]
  }
 ],
 "metadata": {
  "kernelspec": {
   "display_name": "Python 3 (ipykernel)",
   "language": "python",
   "name": "python3"
  },
  "language_info": {
   "codemirror_mode": {
    "name": "ipython",
    "version": 3
   },
   "file_extension": ".py",
   "mimetype": "text/x-python",
   "name": "python",
   "nbconvert_exporter": "python",
   "pygments_lexer": "ipython3",
   "version": "3.10.12"
  }
 },
 "nbformat": 4,
 "nbformat_minor": 5
}
