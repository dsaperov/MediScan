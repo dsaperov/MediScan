{
 "cells": [
  {
   "cell_type": "code",
   "execution_count": 9,
   "id": "3db7d225-162f-4966-bade-1bfda5d1e9f0",
   "metadata": {},
   "outputs": [],
   "source": [
    "import pandas as pd\n",
    "import numpy as np\n",
    "from PIL import Image\n",
    "from tqdm import tqdm\n",
    "import cv2 as cv\n",
    "from matplotlib import pyplot as plt\n",
    "import matplotlib as mpl\n",
    "import plotly.express as px\n",
    "\n",
    "from sklearn.linear_model import LogisticRegression\n",
    "from sklearn.metrics import mean_squared_error, roc_curve, roc_auc_score\n",
    "from sklearn.model_selection import train_test_split\n",
    "from functools import partial"
   ]
  },
  {
   "cell_type": "code",
   "execution_count": 2,
   "id": "50173fce-532d-4e09-ad36-efaf4cddfce3",
   "metadata": {},
   "outputs": [
    {
     "name": "stdout",
     "output_type": "stream",
     "text": [
      "MEL 0\n",
      "NV 1\n",
      "BCC 2\n",
      "AKIEC 3\n",
      "BKL 4\n",
      "DF 5\n",
      "VASC 6\n"
     ]
    },
    {
     "name": "stderr",
     "output_type": "stream",
     "text": [
      "/tmp/ipykernel_220760/2670562764.py:6: SettingWithCopyWarning: \n",
      "A value is trying to be set on a copy of a slice from a DataFrame\n",
      "\n",
      "See the caveats in the documentation: https://pandas.pydata.org/pandas-docs/stable/user_guide/indexing.html#returning-a-view-versus-a-copy\n",
      "  classes[\"class\"][classes[col]==1] = ind\n",
      "/tmp/ipykernel_220760/2670562764.py:6: SettingWithCopyWarning: \n",
      "A value is trying to be set on a copy of a slice from a DataFrame\n",
      "\n",
      "See the caveats in the documentation: https://pandas.pydata.org/pandas-docs/stable/user_guide/indexing.html#returning-a-view-versus-a-copy\n",
      "  classes[\"class\"][classes[col]==1] = ind\n",
      "/tmp/ipykernel_220760/2670562764.py:6: SettingWithCopyWarning: \n",
      "A value is trying to be set on a copy of a slice from a DataFrame\n",
      "\n",
      "See the caveats in the documentation: https://pandas.pydata.org/pandas-docs/stable/user_guide/indexing.html#returning-a-view-versus-a-copy\n",
      "  classes[\"class\"][classes[col]==1] = ind\n",
      "/tmp/ipykernel_220760/2670562764.py:6: SettingWithCopyWarning: \n",
      "A value is trying to be set on a copy of a slice from a DataFrame\n",
      "\n",
      "See the caveats in the documentation: https://pandas.pydata.org/pandas-docs/stable/user_guide/indexing.html#returning-a-view-versus-a-copy\n",
      "  classes[\"class\"][classes[col]==1] = ind\n",
      "/tmp/ipykernel_220760/2670562764.py:6: SettingWithCopyWarning: \n",
      "A value is trying to be set on a copy of a slice from a DataFrame\n",
      "\n",
      "See the caveats in the documentation: https://pandas.pydata.org/pandas-docs/stable/user_guide/indexing.html#returning-a-view-versus-a-copy\n",
      "  classes[\"class\"][classes[col]==1] = ind\n",
      "/tmp/ipykernel_220760/2670562764.py:6: SettingWithCopyWarning: \n",
      "A value is trying to be set on a copy of a slice from a DataFrame\n",
      "\n",
      "See the caveats in the documentation: https://pandas.pydata.org/pandas-docs/stable/user_guide/indexing.html#returning-a-view-versus-a-copy\n",
      "  classes[\"class\"][classes[col]==1] = ind\n",
      "/tmp/ipykernel_220760/2670562764.py:6: SettingWithCopyWarning: \n",
      "A value is trying to be set on a copy of a slice from a DataFrame\n",
      "\n",
      "See the caveats in the documentation: https://pandas.pydata.org/pandas-docs/stable/user_guide/indexing.html#returning-a-view-versus-a-copy\n",
      "  classes[\"class\"][classes[col]==1] = ind\n"
     ]
    }
   ],
   "source": [
    "classes = pd.read_csv('classes.csv', sep=',')\n",
    "all_names = {}\n",
    "classes[\"class\"] = np.zeros(classes.shape[0])\n",
    "for ind, col in enumerate(classes.columns[1:8]):\n",
    "    print(col, ind)\n",
    "    classes[\"class\"][classes[col]==1] = ind\n",
    "    all_names[col] = list(classes[\"image\"][classes[col]==1])"
   ]
  },
  {
   "cell_type": "code",
   "execution_count": 3,
   "id": "f9972f5c-a17f-40b4-b0ed-218d2bfd6448",
   "metadata": {},
   "outputs": [
    {
     "name": "stdout",
     "output_type": "stream",
     "text": [
      "MEL 1113.0\n",
      "NV 6705.0\n",
      "BCC 514.0\n",
      "AKIEC 327.0\n",
      "BKL 1099.0\n",
      "DF 115.0\n",
      "VASC 142.0\n"
     ]
    }
   ],
   "source": [
    "class_names = classes.columns[1:8]\n",
    "for col in class_names:\n",
    "    print(col, classes[col].sum())"
   ]
  },
  {
   "cell_type": "code",
   "execution_count": 7,
   "id": "e0efa8ab-a7be-4fbe-b24f-074a085926e5",
   "metadata": {},
   "outputs": [],
   "source": [
    "def get_img(name) :\n",
    "    return cv.imread(\"pictures/\" + name + \".jpg\").astype(int)\n",
    "\n",
    "def calc_square_means(img, val) : \n",
    "    bot, top = 225-3*val, 225+3*val\n",
    "    left, right = 300-4*val, 300+4*val\n",
    "    sq = img[bot:top, left:right]\n",
    "    return np.r_[sq.mean(axis=(0,1)), sq.std(axis=(0,1))]\n",
    "\n",
    "def add_new_columns():\n",
    "    means = []\n",
    "    stds = []\n",
    "    sq_res = []\n",
    "    for name in tqdm(classes[\"image\"]):\n",
    "        img = get_img(name)\n",
    "        means.append(img.mean(axis = (0,1)))\n",
    "        stds.append(img.std(axis=(0,1)))\n",
    "        sq_res.append(calc_square_means(img, 40))\n",
    "    #res = pd.DataFrame(res, columns = [\"mean0\", \"mean1\", \"mean2\"])\n",
    "    res = np.array(means)\n",
    "    classes[\"mean0\"] = res[:,0]\n",
    "    classes[\"mean1\"] = res[:,1]\n",
    "    classes[\"mean2\"] = res[:,2]\n",
    "    res = np.array(stds)\n",
    "    classes[\"std0\"] = res[:,0]\n",
    "    classes[\"std1\"] = res[:,1]\n",
    "    classes[\"std2\"] = res[:,2]\n",
    "    res = np.array(sq_res)\n",
    "    classes[\"sq_mean0\"] = res[:,0]\n",
    "    classes[\"sq_mean1\"] = res[:,1]\n",
    "    classes[\"sq_mean2\"] = res[:,2]\n",
    "    classes[\"sq_std0\"] = res[:,3]\n",
    "    classes[\"sq_std1\"] = res[:,4]\n",
    "    classes[\"sq_std2\"] = res[:,5]"
   ]
  },
  {
   "cell_type": "code",
   "execution_count": 8,
   "id": "5b613f4e-1af3-46a2-8ffb-55efce97d8fb",
   "metadata": {},
   "outputs": [
    {
     "name": "stderr",
     "output_type": "stream",
     "text": [
      "100%|█████████████████████████████████████| 10015/10015 [04:56<00:00, 33.83it/s]\n"
     ]
    }
   ],
   "source": [
    "add_new_columns() #takes a few minutes"
   ]
  },
  {
   "cell_type": "code",
   "execution_count": 10,
   "id": "cb3fadd7-8222-4f75-9784-922be4fa5406",
   "metadata": {},
   "outputs": [
    {
     "name": "stdout",
     "output_type": "stream",
     "text": [
      "CPU times: user 534 ms, sys: 1.25 s, total: 1.78 s\n",
      "Wall time: 191 ms\n"
     ]
    },
    {
     "data": {
      "text/html": [
       "<style>#sk-container-id-1 {color: black;}#sk-container-id-1 pre{padding: 0;}#sk-container-id-1 div.sk-toggleable {background-color: white;}#sk-container-id-1 label.sk-toggleable__label {cursor: pointer;display: block;width: 100%;margin-bottom: 0;padding: 0.3em;box-sizing: border-box;text-align: center;}#sk-container-id-1 label.sk-toggleable__label-arrow:before {content: \"▸\";float: left;margin-right: 0.25em;color: #696969;}#sk-container-id-1 label.sk-toggleable__label-arrow:hover:before {color: black;}#sk-container-id-1 div.sk-estimator:hover label.sk-toggleable__label-arrow:before {color: black;}#sk-container-id-1 div.sk-toggleable__content {max-height: 0;max-width: 0;overflow: hidden;text-align: left;background-color: #f0f8ff;}#sk-container-id-1 div.sk-toggleable__content pre {margin: 0.2em;color: black;border-radius: 0.25em;background-color: #f0f8ff;}#sk-container-id-1 input.sk-toggleable__control:checked~div.sk-toggleable__content {max-height: 200px;max-width: 100%;overflow: auto;}#sk-container-id-1 input.sk-toggleable__control:checked~label.sk-toggleable__label-arrow:before {content: \"▾\";}#sk-container-id-1 div.sk-estimator input.sk-toggleable__control:checked~label.sk-toggleable__label {background-color: #d4ebff;}#sk-container-id-1 div.sk-label input.sk-toggleable__control:checked~label.sk-toggleable__label {background-color: #d4ebff;}#sk-container-id-1 input.sk-hidden--visually {border: 0;clip: rect(1px 1px 1px 1px);clip: rect(1px, 1px, 1px, 1px);height: 1px;margin: -1px;overflow: hidden;padding: 0;position: absolute;width: 1px;}#sk-container-id-1 div.sk-estimator {font-family: monospace;background-color: #f0f8ff;border: 1px dotted black;border-radius: 0.25em;box-sizing: border-box;margin-bottom: 0.5em;}#sk-container-id-1 div.sk-estimator:hover {background-color: #d4ebff;}#sk-container-id-1 div.sk-parallel-item::after {content: \"\";width: 100%;border-bottom: 1px solid gray;flex-grow: 1;}#sk-container-id-1 div.sk-label:hover label.sk-toggleable__label {background-color: #d4ebff;}#sk-container-id-1 div.sk-serial::before {content: \"\";position: absolute;border-left: 1px solid gray;box-sizing: border-box;top: 0;bottom: 0;left: 50%;z-index: 0;}#sk-container-id-1 div.sk-serial {display: flex;flex-direction: column;align-items: center;background-color: white;padding-right: 0.2em;padding-left: 0.2em;position: relative;}#sk-container-id-1 div.sk-item {position: relative;z-index: 1;}#sk-container-id-1 div.sk-parallel {display: flex;align-items: stretch;justify-content: center;background-color: white;position: relative;}#sk-container-id-1 div.sk-item::before, #sk-container-id-1 div.sk-parallel-item::before {content: \"\";position: absolute;border-left: 1px solid gray;box-sizing: border-box;top: 0;bottom: 0;left: 50%;z-index: -1;}#sk-container-id-1 div.sk-parallel-item {display: flex;flex-direction: column;z-index: 1;position: relative;background-color: white;}#sk-container-id-1 div.sk-parallel-item:first-child::after {align-self: flex-end;width: 50%;}#sk-container-id-1 div.sk-parallel-item:last-child::after {align-self: flex-start;width: 50%;}#sk-container-id-1 div.sk-parallel-item:only-child::after {width: 0;}#sk-container-id-1 div.sk-dashed-wrapped {border: 1px dashed gray;margin: 0 0.4em 0.5em 0.4em;box-sizing: border-box;padding-bottom: 0.4em;background-color: white;}#sk-container-id-1 div.sk-label label {font-family: monospace;font-weight: bold;display: inline-block;line-height: 1.2em;}#sk-container-id-1 div.sk-label-container {text-align: center;}#sk-container-id-1 div.sk-container {/* jupyter's `normalize.less` sets `[hidden] { display: none; }` but bootstrap.min.css set `[hidden] { display: none !important; }` so we also need the `!important` here to be able to override the default hidden behavior on the sphinx rendered scikit-learn.org. See: https://github.com/scikit-learn/scikit-learn/issues/21755 */display: inline-block !important;position: relative;}#sk-container-id-1 div.sk-text-repr-fallback {display: none;}</style><div id=\"sk-container-id-1\" class=\"sk-top-container\"><div class=\"sk-text-repr-fallback\"><pre>LogisticRegression(class_weight=&#x27;balanced&#x27;, max_iter=2000)</pre><b>In a Jupyter environment, please rerun this cell to show the HTML representation or trust the notebook. <br />On GitHub, the HTML representation is unable to render, please try loading this page with nbviewer.org.</b></div><div class=\"sk-container\" hidden><div class=\"sk-item\"><div class=\"sk-estimator sk-toggleable\"><input class=\"sk-toggleable__control sk-hidden--visually\" id=\"sk-estimator-id-1\" type=\"checkbox\" checked><label for=\"sk-estimator-id-1\" class=\"sk-toggleable__label sk-toggleable__label-arrow\">LogisticRegression</label><div class=\"sk-toggleable__content\"><pre>LogisticRegression(class_weight=&#x27;balanced&#x27;, max_iter=2000)</pre></div></div></div></div></div>"
      ],
      "text/plain": [
       "LogisticRegression(class_weight='balanced', max_iter=2000)"
      ]
     },
     "execution_count": 10,
     "metadata": {},
     "output_type": "execute_result"
    }
   ],
   "source": [
    "%%time\n",
    "my_columns5 = [\"mean0\", \"std0\", \"sq_mean0\", \"sq_std0\", \"mean1\", \"std1\", \"sq_mean1\", \"sq_std1\", \"mean2\", \"std2\"]\n",
    "\n",
    "X = classes[my_columns5]\n",
    "y = classes[\"MEL\"]\n",
    "X_train, X_test, y_train, y_test = train_test_split(X,y)\n",
    "model = LogisticRegression(class_weight=\"balanced\", max_iter = 2000)\n",
    "model.fit(X_train, y_train)"
   ]
  },
  {
   "cell_type": "code",
   "execution_count": 11,
   "id": "c48af74a-3b47-404c-b1ba-a6797b04d92b",
   "metadata": {},
   "outputs": [
    {
     "name": "stdout",
     "output_type": "stream",
     "text": [
      "Accuracy: 0.716, 0.755\n"
     ]
    }
   ],
   "source": [
    "y_pred = model.predict(X_test)\n",
    "y0 = 1-y_pred[y_test==0]\n",
    "accuracy0 = y0.sum() / y0.shape[0]\n",
    "y1 = y_pred[y_test==1]\n",
    "accuracy1 = y1.sum()/y1.shape[0]\n",
    "print(f\"Accuracy: {accuracy0:.3}, {accuracy1:.3}\")"
   ]
  },
  {
   "cell_type": "code",
   "execution_count": null,
   "id": "b6f44798-85d8-46fe-87a1-33362187753c",
   "metadata": {},
   "outputs": [],
   "source": []
  }
 ],
 "metadata": {
  "kernelspec": {
   "display_name": "Python 3 (ipykernel)",
   "language": "python",
   "name": "python3"
  },
  "language_info": {
   "codemirror_mode": {
    "name": "ipython",
    "version": 3
   },
   "file_extension": ".py",
   "mimetype": "text/x-python",
   "name": "python",
   "nbconvert_exporter": "python",
   "pygments_lexer": "ipython3",
   "version": "3.8.10"
  }
 },
 "nbformat": 4,
 "nbformat_minor": 5
}
