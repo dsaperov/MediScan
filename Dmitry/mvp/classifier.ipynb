{
 "cells": [
  {
   "cell_type": "code",
   "execution_count": 1,
   "metadata": {
    "ExecuteTime": {
     "end_time": "2024-02-28T16:36:04.706517100Z",
     "start_time": "2024-02-28T16:36:02.963588Z"
    }
   },
   "outputs": [],
   "source": [
    "import os\n",
    "import pickle\n",
    "\n",
    "import matplotlib.pyplot as plt\n",
    "import numpy as np\n",
    "import pandas as pd\n",
    "from PIL import Image\n",
    "from sklearn.ensemble import RandomForestClassifier\n",
    "from sklearn.decomposition import PCA\n",
    "from sklearn.metrics import auc, roc_curve, accuracy_score\n",
    "from sklearn.model_selection import GridSearchCV\n",
    "\n",
    "GOAL_POSITIVE_SAMPLE_PERCENTAGE = 0.35\n",
    "\n",
    "PATH_TO_TRAIN_IMAGES = os.path.join(os.pardir, 'ISIC2018_Task3_Training_Input')\n",
    "PATH_TO_TEST_IMAGES = os.path.join(os.pardir, 'ISIC2018_Task3_Test_Input')\n",
    "\n",
    "PATH_TO_TRAIN_GROUND_TRUTH = os.path.join(os.pardir, 'ISIC2018_Task3_Training_GroundTruth.csv')\n",
    "PATH_TO_TEST_GROUND_TRUTH = os.path.join(os.pardir, 'ISIC2018_Task3_Test_GroundTruth.csv')\n",
    "\n",
    "OUTPUT_HEIGHT = 150\n",
    "OUTPUT_WIDTH = 200\n",
    "\n",
    "N_COMPS = 30\n",
    "\n",
    "RANDOM_STATE = 42\n",
    "\n",
    "\n",
    "def get_flat_data(ground_truth, path_to_images, filename):\n",
    "    image_names = ground_truth['image'].values\n",
    "    num_images = len(image_names)\n",
    "\n",
    "    flat_data = np.empty((num_images, OUTPUT_HEIGHT * OUTPUT_WIDTH * 3), dtype=np.float16)\n",
    "\n",
    "    for i, image_file in enumerate(image_names):\n",
    "        with Image.open(os.path.join(path_to_images, image_file + '.jpg')) as img:\n",
    "            img_resized = img.resize((OUTPUT_WIDTH, OUTPUT_HEIGHT), Image.LANCZOS)\n",
    "            img_norm = np.array(img_resized) / 255\n",
    "            img_flatten = img_norm.flatten()\n",
    "            flat_data[i] = img_flatten\n",
    "\n",
    "        print(f'Images processed: {i+1}/{num_images}', end='\\r')\n",
    "\n",
    "    return flat_data\n",
    "\n",
    "\n",
    "def reduce_dataset(dataset, filename, pca=None):\n",
    "    if not pca:\n",
    "        pca = PCA(n_components=N_COMPS)\n",
    "        pca.fit(dataset)\n",
    "\n",
    "    dataset_reduced = pca.transform(dataset)\n",
    "\n",
    "    with open('pca.pkl', 'wb') as file:\n",
    "        pickle.dump(pca, file)\n",
    "\n",
    "    return (dataset_reduced, pca)\n",
    "\n",
    "\n",
    "def downsample_dataset(X, y):\n",
    "    positive_samples_current = y.sum()\n",
    "    all_samples_goal = int(positive_samples_current // GOAL_POSITIVE_SAMPLE_PERCENTAGE)\n",
    "    all_samples_current = X.shape[0]\n",
    "    samples_to_delete_number = all_samples_current - all_samples_goal\n",
    "    negative_samples_indices = np.where(y!= 1)[0]\n",
    "\n",
    "    np.random.seed(RANDOM_STATE)\n",
    "    delete_indices = np.random.choice(negative_samples_indices, size=samples_to_delete_number, replace=False)\n",
    "\n",
    "    X_downsampled = np.delete(X, delete_indices, axis=0)\n",
    "    y_downsampled = np.delete(y, delete_indices, axis=0)\n",
    "\n",
    "    return (X_downsampled, y_downsampled)"
   ]
  },
  {
   "cell_type": "code",
   "execution_count": 2,
   "metadata": {
    "ExecuteTime": {
     "end_time": "2024-02-28T16:38:19.393860400Z",
     "start_time": "2024-02-28T16:36:10.066262500Z"
    }
   },
   "outputs": [
    {
     "name": "stdout",
     "output_type": "stream",
     "text": [
      "Images processed: 10015/10015\r"
     ]
    }
   ],
   "source": [
    "train_ground_truth = pd.read_csv(PATH_TO_TRAIN_GROUND_TRUTH)\n",
    "X_train = get_flat_data(train_ground_truth, PATH_TO_TRAIN_IMAGES, 'X_train.npy')\n",
    "y_train = train_ground_truth['MEL'].values\n",
    "\n",
    "X_train, y_train = downsample_dataset(X_train, y_train)\n",
    "\n",
    "X_train, pca = reduce_dataset(X_train, 'X_train_reduced.npy')"
   ]
  },
  {
   "cell_type": "code",
   "execution_count": 3,
   "metadata": {
    "ExecuteTime": {
     "end_time": "2024-02-28T16:40:21.679256200Z",
     "start_time": "2024-02-28T16:39:56.691635200Z"
    }
   },
   "outputs": [
    {
     "name": "stdout",
     "output_type": "stream",
     "text": [
      "Images processed: 1512/1512\r"
     ]
    }
   ],
   "source": [
    "test_ground_truth = pd.read_csv(PATH_TO_TEST_GROUND_TRUTH)\n",
    "X_test = get_flat_data(test_ground_truth, PATH_TO_TEST_IMAGES, 'X_test.npy')\n",
    "X_test, _ = reduce_dataset(X_test, 'X_test_reduced.npy', pca)\n",
    "y_test = test_ground_truth['MEL'].values"
   ]
  },
  {
   "cell_type": "code",
   "outputs": [],
   "source": [
    "param_grid = {'n_estimators': [100, 200, 300, 400]}\n",
    "model = GridSearchCV(RandomForestClassifier(), param_grid, cv=5, scoring='roc_auc')\n",
    "model.fit(X_train, y_train)\n",
    "print('Best params:', model.best_params_)"
   ],
   "metadata": {
    "collapsed": false
   }
  },
  {
   "cell_type": "code",
   "outputs": [],
   "source": [
    "with open('model.pkl', 'wb') as file:\n",
    "    pickle.dump(model.best_estimator_, file)"
   ],
   "metadata": {
    "collapsed": false
   }
  },
  {
   "cell_type": "code",
   "execution_count": 7,
   "metadata": {
    "ExecuteTime": {
     "end_time": "2024-02-28T16:56:03.530533100Z",
     "start_time": "2024-02-28T16:56:03.503548800Z"
    }
   },
   "outputs": [],
   "source": [
    "def plot_curve(x, y, auc, ax):\n",
    "    ax.plot(x, y, 'b', label = 'AUC = %0.2f' % auc)\n",
    "    ax.legend(loc = 'lower right')\n",
    "\n",
    "\n",
    "def plot_roc_curve(probabilities, y_true, ax):\n",
    "    fpr, tpr, _ = roc_curve(y_true, probabilities)\n",
    "    roc_auc = auc(fpr, tpr)\n",
    "    plot_curve(fpr, tpr, roc_auc, ax)\n",
    "    ax.set_title('Receiver Operating Characteristic')\n",
    "    ax.set_ylabel('True Positive Rate')\n",
    "    ax.set_xlabel('False Positive Rate')\n",
    "    ax.plot([0, 1], [0, 1],'r--')\n",
    "\n",
    "\n",
    "probabilities = model.predict_proba(X_test)[:, 1]"
   ]
  },
  {
   "cell_type": "code",
   "outputs": [],
   "source": [
    "fig, ax = plt.subplots()\n",
    "plot_roc_curve(probabilities, y_test, ax)\n",
    "\n",
    "y_pred = model.predict(X_test)\n",
    "accuracy = accuracy_score(y_test, y_pred)\n",
    "print(f'Accuracy: {accuracy:.2f}')"
   ],
   "metadata": {
    "collapsed": false
   }
  }
 ],
 "metadata": {
  "kernelspec": {
   "display_name": ".venv",
   "language": "python",
   "name": "python3"
  },
  "language_info": {
   "codemirror_mode": {
    "name": "ipython",
    "version": 3
   },
   "file_extension": ".py",
   "mimetype": "text/x-python",
   "name": "python",
   "nbconvert_exporter": "python",
   "pygments_lexer": "ipython3",
   "version": "3.9.4"
  }
 },
 "nbformat": 4,
 "nbformat_minor": 2
}
