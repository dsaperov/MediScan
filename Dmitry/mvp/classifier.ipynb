{
 "cells": [
  {
   "cell_type": "code",
   "outputs": [],
   "source": [
    "import os\n",
    "import pickle\n",
    "\n",
    "import matplotlib.pyplot as plt\n",
    "import numpy as np\n",
    "import pandas as pd\n",
    "from PIL import Image\n",
    "from scipy.stats import uniform\n",
    "from sklearn.ensemble import RandomForestClassifier\n",
    "from sklearn.decomposition import PCA\n",
    "from sklearn.metrics import auc, roc_curve, accuracy_score, roc_auc_score\n",
    "from sklearn.model_selection import RandomizedSearchCV\n",
    "\n",
    "GOAL_POSITIVE_SAMPLE_PERCENTAGE = 0.35\n",
    "\n",
    "PATH_TO_TRAIN_IMAGES = os.path.join(os.pardir, 'ISIC2018_Task3_Training_Input')\n",
    "PATH_TO_TEST_IMAGES = os.path.join(os.pardir, 'ISIC2018_Task3_Test_Input')\n",
    "\n",
    "PATH_TO_TRAIN_GROUND_TRUTH = os.path.join(os.pardir, 'ISIC2018_Task3_Training_GroundTruth.csv')\n",
    "PATH_TO_TEST_GROUND_TRUTH = os.path.join(os.pardir, 'ISIC2018_Task3_Test_GroundTruth.csv')\n",
    "\n",
    "OUTPUT_HEIGHT = 150\n",
    "OUTPUT_WIDTH = 200\n",
    "\n",
    "N_COMPS = 30\n",
    "\n",
    "RANDOM_STATE = 42\n",
    "\n",
    "\n",
    "def get_flat_data(ground_truth, path_to_images, filename):\n",
    "    image_names = ground_truth['image'].values\n",
    "    num_images = len(image_names)\n",
    "\n",
    "    flat_data = np.empty((num_images, OUTPUT_HEIGHT * OUTPUT_WIDTH * 3), dtype=np.float16)\n",
    "\n",
    "    for i, image_file in enumerate(image_names):\n",
    "        with Image.open(os.path.join(path_to_images, image_file + '.jpg')) as img:\n",
    "            img_resized = img.resize((OUTPUT_WIDTH, OUTPUT_HEIGHT), Image.LANCZOS)\n",
    "            img_norm = np.array(img_resized) / 255\n",
    "            img_flatten = img_norm.flatten()\n",
    "            flat_data[i] = img_flatten\n",
    "\n",
    "        print(f'Images processed: {i+1}/{num_images}', end='\\r')\n",
    "\n",
    "    return flat_data\n",
    "\n",
    "\n",
    "def reduce_dataset(dataset, filename, pca=None):\n",
    "    if not pca:\n",
    "        pca = PCA(n_components=N_COMPS)\n",
    "        pca.fit(dataset)\n",
    "\n",
    "    dataset_reduced = pca.transform(dataset)\n",
    "\n",
    "    with open('pca.pkl', 'wb') as file:\n",
    "        pickle.dump(pca, file)\n",
    "\n",
    "    return dataset_reduced, pca\n",
    "\n",
    "\n",
    "def downsample_dataset(X, y):\n",
    "    positive_samples_current = y.sum()\n",
    "    all_samples_goal = int(positive_samples_current // GOAL_POSITIVE_SAMPLE_PERCENTAGE)\n",
    "    all_samples_current = X.shape[0]\n",
    "    samples_to_delete_number = all_samples_current - all_samples_goal\n",
    "    negative_samples_indices = np.where(y!= 1)[0]\n",
    "\n",
    "    np.random.seed(RANDOM_STATE)\n",
    "    delete_indices = np.random.choice(negative_samples_indices, size=samples_to_delete_number, replace=False)\n",
    "\n",
    "    X_downsampled = np.delete(X, delete_indices, axis=0)\n",
    "    y_downsampled = np.delete(y, delete_indices, axis=0)\n",
    "\n",
    "    return X_downsampled, y_downsampled"
   ],
   "metadata": {
    "collapsed": false
   }
  },
  {
   "cell_type": "code",
   "outputs": [],
   "source": [
    "train_ground_truth = pd.read_csv(PATH_TO_TRAIN_GROUND_TRUTH)\n",
    "X_train = get_flat_data(train_ground_truth, PATH_TO_TRAIN_IMAGES, 'X_train.npy')\n",
    "y_train = train_ground_truth['MEL'].values\n",
    "\n",
    "X_train, y_train = downsample_dataset(X_train, y_train)\n",
    "\n",
    "X_train, pca = reduce_dataset(X_train, 'X_train_reduced.npy')"
   ],
   "metadata": {
    "collapsed": false
   }
  },
  {
   "cell_type": "code",
   "outputs": [],
   "source": [
    "test_ground_truth = pd.read_csv(PATH_TO_TEST_GROUND_TRUTH)\n",
    "X_test = get_flat_data(test_ground_truth, PATH_TO_TEST_IMAGES, 'X_test.npy')\n",
    "X_test, _ = reduce_dataset(X_test, 'X_test_reduced.npy', pca)\n",
    "y_test = test_ground_truth['MEL'].values"
   ],
   "metadata": {
    "collapsed": false
   }
  },
  {
   "cell_type": "code",
   "outputs": [],
   "source": [
    "def calc_roc_auc(model):\n",
    "    probabilities = model.predict_proba(X_test)[:, 1]\n",
    "    return roc_auc_score(y_test, probabilities)"
   ],
   "metadata": {
    "collapsed": false
   }
  },
  {
   "cell_type": "code",
   "outputs": [],
   "source": [
    "rf_default = RandomForestClassifier()\n",
    "rf_default.fit(X_train, y_train)\n",
    "\n",
    "print('ROC-AUC (default parameters):', calc_roc_auc(rf_default))"
   ],
   "metadata": {
    "collapsed": false
   }
  },
  {
   "cell_type": "code",
   "outputs": [],
   "source": [
    "y_pred = rf_default.predict(X_test)\n",
    "accuracy = accuracy_score(y_test, y_pred)\n",
    "print(f'Accuracy (default parameters): {accuracy:.2f}')"
   ],
   "metadata": {
    "collapsed": false
   }
  },
  {
   "cell_type": "code",
   "outputs": [],
   "source": [
    "params = {'n_estimators': range(100, 401, 50), 'max_depth': range(2, 21, 3), 'max_features': uniform(0.1, 0.9),\n",
    "              'min_samples_split': range(2, 10), 'min_samples_leaf': range(1, 10), 'bootstrap': [True, False]}\n",
    "\n",
    "random_search = RandomizedSearchCV(RandomForestClassifier(), params, n_iter=30, cv=5, scoring='roc_auc', n_jobs=-1)\n",
    "random_search.fit(X_train, y_train)\n",
    "\n",
    "rf_best = random_search.best_estimator_\n",
    "\n",
    "print('Best parameters:', random_search.best_params_)\n",
    "print('ROC-AUC (best parameters):', calc_roc_auc(rf_best))"
   ],
   "metadata": {
    "collapsed": false
   }
  },
  {
   "cell_type": "code",
   "outputs": [],
   "source": [
    "def plot_curve(x, y, auc, ax):\n",
    "    ax.plot(x, y, 'b', label = 'AUC = %0.2f' % auc)\n",
    "    ax.legend(loc = 'lower right')\n",
    "\n",
    "\n",
    "def plot_roc_curve(model, y_true, ax):\n",
    "    probabilities = model.predict_proba(X_test)[:, 1]\n",
    "    fpr, tpr, _ = roc_curve(y_true, probabilities)\n",
    "    roc_auc = auc(fpr, tpr)\n",
    "    plot_curve(fpr, tpr, roc_auc, ax)\n",
    "    ax.set_title('Receiver Operating Characteristic (best model)')\n",
    "    ax.set_ylabel('True Positive Rate')\n",
    "    ax.set_xlabel('False Positive Rate')\n",
    "    ax.plot([0, 1], [0, 1],'r--')"
   ],
   "metadata": {
    "collapsed": false
   }
  },
  {
   "cell_type": "code",
   "outputs": [],
   "source": [
    "fig, ax = plt.subplots()\n",
    "plot_roc_curve(rf_best, y_test, ax)\n",
    "\n",
    "y_pred = rf_best.predict(X_test)\n",
    "accuracy = accuracy_score(y_test, y_pred)\n",
    "print(f'Accuracy (best model): {accuracy:.2f}')"
   ],
   "metadata": {
    "collapsed": false
   }
  },
  {
   "cell_type": "code",
   "outputs": [],
   "source": [
    "with open('rf_model.pkl', 'wb') as file:\n",
    "    pickle.dump(rf_best, file)"
   ],
   "metadata": {
    "collapsed": false
   }
  }
 ],
 "metadata": {
  "kernelspec": {
   "display_name": ".venv",
   "language": "python",
   "name": "python3"
  },
  "language_info": {
   "codemirror_mode": {
    "name": "ipython",
    "version": 3
   },
   "file_extension": ".py",
   "mimetype": "text/x-python",
   "name": "python",
   "nbconvert_exporter": "python",
   "pygments_lexer": "ipython3",
   "version": "3.9.4"
  }
 },
 "nbformat": 4,
 "nbformat_minor": 2
}
