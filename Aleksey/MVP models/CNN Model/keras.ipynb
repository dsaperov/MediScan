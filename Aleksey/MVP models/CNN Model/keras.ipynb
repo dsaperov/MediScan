{
 "cells": [
  {
   "cell_type": "code",
   "execution_count": 2,
   "id": "initial_id",
   "metadata": {
    "collapsed": true,
    "ExecuteTime": {
     "end_time": "2024-01-14T09:50:13.184466Z",
     "start_time": "2024-01-14T09:50:04.114725Z"
    }
   },
   "outputs": [],
   "source": [
    "import joblib\n",
    "from tensorflow import keras\n",
    "from tensorflow.keras import layers, models"
   ]
  },
  {
   "cell_type": "code",
   "execution_count": 29,
   "outputs": [
    {
     "name": "stderr",
     "output_type": "stream",
     "text": [
      "100%|██████████| 10015/10015 [00:34<00:00, 290.38it/s]\n"
     ]
    }
   ],
   "source": [
    "import pandas as pd\n",
    "from tqdm import tqdm\n",
    "import numpy as np\n",
    "import cv2\n",
    "\n",
    "results = pd.read_csv(\"/Users/aleksey/PycharmProjects/MediScan/Aleksey/ISIC2018_Task3_Training_GroundTruth.csv\")\n",
    "images = results[\"image\"].to_list()\n",
    "\n",
    "image_vectors = []\n",
    "# Проход по каждому изображению\n",
    "for image_file in tqdm(images):\n",
    "    # Загрузка изображения\n",
    "    image_path = f\"/Users/aleksey/PycharmProjects/MediScan/Aleksey/ISIC2018_Task3_Training_Input/{image_file}.jpg\"\n",
    "    image = cv2.imread(image_path)\n",
    "    image = cv2.resize(image, None, fx=0.3, fy=0.3)\n",
    "    image_vectors.append(image)\n",
    "    \n",
    "X_train = np.array(image_vectors)\n",
    "y_train = np.asarray(results.drop(\"image\", axis=1))"
   ],
   "metadata": {
    "collapsed": false,
    "ExecuteTime": {
     "end_time": "2024-01-07T13:30:02.169988Z",
     "start_time": "2024-01-07T13:29:26.823906Z"
    }
   },
   "id": "6e0ef3e858102e60"
  },
  {
   "cell_type": "code",
   "execution_count": 30,
   "outputs": [
    {
     "name": "stderr",
     "output_type": "stream",
     "text": [
      "100%|██████████| 1512/1512 [00:05<00:00, 296.37it/s]\n"
     ]
    }
   ],
   "source": [
    "results = pd.read_csv(\"/Users/aleksey/PycharmProjects/MediScan/Aleksey/ISIC2018_Task3_Test_GroundTruth.csv\")\n",
    "images = results[\"image\"].to_list()\n",
    "\n",
    "image_vectors = []\n",
    "# Проход по каждому изображению\n",
    "for image_file in tqdm(images):\n",
    "    # Загрузка изображения\n",
    "    image_path = f\"/Users/aleksey/PycharmProjects/MediScan/Aleksey/ISIC2018_Task3_Test_Input/{image_file}.jpg\"\n",
    "    image = cv2.imread(image_path)\n",
    "    image = cv2.resize(image, None, fx=0.3, fy=0.3)\n",
    "    image_vectors.append(image)\n",
    "    \n",
    "X_test = np.array(image_vectors)\n",
    "y_test = np.asarray(results.drop(\"image\", axis=1))"
   ],
   "metadata": {
    "collapsed": false,
    "ExecuteTime": {
     "end_time": "2024-01-07T13:30:07.385098Z",
     "start_time": "2024-01-07T13:30:02.187682Z"
    }
   },
   "id": "c493f43cf294ab06"
  },
  {
   "cell_type": "code",
   "execution_count": 31,
   "outputs": [
    {
     "name": "stderr",
     "output_type": "stream",
     "text": [
      "100%|██████████| 193/193 [00:00<00:00, 290.31it/s]\n"
     ]
    }
   ],
   "source": [
    "results = pd.read_csv(\"/Users/aleksey/PycharmProjects/MediScan/Aleksey/ISIC2018_Task3_Validation_GroundTruth.csv\")\n",
    "images = results[\"image\"].to_list()\n",
    "\n",
    "image_vectors = []\n",
    "# Проход по каждому изображению\n",
    "for image_file in tqdm(images):\n",
    "    # Загрузка изображения\n",
    "    image_path = f\"/Users/aleksey/PycharmProjects/MediScan/Aleksey/ISIC2018_Task3_Validation_Input/{image_file}.jpg\"\n",
    "    image = cv2.imread(image_path)\n",
    "    image = cv2.resize(image, None, fx=0.3, fy=0.3)\n",
    "    image_vectors.append(image)\n",
    "    \n",
    "X_val = np.array(image_vectors)\n",
    "y_val = np.asarray(results.drop(\"image\", axis=1))"
   ],
   "metadata": {
    "collapsed": false,
    "ExecuteTime": {
     "end_time": "2024-01-07T13:30:08.065424Z",
     "start_time": "2024-01-07T13:30:07.384934Z"
    }
   },
   "id": "efe7a5cd348f3ba8"
  },
  {
   "cell_type": "code",
   "execution_count": 43,
   "outputs": [
    {
     "name": "stdout",
     "output_type": "stream",
     "text": [
      "Epoch 1/5\n",
      "313/313 [==============================] - 57s 179ms/step - loss: 17.7050 - accuracy: 0.6529 - precision_8: 0.7978 - recall_8: 0.4845 - auc_2: 0.8938 - val_loss: 0.9292 - val_accuracy: 0.6373 - val_precision_8: 0.8387 - val_recall_8: 0.5389 - val_auc_2: 0.9267\n",
      "Epoch 2/5\n",
      "313/313 [==============================] - 87s 278ms/step - loss: 0.9255 - accuracy: 0.6857 - precision_8: 0.8367 - recall_8: 0.5457 - auc_2: 0.9302 - val_loss: 0.9227 - val_accuracy: 0.6528 - val_precision_8: 0.8707 - val_recall_8: 0.5233 - val_auc_2: 0.9275\n",
      "Epoch 3/5\n",
      "313/313 [==============================] - 98s 314ms/step - loss: 0.8029 - accuracy: 0.7142 - precision_8: 0.8474 - recall_8: 0.6011 - auc_2: 0.9456 - val_loss: 0.9582 - val_accuracy: 0.6528 - val_precision_8: 0.8134 - val_recall_8: 0.5648 - val_auc_2: 0.9215\n",
      "Epoch 4/5\n",
      "313/313 [==============================] - 94s 302ms/step - loss: 0.7453 - accuracy: 0.7357 - precision_8: 0.8544 - recall_8: 0.6286 - auc_2: 0.9536 - val_loss: 0.8837 - val_accuracy: 0.6425 - val_precision_8: 0.7842 - val_recall_8: 0.5648 - val_auc_2: 0.9349\n",
      "Epoch 5/5\n",
      "313/313 [==============================] - 91s 292ms/step - loss: 0.6288 - accuracy: 0.7788 - precision_8: 0.8786 - recall_8: 0.6913 - auc_2: 0.9668 - val_loss: 0.9696 - val_accuracy: 0.6477 - val_precision_8: 0.7655 - val_recall_8: 0.5751 - val_auc_2: 0.9243\n"
     ]
    },
    {
     "data": {
      "text/plain": "<keras.src.callbacks.History at 0x16681b250>"
     },
     "execution_count": 43,
     "metadata": {},
     "output_type": "execute_result"
    }
   ],
   "source": [
    "# Define the CNN model\n",
    "model = models.Sequential()\n",
    "model.add(layers.Conv2D(32, (2, 2), activation='relu', input_shape=(image.shape[0], image.shape[1], image.shape[2])))\n",
    "model.add(layers.MaxPooling2D((2, 2)))\n",
    "model.add(layers.Conv2D(64, (2, 2), activation='relu'))\n",
    "model.add(layers.MaxPooling2D((2, 2)))\n",
    "model.add(layers.Conv2D(128, (2, 2), activation='relu'))\n",
    "model.add(layers.Flatten())\n",
    "model.add(layers.Dense(128, activation='relu'))\n",
    "model.add(layers.Dense(7, activation='softmax'))\n",
    "\n",
    "# Compile the model\n",
    "model.compile(optimizer='adam',\n",
    "              loss='categorical_crossentropy',\n",
    "              metrics=[\"accuracy\", \n",
    "                       keras.metrics.Precision(),\n",
    "                       keras.metrics.Recall(),\n",
    "                       keras.metrics.AUC(),\n",
    "                       ])\n",
    "\n",
    "# Train the model\n",
    "model.fit(X_train, y_train, epochs=5, validation_data=(X_val, y_val))"
   ],
   "metadata": {
    "collapsed": false,
    "ExecuteTime": {
     "end_time": "2024-01-07T13:58:05.765886Z",
     "start_time": "2024-01-07T13:50:55.005094Z"
    }
   },
   "id": "a341fdfaf3b644fc"
  },
  {
   "cell_type": "code",
   "execution_count": 44,
   "outputs": [
    {
     "name": "stdout",
     "output_type": "stream",
     "text": [
      "48/48 [==============================] - 3s 65ms/step - loss: 1.4633 - accuracy: 0.6184 - precision_8: 0.7038 - recall_8: 0.5562 - auc_2: 0.8835\n"
     ]
    }
   ],
   "source": [
    "loss, acc, precision, recall, auc = model.evaluate(X_test, y_test)"
   ],
   "metadata": {
    "collapsed": false,
    "ExecuteTime": {
     "end_time": "2024-01-07T13:58:09.433148Z",
     "start_time": "2024-01-07T13:58:05.790489Z"
    }
   },
   "id": "610f95a44881b868"
  },
  {
   "cell_type": "code",
   "execution_count": 67,
   "outputs": [
    {
     "name": "stdout",
     "output_type": "stream",
     "text": [
      "48/48 [==============================] - 2s 46ms/step\n"
     ]
    }
   ],
   "source": [
    "predictions = model.predict(X_test)"
   ],
   "metadata": {
    "collapsed": false,
    "ExecuteTime": {
     "end_time": "2024-01-07T16:02:06.896549Z",
     "start_time": "2024-01-07T16:02:03.624531Z"
    }
   },
   "id": "a2948dd4b4d63b0e"
  },
  {
   "cell_type": "code",
   "execution_count": 68,
   "outputs": [],
   "source": [
    "predictions = np.round(predictions, decimals=5)"
   ],
   "metadata": {
    "collapsed": false,
    "ExecuteTime": {
     "end_time": "2024-01-07T16:02:07.398791Z",
     "start_time": "2024-01-07T16:02:07.390611Z"
    }
   },
   "id": "6dba86ae40f35aad"
  },
  {
   "cell_type": "code",
   "execution_count": 73,
   "outputs": [],
   "source": [
    "class_dict = {\"MEL\": 0., \"NV\": 0., \"BCC\": 0., \"AKIEC\": 0., \"BKL\": 0., \"DF\": 0., \"VASC\": 0.}\n",
    "c = 0\n",
    "for key, value in class_dict.items():\n",
    "    class_dict[key] = predictions[2][c]\n",
    "    c += 1"
   ],
   "metadata": {
    "collapsed": false,
    "ExecuteTime": {
     "end_time": "2024-01-07T16:02:36.545405Z",
     "start_time": "2024-01-07T16:02:36.540974Z"
    }
   },
   "id": "3cf18d15c433f82f"
  },
  {
   "cell_type": "code",
   "execution_count": 74,
   "outputs": [
    {
     "data": {
      "text/plain": "{'MEL': 0.06582,\n 'NV': 0.2747,\n 'BCC': 0.2311,\n 'AKIEC': 0.03609,\n 'BKL': 0.316,\n 'DF': 0.07463,\n 'VASC': 0.00166}"
     },
     "execution_count": 74,
     "metadata": {},
     "output_type": "execute_result"
    }
   ],
   "source": [
    "class_dict"
   ],
   "metadata": {
    "collapsed": false,
    "ExecuteTime": {
     "end_time": "2024-01-07T16:02:38.134482Z",
     "start_time": "2024-01-07T16:02:38.126504Z"
    }
   },
   "id": "cbe17c2b6c60240"
  },
  {
   "cell_type": "code",
   "execution_count": 47,
   "outputs": [
    {
     "data": {
      "text/plain": "array([[0., 1., 0., ..., 0., 0., 0.],\n       [0., 1., 0., ..., 0., 0., 0.],\n       [0., 0., 0., ..., 1., 0., 0.],\n       ...,\n       [0., 0., 0., ..., 0., 0., 0.],\n       [0., 0., 0., ..., 1., 0., 0.],\n       [0., 0., 1., ..., 0., 0., 0.]])"
     },
     "execution_count": 47,
     "metadata": {},
     "output_type": "execute_result"
    }
   ],
   "source": [
    "y_test"
   ],
   "metadata": {
    "collapsed": false,
    "ExecuteTime": {
     "end_time": "2024-01-07T13:58:12.862800Z",
     "start_time": "2024-01-07T13:58:12.851334Z"
    }
   },
   "id": "65c9eef6d0d84daa"
  },
  {
   "cell_type": "code",
   "execution_count": 64,
   "outputs": [
    {
     "data": {
      "text/plain": "['/Users/aleksey/PycharmProjects/MediScan/Aleksey/MVP model/cnn_model.pkl']"
     },
     "execution_count": 64,
     "metadata": {},
     "output_type": "execute_result"
    }
   ],
   "source": [
    "joblib.dump(model, '/Users/aleksey/PycharmProjects/MediScan/Aleksey/MVP model/cnn_model.pkl')"
   ],
   "metadata": {
    "collapsed": false,
    "ExecuteTime": {
     "end_time": "2024-01-07T14:06:05.902734Z",
     "start_time": "2024-01-07T14:06:05.587750Z"
    }
   },
   "id": "7b7f1f8726516c87"
  },
  {
   "cell_type": "code",
   "outputs": [],
   "source": [
    "model = joblib.load('/Users/aleksey/PycharmProjects/MediScan/Aleksey/MVP models/CNN Model/cnn_model.pkl')"
   ],
   "metadata": {
    "collapsed": false,
    "ExecuteTime": {
     "end_time": "2024-01-14T09:50:31.964105Z",
     "start_time": "2024-01-14T09:50:31.179239Z"
    }
   },
   "id": "2328d3834caf1d42",
   "execution_count": 4
  },
  {
   "cell_type": "code",
   "execution_count": 6,
   "outputs": [
    {
     "ename": "TypeError",
     "evalue": "'module' object is not callable",
     "output_type": "error",
     "traceback": [
      "\u001B[0;31m---------------------------------------------------------------------------\u001B[0m",
      "\u001B[0;31mTypeError\u001B[0m                                 Traceback (most recent call last)",
      "Cell \u001B[0;32mIn[6], line 1\u001B[0m\n\u001B[0;32m----> 1\u001B[0m \u001B[43mkeras\u001B[49m\u001B[38;5;241;43m.\u001B[39;49m\u001B[43msaving\u001B[49m\u001B[43m(\u001B[49m\u001B[43mmodel\u001B[49m\u001B[43m,\u001B[49m\u001B[43m \u001B[49m\u001B[38;5;124;43m\"\u001B[39;49m\u001B[38;5;124;43m/Users/aleksey/PycharmProjects/MediScan/Aleksey/MVP models/CNN Model/cnn_model.pkl\u001B[39;49m\u001B[38;5;124;43m\"\u001B[39;49m\u001B[43m)\u001B[49m\n",
      "\u001B[0;31mTypeError\u001B[0m: 'module' object is not callable"
     ]
    }
   ],
   "source": [
    "keras.saving(model, \"/Users/aleksey/PycharmProjects/MediScan/Aleksey/MVP models/CNN Model/cnn_model.pkl\")"
   ],
   "metadata": {
    "collapsed": false,
    "ExecuteTime": {
     "end_time": "2024-01-14T09:51:58.901878Z",
     "start_time": "2024-01-14T09:51:58.899019Z"
    }
   },
   "id": "4debab5da02b6ae0"
  },
  {
   "cell_type": "code",
   "outputs": [
    {
     "name": "stdout",
     "output_type": "stream",
     "text": [
      "INFO:tensorflow:Assets written to: /Users/aleksey/PycharmProjects/MediScan/Aleksey/MVP models/CNN Model/cnn_model_v2/assets\n"
     ]
    },
    {
     "name": "stderr",
     "output_type": "stream",
     "text": [
      "INFO:tensorflow:Assets written to: /Users/aleksey/PycharmProjects/MediScan/Aleksey/MVP models/CNN Model/cnn_model_v2/assets\n"
     ]
    }
   ],
   "source": [
    "model.save('/Users/aleksey/PycharmProjects/MediScan/Aleksey/MVP models/CNN Model/cnn_model_v2')"
   ],
   "metadata": {
    "collapsed": false,
    "ExecuteTime": {
     "end_time": "2024-01-14T09:53:38.888756Z",
     "start_time": "2024-01-14T09:53:37.841557Z"
    }
   },
   "id": "13b4248e63745483",
   "execution_count": 7
  },
  {
   "cell_type": "code",
   "outputs": [],
   "source": [],
   "metadata": {
    "collapsed": false
   },
   "id": "44c19b3f37f309b"
  }
 ],
 "metadata": {
  "kernelspec": {
   "display_name": "Python 3",
   "language": "python",
   "name": "python3"
  },
  "language_info": {
   "codemirror_mode": {
    "name": "ipython",
    "version": 2
   },
   "file_extension": ".py",
   "mimetype": "text/x-python",
   "name": "python",
   "nbconvert_exporter": "python",
   "pygments_lexer": "ipython2",
   "version": "2.7.6"
  }
 },
 "nbformat": 4,
 "nbformat_minor": 5
}
